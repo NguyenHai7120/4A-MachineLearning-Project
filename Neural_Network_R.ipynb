{
 "cells": [
  {
   "cell_type": "code",
   "execution_count": 1,
   "metadata": {
    "vscode": {
     "languageId": "r"
    }
   },
   "outputs": [
    {
     "name": "stderr",
     "output_type": "stream",
     "text": [
      "Loading required package: ggplot2\n",
      "\n",
      "Loading required package: lattice\n",
      "\n",
      "\n",
      "Attaching package: 'dplyr'\n",
      "\n",
      "\n",
      "The following object is masked from 'package:MASS':\n",
      "\n",
      "    select\n",
      "\n",
      "\n",
      "The following objects are masked from 'package:stats':\n",
      "\n",
      "    filter, lag\n",
      "\n",
      "\n",
      "The following objects are masked from 'package:base':\n",
      "\n",
      "    intersect, setdiff, setequal, union\n",
      "\n",
      "\n"
     ]
    }
   ],
   "source": [
    "library(MASS)\n",
    "library(nnet)\n",
    "library(caret)\n",
    "library(dplyr)"
   ]
  },
  {
   "cell_type": "code",
   "execution_count": 2,
   "metadata": {
    "vscode": {
     "languageId": "r"
    }
   },
   "outputs": [],
   "source": [
    "set.seed(42)\n",
    "train_set = read.delim(\"data/train_set.txt\", sep = \" \")\n",
    "test_set = read.delim(\"data/test_set.txt\", sep = \" \")\n",
    "\n",
    "train_set[\"rain\"] = NULL\n",
    "train_set[\"rain_log\"] = NULL\n",
    "\n",
    "test_set[\"rain\"] = NULL\n",
    "test_set[\"rain_log\"] = NULL\n",
    "\n",
    "# WE WILL DELETE ALL MONTH VARIABLES\n",
    "month_names = paste(\"month\", 2:12, sep = \"\")\n",
    "train_set[, month_names] = NULL\n",
    "test_set[, month_names] = NULL\n",
    "\n",
    "train_set[,\"rain_class\"] = as.factor(train_set[,\"rain_class\"])\n",
    "test_set[,\"rain_class\"] = as.factor(test_set[,\"rain_class\"])\n",
    "\n",
    "n_train = nrow(train_set)"
   ]
  },
  {
   "cell_type": "code",
   "execution_count": 3,
   "metadata": {
    "vscode": {
     "languageId": "r"
    }
   },
   "outputs": [
    {
     "data": {
      "text/html": [
       "<style>\n",
       ".list-inline {list-style: none; margin:0; padding: 0}\n",
       ".list-inline>li {display: inline-block}\n",
       ".list-inline>li:not(:last-child)::after {content: \"\\00b7\"; padding: 0 .5ex}\n",
       "</style>\n",
       "<ol class=list-inline><li>'ff'</li><li>'t'</li><li>'td'</li><li>'hu'</li><li>'dd'</li><li>'precip_log'</li><li>'ws_arome'</li><li>'p3031_arome'</li><li>'u10_arome'</li><li>'v10_arome'</li><li>'t2m_arome'</li><li>'d2m_arome'</li><li>'r_arome'</li><li>'tp_arome_log'</li><li>'msl_arome'</li></ol>\n"
      ],
      "text/latex": [
       "\\begin{enumerate*}\n",
       "\\item 'ff'\n",
       "\\item 't'\n",
       "\\item 'td'\n",
       "\\item 'hu'\n",
       "\\item 'dd'\n",
       "\\item 'precip\\_log'\n",
       "\\item 'ws\\_arome'\n",
       "\\item 'p3031\\_arome'\n",
       "\\item 'u10\\_arome'\n",
       "\\item 'v10\\_arome'\n",
       "\\item 't2m\\_arome'\n",
       "\\item 'd2m\\_arome'\n",
       "\\item 'r\\_arome'\n",
       "\\item 'tp\\_arome\\_log'\n",
       "\\item 'msl\\_arome'\n",
       "\\end{enumerate*}\n"
      ],
      "text/markdown": [
       "1. 'ff'\n",
       "2. 't'\n",
       "3. 'td'\n",
       "4. 'hu'\n",
       "5. 'dd'\n",
       "6. 'precip_log'\n",
       "7. 'ws_arome'\n",
       "8. 'p3031_arome'\n",
       "9. 'u10_arome'\n",
       "10. 'v10_arome'\n",
       "11. 't2m_arome'\n",
       "12. 'd2m_arome'\n",
       "13. 'r_arome'\n",
       "14. 'tp_arome_log'\n",
       "15. 'msl_arome'\n",
       "\n",
       "\n"
      ],
      "text/plain": [
       " [1] \"ff\"           \"t\"            \"td\"           \"hu\"           \"dd\"          \n",
       " [6] \"precip_log\"   \"ws_arome\"     \"p3031_arome\"  \"u10_arome\"    \"v10_arome\"   \n",
       "[11] \"t2m_arome\"    \"d2m_arome\"    \"r_arome\"      \"tp_arome_log\" \"msl_arome\"   "
      ]
     },
     "metadata": {},
     "output_type": "display_data"
    }
   ],
   "source": [
    "exp_var = setdiff(names(train_set), c(\"rain_class\"))\n",
    "exp_var"
   ]
  },
  {
   "cell_type": "code",
   "execution_count": 4,
   "metadata": {
    "vscode": {
     "languageId": "r"
    }
   },
   "outputs": [],
   "source": [
    "labels_to_num = function(labels){\n",
    "    n = length(labels)\n",
    "    num = rep(0, times = n)\n",
    "    num[labels == 'no_rain'] = 1\n",
    "    num[labels == 'low_rain'] = 2\n",
    "    num[labels == 'high_rain'] = 3\n",
    "    return(num)\n",
    "}"
   ]
  },
  {
   "cell_type": "code",
   "execution_count": 5,
   "metadata": {
    "vscode": {
     "languageId": "r"
    }
   },
   "outputs": [],
   "source": [
    "x_train = train_set[, exp_var]\n",
    "x_test = test_set[, exp_var]\n",
    "\n",
    "y_train = as.factor(train_set[,\"rain_class\"])\n",
    "y_test = as.factor(test_set[,\"rain_class\"])\n",
    "\n",
    "y_train_num = labels_to_num(y_train)\n",
    "y_test_num = labels_to_num(y_test)"
   ]
  },
  {
   "cell_type": "code",
   "execution_count": 6,
   "metadata": {
    "vscode": {
     "languageId": "r"
    }
   },
   "outputs": [],
   "source": [
    "MAPE = function(y, y_hat){\n",
    "    # y = as.numeric(y)\n",
    "    # y_hat = as.numeric(y_hat)\n",
    "    mape = 100*mean(abs((y - y_hat)/y))\n",
    "    return(mape)\n",
    "}\n",
    "\n",
    "MSE = function(y, y_hat){\n",
    "    mse = mean((y - y_hat)**2)\n",
    "    return(mse)\n",
    "}\n",
    "\n",
    "confusion_matrix = function(pred_class, true_class){\n",
    "    tab = table(pred_class, true_class)\n",
    "    print(\"Confusion matrix\")\n",
    "    print(tab)\n",
    "    acc = sum(diag(tab)) / sum(tab)\n",
    "    print(paste(\"Prediction accuracy : \", acc))\n",
    "}"
   ]
  },
  {
   "cell_type": "code",
   "execution_count": 7,
   "metadata": {
    "vscode": {
     "languageId": "r"
    }
   },
   "outputs": [
    {
     "data": {
      "text/html": [
       "<table class=\"dataframe\">\n",
       "<caption>A data.frame: 6 × 16</caption>\n",
       "<thead>\n",
       "\t<tr><th></th><th scope=col>ff</th><th scope=col>t</th><th scope=col>td</th><th scope=col>hu</th><th scope=col>dd</th><th scope=col>precip_log</th><th scope=col>ws_arome</th><th scope=col>p3031_arome</th><th scope=col>u10_arome</th><th scope=col>v10_arome</th><th scope=col>t2m_arome</th><th scope=col>d2m_arome</th><th scope=col>r_arome</th><th scope=col>tp_arome_log</th><th scope=col>msl_arome</th><th scope=col>rain_class</th></tr>\n",
       "\t<tr><th></th><th scope=col>&lt;dbl&gt;</th><th scope=col>&lt;dbl&gt;</th><th scope=col>&lt;dbl&gt;</th><th scope=col>&lt;dbl&gt;</th><th scope=col>&lt;dbl&gt;</th><th scope=col>&lt;dbl&gt;</th><th scope=col>&lt;dbl&gt;</th><th scope=col>&lt;dbl&gt;</th><th scope=col>&lt;dbl&gt;</th><th scope=col>&lt;dbl&gt;</th><th scope=col>&lt;dbl&gt;</th><th scope=col>&lt;dbl&gt;</th><th scope=col>&lt;dbl&gt;</th><th scope=col>&lt;dbl&gt;</th><th scope=col>&lt;dbl&gt;</th><th scope=col>&lt;fct&gt;</th></tr>\n",
       "</thead>\n",
       "<tbody>\n",
       "\t<tr><th scope=row>1</th><td>-0.08621305</td><td> 1.164777</td><td> 0.9105351</td><td>-0.79823471</td><td> 0.5200537</td><td>-0.82039852</td><td>-0.03659526</td><td> 0.5297853</td><td> 0.8019527</td><td> 0.4007581</td><td> 1.1187027</td><td> 0.9208535</td><td>-0.69899841</td><td>-0.3621343</td><td> 0.1533010</td><td>low_rain </td></tr>\n",
       "\t<tr><th scope=row>2</th><td>-0.21529566</td><td>-1.471529</td><td>-1.6613332</td><td>-0.45471837</td><td> 0.6958876</td><td> 0.07889537</td><td>-0.25766440</td><td> 1.3231433</td><td> 0.5568977</td><td>-0.8887086</td><td>-1.5527261</td><td>-1.5824152</td><td> 0.18145591</td><td> 0.3535131</td><td>-0.9054914</td><td>high_rain</td></tr>\n",
       "\t<tr><th scope=row>4</th><td>-1.46867996</td><td> 0.129100</td><td>-0.1875101</td><td>-1.05685344</td><td> 0.1290120</td><td>-0.82039852</td><td>-1.31752316</td><td>-0.8278199</td><td>-0.6050438</td><td>-0.6937063</td><td> 0.2219311</td><td>-0.1249160</td><td>-1.14004178</td><td>-0.6698467</td><td> 0.6887159</td><td>no_rain  </td></tr>\n",
       "\t<tr><th scope=row>5</th><td> 1.02840090</td><td>-1.238485</td><td>-1.4212403</td><td>-0.49103295</td><td> 1.0222052</td><td> 0.26943290</td><td> 0.46462317</td><td> 1.0634977</td><td> 1.1864348</td><td>-0.7170438</td><td>-1.1660485</td><td>-1.3825454</td><td>-0.53032676</td><td> 0.4926930</td><td> 0.8759910</td><td>no_rain  </td></tr>\n",
       "\t<tr><th scope=row>6</th><td>-1.46553799</td><td>-1.273800</td><td>-1.2888096</td><td> 0.07576901</td><td>-0.8504800</td><td>-0.61244731</td><td>-1.27793928</td><td>-0.5881897</td><td>-0.4321987</td><td> 0.1073955</td><td>-1.6551375</td><td>-1.7090362</td><td> 0.05194278</td><td>-0.9410006</td><td> 1.8945691</td><td>low_rain </td></tr>\n",
       "\t<tr><th scope=row>8</th><td> 2.36216728</td><td>-1.243795</td><td>-1.3614883</td><td>-0.33792281</td><td>-2.0645970</td><td>-0.82039852</td><td> 1.53127621</td><td>-2.0125623</td><td>-2.3869380</td><td>-1.7343155</td><td>-1.0988396</td><td>-1.2270086</td><td>-0.29023814</td><td>-1.0305921</td><td> 0.4655751</td><td>no_rain  </td></tr>\n",
       "</tbody>\n",
       "</table>\n"
      ],
      "text/latex": [
       "A data.frame: 6 × 16\n",
       "\\begin{tabular}{r|llllllllllllllll}\n",
       "  & ff & t & td & hu & dd & precip\\_log & ws\\_arome & p3031\\_arome & u10\\_arome & v10\\_arome & t2m\\_arome & d2m\\_arome & r\\_arome & tp\\_arome\\_log & msl\\_arome & rain\\_class\\\\\n",
       "  & <dbl> & <dbl> & <dbl> & <dbl> & <dbl> & <dbl> & <dbl> & <dbl> & <dbl> & <dbl> & <dbl> & <dbl> & <dbl> & <dbl> & <dbl> & <fct>\\\\\n",
       "\\hline\n",
       "\t1 & -0.08621305 &  1.164777 &  0.9105351 & -0.79823471 &  0.5200537 & -0.82039852 & -0.03659526 &  0.5297853 &  0.8019527 &  0.4007581 &  1.1187027 &  0.9208535 & -0.69899841 & -0.3621343 &  0.1533010 & low\\_rain \\\\\n",
       "\t2 & -0.21529566 & -1.471529 & -1.6613332 & -0.45471837 &  0.6958876 &  0.07889537 & -0.25766440 &  1.3231433 &  0.5568977 & -0.8887086 & -1.5527261 & -1.5824152 &  0.18145591 &  0.3535131 & -0.9054914 & high\\_rain\\\\\n",
       "\t4 & -1.46867996 &  0.129100 & -0.1875101 & -1.05685344 &  0.1290120 & -0.82039852 & -1.31752316 & -0.8278199 & -0.6050438 & -0.6937063 &  0.2219311 & -0.1249160 & -1.14004178 & -0.6698467 &  0.6887159 & no\\_rain  \\\\\n",
       "\t5 &  1.02840090 & -1.238485 & -1.4212403 & -0.49103295 &  1.0222052 &  0.26943290 &  0.46462317 &  1.0634977 &  1.1864348 & -0.7170438 & -1.1660485 & -1.3825454 & -0.53032676 &  0.4926930 &  0.8759910 & no\\_rain  \\\\\n",
       "\t6 & -1.46553799 & -1.273800 & -1.2888096 &  0.07576901 & -0.8504800 & -0.61244731 & -1.27793928 & -0.5881897 & -0.4321987 &  0.1073955 & -1.6551375 & -1.7090362 &  0.05194278 & -0.9410006 &  1.8945691 & low\\_rain \\\\\n",
       "\t8 &  2.36216728 & -1.243795 & -1.3614883 & -0.33792281 & -2.0645970 & -0.82039852 &  1.53127621 & -2.0125623 & -2.3869380 & -1.7343155 & -1.0988396 & -1.2270086 & -0.29023814 & -1.0305921 &  0.4655751 & no\\_rain  \\\\\n",
       "\\end{tabular}\n"
      ],
      "text/markdown": [
       "\n",
       "A data.frame: 6 × 16\n",
       "\n",
       "| <!--/--> | ff &lt;dbl&gt; | t &lt;dbl&gt; | td &lt;dbl&gt; | hu &lt;dbl&gt; | dd &lt;dbl&gt; | precip_log &lt;dbl&gt; | ws_arome &lt;dbl&gt; | p3031_arome &lt;dbl&gt; | u10_arome &lt;dbl&gt; | v10_arome &lt;dbl&gt; | t2m_arome &lt;dbl&gt; | d2m_arome &lt;dbl&gt; | r_arome &lt;dbl&gt; | tp_arome_log &lt;dbl&gt; | msl_arome &lt;dbl&gt; | rain_class &lt;fct&gt; |\n",
       "|---|---|---|---|---|---|---|---|---|---|---|---|---|---|---|---|---|\n",
       "| 1 | -0.08621305 |  1.164777 |  0.9105351 | -0.79823471 |  0.5200537 | -0.82039852 | -0.03659526 |  0.5297853 |  0.8019527 |  0.4007581 |  1.1187027 |  0.9208535 | -0.69899841 | -0.3621343 |  0.1533010 | low_rain  |\n",
       "| 2 | -0.21529566 | -1.471529 | -1.6613332 | -0.45471837 |  0.6958876 |  0.07889537 | -0.25766440 |  1.3231433 |  0.5568977 | -0.8887086 | -1.5527261 | -1.5824152 |  0.18145591 |  0.3535131 | -0.9054914 | high_rain |\n",
       "| 4 | -1.46867996 |  0.129100 | -0.1875101 | -1.05685344 |  0.1290120 | -0.82039852 | -1.31752316 | -0.8278199 | -0.6050438 | -0.6937063 |  0.2219311 | -0.1249160 | -1.14004178 | -0.6698467 |  0.6887159 | no_rain   |\n",
       "| 5 |  1.02840090 | -1.238485 | -1.4212403 | -0.49103295 |  1.0222052 |  0.26943290 |  0.46462317 |  1.0634977 |  1.1864348 | -0.7170438 | -1.1660485 | -1.3825454 | -0.53032676 |  0.4926930 |  0.8759910 | no_rain   |\n",
       "| 6 | -1.46553799 | -1.273800 | -1.2888096 |  0.07576901 | -0.8504800 | -0.61244731 | -1.27793928 | -0.5881897 | -0.4321987 |  0.1073955 | -1.6551375 | -1.7090362 |  0.05194278 | -0.9410006 |  1.8945691 | low_rain  |\n",
       "| 8 |  2.36216728 | -1.243795 | -1.3614883 | -0.33792281 | -2.0645970 | -0.82039852 |  1.53127621 | -2.0125623 | -2.3869380 | -1.7343155 | -1.0988396 | -1.2270086 | -0.29023814 | -1.0305921 |  0.4655751 | no_rain   |\n",
       "\n"
      ],
      "text/plain": [
       "  ff          t         td         hu          dd         precip_log \n",
       "1 -0.08621305  1.164777  0.9105351 -0.79823471  0.5200537 -0.82039852\n",
       "2 -0.21529566 -1.471529 -1.6613332 -0.45471837  0.6958876  0.07889537\n",
       "4 -1.46867996  0.129100 -0.1875101 -1.05685344  0.1290120 -0.82039852\n",
       "5  1.02840090 -1.238485 -1.4212403 -0.49103295  1.0222052  0.26943290\n",
       "6 -1.46553799 -1.273800 -1.2888096  0.07576901 -0.8504800 -0.61244731\n",
       "8  2.36216728 -1.243795 -1.3614883 -0.33792281 -2.0645970 -0.82039852\n",
       "  ws_arome    p3031_arome u10_arome  v10_arome  t2m_arome  d2m_arome \n",
       "1 -0.03659526  0.5297853   0.8019527  0.4007581  1.1187027  0.9208535\n",
       "2 -0.25766440  1.3231433   0.5568977 -0.8887086 -1.5527261 -1.5824152\n",
       "4 -1.31752316 -0.8278199  -0.6050438 -0.6937063  0.2219311 -0.1249160\n",
       "5  0.46462317  1.0634977   1.1864348 -0.7170438 -1.1660485 -1.3825454\n",
       "6 -1.27793928 -0.5881897  -0.4321987  0.1073955 -1.6551375 -1.7090362\n",
       "8  1.53127621 -2.0125623  -2.3869380 -1.7343155 -1.0988396 -1.2270086\n",
       "  r_arome     tp_arome_log msl_arome  rain_class\n",
       "1 -0.69899841 -0.3621343    0.1533010 low_rain  \n",
       "2  0.18145591  0.3535131   -0.9054914 high_rain \n",
       "4 -1.14004178 -0.6698467    0.6887159 no_rain   \n",
       "5 -0.53032676  0.4926930    0.8759910 no_rain   \n",
       "6  0.05194278 -0.9410006    1.8945691 low_rain  \n",
       "8 -0.29023814 -1.0305921    0.4655751 no_rain   "
      ]
     },
     "metadata": {},
     "output_type": "display_data"
    }
   ],
   "source": [
    "head(train_set)"
   ]
  },
  {
   "cell_type": "code",
   "execution_count": null,
   "metadata": {
    "vscode": {
     "languageId": "r"
    }
   },
   "outputs": [],
   "source": []
  },
  {
   "cell_type": "markdown",
   "metadata": {},
   "source": [
    "## Neural Network for Classification"
   ]
  },
  {
   "cell_type": "markdown",
   "metadata": {},
   "source": [
    "### One hidden-layer with softmax activation with Entropy loss"
   ]
  },
  {
   "cell_type": "markdown",
   "metadata": {},
   "source": [
    "We fit a neural network (perceptron) with 5 units in the hidden-layer "
   ]
  },
  {
   "cell_type": "code",
   "execution_count": 22,
   "metadata": {
    "vscode": {
     "languageId": "r"
    }
   },
   "outputs": [
    {
     "name": "stdout",
     "output_type": "stream",
     "text": [
      "# weights:  98\n",
      "initial  value 622.520775 \n",
      "iter  10 value 502.391423\n",
      "iter  20 value 469.905200\n",
      "iter  30 value 447.343723\n",
      "iter  40 value 431.174709\n",
      "iter  50 value 424.581700\n",
      "iter  60 value 422.384781\n",
      "iter  70 value 421.580571\n",
      "iter  80 value 421.164517\n",
      "iter  90 value 421.003663\n",
      "iter 100 value 420.284055\n",
      "iter 110 value 420.099475\n",
      "iter 120 value 420.066476\n",
      "iter 130 value 420.062730\n",
      "iter 140 value 420.052317\n",
      "iter 150 value 419.746548\n",
      "iter 160 value 418.950353\n",
      "iter 170 value 416.144664\n",
      "iter 180 value 414.910711\n",
      "iter 190 value 413.846650\n",
      "iter 200 value 413.037408\n",
      "iter 210 value 412.384284\n",
      "iter 220 value 411.956885\n",
      "iter 230 value 411.835767\n",
      "iter 240 value 411.637760\n",
      "iter 250 value 409.964685\n",
      "iter 260 value 409.466114\n",
      "iter 270 value 409.285554\n",
      "iter 280 value 409.278453\n",
      "iter 290 value 409.277933\n",
      "final  value 409.277917 \n",
      "converged\n"
     ]
    }
   ],
   "source": [
    "nnet.class = nnet(rain_class ~ ., data = train_set, size = 5, decay = 0.01, entropy = TRUE, maxit = 300)\n"
   ]
  },
  {
   "cell_type": "code",
   "execution_count": 23,
   "metadata": {
    "vscode": {
     "languageId": "r"
    }
   },
   "outputs": [
    {
     "data": {
      "text/html": [
       "<dl>\n",
       "\t<dt>$names</dt>\n",
       "\t\t<dd><style>\n",
       ".list-inline {list-style: none; margin:0; padding: 0}\n",
       ".list-inline>li {display: inline-block}\n",
       ".list-inline>li:not(:last-child)::after {content: \"\\00b7\"; padding: 0 .5ex}\n",
       "</style>\n",
       "<ol class=list-inline><li>'n'</li><li>'nunits'</li><li>'nconn'</li><li>'conn'</li><li>'nsunits'</li><li>'decay'</li><li>'entropy'</li><li>'softmax'</li><li>'censored'</li><li>'value'</li><li>'wts'</li><li>'convergence'</li><li>'fitted.values'</li><li>'residuals'</li><li>'lev'</li><li>'call'</li><li>'terms'</li><li>'coefnames'</li><li>'xlevels'</li></ol>\n",
       "</dd>\n",
       "\t<dt>$class</dt>\n",
       "\t\t<dd><style>\n",
       ".list-inline {list-style: none; margin:0; padding: 0}\n",
       ".list-inline>li {display: inline-block}\n",
       ".list-inline>li:not(:last-child)::after {content: \"\\00b7\"; padding: 0 .5ex}\n",
       "</style>\n",
       "<ol class=list-inline><li>'nnet.formula'</li><li>'nnet'</li></ol>\n",
       "</dd>\n",
       "</dl>\n"
      ],
      "text/latex": [
       "\\begin{description}\n",
       "\\item[\\$names] \\begin{enumerate*}\n",
       "\\item 'n'\n",
       "\\item 'nunits'\n",
       "\\item 'nconn'\n",
       "\\item 'conn'\n",
       "\\item 'nsunits'\n",
       "\\item 'decay'\n",
       "\\item 'entropy'\n",
       "\\item 'softmax'\n",
       "\\item 'censored'\n",
       "\\item 'value'\n",
       "\\item 'wts'\n",
       "\\item 'convergence'\n",
       "\\item 'fitted.values'\n",
       "\\item 'residuals'\n",
       "\\item 'lev'\n",
       "\\item 'call'\n",
       "\\item 'terms'\n",
       "\\item 'coefnames'\n",
       "\\item 'xlevels'\n",
       "\\end{enumerate*}\n",
       "\n",
       "\\item[\\$class] \\begin{enumerate*}\n",
       "\\item 'nnet.formula'\n",
       "\\item 'nnet'\n",
       "\\end{enumerate*}\n",
       "\n",
       "\\end{description}\n"
      ],
      "text/markdown": [
       "$names\n",
       ":   1. 'n'\n",
       "2. 'nunits'\n",
       "3. 'nconn'\n",
       "4. 'conn'\n",
       "5. 'nsunits'\n",
       "6. 'decay'\n",
       "7. 'entropy'\n",
       "8. 'softmax'\n",
       "9. 'censored'\n",
       "10. 'value'\n",
       "11. 'wts'\n",
       "12. 'convergence'\n",
       "13. 'fitted.values'\n",
       "14. 'residuals'\n",
       "15. 'lev'\n",
       "16. 'call'\n",
       "17. 'terms'\n",
       "18. 'coefnames'\n",
       "19. 'xlevels'\n",
       "\n",
       "\n",
       "\n",
       "$class\n",
       ":   1. 'nnet.formula'\n",
       "2. 'nnet'\n",
       "\n",
       "\n",
       "\n",
       "\n",
       "\n"
      ],
      "text/plain": [
       "$names\n",
       " [1] \"n\"             \"nunits\"        \"nconn\"         \"conn\"         \n",
       " [5] \"nsunits\"       \"decay\"         \"entropy\"       \"softmax\"      \n",
       " [9] \"censored\"      \"value\"         \"wts\"           \"convergence\"  \n",
       "[13] \"fitted.values\" \"residuals\"     \"lev\"           \"call\"         \n",
       "[17] \"terms\"         \"coefnames\"     \"xlevels\"      \n",
       "\n",
       "$class\n",
       "[1] \"nnet.formula\" \"nnet\"        \n"
      ]
     },
     "metadata": {},
     "output_type": "display_data"
    }
   ],
   "source": [
    "attributes(nnet.class)"
   ]
  },
  {
   "cell_type": "code",
   "execution_count": 24,
   "metadata": {
    "vscode": {
     "languageId": "r"
    }
   },
   "outputs": [
    {
     "data": {
      "text/html": [
       "FALSE"
      ],
      "text/latex": [
       "FALSE"
      ],
      "text/markdown": [
       "FALSE"
      ],
      "text/plain": [
       "[1] FALSE"
      ]
     },
     "metadata": {},
     "output_type": "display_data"
    }
   ],
   "source": [
    "nnet.class$entropy"
   ]
  },
  {
   "cell_type": "markdown",
   "metadata": {},
   "source": [
    "#### Test accuracy"
   ]
  },
  {
   "cell_type": "code",
   "execution_count": 25,
   "metadata": {
    "vscode": {
     "languageId": "r"
    }
   },
   "outputs": [
    {
     "data": {
      "text/html": [
       "<table class=\"dataframe\">\n",
       "<caption>A data.frame: 6 × 5</caption>\n",
       "<thead>\n",
       "\t<tr><th></th><th scope=col>high_rain</th><th scope=col>low_rain</th><th scope=col>no_rain</th><th scope=col>max_prob</th><th scope=col>label</th></tr>\n",
       "\t<tr><th></th><th scope=col>&lt;dbl&gt;</th><th scope=col>&lt;dbl&gt;</th><th scope=col>&lt;dbl&gt;</th><th scope=col>&lt;chr&gt;</th><th scope=col>&lt;fct&gt;</th></tr>\n",
       "</thead>\n",
       "<tbody>\n",
       "\t<tr><th scope=row>1</th><td>0.0967067482</td><td>0.68619222</td><td>0.21710103</td><td>low_rain </td><td>low_rain </td></tr>\n",
       "\t<tr><th scope=row>2</th><td>0.7293861037</td><td>0.22134533</td><td>0.04926856</td><td>high_rain</td><td>high_rain</td></tr>\n",
       "\t<tr><th scope=row>4</th><td>0.0318939949</td><td>0.46734392</td><td>0.50076209</td><td>no_rain  </td><td>no_rain  </td></tr>\n",
       "\t<tr><th scope=row>5</th><td>0.4028308245</td><td>0.38680271</td><td>0.21036646</td><td>high_rain</td><td>no_rain  </td></tr>\n",
       "\t<tr><th scope=row>6</th><td>0.0670736381</td><td>0.59086373</td><td>0.34206263</td><td>low_rain </td><td>low_rain </td></tr>\n",
       "\t<tr><th scope=row>8</th><td>0.0006817325</td><td>0.08229994</td><td>0.91701833</td><td>no_rain  </td><td>no_rain  </td></tr>\n",
       "</tbody>\n",
       "</table>\n"
      ],
      "text/latex": [
       "A data.frame: 6 × 5\n",
       "\\begin{tabular}{r|lllll}\n",
       "  & high\\_rain & low\\_rain & no\\_rain & max\\_prob & label\\\\\n",
       "  & <dbl> & <dbl> & <dbl> & <chr> & <fct>\\\\\n",
       "\\hline\n",
       "\t1 & 0.0967067482 & 0.68619222 & 0.21710103 & low\\_rain  & low\\_rain \\\\\n",
       "\t2 & 0.7293861037 & 0.22134533 & 0.04926856 & high\\_rain & high\\_rain\\\\\n",
       "\t4 & 0.0318939949 & 0.46734392 & 0.50076209 & no\\_rain   & no\\_rain  \\\\\n",
       "\t5 & 0.4028308245 & 0.38680271 & 0.21036646 & high\\_rain & no\\_rain  \\\\\n",
       "\t6 & 0.0670736381 & 0.59086373 & 0.34206263 & low\\_rain  & low\\_rain \\\\\n",
       "\t8 & 0.0006817325 & 0.08229994 & 0.91701833 & no\\_rain   & no\\_rain  \\\\\n",
       "\\end{tabular}\n"
      ],
      "text/markdown": [
       "\n",
       "A data.frame: 6 × 5\n",
       "\n",
       "| <!--/--> | high_rain &lt;dbl&gt; | low_rain &lt;dbl&gt; | no_rain &lt;dbl&gt; | max_prob &lt;chr&gt; | label &lt;fct&gt; |\n",
       "|---|---|---|---|---|---|\n",
       "| 1 | 0.0967067482 | 0.68619222 | 0.21710103 | low_rain  | low_rain  |\n",
       "| 2 | 0.7293861037 | 0.22134533 | 0.04926856 | high_rain | high_rain |\n",
       "| 4 | 0.0318939949 | 0.46734392 | 0.50076209 | no_rain   | no_rain   |\n",
       "| 5 | 0.4028308245 | 0.38680271 | 0.21036646 | high_rain | no_rain   |\n",
       "| 6 | 0.0670736381 | 0.59086373 | 0.34206263 | low_rain  | low_rain  |\n",
       "| 8 | 0.0006817325 | 0.08229994 | 0.91701833 | no_rain   | no_rain   |\n",
       "\n"
      ],
      "text/plain": [
       "  high_rain    low_rain   no_rain    max_prob  label    \n",
       "1 0.0967067482 0.68619222 0.21710103 low_rain  low_rain \n",
       "2 0.7293861037 0.22134533 0.04926856 high_rain high_rain\n",
       "4 0.0318939949 0.46734392 0.50076209 no_rain   no_rain  \n",
       "5 0.4028308245 0.38680271 0.21036646 high_rain no_rain  \n",
       "6 0.0670736381 0.59086373 0.34206263 low_rain  low_rain \n",
       "8 0.0006817325 0.08229994 0.91701833 no_rain   no_rain  "
      ]
     },
     "metadata": {},
     "output_type": "display_data"
    }
   ],
   "source": [
    "nnet_train_prediction <- data.frame(nnet.class$fitted.values) %>%\n",
    "    mutate(max_prob = colnames(.)[apply(., 1, which.max)],\n",
    "            label = y_train)\n",
    "head(nnet_train_prediction)"
   ]
  },
  {
   "cell_type": "code",
   "execution_count": 26,
   "metadata": {
    "vscode": {
     "languageId": "r"
    }
   },
   "outputs": [
    {
     "data": {
      "text/plain": [
       "Confusion Matrix and Statistics\n",
       "\n",
       "           Reference\n",
       "Prediction  high_rain low_rain no_rain\n",
       "  high_rain       101       29       7\n",
       "  low_rain         49      171      61\n",
       "  no_rain           5       34      93\n",
       "\n",
       "Overall Statistics\n",
       "                                          \n",
       "               Accuracy : 0.6636          \n",
       "                 95% CI : (0.6224, 0.7031)\n",
       "    No Information Rate : 0.4255          \n",
       "    P-Value [Acc > NIR] : < 2.2e-16       \n",
       "                                          \n",
       "                  Kappa : 0.4762          \n",
       "                                          \n",
       " Mcnemar's Test P-Value : 0.004353        \n",
       "\n",
       "Statistics by Class:\n",
       "\n",
       "                     Class: high_rain Class: low_rain Class: no_rain\n",
       "Sensitivity                    0.6516          0.7308         0.5776\n",
       "Specificity                    0.9089          0.6519         0.8997\n",
       "Pos Pred Value                 0.7372          0.6085         0.7045\n",
       "Neg Pred Value                 0.8692          0.7658         0.8373\n",
       "Precision                      0.7372          0.6085         0.7045\n",
       "Recall                         0.6516          0.7308         0.5776\n",
       "F1                             0.6918          0.6641         0.6348\n",
       "Prevalence                     0.2818          0.4255         0.2927\n",
       "Detection Rate                 0.1836          0.3109         0.1691\n",
       "Detection Prevalence           0.2491          0.5109         0.2400\n",
       "Balanced Accuracy              0.7802          0.6913         0.7387"
      ]
     },
     "metadata": {},
     "output_type": "display_data"
    }
   ],
   "source": [
    "confusionMatrix(factor(nnet_train_prediction$max_prob),\n",
    "                factor(nnet_train_prediction$label),\n",
    "                mode = \"everything\")"
   ]
  },
  {
   "cell_type": "markdown",
   "metadata": {},
   "source": [
    "#### Test accuracy"
   ]
  },
  {
   "cell_type": "code",
   "execution_count": 27,
   "metadata": {
    "vscode": {
     "languageId": "r"
    }
   },
   "outputs": [
    {
     "data": {
      "text/plain": [
       "Confusion Matrix and Statistics\n",
       "\n",
       "           Reference\n",
       "Prediction  high_rain low_rain no_rain\n",
       "  high_rain        19        8       7\n",
       "  low_rain         11       34      27\n",
       "  no_rain           3       16      13\n",
       "\n",
       "Overall Statistics\n",
       "                                          \n",
       "               Accuracy : 0.4783          \n",
       "                 95% CI : (0.3926, 0.5649)\n",
       "    No Information Rate : 0.4203          \n",
       "    P-Value [Acc > NIR] : 0.09836         \n",
       "                                          \n",
       "                  Kappa : 0.1884          \n",
       "                                          \n",
       " Mcnemar's Test P-Value : 0.18021         \n",
       "\n",
       "Statistics by Class:\n",
       "\n",
       "                     Class: high_rain Class: low_rain Class: no_rain\n",
       "Sensitivity                    0.5758          0.5862         0.2766\n",
       "Specificity                    0.8571          0.5250         0.7912\n",
       "Pos Pred Value                 0.5588          0.4722         0.4062\n",
       "Neg Pred Value                 0.8654          0.6364         0.6792\n",
       "Prevalence                     0.2391          0.4203         0.3406\n",
       "Detection Rate                 0.1377          0.2464         0.0942\n",
       "Detection Prevalence           0.2464          0.5217         0.2319\n",
       "Balanced Accuracy              0.7165          0.5556         0.5339"
      ]
     },
     "metadata": {},
     "output_type": "display_data"
    }
   ],
   "source": [
    "nnet_test_prediction = predict(nnet.class, newdata = test_set, type = \"class\")\n",
    "confusionMatrix(as.factor(nnet_test_prediction), y_test)"
   ]
  },
  {
   "cell_type": "markdown",
   "metadata": {},
   "source": [
    "The prediction accuracy is not very accurate. So we need to tune the hyperparameters"
   ]
  },
  {
   "cell_type": "markdown",
   "metadata": {},
   "source": [
    "### Hyperparameters tunning"
   ]
  },
  {
   "cell_type": "code",
   "execution_count": 29,
   "metadata": {
    "vscode": {
     "languageId": "r"
    }
   },
   "outputs": [],
   "source": [
    "library(e1071)"
   ]
  },
  {
   "cell_type": "code",
   "execution_count": 30,
   "metadata": {
    "vscode": {
     "languageId": "r"
    }
   },
   "outputs": [],
   "source": [
    "nnet.class.tune = tune.nnet(rain_class ~ ., data = train_set, \n",
    "        size = seq(5, 10, by = 1), decay = c(0.0001, 0.0005, 0.001, 0.005, 0.01, 0.05), entropy = TRUE, maxit = 300)"
   ]
  },
  {
   "cell_type": "code",
   "execution_count": 31,
   "metadata": {
    "vscode": {
     "languageId": "r"
    }
   },
   "outputs": [
    {
     "data": {
      "image/png": "[encoded data removed]",
      "text/plain": [
       "Plot with title \"Performance of `nnet'\""
      ]
     },
     "metadata": {
      "image/png": {
       "height": 420,
       "width": 420
      }
     },
     "output_type": "display_data"
    }
   ],
   "source": [
    "plot(nnet.class.tune)"
   ]
  },
  {
   "cell_type": "code",
   "execution_count": 32,
   "metadata": {
    "vscode": {
     "languageId": "r"
    }
   },
   "outputs": [
    {
     "data": {
      "text/html": [
       "<dl>\n",
       "\t<dt>$names</dt>\n",
       "\t\t<dd><style>\n",
       ".list-inline {list-style: none; margin:0; padding: 0}\n",
       ".list-inline>li {display: inline-block}\n",
       ".list-inline>li:not(:last-child)::after {content: \"\\00b7\"; padding: 0 .5ex}\n",
       "</style>\n",
       "<ol class=list-inline><li>'best.parameters'</li><li>'best.performance'</li><li>'method'</li><li>'nparcomb'</li><li>'train.ind'</li><li>'sampling'</li><li>'performances'</li><li>'best.model'</li></ol>\n",
       "</dd>\n",
       "\t<dt>$class</dt>\n",
       "\t\t<dd>'tune'</dd>\n",
       "</dl>\n"
      ],
      "text/latex": [
       "\\begin{description}\n",
       "\\item[\\$names] \\begin{enumerate*}\n",
       "\\item 'best.parameters'\n",
       "\\item 'best.performance'\n",
       "\\item 'method'\n",
       "\\item 'nparcomb'\n",
       "\\item 'train.ind'\n",
       "\\item 'sampling'\n",
       "\\item 'performances'\n",
       "\\item 'best.model'\n",
       "\\end{enumerate*}\n",
       "\n",
       "\\item[\\$class] 'tune'\n",
       "\\end{description}\n"
      ],
      "text/markdown": [
       "$names\n",
       ":   1. 'best.parameters'\n",
       "2. 'best.performance'\n",
       "3. 'method'\n",
       "4. 'nparcomb'\n",
       "5. 'train.ind'\n",
       "6. 'sampling'\n",
       "7. 'performances'\n",
       "8. 'best.model'\n",
       "\n",
       "\n",
       "\n",
       "$class\n",
       ":   'tune'\n",
       "\n",
       "\n"
      ],
      "text/plain": [
       "$names\n",
       "[1] \"best.parameters\"  \"best.performance\" \"method\"           \"nparcomb\"        \n",
       "[5] \"train.ind\"        \"sampling\"         \"performances\"     \"best.model\"      \n",
       "\n",
       "$class\n",
       "[1] \"tune\"\n"
      ]
     },
     "metadata": {},
     "output_type": "display_data"
    }
   ],
   "source": [
    "attributes(nnet.class.tune)"
   ]
  },
  {
   "cell_type": "code",
   "execution_count": 33,
   "metadata": {
    "vscode": {
     "languageId": "r"
    }
   },
   "outputs": [
    {
     "data": {
      "text/html": [
       "<table class=\"dataframe\">\n",
       "<caption>A data.frame: 1 × 2</caption>\n",
       "<thead>\n",
       "\t<tr><th></th><th scope=col>size</th><th scope=col>decay</th></tr>\n",
       "\t<tr><th></th><th scope=col>&lt;dbl&gt;</th><th scope=col>&lt;dbl&gt;</th></tr>\n",
       "</thead>\n",
       "<tbody>\n",
       "\t<tr><th scope=row>31</th><td>5</td><td>0.05</td></tr>\n",
       "</tbody>\n",
       "</table>\n"
      ],
      "text/latex": [
       "A data.frame: 1 × 2\n",
       "\\begin{tabular}{r|ll}\n",
       "  & size & decay\\\\\n",
       "  & <dbl> & <dbl>\\\\\n",
       "\\hline\n",
       "\t31 & 5 & 0.05\\\\\n",
       "\\end{tabular}\n"
      ],
      "text/markdown": [
       "\n",
       "A data.frame: 1 × 2\n",
       "\n",
       "| <!--/--> | size &lt;dbl&gt; | decay &lt;dbl&gt; |\n",
       "|---|---|---|\n",
       "| 31 | 5 | 0.05 |\n",
       "\n"
      ],
      "text/plain": [
       "   size decay\n",
       "31 5    0.05 "
      ]
     },
     "metadata": {},
     "output_type": "display_data"
    }
   ],
   "source": [
    "nnet.class.tune$best.parameters"
   ]
  },
  {
   "cell_type": "code",
   "execution_count": 42,
   "metadata": {
    "vscode": {
     "languageId": "r"
    }
   },
   "outputs": [
    {
     "data": {
      "text/html": [
       "0.497454545454545"
      ],
      "text/latex": [
       "0.497454545454545"
      ],
      "text/markdown": [
       "0.497454545454545"
      ],
      "text/plain": [
       "[1] 0.4974545"
      ]
     },
     "metadata": {},
     "output_type": "display_data"
    }
   ],
   "source": [
    "nnet.class.tune$best.performance"
   ]
  },
  {
   "cell_type": "code",
   "execution_count": 37,
   "metadata": {
    "vscode": {
     "languageId": "r"
    }
   },
   "outputs": [
    {
     "name": "stdout",
     "output_type": "stream",
     "text": [
      "# weights:  98\n",
      "initial  value 698.326931 \n",
      "iter  10 value 496.569445\n",
      "iter  20 value 467.199553\n",
      "iter  30 value 451.539418\n",
      "iter  40 value 439.840133\n",
      "iter  50 value 435.719315\n",
      "iter  60 value 433.154764\n",
      "iter  70 value 432.716582\n",
      "iter  80 value 432.555652\n",
      "iter  90 value 432.516553\n",
      "iter 100 value 432.473510\n",
      "iter 110 value 432.438667\n",
      "final  value 432.438292 \n",
      "converged\n"
     ]
    }
   ],
   "source": [
    "nnet.class.best = nnet(rain_class ~ ., data = train_set, \n",
    "        size = 5, decay = 0.05, entropy = TRUE, maxit = 300)"
   ]
  },
  {
   "cell_type": "code",
   "execution_count": 39,
   "metadata": {
    "vscode": {
     "languageId": "r"
    }
   },
   "outputs": [
    {
     "data": {
      "text/plain": [
       "Confusion Matrix and Statistics\n",
       "\n",
       "           Reference\n",
       "Prediction  high_rain low_rain no_rain\n",
       "  high_rain        97       31       9\n",
       "  low_rain         47      155      43\n",
       "  no_rain          11       48     109\n",
       "\n",
       "Overall Statistics\n",
       "                                        \n",
       "               Accuracy : 0.6564        \n",
       "                 95% CI : (0.615, 0.696)\n",
       "    No Information Rate : 0.4255        \n",
       "    P-Value [Acc > NIR] : <2e-16        \n",
       "                                        \n",
       "                  Kappa : 0.472         \n",
       "                                        \n",
       " Mcnemar's Test P-Value : 0.289         \n",
       "\n",
       "Statistics by Class:\n",
       "\n",
       "                     Class: high_rain Class: low_rain Class: no_rain\n",
       "Sensitivity                    0.6258          0.6624         0.6770\n",
       "Specificity                    0.8987          0.7152         0.8483\n",
       "Pos Pred Value                 0.7080          0.6327         0.6488\n",
       "Neg Pred Value                 0.8596          0.7410         0.8639\n",
       "Precision                      0.7080          0.6327         0.6488\n",
       "Recall                         0.6258          0.6624         0.6770\n",
       "F1                             0.6644          0.6472         0.6626\n",
       "Prevalence                     0.2818          0.4255         0.2927\n",
       "Detection Rate                 0.1764          0.2818         0.1982\n",
       "Detection Prevalence           0.2491          0.4455         0.3055\n",
       "Balanced Accuracy              0.7623          0.6888         0.7627"
      ]
     },
     "metadata": {},
     "output_type": "display_data"
    }
   ],
   "source": [
    "train_prediction <- data.frame(nnet.class.best$fitted.values) %>%\n",
    "    mutate(max_prob = colnames(.)[apply(., 1, which.max)],\n",
    "            label = y_train)\n",
    "\n",
    "confusionMatrix(factor(train_prediction$max_prob),\n",
    "                factor(train_prediction$label),\n",
    "                mode = \"everything\")"
   ]
  },
  {
   "cell_type": "code",
   "execution_count": 40,
   "metadata": {
    "vscode": {
     "languageId": "r"
    }
   },
   "outputs": [
    {
     "data": {
      "text/plain": [
       "Confusion Matrix and Statistics\n",
       "\n",
       "           Reference\n",
       "Prediction  high_rain low_rain no_rain\n",
       "  high_rain        22        9       8\n",
       "  low_rain          8       31      22\n",
       "  no_rain           3       18      17\n",
       "\n",
       "Overall Statistics\n",
       "                                          \n",
       "               Accuracy : 0.5072          \n",
       "                 95% CI : (0.4209, 0.5933)\n",
       "    No Information Rate : 0.4203          \n",
       "    P-Value [Acc > NIR] : 0.02422         \n",
       "                                          \n",
       "                  Kappa : 0.2452          \n",
       "                                          \n",
       " Mcnemar's Test P-Value : 0.43489         \n",
       "\n",
       "Statistics by Class:\n",
       "\n",
       "                     Class: high_rain Class: low_rain Class: no_rain\n",
       "Sensitivity                    0.6667          0.5345         0.3617\n",
       "Specificity                    0.8381          0.6250         0.7692\n",
       "Pos Pred Value                 0.5641          0.5082         0.4474\n",
       "Neg Pred Value                 0.8889          0.6494         0.7000\n",
       "Prevalence                     0.2391          0.4203         0.3406\n",
       "Detection Rate                 0.1594          0.2246         0.1232\n",
       "Detection Prevalence           0.2826          0.4420         0.2754\n",
       "Balanced Accuracy              0.7524          0.5797         0.5655"
      ]
     },
     "metadata": {},
     "output_type": "display_data"
    }
   ],
   "source": [
    "test_prediction = predict(nnet.class.best, newdata = test_set, type = \"class\")\n",
    "confusionMatrix(as.factor(test_prediction), y_test)"
   ]
  },
  {
   "cell_type": "markdown",
   "metadata": {},
   "source": [
    "## Neural Network for Regression"
   ]
  }
 ],
 "metadata": {
  "kernelspec": {
   "display_name": "R",
   "language": "R",
   "name": "ir"
  },
  "language_info": {
   "codemirror_mode": "r",
   "file_extension": ".r",
   "mimetype": "text/x-r-source",
   "name": "R",
   "pygments_lexer": "r",
   "version": "4.2.0"
  },
  "orig_nbformat": 4
 },
 "nbformat": 4,
 "nbformat_minor": 2
}
