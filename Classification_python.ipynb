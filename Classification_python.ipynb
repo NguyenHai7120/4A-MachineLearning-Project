{
 "cells": [
  {
   "cell_type": "markdown",
   "metadata": {},
   "source": [
    "# 2. CLASSIFICATION"
   ]
  },
  {
   "cell_type": "code",
   "execution_count": 1,
   "metadata": {},
   "outputs": [],
   "source": [
    "import pandas as pd\n",
    "import numpy as np\n",
    "import itertools\n",
    "import matplotlib.pyplot as plt\n",
    "%matplotlib inline\n",
    "import seaborn as sns\n",
    "import time\n",
    "import random\n",
    "import os\n",
    "\n",
    "from sklearn.metrics import accuracy_score, confusion_matrix, f1_score, recall_score, precision_score\n",
    "from sklearn.metrics import mean_absolute_percentage_error as MAPE\n",
    "from sklearn.metrics import mean_squared_error as MSE\n",
    "from sklearn.metrics import r2_score\n",
    "from sklearn.metrics import mean_absolute_error as MAE\n",
    "from sklearn.metrics import classification_report"
   ]
  },
  {
   "cell_type": "code",
   "execution_count": 2,
   "metadata": {},
   "outputs": [],
   "source": [
    "def seed_everything(seed=42):\n",
    "    \"\"\"\"Seed everything.\n",
    "    \"\"\"   \n",
    "    random.seed(seed)\n",
    "    np.random.seed(seed)\n",
    "    os.environ['PYTHONHASHSEED'] = str(seed)"
   ]
  },
  {
   "cell_type": "code",
   "execution_count": 3,
   "metadata": {},
   "outputs": [],
   "source": [
    "seed_everything()"
   ]
  },
  {
   "cell_type": "code",
   "execution_count": 13,
   "metadata": {},
   "outputs": [],
   "source": [
    "def classification_metric(y_true, y_pred):\n",
    "    # labs = [\"high_rain\", \"low_rain\", \"no_rain\"]\n",
    "    # f1 = np.round(f1_score(y_true, y_pred, labels = labs, average = \"macro\"), 3)\n",
    "    # class_recall = np.round(recall_score(y_true, y_pred, labels = labs, average = None), 3)\n",
    "    # total_recall = np.round(recall_score(y_true, y_pred, labels = labs, average = \"macro\"), 3)\n",
    "    # acc = np.round(accuracy_score(y_true, y_pred), 3)\n",
    "    # precision = np.round(precision_score(y_true, y_pred, labels = labs, average = None), 3)\n",
    "    print(\"Confusion matrix : \")\n",
    "    table = pd.crosstab(y_true, y_pred, dropna = False)\n",
    "    print(table)\n",
    "    print(classification_report(y_true, y_pred))\n",
    "    # table.columns = table.columns.astype(str)\n",
    "    # table[\"recall\"] = class_recall[:len(table.index)]\n",
    "    # table[\"precision\"] = precision[:len(table.index)]\n",
    "    # print(\"The confusion matrix \")\n",
    "    # print(table)\n",
    "    # print(\"The prediction accuracy: \", acc)\n",
    "    # print(\"The f1-score : \", f1)\n",
    "    # print(\"The recall-score : \", total_recall)\n"
   ]
  },
  {
   "cell_type": "code",
   "execution_count": 4,
   "metadata": {},
   "outputs": [],
   "source": [
    "train_set = pd.read_csv(\"data/train_set.txt\",sep = ' ')\n",
    "test_set = pd.read_csv(\"data/test_set.txt\",sep = ' ')"
   ]
  },
  {
   "cell_type": "code",
   "execution_count": 6,
   "metadata": {},
   "outputs": [
    {
     "data": {
      "text/html": [
       "<div>\n",
       "<style scoped>\n",
       "    .dataframe tbody tr th:only-of-type {\n",
       "        vertical-align: middle;\n",
       "    }\n",
       "\n",
       "    .dataframe tbody tr th {\n",
       "        vertical-align: top;\n",
       "    }\n",
       "\n",
       "    .dataframe thead th {\n",
       "        text-align: right;\n",
       "    }\n",
       "</style>\n",
       "<table border=\"1\" class=\"dataframe\">\n",
       "  <thead>\n",
       "    <tr style=\"text-align: right;\">\n",
       "      <th></th>\n",
       "      <th>ff</th>\n",
       "      <th>t</th>\n",
       "      <th>td</th>\n",
       "      <th>hu</th>\n",
       "      <th>dd</th>\n",
       "      <th>precip_log</th>\n",
       "      <th>ws_arome</th>\n",
       "      <th>p3031_arome</th>\n",
       "      <th>u10_arome</th>\n",
       "      <th>v10_arome</th>\n",
       "      <th>...</th>\n",
       "      <th>month3</th>\n",
       "      <th>month4</th>\n",
       "      <th>month5</th>\n",
       "      <th>month6</th>\n",
       "      <th>month7</th>\n",
       "      <th>month8</th>\n",
       "      <th>month9</th>\n",
       "      <th>month10</th>\n",
       "      <th>month11</th>\n",
       "      <th>month12</th>\n",
       "    </tr>\n",
       "  </thead>\n",
       "  <tbody>\n",
       "    <tr>\n",
       "      <th>1</th>\n",
       "      <td>-0.086213</td>\n",
       "      <td>1.164777</td>\n",
       "      <td>0.910535</td>\n",
       "      <td>-0.798235</td>\n",
       "      <td>0.520054</td>\n",
       "      <td>-0.820399</td>\n",
       "      <td>-0.036595</td>\n",
       "      <td>0.529785</td>\n",
       "      <td>0.801953</td>\n",
       "      <td>0.400758</td>\n",
       "      <td>...</td>\n",
       "      <td>0</td>\n",
       "      <td>0</td>\n",
       "      <td>0</td>\n",
       "      <td>1</td>\n",
       "      <td>0</td>\n",
       "      <td>0</td>\n",
       "      <td>0</td>\n",
       "      <td>0</td>\n",
       "      <td>0</td>\n",
       "      <td>0</td>\n",
       "    </tr>\n",
       "    <tr>\n",
       "      <th>2</th>\n",
       "      <td>-0.215296</td>\n",
       "      <td>-1.471529</td>\n",
       "      <td>-1.661333</td>\n",
       "      <td>-0.454718</td>\n",
       "      <td>0.695888</td>\n",
       "      <td>0.078895</td>\n",
       "      <td>-0.257664</td>\n",
       "      <td>1.323143</td>\n",
       "      <td>0.556898</td>\n",
       "      <td>-0.888709</td>\n",
       "      <td>...</td>\n",
       "      <td>1</td>\n",
       "      <td>0</td>\n",
       "      <td>0</td>\n",
       "      <td>0</td>\n",
       "      <td>0</td>\n",
       "      <td>0</td>\n",
       "      <td>0</td>\n",
       "      <td>0</td>\n",
       "      <td>0</td>\n",
       "      <td>0</td>\n",
       "    </tr>\n",
       "    <tr>\n",
       "      <th>4</th>\n",
       "      <td>-1.468680</td>\n",
       "      <td>0.129100</td>\n",
       "      <td>-0.187510</td>\n",
       "      <td>-1.056853</td>\n",
       "      <td>0.129012</td>\n",
       "      <td>-0.820399</td>\n",
       "      <td>-1.317523</td>\n",
       "      <td>-0.827820</td>\n",
       "      <td>-0.605044</td>\n",
       "      <td>-0.693706</td>\n",
       "      <td>...</td>\n",
       "      <td>0</td>\n",
       "      <td>0</td>\n",
       "      <td>1</td>\n",
       "      <td>0</td>\n",
       "      <td>0</td>\n",
       "      <td>0</td>\n",
       "      <td>0</td>\n",
       "      <td>0</td>\n",
       "      <td>0</td>\n",
       "      <td>0</td>\n",
       "    </tr>\n",
       "    <tr>\n",
       "      <th>5</th>\n",
       "      <td>1.028401</td>\n",
       "      <td>-1.238485</td>\n",
       "      <td>-1.421240</td>\n",
       "      <td>-0.491033</td>\n",
       "      <td>1.022205</td>\n",
       "      <td>0.269433</td>\n",
       "      <td>0.464623</td>\n",
       "      <td>1.063498</td>\n",
       "      <td>1.186435</td>\n",
       "      <td>-0.717044</td>\n",
       "      <td>...</td>\n",
       "      <td>0</td>\n",
       "      <td>0</td>\n",
       "      <td>0</td>\n",
       "      <td>0</td>\n",
       "      <td>0</td>\n",
       "      <td>0</td>\n",
       "      <td>0</td>\n",
       "      <td>0</td>\n",
       "      <td>0</td>\n",
       "      <td>0</td>\n",
       "    </tr>\n",
       "    <tr>\n",
       "      <th>6</th>\n",
       "      <td>-1.465538</td>\n",
       "      <td>-1.273800</td>\n",
       "      <td>-1.288810</td>\n",
       "      <td>0.075769</td>\n",
       "      <td>-0.850480</td>\n",
       "      <td>-0.612447</td>\n",
       "      <td>-1.277939</td>\n",
       "      <td>-0.588190</td>\n",
       "      <td>-0.432199</td>\n",
       "      <td>0.107395</td>\n",
       "      <td>...</td>\n",
       "      <td>0</td>\n",
       "      <td>0</td>\n",
       "      <td>0</td>\n",
       "      <td>0</td>\n",
       "      <td>0</td>\n",
       "      <td>0</td>\n",
       "      <td>0</td>\n",
       "      <td>0</td>\n",
       "      <td>0</td>\n",
       "      <td>1</td>\n",
       "    </tr>\n",
       "    <tr>\n",
       "      <th>...</th>\n",
       "      <td>...</td>\n",
       "      <td>...</td>\n",
       "      <td>...</td>\n",
       "      <td>...</td>\n",
       "      <td>...</td>\n",
       "      <td>...</td>\n",
       "      <td>...</td>\n",
       "      <td>...</td>\n",
       "      <td>...</td>\n",
       "      <td>...</td>\n",
       "      <td>...</td>\n",
       "      <td>...</td>\n",
       "      <td>...</td>\n",
       "      <td>...</td>\n",
       "      <td>...</td>\n",
       "      <td>...</td>\n",
       "      <td>...</td>\n",
       "      <td>...</td>\n",
       "      <td>...</td>\n",
       "      <td>...</td>\n",
       "      <td>...</td>\n",
       "    </tr>\n",
       "    <tr>\n",
       "      <th>724</th>\n",
       "      <td>-1.530734</td>\n",
       "      <td>-0.516512</td>\n",
       "      <td>-0.138244</td>\n",
       "      <td>1.196123</td>\n",
       "      <td>-1.643351</td>\n",
       "      <td>-0.820399</td>\n",
       "      <td>-1.372398</td>\n",
       "      <td>-0.675518</td>\n",
       "      <td>-0.807684</td>\n",
       "      <td>-0.353231</td>\n",
       "      <td>...</td>\n",
       "      <td>0</td>\n",
       "      <td>0</td>\n",
       "      <td>0</td>\n",
       "      <td>0</td>\n",
       "      <td>0</td>\n",
       "      <td>0</td>\n",
       "      <td>0</td>\n",
       "      <td>0</td>\n",
       "      <td>1</td>\n",
       "      <td>0</td>\n",
       "    </tr>\n",
       "    <tr>\n",
       "      <th>727</th>\n",
       "      <td>-1.169931</td>\n",
       "      <td>1.010201</td>\n",
       "      <td>0.849969</td>\n",
       "      <td>-0.528329</td>\n",
       "      <td>-0.517151</td>\n",
       "      <td>-0.436627</td>\n",
       "      <td>-0.937395</td>\n",
       "      <td>-1.045143</td>\n",
       "      <td>-0.647040</td>\n",
       "      <td>-0.734017</td>\n",
       "      <td>...</td>\n",
       "      <td>0</td>\n",
       "      <td>0</td>\n",
       "      <td>0</td>\n",
       "      <td>0</td>\n",
       "      <td>0</td>\n",
       "      <td>1</td>\n",
       "      <td>0</td>\n",
       "      <td>0</td>\n",
       "      <td>0</td>\n",
       "      <td>0</td>\n",
       "    </tr>\n",
       "    <tr>\n",
       "      <th>728</th>\n",
       "      <td>0.070624</td>\n",
       "      <td>1.223185</td>\n",
       "      <td>0.604995</td>\n",
       "      <td>-1.875404</td>\n",
       "      <td>0.563203</td>\n",
       "      <td>-0.820399</td>\n",
       "      <td>-0.361343</td>\n",
       "      <td>0.433055</td>\n",
       "      <td>-0.257686</td>\n",
       "      <td>0.071419</td>\n",
       "      <td>...</td>\n",
       "      <td>0</td>\n",
       "      <td>0</td>\n",
       "      <td>1</td>\n",
       "      <td>0</td>\n",
       "      <td>0</td>\n",
       "      <td>0</td>\n",
       "      <td>0</td>\n",
       "      <td>0</td>\n",
       "      <td>0</td>\n",
       "      <td>0</td>\n",
       "    </tr>\n",
       "    <tr>\n",
       "      <th>729</th>\n",
       "      <td>-1.387512</td>\n",
       "      <td>1.472917</td>\n",
       "      <td>1.344347</td>\n",
       "      <td>-0.480237</td>\n",
       "      <td>-1.532241</td>\n",
       "      <td>-0.612447</td>\n",
       "      <td>-1.125196</td>\n",
       "      <td>-1.264025</td>\n",
       "      <td>-1.094799</td>\n",
       "      <td>0.101478</td>\n",
       "      <td>...</td>\n",
       "      <td>0</td>\n",
       "      <td>0</td>\n",
       "      <td>0</td>\n",
       "      <td>1</td>\n",
       "      <td>0</td>\n",
       "      <td>0</td>\n",
       "      <td>0</td>\n",
       "      <td>0</td>\n",
       "      <td>0</td>\n",
       "      <td>0</td>\n",
       "    </tr>\n",
       "    <tr>\n",
       "      <th>730</th>\n",
       "      <td>0.205467</td>\n",
       "      <td>-0.315664</td>\n",
       "      <td>-0.026424</td>\n",
       "      <td>0.860458</td>\n",
       "      <td>1.292428</td>\n",
       "      <td>-0.029813</td>\n",
       "      <td>0.185286</td>\n",
       "      <td>0.719858</td>\n",
       "      <td>0.197224</td>\n",
       "      <td>-1.135743</td>\n",
       "      <td>...</td>\n",
       "      <td>0</td>\n",
       "      <td>1</td>\n",
       "      <td>0</td>\n",
       "      <td>0</td>\n",
       "      <td>0</td>\n",
       "      <td>0</td>\n",
       "      <td>0</td>\n",
       "      <td>0</td>\n",
       "      <td>0</td>\n",
       "      <td>0</td>\n",
       "    </tr>\n",
       "  </tbody>\n",
       "</table>\n",
       "<p>550 rows × 29 columns</p>\n",
       "</div>"
      ],
      "text/plain": [
       "           ff         t        td        hu        dd  precip_log  ws_arome  \\\n",
       "1   -0.086213  1.164777  0.910535 -0.798235  0.520054   -0.820399 -0.036595   \n",
       "2   -0.215296 -1.471529 -1.661333 -0.454718  0.695888    0.078895 -0.257664   \n",
       "4   -1.468680  0.129100 -0.187510 -1.056853  0.129012   -0.820399 -1.317523   \n",
       "5    1.028401 -1.238485 -1.421240 -0.491033  1.022205    0.269433  0.464623   \n",
       "6   -1.465538 -1.273800 -1.288810  0.075769 -0.850480   -0.612447 -1.277939   \n",
       "..        ...       ...       ...       ...       ...         ...       ...   \n",
       "724 -1.530734 -0.516512 -0.138244  1.196123 -1.643351   -0.820399 -1.372398   \n",
       "727 -1.169931  1.010201  0.849969 -0.528329 -0.517151   -0.436627 -0.937395   \n",
       "728  0.070624  1.223185  0.604995 -1.875404  0.563203   -0.820399 -0.361343   \n",
       "729 -1.387512  1.472917  1.344347 -0.480237 -1.532241   -0.612447 -1.125196   \n",
       "730  0.205467 -0.315664 -0.026424  0.860458  1.292428   -0.029813  0.185286   \n",
       "\n",
       "     p3031_arome  u10_arome  v10_arome  ...  month3  month4  month5  month6  \\\n",
       "1       0.529785   0.801953   0.400758  ...       0       0       0       1   \n",
       "2       1.323143   0.556898  -0.888709  ...       1       0       0       0   \n",
       "4      -0.827820  -0.605044  -0.693706  ...       0       0       1       0   \n",
       "5       1.063498   1.186435  -0.717044  ...       0       0       0       0   \n",
       "6      -0.588190  -0.432199   0.107395  ...       0       0       0       0   \n",
       "..           ...        ...        ...  ...     ...     ...     ...     ...   \n",
       "724    -0.675518  -0.807684  -0.353231  ...       0       0       0       0   \n",
       "727    -1.045143  -0.647040  -0.734017  ...       0       0       0       0   \n",
       "728     0.433055  -0.257686   0.071419  ...       0       0       1       0   \n",
       "729    -1.264025  -1.094799   0.101478  ...       0       0       0       1   \n",
       "730     0.719858   0.197224  -1.135743  ...       0       1       0       0   \n",
       "\n",
       "     month7  month8 month9  month10  month11  month12  \n",
       "1         0       0      0        0        0        0  \n",
       "2         0       0      0        0        0        0  \n",
       "4         0       0      0        0        0        0  \n",
       "5         0       0      0        0        0        0  \n",
       "6         0       0      0        0        0        1  \n",
       "..      ...     ...    ...      ...      ...      ...  \n",
       "724       0       0      0        0        1        0  \n",
       "727       0       1      0        0        0        0  \n",
       "728       0       0      0        0        0        0  \n",
       "729       0       0      0        0        0        0  \n",
       "730       0       0      0        0        0        0  \n",
       "\n",
       "[550 rows x 29 columns]"
      ]
     },
     "execution_count": 6,
     "metadata": {},
     "output_type": "execute_result"
    }
   ],
   "source": [
    "train_set"
   ]
  },
  {
   "cell_type": "code",
   "execution_count": 5,
   "metadata": {},
   "outputs": [],
   "source": [
    "X_train = pd.DataFrame(train_set).copy()\n",
    "del X_train['rain']\n",
    "del X_train['rain_class']\n",
    "del X_train['rain_log']\n",
    "\n",
    "X_test = pd.DataFrame(test_set).copy()\n",
    "del X_test['rain']\n",
    "del X_test['rain_class']\n",
    "del X_test['rain_log']"
   ]
  },
  {
   "cell_type": "code",
   "execution_count": 6,
   "metadata": {},
   "outputs": [],
   "source": [
    "train_set['rain_class'] = train_set['rain_class'].astype(\"category\")\n",
    "test_set['rain_class'] = test_set['rain_class'].astype(\"category\")"
   ]
  },
  {
   "cell_type": "code",
   "execution_count": 7,
   "metadata": {},
   "outputs": [],
   "source": [
    "Y_train = train_set['rain']\n",
    "Y_train_log = train_set['rain_log']\n",
    "\n",
    "Y_test = test_set['rain']\n",
    "Y_test_log = test_set['rain_log']"
   ]
  },
  {
   "cell_type": "code",
   "execution_count": 8,
   "metadata": {},
   "outputs": [],
   "source": [
    "Y_train_class = train_set['rain_class']\n",
    "Y_test_class = test_set['rain_class']\n"
   ]
  },
  {
   "cell_type": "code",
   "execution_count": 10,
   "metadata": {},
   "outputs": [
    {
     "data": {
      "text/html": [
       "<div>\n",
       "<style scoped>\n",
       "    .dataframe tbody tr th:only-of-type {\n",
       "        vertical-align: middle;\n",
       "    }\n",
       "\n",
       "    .dataframe tbody tr th {\n",
       "        vertical-align: top;\n",
       "    }\n",
       "\n",
       "    .dataframe thead th {\n",
       "        text-align: right;\n",
       "    }\n",
       "</style>\n",
       "<table border=\"1\" class=\"dataframe\">\n",
       "  <thead>\n",
       "    <tr style=\"text-align: right;\">\n",
       "      <th></th>\n",
       "      <th>ff</th>\n",
       "      <th>t</th>\n",
       "      <th>td</th>\n",
       "      <th>hu</th>\n",
       "      <th>dd</th>\n",
       "      <th>precip_log</th>\n",
       "      <th>ws_arome</th>\n",
       "      <th>p3031_arome</th>\n",
       "      <th>u10_arome</th>\n",
       "      <th>v10_arome</th>\n",
       "      <th>...</th>\n",
       "      <th>month3</th>\n",
       "      <th>month4</th>\n",
       "      <th>month5</th>\n",
       "      <th>month6</th>\n",
       "      <th>month7</th>\n",
       "      <th>month8</th>\n",
       "      <th>month9</th>\n",
       "      <th>month10</th>\n",
       "      <th>month11</th>\n",
       "      <th>month12</th>\n",
       "    </tr>\n",
       "  </thead>\n",
       "  <tbody>\n",
       "    <tr>\n",
       "      <th>1</th>\n",
       "      <td>-0.086213</td>\n",
       "      <td>1.164777</td>\n",
       "      <td>0.910535</td>\n",
       "      <td>-0.798235</td>\n",
       "      <td>0.520054</td>\n",
       "      <td>-0.820399</td>\n",
       "      <td>-0.036595</td>\n",
       "      <td>0.529785</td>\n",
       "      <td>0.801953</td>\n",
       "      <td>0.400758</td>\n",
       "      <td>...</td>\n",
       "      <td>0</td>\n",
       "      <td>0</td>\n",
       "      <td>0</td>\n",
       "      <td>1</td>\n",
       "      <td>0</td>\n",
       "      <td>0</td>\n",
       "      <td>0</td>\n",
       "      <td>0</td>\n",
       "      <td>0</td>\n",
       "      <td>0</td>\n",
       "    </tr>\n",
       "    <tr>\n",
       "      <th>2</th>\n",
       "      <td>-0.215296</td>\n",
       "      <td>-1.471529</td>\n",
       "      <td>-1.661333</td>\n",
       "      <td>-0.454718</td>\n",
       "      <td>0.695888</td>\n",
       "      <td>0.078895</td>\n",
       "      <td>-0.257664</td>\n",
       "      <td>1.323143</td>\n",
       "      <td>0.556898</td>\n",
       "      <td>-0.888709</td>\n",
       "      <td>...</td>\n",
       "      <td>1</td>\n",
       "      <td>0</td>\n",
       "      <td>0</td>\n",
       "      <td>0</td>\n",
       "      <td>0</td>\n",
       "      <td>0</td>\n",
       "      <td>0</td>\n",
       "      <td>0</td>\n",
       "      <td>0</td>\n",
       "      <td>0</td>\n",
       "    </tr>\n",
       "    <tr>\n",
       "      <th>4</th>\n",
       "      <td>-1.468680</td>\n",
       "      <td>0.129100</td>\n",
       "      <td>-0.187510</td>\n",
       "      <td>-1.056853</td>\n",
       "      <td>0.129012</td>\n",
       "      <td>-0.820399</td>\n",
       "      <td>-1.317523</td>\n",
       "      <td>-0.827820</td>\n",
       "      <td>-0.605044</td>\n",
       "      <td>-0.693706</td>\n",
       "      <td>...</td>\n",
       "      <td>0</td>\n",
       "      <td>0</td>\n",
       "      <td>1</td>\n",
       "      <td>0</td>\n",
       "      <td>0</td>\n",
       "      <td>0</td>\n",
       "      <td>0</td>\n",
       "      <td>0</td>\n",
       "      <td>0</td>\n",
       "      <td>0</td>\n",
       "    </tr>\n",
       "    <tr>\n",
       "      <th>5</th>\n",
       "      <td>1.028401</td>\n",
       "      <td>-1.238485</td>\n",
       "      <td>-1.421240</td>\n",
       "      <td>-0.491033</td>\n",
       "      <td>1.022205</td>\n",
       "      <td>0.269433</td>\n",
       "      <td>0.464623</td>\n",
       "      <td>1.063498</td>\n",
       "      <td>1.186435</td>\n",
       "      <td>-0.717044</td>\n",
       "      <td>...</td>\n",
       "      <td>0</td>\n",
       "      <td>0</td>\n",
       "      <td>0</td>\n",
       "      <td>0</td>\n",
       "      <td>0</td>\n",
       "      <td>0</td>\n",
       "      <td>0</td>\n",
       "      <td>0</td>\n",
       "      <td>0</td>\n",
       "      <td>0</td>\n",
       "    </tr>\n",
       "    <tr>\n",
       "      <th>6</th>\n",
       "      <td>-1.465538</td>\n",
       "      <td>-1.273800</td>\n",
       "      <td>-1.288810</td>\n",
       "      <td>0.075769</td>\n",
       "      <td>-0.850480</td>\n",
       "      <td>-0.612447</td>\n",
       "      <td>-1.277939</td>\n",
       "      <td>-0.588190</td>\n",
       "      <td>-0.432199</td>\n",
       "      <td>0.107395</td>\n",
       "      <td>...</td>\n",
       "      <td>0</td>\n",
       "      <td>0</td>\n",
       "      <td>0</td>\n",
       "      <td>0</td>\n",
       "      <td>0</td>\n",
       "      <td>0</td>\n",
       "      <td>0</td>\n",
       "      <td>0</td>\n",
       "      <td>0</td>\n",
       "      <td>1</td>\n",
       "    </tr>\n",
       "  </tbody>\n",
       "</table>\n",
       "<p>5 rows × 26 columns</p>\n",
       "</div>"
      ],
      "text/plain": [
       "         ff         t        td        hu        dd  precip_log  ws_arome  \\\n",
       "1 -0.086213  1.164777  0.910535 -0.798235  0.520054   -0.820399 -0.036595   \n",
       "2 -0.215296 -1.471529 -1.661333 -0.454718  0.695888    0.078895 -0.257664   \n",
       "4 -1.468680  0.129100 -0.187510 -1.056853  0.129012   -0.820399 -1.317523   \n",
       "5  1.028401 -1.238485 -1.421240 -0.491033  1.022205    0.269433  0.464623   \n",
       "6 -1.465538 -1.273800 -1.288810  0.075769 -0.850480   -0.612447 -1.277939   \n",
       "\n",
       "   p3031_arome  u10_arome  v10_arome  ...  month3  month4  month5  month6  \\\n",
       "1     0.529785   0.801953   0.400758  ...       0       0       0       1   \n",
       "2     1.323143   0.556898  -0.888709  ...       1       0       0       0   \n",
       "4    -0.827820  -0.605044  -0.693706  ...       0       0       1       0   \n",
       "5     1.063498   1.186435  -0.717044  ...       0       0       0       0   \n",
       "6    -0.588190  -0.432199   0.107395  ...       0       0       0       0   \n",
       "\n",
       "   month7  month8  month9  month10  month11  month12  \n",
       "1       0       0       0        0        0        0  \n",
       "2       0       0       0        0        0        0  \n",
       "4       0       0       0        0        0        0  \n",
       "5       0       0       0        0        0        0  \n",
       "6       0       0       0        0        0        1  \n",
       "\n",
       "[5 rows x 26 columns]"
      ]
     },
     "execution_count": 10,
     "metadata": {},
     "output_type": "execute_result"
    }
   ],
   "source": [
    "X_train.head()"
   ]
  },
  {
   "cell_type": "markdown",
   "metadata": {},
   "source": [
    "## 2.1. K nearest neighbors"
   ]
  },
  {
   "cell_type": "markdown",
   "metadata": {},
   "source": [
    "The completeness parameter `k` is optimised on a predefined grid by minimising the estimated error by cross-validation; scikit-learn offers many cross-validation options. "
   ]
  },
  {
   "cell_type": "code",
   "execution_count": 12,
   "metadata": {},
   "outputs": [
    {
     "name": "stdout",
     "output_type": "stream",
     "text": [
      "Best Mean cross-validated accuracy = 0.540000, Best parameter = {'n_neighbors': 18}\n"
     ]
    }
   ],
   "source": [
    "from sklearn.model_selection import GridSearchCV\n",
    "from sklearn.neighbors import KNeighborsClassifier\n",
    "# Optimisation of k\n",
    "param_grid = [{\"n_neighbors\": list(range(1, 20))}]\n",
    "knn = GridSearchCV(KNeighborsClassifier(weights = \"distance\"), scoring = \"accuracy\", param_grid = param_grid, cv=10, n_jobs=-1, refit = True)\n",
    "knnOpt = knn.fit(X_train, Y_train_class)  \n",
    "# optimal parameter\n",
    "# knnOpt.best_params_[\"n_neighbors\"]\n",
    "print(\"Best Mean cross-validated accuracy = %f, Best parameter = %s\" % (knnOpt.best_score_, knnOpt.best_params_))"
   ]
  },
  {
   "cell_type": "markdown",
   "metadata": {},
   "source": [
    "The prediction accuracy in the test set"
   ]
  },
  {
   "cell_type": "code",
   "execution_count": 13,
   "metadata": {},
   "outputs": [
    {
     "name": "stdout",
     "output_type": "stream",
     "text": [
      "Prediction accuracy in the test sample :  0.5072463768115942\n"
     ]
    }
   ],
   "source": [
    "# Estimation of the prediction accuracy on the test sample\n",
    "print(\"Prediction accuracy in the test sample : \", knnOpt.score(X_test, Y_test_class))\n"
   ]
  },
  {
   "cell_type": "code",
   "execution_count": 14,
   "metadata": {},
   "outputs": [
    {
     "name": "stdout",
     "output_type": "stream",
     "text": [
      "Confusion matrix : \n",
      "col_0       high_rain  low_rain  no_rain\n",
      "rain_class                              \n",
      "high_rain          20        12        1\n",
      "low_rain           11        37       10\n",
      "no_rain            11        23       13\n",
      "              precision    recall  f1-score   support\n",
      "\n",
      "   high_rain       0.48      0.61      0.53        33\n",
      "    low_rain       0.51      0.64      0.57        58\n",
      "     no_rain       0.54      0.28      0.37        47\n",
      "\n",
      "    accuracy                           0.51       138\n",
      "   macro avg       0.51      0.51      0.49       138\n",
      "weighted avg       0.51      0.51      0.49       138\n",
      "\n"
     ]
    }
   ],
   "source": [
    "# Prediction of the test sample\n",
    "y_hat_class = knnOpt.predict(X_test)\n",
    "classification_metric(Y_test_class, y_hat_class)\n",
    "# print(\"Accuracy score =\", accuracy_score(y_true = Y_test_class, y_pred = y_hat_class))\n",
    "\n",
    "# # confusion matrix\n",
    "# table = pd.crosstab(y_hat_class, Y_test_class)\n",
    "# print(\"Confusion matrix\")\n",
    "# print(table)"
   ]
  },
  {
   "cell_type": "markdown",
   "metadata": {},
   "source": [
    "## 2.2. Decision tree"
   ]
  },
  {
   "cell_type": "code",
   "execution_count": 15,
   "metadata": {},
   "outputs": [
    {
     "name": "stdout",
     "output_type": "stream",
     "text": [
      "Best Mean cross-validated accuracy = 0.512727, Best parameter = {'max_depth': 4, 'min_samples_leaf': 2, 'min_samples_split': 2}\n"
     ]
    }
   ],
   "source": [
    "from sklearn.tree import DecisionTreeClassifier\n",
    "# Optimisation of shaft depth\n",
    "param_grid = [{\"max_depth\": range(2,10), \"min_samples_split\" : range(2,10), \"min_samples_leaf\": range(1,5) }]\n",
    "tree = GridSearchCV(DecisionTreeClassifier(max_features = 'auto', min_impurity_decrease = 1e-3, random_state = 42), scoring = \"accuracy\", param_grid = param_grid, cv=10, n_jobs=-1, refit = True)\n",
    "treeOpt = tree.fit(X_train, Y_train_class)\n",
    "# Optimal parameter\n",
    "print(\"Best Mean cross-validated accuracy = %f, Best parameter = %s\" % (treeOpt.best_score_, treeOpt.best_params_))"
   ]
  },
  {
   "cell_type": "code",
   "execution_count": 16,
   "metadata": {},
   "outputs": [
    {
     "data": {
      "text/plain": [
       "0.4855072463768116"
      ]
     },
     "execution_count": 16,
     "metadata": {},
     "output_type": "execute_result"
    }
   ],
   "source": [
    "# Estimation of the prediction error on the test sample\n",
    "treeOpt.score(X_test, Y_test_class)"
   ]
  },
  {
   "cell_type": "code",
   "execution_count": 17,
   "metadata": {},
   "outputs": [
    {
     "name": "stdout",
     "output_type": "stream",
     "text": [
      "Confusion matrix : \n",
      "col_0       high_rain  low_rain  no_rain\n",
      "rain_class                              \n",
      "high_rain          14        17        2\n",
      "low_rain            6        39       13\n",
      "no_rain             4        29       14\n",
      "              precision    recall  f1-score   support\n",
      "\n",
      "   high_rain       0.58      0.42      0.49        33\n",
      "    low_rain       0.46      0.67      0.55        58\n",
      "     no_rain       0.48      0.30      0.37        47\n",
      "\n",
      "    accuracy                           0.49       138\n",
      "   macro avg       0.51      0.46      0.47       138\n",
      "weighted avg       0.50      0.49      0.47       138\n",
      "\n"
     ]
    }
   ],
   "source": [
    "# Prediction of the test sample\n",
    "y_hat_class = treeOpt.predict(X_test)\n",
    "classification_metric(Y_test_class, y_hat_class)"
   ]
  },
  {
   "cell_type": "markdown",
   "metadata": {},
   "source": [
    "    The `low_rain` class seems to be difficult to predict!"
   ]
  },
  {
   "cell_type": "markdown",
   "metadata": {},
   "source": [
    "## 2.3. Random Forest"
   ]
  },
  {
   "cell_type": "code",
   "execution_count": 18,
   "metadata": {},
   "outputs": [
    {
     "name": "stdout",
     "output_type": "stream",
     "text": [
      "0.4545454545454546\n",
      "0.5144927536231885\n"
     ]
    }
   ],
   "source": [
    "from sklearn.ensemble import RandomForestClassifier \n",
    "# Parameters' definitions\n",
    "forest = RandomForestClassifier(n_estimators = 500, \n",
    "   criterion='gini', max_depth=None,\n",
    "   min_samples_split=2, min_samples_leaf=1, \n",
    "   max_features='auto', max_leaf_nodes=None,\n",
    "   bootstrap=True, oob_score=True)\n",
    "# Training\n",
    "rfFit = forest.fit(X_train,Y_train_class)\n",
    "# Out-of-bag error on the train sample\n",
    "print(1 - rfFit.oob_score_)\n",
    "# Out-of-bag error on the test sample\n",
    "print(1 - rfFit.score(X_test,Y_test_class))"
   ]
  },
  {
   "cell_type": "markdown",
   "metadata": {},
   "source": [
    "Hyper parameters tunning by cross validation"
   ]
  },
  {
   "cell_type": "code",
   "execution_count": 19,
   "metadata": {},
   "outputs": [
    {
     "name": "stdout",
     "output_type": "stream",
     "text": [
      "Best Mean cross-validated accuracy = 0.545455, Best parameter = {'max_depth': 12, 'max_features': 4, 'n_estimators': 300}\n"
     ]
    }
   ],
   "source": [
    "param = [{\"n_estimators\" : range(200, 500, 100) , \"max_features\": range(2,5), \"max_depth\" : range(10, 20, 2) }]\n",
    "rf = GridSearchCV(RandomForestClassifier(random_state=42, criterion=\"entropy\"),\n",
    "        param, cv = 5, n_jobs=-1)\n",
    "rfOpt = rf.fit(X_train, Y_train_class)\n",
    "print(\"Best Mean cross-validated accuracy = %f, Best parameter = %s\" % (rfOpt.best_score_, rfOpt.best_params_))"
   ]
  },
  {
   "cell_type": "code",
   "execution_count": 20,
   "metadata": {},
   "outputs": [
    {
     "name": "stdout",
     "output_type": "stream",
     "text": [
      "Confusion matrix : \n",
      "col_0       high_rain  low_rain  no_rain\n",
      "rain_class                              \n",
      "high_rain          14        17        2\n",
      "low_rain            6        39       13\n",
      "no_rain             4        29       14\n",
      "              precision    recall  f1-score   support\n",
      "\n",
      "   high_rain       0.58      0.42      0.49        33\n",
      "    low_rain       0.46      0.67      0.55        58\n",
      "     no_rain       0.48      0.30      0.37        47\n",
      "\n",
      "    accuracy                           0.49       138\n",
      "   macro avg       0.51      0.46      0.47       138\n",
      "weighted avg       0.50      0.49      0.47       138\n",
      "\n"
     ]
    }
   ],
   "source": [
    "# Prediction of the test sample\n",
    "y_pred_test = treeOpt.predict(X_test)\n",
    "classification_metric(Y_test_class, y_pred_test)"
   ]
  },
  {
   "cell_type": "markdown",
   "metadata": {},
   "source": [
    "### Gradient Boosting applying to Random Forest"
   ]
  },
  {
   "cell_type": "code",
   "execution_count": 21,
   "metadata": {},
   "outputs": [],
   "source": [
    "from sklearn.model_selection import KFold\n",
    "from sklearn.model_selection import RepeatedStratifiedKFold\n",
    "from sklearn.model_selection import cross_val_score"
   ]
  },
  {
   "cell_type": "code",
   "execution_count": 22,
   "metadata": {},
   "outputs": [
    {
     "ename": "ModuleNotFoundError",
     "evalue": "No module named 'xgboost'",
     "output_type": "error",
     "traceback": [
      "\u001b[1;31m---------------------------------------------------------------------------\u001b[0m",
      "\u001b[1;31mModuleNotFoundError\u001b[0m                       Traceback (most recent call last)",
      "\u001b[1;32m~\\AppData\\Local\\Temp/ipykernel_3788/205703984.py\u001b[0m in \u001b[0;36m<module>\u001b[1;34m\u001b[0m\n\u001b[1;32m----> 1\u001b[1;33m \u001b[1;32mfrom\u001b[0m \u001b[0mxgboost\u001b[0m \u001b[1;32mimport\u001b[0m \u001b[0mXGBRFClassifier\u001b[0m\u001b[1;33m\u001b[0m\u001b[1;33m\u001b[0m\u001b[0m\n\u001b[0m",
      "\u001b[1;31mModuleNotFoundError\u001b[0m: No module named 'xgboost'"
     ]
    }
   ],
   "source": [
    "from xgboost import XGBRFClassifier"
   ]
  },
  {
   "cell_type": "code",
   "execution_count": null,
   "metadata": {},
   "outputs": [],
   "source": [
    "# define the model\n",
    "model = XGBRFClassifier(n_estimators = 500, subsample = 0.99, random_state = 42, metric = \"accuracy\", n_jobs = -1)"
   ]
  },
  {
   "cell_type": "code",
   "execution_count": null,
   "metadata": {},
   "outputs": [
    {
     "name": "stderr",
     "output_type": "stream",
     "text": [
      "/usr/local/insa/anaconda/lib/python3.8/site-packages/xgboost/sklearn.py:1146: UserWarning: The use of label encoder in XGBClassifier is deprecated and will be removed in a future release. To remove this warning, do the following: 1) Pass option use_label_encoder=False when constructing XGBClassifier object; and 2) Encode your labels (y) as integers starting with 0, i.e. 0, 1, 2, ..., [num_class - 1].\n",
      "  warnings.warn(label_encoder_deprecation_msg, UserWarning)\n",
      "/usr/local/insa/anaconda/lib/python3.8/site-packages/xgboost/sklearn.py:1146: UserWarning: The use of label encoder in XGBClassifier is deprecated and will be removed in a future release. To remove this warning, do the following: 1) Pass option use_label_encoder=False when constructing XGBClassifier object; and 2) Encode your labels (y) as integers starting with 0, i.e. 0, 1, 2, ..., [num_class - 1].\n",
      "  warnings.warn(label_encoder_deprecation_msg, UserWarning)\n",
      "/usr/local/insa/anaconda/lib/python3.8/site-packages/xgboost/sklearn.py:1146: UserWarning: The use of label encoder in XGBClassifier is deprecated and will be removed in a future release. To remove this warning, do the following: 1) Pass option use_label_encoder=False when constructing XGBClassifier object; and 2) Encode your labels (y) as integers starting with 0, i.e. 0, 1, 2, ..., [num_class - 1].\n",
      "  warnings.warn(label_encoder_deprecation_msg, UserWarning)\n",
      "/usr/local/insa/anaconda/lib/python3.8/site-packages/xgboost/sklearn.py:1146: UserWarning: The use of label encoder in XGBClassifier is deprecated and will be removed in a future release. To remove this warning, do the following: 1) Pass option use_label_encoder=False when constructing XGBClassifier object; and 2) Encode your labels (y) as integers starting with 0, i.e. 0, 1, 2, ..., [num_class - 1].\n",
      "  warnings.warn(label_encoder_deprecation_msg, UserWarning)\n"
     ]
    },
    {
     "name": "stdout",
     "output_type": "stream",
     "text": [
      "[14:49:06] WARNING: ../src/learner.cc:573: \n",
      "Parameters: { \"metric\" } might not be used.\n",
      "\n",
      "  This may not be accurate due to some parameters are only used in language bindings but\n",
      "  passed down to XGBoost core.  Or some parameters are not used but slip through this\n",
      "  verification. Please open an issue if you find above cases.\n",
      "\n",
      "\n",
      "[14:49:06] WARNING: ../src/learner.cc:573: \n",
      "Parameters: { \"metric\" } might not be used.\n",
      "\n",
      "  This may not be accurate due to some parameters are only used in language bindings but\n",
      "  passed down to XGBoost core.  Or some parameters are not used but slip through this\n",
      "  verification. Please open an issue if you find above cases.\n",
      "\n",
      "[14:49:06] WARNING: ../src/learner.cc:573: \n",
      "Parameters: { \"metric\" } might not be used.\n",
      "\n",
      "  This may not be accurate due to some parameters are only used in language bindings but\n",
      "  passed down to XGBoost core.  Or some parameters are not used but slip through this\n",
      "  verification. Please open an issue if you find above cases.\n",
      "\n",
      "\n",
      "[14:49:06] WARNING: ../src/learner.cc:573: \n",
      "Parameters: { \"metric\" } might not be used.\n",
      "\n",
      "  This may not be accurate due to some parameters are only used in language bindings but\n",
      "  passed down to XGBoost core.  Or some parameters are not used but slip through this\n",
      "  verification. Please open an issue if you find above cases.\n",
      "\n",
      "\n",
      "\n",
      "[14:49:20] WARNING: ../src/learner.cc:1095: Starting in XGBoost 1.3.0, the default evaluation metric used with the objective 'multi:softprob' was changed from 'merror' to 'mlogloss'. Explicitly set eval_metric if you'd like to restore the old behavior.\n",
      "[14:49:21] WARNING: ../src/learner.cc:1095: Starting in XGBoost 1.3.0, the default evaluation metric used with the objective 'multi:softprob' was changed from 'merror' to 'mlogloss'. Explicitly set eval_metric if you'd like to restore the old behavior.\n",
      "[14:49:21] WARNING: ../src/learner.cc:1095: Starting in XGBoost 1.3.0, the default evaluation metric used with the objective 'multi:softprob' was changed from 'merror' to 'mlogloss'. Explicitly set eval_metric if you'd like to restore the old behavior.\n"
     ]
    },
    {
     "name": "stderr",
     "output_type": "stream",
     "text": [
      "/usr/local/insa/anaconda/lib/python3.8/site-packages/xgboost/data.py:112: UserWarning: Use subset (sliced data) of np.ndarray is not recommended because it will generate extra copies and increase memory consumption\n",
      "  warnings.warn(\n",
      "/usr/local/insa/anaconda/lib/python3.8/site-packages/xgboost/sklearn.py:1146: UserWarning: The use of label encoder in XGBClassifier is deprecated and will be removed in a future release. To remove this warning, do the following: 1) Pass option use_label_encoder=False when constructing XGBClassifier object; and 2) Encode your labels (y) as integers starting with 0, i.e. 0, 1, 2, ..., [num_class - 1].\n",
      "  warnings.warn(label_encoder_deprecation_msg, UserWarning)\n"
     ]
    },
    {
     "name": "stdout",
     "output_type": "stream",
     "text": [
      "[14:49:22] WARNING: ../src/learner.cc:573: \n",
      "Parameters: { \"metric\" } might not be used.\n",
      "\n",
      "  This may not be accurate due to some parameters are only used in language bindings but\n",
      "  passed down to XGBoost core.  Or some parameters are not used but slip through this\n",
      "  verification. Please open an issue if you find above cases.\n",
      "\n",
      "\n"
     ]
    },
    {
     "name": "stderr",
     "output_type": "stream",
     "text": [
      "/usr/local/insa/anaconda/lib/python3.8/site-packages/xgboost/data.py:112: UserWarning: Use subset (sliced data) of np.ndarray is not recommended because it will generate extra copies and increase memory consumption\n",
      "  warnings.warn(\n",
      "/usr/local/insa/anaconda/lib/python3.8/site-packages/xgboost/sklearn.py:1146: UserWarning: The use of label encoder in XGBClassifier is deprecated and will be removed in a future release. To remove this warning, do the following: 1) Pass option use_label_encoder=False when constructing XGBClassifier object; and 2) Encode your labels (y) as integers starting with 0, i.e. 0, 1, 2, ..., [num_class - 1].\n",
      "  warnings.warn(label_encoder_deprecation_msg, UserWarning)\n",
      "/usr/local/insa/anaconda/lib/python3.8/site-packages/xgboost/data.py:112: UserWarning: Use subset (sliced data) of np.ndarray is not recommended because it will generate extra copies and increase memory consumption\n",
      "  warnings.warn(\n",
      "/usr/local/insa/anaconda/lib/python3.8/site-packages/xgboost/sklearn.py:1146: UserWarning: The use of label encoder in XGBClassifier is deprecated and will be removed in a future release. To remove this warning, do the following: 1) Pass option use_label_encoder=False when constructing XGBClassifier object; and 2) Encode your labels (y) as integers starting with 0, i.e. 0, 1, 2, ..., [num_class - 1].\n",
      "  warnings.warn(label_encoder_deprecation_msg, UserWarning)\n"
     ]
    },
    {
     "name": "stdout",
     "output_type": "stream",
     "text": [
      "[14:49:22] WARNING: ../src/learner.cc:573: \n",
      "Parameters: { \"metric\" } might not be used.\n",
      "\n",
      "  This may not be accurate due to some parameters are only used in language bindings but\n",
      "  passed down to XGBoost core.  Or some parameters are not used but slip through this\n",
      "  verification. Please open an issue if you find above cases.\n",
      "\n",
      "\n",
      "[14:49:22] WARNING: ../src/learner.cc:1095: Starting in XGBoost 1.3.0, the default evaluation metric used with the objective 'multi:softprob' was changed from 'merror' to 'mlogloss'. Explicitly set eval_metric if you'd like to restore the old behavior.\n",
      "[14:49:22] WARNING: ../src/learner.cc:573: \n",
      "Parameters: { \"metric\" } might not be used.\n",
      "\n",
      "  This may not be accurate due to some parameters are only used in language bindings but\n",
      "  passed down to XGBoost core.  Or some parameters are not used but slip through this\n",
      "  verification. Please open an issue if you find above cases.\n",
      "\n",
      "\n"
     ]
    },
    {
     "name": "stderr",
     "output_type": "stream",
     "text": [
      "/usr/local/insa/anaconda/lib/python3.8/site-packages/xgboost/data.py:112: UserWarning: Use subset (sliced data) of np.ndarray is not recommended because it will generate extra copies and increase memory consumption\n",
      "  warnings.warn(\n",
      "/usr/local/insa/anaconda/lib/python3.8/site-packages/xgboost/sklearn.py:1146: UserWarning: The use of label encoder in XGBClassifier is deprecated and will be removed in a future release. To remove this warning, do the following: 1) Pass option use_label_encoder=False when constructing XGBClassifier object; and 2) Encode your labels (y) as integers starting with 0, i.e. 0, 1, 2, ..., [num_class - 1].\n",
      "  warnings.warn(label_encoder_deprecation_msg, UserWarning)\n"
     ]
    },
    {
     "name": "stdout",
     "output_type": "stream",
     "text": [
      "[14:49:24] WARNING: ../src/learner.cc:573: \n",
      "Parameters: { \"metric\" } might not be used.\n",
      "\n",
      "  This may not be accurate due to some parameters are only used in language bindings but\n",
      "  passed down to XGBoost core.  Or some parameters are not used but slip through this\n",
      "  verification. Please open an issue if you find above cases.\n",
      "\n",
      "\n",
      "[14:49:35] WARNING: ../src/learner.cc:1095: Starting in XGBoost 1.3.0, the default evaluation metric used with the objective 'multi:softprob' was changed from 'merror' to 'mlogloss'. Explicitly set eval_metric if you'd like to restore the old behavior.\n"
     ]
    },
    {
     "name": "stderr",
     "output_type": "stream",
     "text": [
      "/usr/local/insa/anaconda/lib/python3.8/site-packages/xgboost/data.py:112: UserWarning: Use subset (sliced data) of np.ndarray is not recommended because it will generate extra copies and increase memory consumption\n",
      "  warnings.warn(\n",
      "/usr/local/insa/anaconda/lib/python3.8/site-packages/xgboost/sklearn.py:1146: UserWarning: The use of label encoder in XGBClassifier is deprecated and will be removed in a future release. To remove this warning, do the following: 1) Pass option use_label_encoder=False when constructing XGBClassifier object; and 2) Encode your labels (y) as integers starting with 0, i.e. 0, 1, 2, ..., [num_class - 1].\n",
      "  warnings.warn(label_encoder_deprecation_msg, UserWarning)\n"
     ]
    },
    {
     "name": "stdout",
     "output_type": "stream",
     "text": [
      "[14:49:36] WARNING: ../src/learner.cc:573: \n",
      "Parameters: { \"metric\" } might not be used.\n",
      "\n",
      "  This may not be accurate due to some parameters are only used in language bindings but\n",
      "  passed down to XGBoost core.  Or some parameters are not used but slip through this\n",
      "  verification. Please open an issue if you find above cases.\n",
      "\n",
      "\n",
      "[14:49:37] WARNING: ../src/learner.cc:1095: Starting in XGBoost 1.3.0, the default evaluation metric used with the objective 'multi:softprob' was changed from 'merror' to 'mlogloss'. Explicitly set eval_metric if you'd like to restore the old behavior.\n",
      "[14:49:37] WARNING: ../src/learner.cc:1095: Starting in XGBoost 1.3.0, the default evaluation metric used with the objective 'multi:softprob' was changed from 'merror' to 'mlogloss'. Explicitly set eval_metric if you'd like to restore the old behavior.\n"
     ]
    },
    {
     "name": "stderr",
     "output_type": "stream",
     "text": [
      "/usr/local/insa/anaconda/lib/python3.8/site-packages/xgboost/data.py:112: UserWarning: Use subset (sliced data) of np.ndarray is not recommended because it will generate extra copies and increase memory consumption\n",
      "  warnings.warn(\n",
      "/usr/local/insa/anaconda/lib/python3.8/site-packages/xgboost/sklearn.py:1146: UserWarning: The use of label encoder in XGBClassifier is deprecated and will be removed in a future release. To remove this warning, do the following: 1) Pass option use_label_encoder=False when constructing XGBClassifier object; and 2) Encode your labels (y) as integers starting with 0, i.e. 0, 1, 2, ..., [num_class - 1].\n",
      "  warnings.warn(label_encoder_deprecation_msg, UserWarning)\n"
     ]
    },
    {
     "name": "stdout",
     "output_type": "stream",
     "text": [
      "[14:49:38] WARNING: ../src/learner.cc:573: \n",
      "Parameters: { \"metric\" } might not be used.\n",
      "\n",
      "  This may not be accurate due to some parameters are only used in language bindings but\n",
      "  passed down to XGBoost core.  Or some parameters are not used but slip through this\n",
      "  verification. Please open an issue if you find above cases.\n",
      "\n",
      "\n"
     ]
    },
    {
     "name": "stderr",
     "output_type": "stream",
     "text": [
      "/usr/local/insa/anaconda/lib/python3.8/site-packages/xgboost/data.py:112: UserWarning: Use subset (sliced data) of np.ndarray is not recommended because it will generate extra copies and increase memory consumption\n",
      "  warnings.warn(\n",
      "/usr/local/insa/anaconda/lib/python3.8/site-packages/xgboost/sklearn.py:1146: UserWarning: The use of label encoder in XGBClassifier is deprecated and will be removed in a future release. To remove this warning, do the following: 1) Pass option use_label_encoder=False when constructing XGBClassifier object; and 2) Encode your labels (y) as integers starting with 0, i.e. 0, 1, 2, ..., [num_class - 1].\n",
      "  warnings.warn(label_encoder_deprecation_msg, UserWarning)\n"
     ]
    },
    {
     "name": "stdout",
     "output_type": "stream",
     "text": [
      "[14:49:38] WARNING: ../src/learner.cc:573: \n",
      "Parameters: { \"metric\" } might not be used.\n",
      "\n",
      "  This may not be accurate due to some parameters are only used in language bindings but\n",
      "  passed down to XGBoost core.  Or some parameters are not used but slip through this\n",
      "  verification. Please open an issue if you find above cases.\n",
      "\n",
      "\n",
      "[14:49:40] WARNING: ../src/learner.cc:1095: Starting in XGBoost 1.3.0, the default evaluation metric used with the objective 'multi:softprob' was changed from 'merror' to 'mlogloss'. Explicitly set eval_metric if you'd like to restore the old behavior.\n"
     ]
    },
    {
     "name": "stderr",
     "output_type": "stream",
     "text": [
      "/usr/local/insa/anaconda/lib/python3.8/site-packages/xgboost/data.py:112: UserWarning: Use subset (sliced data) of np.ndarray is not recommended because it will generate extra copies and increase memory consumption\n",
      "  warnings.warn(\n",
      "/usr/local/insa/anaconda/lib/python3.8/site-packages/xgboost/sklearn.py:1146: UserWarning: The use of label encoder in XGBClassifier is deprecated and will be removed in a future release. To remove this warning, do the following: 1) Pass option use_label_encoder=False when constructing XGBClassifier object; and 2) Encode your labels (y) as integers starting with 0, i.e. 0, 1, 2, ..., [num_class - 1].\n",
      "  warnings.warn(label_encoder_deprecation_msg, UserWarning)\n"
     ]
    },
    {
     "name": "stdout",
     "output_type": "stream",
     "text": [
      "[14:49:41] WARNING: ../src/learner.cc:573: \n",
      "Parameters: { \"metric\" } might not be used.\n",
      "\n",
      "  This may not be accurate due to some parameters are only used in language bindings but\n",
      "  passed down to XGBoost core.  Or some parameters are not used but slip through this\n",
      "  verification. Please open an issue if you find above cases.\n",
      "\n",
      "\n",
      "[14:49:51] WARNING: ../src/learner.cc:1095: Starting in XGBoost 1.3.0, the default evaluation metric used with the objective 'multi:softprob' was changed from 'merror' to 'mlogloss'. Explicitly set eval_metric if you'd like to restore the old behavior.\n"
     ]
    },
    {
     "name": "stderr",
     "output_type": "stream",
     "text": [
      "/usr/local/insa/anaconda/lib/python3.8/site-packages/xgboost/data.py:112: UserWarning: Use subset (sliced data) of np.ndarray is not recommended because it will generate extra copies and increase memory consumption\n",
      "  warnings.warn(\n",
      "/usr/local/insa/anaconda/lib/python3.8/site-packages/xgboost/sklearn.py:1146: UserWarning: The use of label encoder in XGBClassifier is deprecated and will be removed in a future release. To remove this warning, do the following: 1) Pass option use_label_encoder=False when constructing XGBClassifier object; and 2) Encode your labels (y) as integers starting with 0, i.e. 0, 1, 2, ..., [num_class - 1].\n",
      "  warnings.warn(label_encoder_deprecation_msg, UserWarning)\n"
     ]
    },
    {
     "name": "stdout",
     "output_type": "stream",
     "text": [
      "[14:49:52] WARNING: ../src/learner.cc:573: \n",
      "Parameters: { \"metric\" } might not be used.\n",
      "\n",
      "  This may not be accurate due to some parameters are only used in language bindings but\n",
      "  passed down to XGBoost core.  Or some parameters are not used but slip through this\n",
      "  verification. Please open an issue if you find above cases.\n",
      "\n",
      "\n",
      "[14:49:54] WARNING: ../src/learner.cc:1095: Starting in XGBoost 1.3.0, the default evaluation metric used with the objective 'multi:softprob' was changed from 'merror' to 'mlogloss'. Explicitly set eval_metric if you'd like to restore the old behavior.\n",
      "[14:49:55] WARNING: ../src/learner.cc:1095: Starting in XGBoost 1.3.0, the default evaluation metric used with the objective 'multi:softprob' was changed from 'merror' to 'mlogloss'. Explicitly set eval_metric if you'd like to restore the old behavior.\n"
     ]
    },
    {
     "name": "stderr",
     "output_type": "stream",
     "text": [
      "/usr/local/insa/anaconda/lib/python3.8/site-packages/xgboost/data.py:112: UserWarning: Use subset (sliced data) of np.ndarray is not recommended because it will generate extra copies and increase memory consumption\n",
      "  warnings.warn(\n",
      "/usr/local/insa/anaconda/lib/python3.8/site-packages/xgboost/sklearn.py:1146: UserWarning: The use of label encoder in XGBClassifier is deprecated and will be removed in a future release. To remove this warning, do the following: 1) Pass option use_label_encoder=False when constructing XGBClassifier object; and 2) Encode your labels (y) as integers starting with 0, i.e. 0, 1, 2, ..., [num_class - 1].\n",
      "  warnings.warn(label_encoder_deprecation_msg, UserWarning)\n"
     ]
    },
    {
     "name": "stdout",
     "output_type": "stream",
     "text": [
      "[14:49:55] WARNING: ../src/learner.cc:573: \n",
      "Parameters: { \"metric\" } might not be used.\n",
      "\n",
      "  This may not be accurate due to some parameters are only used in language bindings but\n",
      "  passed down to XGBoost core.  Or some parameters are not used but slip through this\n",
      "  verification. Please open an issue if you find above cases.\n",
      "\n",
      "\n",
      "[14:49:55] WARNING: ../src/learner.cc:1095: Starting in XGBoost 1.3.0, the default evaluation metric used with the objective 'multi:softprob' was changed from 'merror' to 'mlogloss'. Explicitly set eval_metric if you'd like to restore the old behavior.\n"
     ]
    },
    {
     "name": "stderr",
     "output_type": "stream",
     "text": [
      "/usr/local/insa/anaconda/lib/python3.8/site-packages/xgboost/data.py:112: UserWarning: Use subset (sliced data) of np.ndarray is not recommended because it will generate extra copies and increase memory consumption\n",
      "  warnings.warn(\n",
      "/usr/local/insa/anaconda/lib/python3.8/site-packages/xgboost/sklearn.py:1146: UserWarning: The use of label encoder in XGBClassifier is deprecated and will be removed in a future release. To remove this warning, do the following: 1) Pass option use_label_encoder=False when constructing XGBClassifier object; and 2) Encode your labels (y) as integers starting with 0, i.e. 0, 1, 2, ..., [num_class - 1].\n",
      "  warnings.warn(label_encoder_deprecation_msg, UserWarning)\n"
     ]
    },
    {
     "name": "stdout",
     "output_type": "stream",
     "text": [
      "[14:49:56] WARNING: ../src/learner.cc:573: \n",
      "Parameters: { \"metric\" } might not be used.\n",
      "\n",
      "  This may not be accurate due to some parameters are only used in language bindings but\n",
      "  passed down to XGBoost core.  Or some parameters are not used but slip through this\n",
      "  verification. Please open an issue if you find above cases.\n",
      "\n",
      "\n"
     ]
    },
    {
     "name": "stderr",
     "output_type": "stream",
     "text": [
      "/usr/local/insa/anaconda/lib/python3.8/site-packages/xgboost/data.py:112: UserWarning: Use subset (sliced data) of np.ndarray is not recommended because it will generate extra copies and increase memory consumption\n",
      "  warnings.warn(\n",
      "/usr/local/insa/anaconda/lib/python3.8/site-packages/xgboost/sklearn.py:1146: UserWarning: The use of label encoder in XGBClassifier is deprecated and will be removed in a future release. To remove this warning, do the following: 1) Pass option use_label_encoder=False when constructing XGBClassifier object; and 2) Encode your labels (y) as integers starting with 0, i.e. 0, 1, 2, ..., [num_class - 1].\n",
      "  warnings.warn(label_encoder_deprecation_msg, UserWarning)\n"
     ]
    },
    {
     "name": "stdout",
     "output_type": "stream",
     "text": [
      "[14:49:57] WARNING: ../src/learner.cc:573: \n",
      "Parameters: { \"metric\" } might not be used.\n",
      "\n",
      "  This may not be accurate due to some parameters are only used in language bindings but\n",
      "  passed down to XGBoost core.  Or some parameters are not used but slip through this\n",
      "  verification. Please open an issue if you find above cases.\n",
      "\n",
      "\n",
      "[14:50:09] WARNING: ../src/learner.cc:1095: Starting in XGBoost 1.3.0, the default evaluation metric used with the objective 'multi:softprob' was changed from 'merror' to 'mlogloss'. Explicitly set eval_metric if you'd like to restore the old behavior.\n",
      "[14:50:10] WARNING: ../src/learner.cc:1095: Starting in XGBoost 1.3.0, the default evaluation metric used with the objective 'multi:softprob' was changed from 'merror' to 'mlogloss'. Explicitly set eval_metric if you'd like to restore the old behavior.\n",
      "[14:50:10] WARNING: ../src/learner.cc:1095: Starting in XGBoost 1.3.0, the default evaluation metric used with the objective 'multi:softprob' was changed from 'merror' to 'mlogloss'. Explicitly set eval_metric if you'd like to restore the old behavior.\n"
     ]
    },
    {
     "name": "stderr",
     "output_type": "stream",
     "text": [
      "/usr/local/insa/anaconda/lib/python3.8/site-packages/xgboost/data.py:112: UserWarning: Use subset (sliced data) of np.ndarray is not recommended because it will generate extra copies and increase memory consumption\n",
      "  warnings.warn(\n",
      "/usr/local/insa/anaconda/lib/python3.8/site-packages/xgboost/sklearn.py:1146: UserWarning: The use of label encoder in XGBClassifier is deprecated and will be removed in a future release. To remove this warning, do the following: 1) Pass option use_label_encoder=False when constructing XGBClassifier object; and 2) Encode your labels (y) as integers starting with 0, i.e. 0, 1, 2, ..., [num_class - 1].\n",
      "  warnings.warn(label_encoder_deprecation_msg, UserWarning)\n"
     ]
    },
    {
     "name": "stdout",
     "output_type": "stream",
     "text": [
      "[14:50:11] WARNING: ../src/learner.cc:573: \n",
      "Parameters: { \"metric\" } might not be used.\n",
      "\n",
      "  This may not be accurate due to some parameters are only used in language bindings but\n",
      "  passed down to XGBoost core.  Or some parameters are not used but slip through this\n",
      "  verification. Please open an issue if you find above cases.\n",
      "\n",
      "\n"
     ]
    },
    {
     "name": "stderr",
     "output_type": "stream",
     "text": [
      "/usr/local/insa/anaconda/lib/python3.8/site-packages/xgboost/data.py:112: UserWarning: Use subset (sliced data) of np.ndarray is not recommended because it will generate extra copies and increase memory consumption\n",
      "  warnings.warn(\n",
      "/usr/local/insa/anaconda/lib/python3.8/site-packages/xgboost/sklearn.py:1146: UserWarning: The use of label encoder in XGBClassifier is deprecated and will be removed in a future release. To remove this warning, do the following: 1) Pass option use_label_encoder=False when constructing XGBClassifier object; and 2) Encode your labels (y) as integers starting with 0, i.e. 0, 1, 2, ..., [num_class - 1].\n",
      "  warnings.warn(label_encoder_deprecation_msg, UserWarning)\n"
     ]
    },
    {
     "name": "stdout",
     "output_type": "stream",
     "text": [
      "[14:50:11] WARNING: ../src/learner.cc:573: \n",
      "Parameters: { \"metric\" } might not be used.\n",
      "\n",
      "  This may not be accurate due to some parameters are only used in language bindings but\n",
      "  passed down to XGBoost core.  Or some parameters are not used but slip through this\n",
      "  verification. Please open an issue if you find above cases.\n",
      "\n",
      "\n"
     ]
    },
    {
     "name": "stderr",
     "output_type": "stream",
     "text": [
      "/usr/local/insa/anaconda/lib/python3.8/site-packages/xgboost/data.py:112: UserWarning: Use subset (sliced data) of np.ndarray is not recommended because it will generate extra copies and increase memory consumption\n",
      "  warnings.warn(\n",
      "/usr/local/insa/anaconda/lib/python3.8/site-packages/xgboost/sklearn.py:1146: UserWarning: The use of label encoder in XGBClassifier is deprecated and will be removed in a future release. To remove this warning, do the following: 1) Pass option use_label_encoder=False when constructing XGBClassifier object; and 2) Encode your labels (y) as integers starting with 0, i.e. 0, 1, 2, ..., [num_class - 1].\n",
      "  warnings.warn(label_encoder_deprecation_msg, UserWarning)\n"
     ]
    },
    {
     "name": "stdout",
     "output_type": "stream",
     "text": [
      "[14:50:12] WARNING: ../src/learner.cc:573: \n",
      "Parameters: { \"metric\" } might not be used.\n",
      "\n",
      "  This may not be accurate due to some parameters are only used in language bindings but\n",
      "  passed down to XGBoost core.  Or some parameters are not used but slip through this\n",
      "  verification. Please open an issue if you find above cases.\n",
      "\n",
      "\n",
      "[14:50:13] WARNING: ../src/learner.cc:1095: Starting in XGBoost 1.3.0, the default evaluation metric used with the objective 'multi:softprob' was changed from 'merror' to 'mlogloss'. Explicitly set eval_metric if you'd like to restore the old behavior.\n"
     ]
    },
    {
     "name": "stderr",
     "output_type": "stream",
     "text": [
      "/usr/local/insa/anaconda/lib/python3.8/site-packages/xgboost/data.py:112: UserWarning: Use subset (sliced data) of np.ndarray is not recommended because it will generate extra copies and increase memory consumption\n",
      "  warnings.warn(\n",
      "/usr/local/insa/anaconda/lib/python3.8/site-packages/xgboost/sklearn.py:1146: UserWarning: The use of label encoder in XGBClassifier is deprecated and will be removed in a future release. To remove this warning, do the following: 1) Pass option use_label_encoder=False when constructing XGBClassifier object; and 2) Encode your labels (y) as integers starting with 0, i.e. 0, 1, 2, ..., [num_class - 1].\n",
      "  warnings.warn(label_encoder_deprecation_msg, UserWarning)\n"
     ]
    },
    {
     "name": "stdout",
     "output_type": "stream",
     "text": [
      "[14:50:15] WARNING: ../src/learner.cc:573: \n",
      "Parameters: { \"metric\" } might not be used.\n",
      "\n",
      "  This may not be accurate due to some parameters are only used in language bindings but\n",
      "  passed down to XGBoost core.  Or some parameters are not used but slip through this\n",
      "  verification. Please open an issue if you find above cases.\n",
      "\n",
      "\n",
      "[14:50:27] WARNING: ../src/learner.cc:1095: Starting in XGBoost 1.3.0, the default evaluation metric used with the objective 'multi:softprob' was changed from 'merror' to 'mlogloss'. Explicitly set eval_metric if you'd like to restore the old behavior.\n",
      "[14:50:27] WARNING: ../src/learner.cc:1095: Starting in XGBoost 1.3.0, the default evaluation metric used with the objective 'multi:softprob' was changed from 'merror' to 'mlogloss'. Explicitly set eval_metric if you'd like to restore the old behavior.\n",
      "[14:50:28] WARNING: ../src/learner.cc:1095: Starting in XGBoost 1.3.0, the default evaluation metric used with the objective 'multi:softprob' was changed from 'merror' to 'mlogloss'. Explicitly set eval_metric if you'd like to restore the old behavior.\n"
     ]
    },
    {
     "name": "stderr",
     "output_type": "stream",
     "text": [
      "/usr/local/insa/anaconda/lib/python3.8/site-packages/xgboost/data.py:112: UserWarning: Use subset (sliced data) of np.ndarray is not recommended because it will generate extra copies and increase memory consumption\n",
      "  warnings.warn(\n",
      "/usr/local/insa/anaconda/lib/python3.8/site-packages/xgboost/sklearn.py:1146: UserWarning: The use of label encoder in XGBClassifier is deprecated and will be removed in a future release. To remove this warning, do the following: 1) Pass option use_label_encoder=False when constructing XGBClassifier object; and 2) Encode your labels (y) as integers starting with 0, i.e. 0, 1, 2, ..., [num_class - 1].\n",
      "  warnings.warn(label_encoder_deprecation_msg, UserWarning)\n",
      "/usr/local/insa/anaconda/lib/python3.8/site-packages/xgboost/data.py:112: UserWarning: Use subset (sliced data) of np.ndarray is not recommended because it will generate extra copies and increase memory consumption\n",
      "  warnings.warn(\n",
      "/usr/local/insa/anaconda/lib/python3.8/site-packages/xgboost/sklearn.py:1146: UserWarning: The use of label encoder in XGBClassifier is deprecated and will be removed in a future release. To remove this warning, do the following: 1) Pass option use_label_encoder=False when constructing XGBClassifier object; and 2) Encode your labels (y) as integers starting with 0, i.e. 0, 1, 2, ..., [num_class - 1].\n",
      "  warnings.warn(label_encoder_deprecation_msg, UserWarning)\n"
     ]
    },
    {
     "name": "stdout",
     "output_type": "stream",
     "text": [
      "[14:50:28] WARNING: ../src/learner.cc:573: \n",
      "Parameters: { \"metric\" } might not be used.\n",
      "\n",
      "  This may not be accurate due to some parameters are only used in language bindings but\n",
      "  passed down to XGBoost core.  Or some parameters are not used but slip through this\n",
      "  verification. Please open an issue if you find above cases.\n",
      "\n",
      "\n",
      "[14:50:28] WARNING: ../src/learner.cc:573: \n",
      "Parameters: { \"metric\" } might not be used.\n",
      "\n",
      "  This may not be accurate due to some parameters are only used in language bindings but\n",
      "  passed down to XGBoost core.  Or some parameters are not used but slip through this\n",
      "  verification. Please open an issue if you find above cases.\n",
      "\n",
      "\n"
     ]
    },
    {
     "name": "stderr",
     "output_type": "stream",
     "text": [
      "/usr/local/insa/anaconda/lib/python3.8/site-packages/xgboost/data.py:112: UserWarning: Use subset (sliced data) of np.ndarray is not recommended because it will generate extra copies and increase memory consumption\n",
      "  warnings.warn(\n",
      "/usr/local/insa/anaconda/lib/python3.8/site-packages/xgboost/sklearn.py:1146: UserWarning: The use of label encoder in XGBClassifier is deprecated and will be removed in a future release. To remove this warning, do the following: 1) Pass option use_label_encoder=False when constructing XGBClassifier object; and 2) Encode your labels (y) as integers starting with 0, i.e. 0, 1, 2, ..., [num_class - 1].\n",
      "  warnings.warn(label_encoder_deprecation_msg, UserWarning)\n"
     ]
    },
    {
     "name": "stdout",
     "output_type": "stream",
     "text": [
      "[14:50:29] WARNING: ../src/learner.cc:573: \n",
      "Parameters: { \"metric\" } might not be used.\n",
      "\n",
      "  This may not be accurate due to some parameters are only used in language bindings but\n",
      "  passed down to XGBoost core.  Or some parameters are not used but slip through this\n",
      "  verification. Please open an issue if you find above cases.\n",
      "\n",
      "\n",
      "[14:50:32] WARNING: ../src/learner.cc:1095: Starting in XGBoost 1.3.0, the default evaluation metric used with the objective 'multi:softprob' was changed from 'merror' to 'mlogloss'. Explicitly set eval_metric if you'd like to restore the old behavior.\n"
     ]
    },
    {
     "name": "stderr",
     "output_type": "stream",
     "text": [
      "/usr/local/insa/anaconda/lib/python3.8/site-packages/xgboost/data.py:112: UserWarning: Use subset (sliced data) of np.ndarray is not recommended because it will generate extra copies and increase memory consumption\n",
      "  warnings.warn(\n",
      "/usr/local/insa/anaconda/lib/python3.8/site-packages/xgboost/sklearn.py:1146: UserWarning: The use of label encoder in XGBClassifier is deprecated and will be removed in a future release. To remove this warning, do the following: 1) Pass option use_label_encoder=False when constructing XGBClassifier object; and 2) Encode your labels (y) as integers starting with 0, i.e. 0, 1, 2, ..., [num_class - 1].\n",
      "  warnings.warn(label_encoder_deprecation_msg, UserWarning)\n"
     ]
    },
    {
     "name": "stdout",
     "output_type": "stream",
     "text": [
      "[14:50:33] WARNING: ../src/learner.cc:573: \n",
      "Parameters: { \"metric\" } might not be used.\n",
      "\n",
      "  This may not be accurate due to some parameters are only used in language bindings but\n",
      "  passed down to XGBoost core.  Or some parameters are not used but slip through this\n",
      "  verification. Please open an issue if you find above cases.\n",
      "\n",
      "\n",
      "[14:50:45] WARNING: ../src/learner.cc:1095: Starting in XGBoost 1.3.0, the default evaluation metric used with the objective 'multi:softprob' was changed from 'merror' to 'mlogloss'. Explicitly set eval_metric if you'd like to restore the old behavior.\n",
      "[14:50:45] WARNING: ../src/learner.cc:1095: Starting in XGBoost 1.3.0, the default evaluation metric used with the objective 'multi:softprob' was changed from 'merror' to 'mlogloss'. Explicitly set eval_metric if you'd like to restore the old behavior.\n",
      "[14:50:45] WARNING: ../src/learner.cc:1095: Starting in XGBoost 1.3.0, the default evaluation metric used with the objective 'multi:softprob' was changed from 'merror' to 'mlogloss'. Explicitly set eval_metric if you'd like to restore the old behavior.\n"
     ]
    },
    {
     "name": "stderr",
     "output_type": "stream",
     "text": [
      "/usr/local/insa/anaconda/lib/python3.8/site-packages/xgboost/data.py:112: UserWarning: Use subset (sliced data) of np.ndarray is not recommended because it will generate extra copies and increase memory consumption\n",
      "  warnings.warn(\n",
      "/usr/local/insa/anaconda/lib/python3.8/site-packages/xgboost/sklearn.py:1146: UserWarning: The use of label encoder in XGBClassifier is deprecated and will be removed in a future release. To remove this warning, do the following: 1) Pass option use_label_encoder=False when constructing XGBClassifier object; and 2) Encode your labels (y) as integers starting with 0, i.e. 0, 1, 2, ..., [num_class - 1].\n",
      "  warnings.warn(label_encoder_deprecation_msg, UserWarning)\n",
      "/usr/local/insa/anaconda/lib/python3.8/site-packages/xgboost/data.py:112: UserWarning: Use subset (sliced data) of np.ndarray is not recommended because it will generate extra copies and increase memory consumption\n",
      "  warnings.warn(\n",
      "/usr/local/insa/anaconda/lib/python3.8/site-packages/xgboost/sklearn.py:1146: UserWarning: The use of label encoder in XGBClassifier is deprecated and will be removed in a future release. To remove this warning, do the following: 1) Pass option use_label_encoder=False when constructing XGBClassifier object; and 2) Encode your labels (y) as integers starting with 0, i.e. 0, 1, 2, ..., [num_class - 1].\n",
      "  warnings.warn(label_encoder_deprecation_msg, UserWarning)\n"
     ]
    },
    {
     "name": "stdout",
     "output_type": "stream",
     "text": [
      "[14:50:46] WARNING: ../src/learner.cc:573: \n",
      "Parameters: { \"metric\" } might not be used.\n",
      "\n",
      "  This may not be accurate due to some parameters are only used in language bindings but\n",
      "  passed down to XGBoost core.  Or some parameters are not used but slip through this\n",
      "  verification. Please open an issue if you find above cases.\n",
      "\n",
      "\n",
      "[14:50:46] WARNING: ../src/learner.cc:573: \n",
      "Parameters: { \"metric\" } might not be used.\n",
      "\n",
      "  This may not be accurate due to some parameters are only used in language bindings but\n",
      "  passed down to XGBoost core.  Or some parameters are not used but slip through this\n",
      "  verification. Please open an issue if you find above cases.\n",
      "\n",
      "\n"
     ]
    },
    {
     "name": "stderr",
     "output_type": "stream",
     "text": [
      "/usr/local/insa/anaconda/lib/python3.8/site-packages/xgboost/data.py:112: UserWarning: Use subset (sliced data) of np.ndarray is not recommended because it will generate extra copies and increase memory consumption\n",
      "  warnings.warn(\n",
      "/usr/local/insa/anaconda/lib/python3.8/site-packages/xgboost/sklearn.py:1146: UserWarning: The use of label encoder in XGBClassifier is deprecated and will be removed in a future release. To remove this warning, do the following: 1) Pass option use_label_encoder=False when constructing XGBClassifier object; and 2) Encode your labels (y) as integers starting with 0, i.e. 0, 1, 2, ..., [num_class - 1].\n",
      "  warnings.warn(label_encoder_deprecation_msg, UserWarning)\n"
     ]
    },
    {
     "name": "stdout",
     "output_type": "stream",
     "text": [
      "[14:50:47] WARNING: ../src/learner.cc:573: \n",
      "Parameters: { \"metric\" } might not be used.\n",
      "\n",
      "  This may not be accurate due to some parameters are only used in language bindings but\n",
      "  passed down to XGBoost core.  Or some parameters are not used but slip through this\n",
      "  verification. Please open an issue if you find above cases.\n",
      "\n",
      "\n",
      "[14:50:47] WARNING: ../src/learner.cc:1095: Starting in XGBoost 1.3.0, the default evaluation metric used with the objective 'multi:softprob' was changed from 'merror' to 'mlogloss'. Explicitly set eval_metric if you'd like to restore the old behavior.\n"
     ]
    },
    {
     "name": "stderr",
     "output_type": "stream",
     "text": [
      "/usr/local/insa/anaconda/lib/python3.8/site-packages/xgboost/data.py:112: UserWarning: Use subset (sliced data) of np.ndarray is not recommended because it will generate extra copies and increase memory consumption\n",
      "  warnings.warn(\n",
      "/usr/local/insa/anaconda/lib/python3.8/site-packages/xgboost/sklearn.py:1146: UserWarning: The use of label encoder in XGBClassifier is deprecated and will be removed in a future release. To remove this warning, do the following: 1) Pass option use_label_encoder=False when constructing XGBClassifier object; and 2) Encode your labels (y) as integers starting with 0, i.e. 0, 1, 2, ..., [num_class - 1].\n",
      "  warnings.warn(label_encoder_deprecation_msg, UserWarning)\n"
     ]
    },
    {
     "name": "stdout",
     "output_type": "stream",
     "text": [
      "[14:50:49] WARNING: ../src/learner.cc:573: \n",
      "Parameters: { \"metric\" } might not be used.\n",
      "\n",
      "  This may not be accurate due to some parameters are only used in language bindings but\n",
      "  passed down to XGBoost core.  Or some parameters are not used but slip through this\n",
      "  verification. Please open an issue if you find above cases.\n",
      "\n",
      "\n",
      "[14:50:59] WARNING: ../src/learner.cc:1095: Starting in XGBoost 1.3.0, the default evaluation metric used with the objective 'multi:softprob' was changed from 'merror' to 'mlogloss'. Explicitly set eval_metric if you'd like to restore the old behavior.\n"
     ]
    },
    {
     "name": "stderr",
     "output_type": "stream",
     "text": [
      "/usr/local/insa/anaconda/lib/python3.8/site-packages/xgboost/data.py:112: UserWarning: Use subset (sliced data) of np.ndarray is not recommended because it will generate extra copies and increase memory consumption\n",
      "  warnings.warn(\n",
      "/usr/local/insa/anaconda/lib/python3.8/site-packages/xgboost/sklearn.py:1146: UserWarning: The use of label encoder in XGBClassifier is deprecated and will be removed in a future release. To remove this warning, do the following: 1) Pass option use_label_encoder=False when constructing XGBClassifier object; and 2) Encode your labels (y) as integers starting with 0, i.e. 0, 1, 2, ..., [num_class - 1].\n",
      "  warnings.warn(label_encoder_deprecation_msg, UserWarning)\n"
     ]
    },
    {
     "name": "stdout",
     "output_type": "stream",
     "text": [
      "[14:51:00] WARNING: ../src/learner.cc:573: \n",
      "Parameters: { \"metric\" } might not be used.\n",
      "\n",
      "  This may not be accurate due to some parameters are only used in language bindings but\n",
      "  passed down to XGBoost core.  Or some parameters are not used but slip through this\n",
      "  verification. Please open an issue if you find above cases.\n",
      "\n",
      "\n",
      "[14:51:02] WARNING: ../src/learner.cc:1095: Starting in XGBoost 1.3.0, the default evaluation metric used with the objective 'multi:softprob' was changed from 'merror' to 'mlogloss'. Explicitly set eval_metric if you'd like to restore the old behavior.\n",
      "[14:51:03] WARNING: ../src/learner.cc:1095: Starting in XGBoost 1.3.0, the default evaluation metric used with the objective 'multi:softprob' was changed from 'merror' to 'mlogloss'. Explicitly set eval_metric if you'd like to restore the old behavior.\n"
     ]
    },
    {
     "name": "stderr",
     "output_type": "stream",
     "text": [
      "/usr/local/insa/anaconda/lib/python3.8/site-packages/xgboost/data.py:112: UserWarning: Use subset (sliced data) of np.ndarray is not recommended because it will generate extra copies and increase memory consumption\n",
      "  warnings.warn(\n",
      "/usr/local/insa/anaconda/lib/python3.8/site-packages/xgboost/sklearn.py:1146: UserWarning: The use of label encoder in XGBClassifier is deprecated and will be removed in a future release. To remove this warning, do the following: 1) Pass option use_label_encoder=False when constructing XGBClassifier object; and 2) Encode your labels (y) as integers starting with 0, i.e. 0, 1, 2, ..., [num_class - 1].\n",
      "  warnings.warn(label_encoder_deprecation_msg, UserWarning)\n"
     ]
    },
    {
     "name": "stdout",
     "output_type": "stream",
     "text": [
      "[14:51:04] WARNING: ../src/learner.cc:573: \n",
      "Parameters: { \"metric\" } might not be used.\n",
      "\n",
      "  This may not be accurate due to some parameters are only used in language bindings but\n",
      "  passed down to XGBoost core.  Or some parameters are not used but slip through this\n",
      "  verification. Please open an issue if you find above cases.\n",
      "\n",
      "\n",
      "[14:51:04] WARNING: ../src/learner.cc:1095: Starting in XGBoost 1.3.0, the default evaluation metric used with the objective 'multi:softprob' was changed from 'merror' to 'mlogloss'. Explicitly set eval_metric if you'd like to restore the old behavior.\n"
     ]
    },
    {
     "name": "stderr",
     "output_type": "stream",
     "text": [
      "/usr/local/insa/anaconda/lib/python3.8/site-packages/xgboost/data.py:112: UserWarning: Use subset (sliced data) of np.ndarray is not recommended because it will generate extra copies and increase memory consumption\n",
      "  warnings.warn(\n",
      "/usr/local/insa/anaconda/lib/python3.8/site-packages/xgboost/data.py:112: UserWarning: Use subset (sliced data) of np.ndarray is not recommended because it will generate extra copies and increase memory consumption\n",
      "  warnings.warn(\n"
     ]
    },
    {
     "name": "stdout",
     "output_type": "stream",
     "text": [
      "[14:51:11] WARNING: ../src/learner.cc:1095: Starting in XGBoost 1.3.0, the default evaluation metric used with the objective 'multi:softprob' was changed from 'merror' to 'mlogloss'. Explicitly set eval_metric if you'd like to restore the old behavior.\n",
      "[14:51:11] WARNING: ../src/learner.cc:1095: Starting in XGBoost 1.3.0, the default evaluation metric used with the objective 'multi:softprob' was changed from 'merror' to 'mlogloss'. Explicitly set eval_metric if you'd like to restore the old behavior.\n",
      "Mean Accuracy: 0.525 (0.052)\n"
     ]
    },
    {
     "name": "stderr",
     "output_type": "stream",
     "text": [
      "/usr/local/insa/anaconda/lib/python3.8/site-packages/xgboost/data.py:112: UserWarning: Use subset (sliced data) of np.ndarray is not recommended because it will generate extra copies and increase memory consumption\n",
      "  warnings.warn(\n",
      "/usr/local/insa/anaconda/lib/python3.8/site-packages/xgboost/data.py:112: UserWarning: Use subset (sliced data) of np.ndarray is not recommended because it will generate extra copies and increase memory consumption\n",
      "  warnings.warn(\n"
     ]
    }
   ],
   "source": [
    "# define the model evaluation procedure\n",
    "cv = RepeatedStratifiedKFold(n_splits=10, n_repeats=3, random_state=1)\n",
    "# evaluate the model and collect the scores\n",
    "n_scores = cross_val_score(model, X_train, Y_train_class, scoring='accuracy', cv = cv, n_jobs=-1)\n",
    "# report performance\n",
    "print('Mean Accuracy: %.3f (%.3f)' % (np.mean(n_scores), np.std(n_scores)))"
   ]
  },
  {
   "cell_type": "code",
   "execution_count": null,
   "metadata": {},
   "outputs": [
    {
     "name": "stdout",
     "output_type": "stream",
     "text": [
      "[14:51:12] WARNING: ../src/learner.cc:573: \n",
      "Parameters: { \"metric\" } might not be used.\n",
      "\n",
      "  This may not be accurate due to some parameters are only used in language bindings but\n",
      "  passed down to XGBoost core.  Or some parameters are not used but slip through this\n",
      "  verification. Please open an issue if you find above cases.\n",
      "\n",
      "\n"
     ]
    },
    {
     "name": "stderr",
     "output_type": "stream",
     "text": [
      "/usr/local/insa/anaconda/lib/python3.8/site-packages/xgboost/sklearn.py:1146: UserWarning: The use of label encoder in XGBClassifier is deprecated and will be removed in a future release. To remove this warning, do the following: 1) Pass option use_label_encoder=False when constructing XGBClassifier object; and 2) Encode your labels (y) as integers starting with 0, i.e. 0, 1, 2, ..., [num_class - 1].\n",
      "  warnings.warn(label_encoder_deprecation_msg, UserWarning)\n"
     ]
    },
    {
     "name": "stdout",
     "output_type": "stream",
     "text": [
      "[14:51:14] WARNING: ../src/learner.cc:1095: Starting in XGBoost 1.3.0, the default evaluation metric used with the objective 'multi:softprob' was changed from 'merror' to 'mlogloss'. Explicitly set eval_metric if you'd like to restore the old behavior.\n",
      "Confusion matrix : \n",
      "col_0       high_rain  low_rain  no_rain\n",
      "rain_class                              \n",
      "high_rain          18        13        2\n",
      "low_rain           11        35       12\n",
      "no_rain             8        21       18\n",
      "              precision    recall  f1-score   support\n",
      "\n",
      "   high_rain       0.49      0.55      0.51        33\n",
      "    low_rain       0.51      0.60      0.55        58\n",
      "     no_rain       0.56      0.38      0.46        47\n",
      "\n",
      "    accuracy                           0.51       138\n",
      "   macro avg       0.52      0.51      0.51       138\n",
      "weighted avg       0.52      0.51      0.51       138\n",
      "\n"
     ]
    },
    {
     "name": "stderr",
     "output_type": "stream",
     "text": [
      "/usr/local/insa/anaconda/lib/python3.8/site-packages/xgboost/data.py:112: UserWarning: Use subset (sliced data) of np.ndarray is not recommended because it will generate extra copies and increase memory consumption\n",
      "  warnings.warn(\n"
     ]
    }
   ],
   "source": [
    "model.fit(X_train, Y_train_class)\n",
    "y_pred_test = model.predict(X_test)\n",
    "\n",
    "classification_metric(Y_test_class, y_pred_test)"
   ]
  },
  {
   "cell_type": "markdown",
   "metadata": {},
   "source": [
    "## 2.4. Support Vector Machine"
   ]
  },
  {
   "cell_type": "markdown",
   "metadata": {},
   "source": [
    "### 2.4.1. Linear SVM "
   ]
  },
  {
   "cell_type": "markdown",
   "metadata": {},
   "source": [
    "Optimisation of C - Regularization parameter. The strength of the regularization is inversely proportional to C. Must be strictly positive. The penalty is a squared l2 penalty"
   ]
  },
  {
   "cell_type": "code",
   "execution_count": null,
   "metadata": {},
   "outputs": [
    {
     "name": "stdout",
     "output_type": "stream",
     "text": [
      "Best Mean cross-validated accuracy = 0.547273, Best parameter = {'C': 0.06000000000000001}\n"
     ]
    }
   ],
   "source": [
    "from sklearn.svm import LinearSVC\n",
    "from sklearn.model_selection import GridSearchCV\n",
    "param=[{\"C\": np.linspace(0.01, 0.1, 10) }]\n",
    "svm= GridSearchCV(LinearSVC(), param, cv=10, n_jobs = -1, scoring = \"accuracy\")\n",
    "svmLinOpt=svm.fit(X_train, Y_train_class)\n",
    "print(\"Best Mean cross-validated accuracy = %f, Best parameter = %s\" % (svmLinOpt.best_score_,svmLinOpt.best_params_))"
   ]
  },
  {
   "cell_type": "code",
   "execution_count": null,
   "metadata": {},
   "outputs": [
    {
     "data": {
      "text/plain": [
       "47"
      ]
     },
     "execution_count": 120,
     "metadata": {},
     "output_type": "execute_result"
    }
   ],
   "source": [
    "(Y_test_class == 'no_rain').sum()"
   ]
  },
  {
   "cell_type": "code",
   "execution_count": null,
   "metadata": {},
   "outputs": [
    {
     "name": "stdout",
     "output_type": "stream",
     "text": [
      "Confusion matrix : \n",
      "col_0       high_rain  low_rain  no_rain\n",
      "rain_class                              \n",
      "high_rain          25         7        1\n",
      "low_rain           11        36       11\n",
      "no_rain             9        20       18\n",
      "              precision    recall  f1-score   support\n",
      "\n",
      "   high_rain       0.56      0.76      0.64        33\n",
      "    low_rain       0.57      0.62      0.60        58\n",
      "     no_rain       0.60      0.38      0.47        47\n",
      "\n",
      "    accuracy                           0.57       138\n",
      "   macro avg       0.58      0.59      0.57       138\n",
      "weighted avg       0.58      0.57      0.56       138\n",
      "\n"
     ]
    }
   ],
   "source": [
    "# Prediction of the test sample\n",
    "y_pred_test = svmLinOpt.predict(X_test)\n",
    "classification_metric(Y_test_class, y_pred_test)"
   ]
  },
  {
   "cell_type": "markdown",
   "metadata": {},
   "source": [
    "    It seems that with the linear kernel, the results is quite good comparing to other methods"
   ]
  },
  {
   "cell_type": "markdown",
   "metadata": {},
   "source": [
    "### 2.4.2. SVM with polynomial kernels"
   ]
  },
  {
   "cell_type": "markdown",
   "metadata": {},
   "source": [
    "By default, we take polynomial of degree 3"
   ]
  },
  {
   "cell_type": "code",
   "execution_count": null,
   "metadata": {},
   "outputs": [
    {
     "name": "stdout",
     "output_type": "stream",
     "text": [
      "Best Mean cross-validated accuracy = 0.549091, Best parameter = {'C': 0.8055555555555556, 'coef0': 2.25, 'gamma': 0.030000000000000006}\n"
     ]
    }
   ],
   "source": [
    "from sklearn.svm import SVC\n",
    "from sklearn.model_selection import GridSearchCV\n",
    "param = [{\"C\":np.linspace(0.75,1.25,10),\"gamma\":np.linspace(0.01, 0.1, 10) , \"coef0\": np.linspace(0, 3, 5) }]\n",
    "svm = GridSearchCV(SVC(kernel=\"poly\"),param,cv=10,n_jobs=-1, scoring = \"accuracy\")\n",
    "svmPolyOpt=svm.fit(X_train, Y_train_class)\n",
    "print(\"Best Mean cross-validated accuracy = %f, Best parameter = %s\" % (svmPolyOpt.best_score_, svmPolyOpt.best_params_))"
   ]
  },
  {
   "cell_type": "code",
   "execution_count": null,
   "metadata": {},
   "outputs": [
    {
     "name": "stdout",
     "output_type": "stream",
     "text": [
      "Confusion matrix : \n",
      "col_0       high_rain  low_rain  no_rain\n",
      "rain_class                              \n",
      "high_rain          20        12        1\n",
      "low_rain           11        36       11\n",
      "no_rain             8        26       13\n",
      "              precision    recall  f1-score   support\n",
      "\n",
      "   high_rain       0.51      0.61      0.56        33\n",
      "    low_rain       0.49      0.62      0.55        58\n",
      "     no_rain       0.52      0.28      0.36        47\n",
      "\n",
      "    accuracy                           0.50       138\n",
      "   macro avg       0.51      0.50      0.49       138\n",
      "weighted avg       0.50      0.50      0.49       138\n",
      "\n"
     ]
    }
   ],
   "source": [
    "# Prediction of the test sample\n",
    "y_pred_test = svmPolyOpt.predict(X_test)\n",
    "classification_metric(Y_test_class, y_pred_test)"
   ]
  },
  {
   "cell_type": "markdown",
   "metadata": {},
   "source": [
    "Let's test for degree 2"
   ]
  },
  {
   "cell_type": "code",
   "execution_count": null,
   "metadata": {},
   "outputs": [
    {
     "name": "stdout",
     "output_type": "stream",
     "text": [
      "Best Mean cross-validated accuracy = 0.545455, Best parameter = {'C': 0.8055555555555556, 'coef0': 1.5, 'gamma': 0.08}\n"
     ]
    }
   ],
   "source": [
    "from sklearn.svm import SVC\n",
    "from sklearn.model_selection import GridSearchCV\n",
    "param=[{\"C\" : np.linspace(0.75,1.25,10),\"gamma\":np.linspace(0.01, 0.1, 10), \"coef0\":np.linspace(0, 3, 5) }]\n",
    "svm= GridSearchCV(SVC(kernel=\"poly\",degree =2),param,cv=10,n_jobs=-1,scoring = \"accuracy\")\n",
    "svmPoly2Opt=svm.fit(X_train, Y_train_class)\n",
    "print(\"Best Mean cross-validated accuracy = %f, Best parameter = %s\" % (svmPoly2Opt.best_score_,svmPoly2Opt.best_params_))"
   ]
  },
  {
   "cell_type": "code",
   "execution_count": null,
   "metadata": {},
   "outputs": [
    {
     "name": "stdout",
     "output_type": "stream",
     "text": [
      "Confusion matrix : \n",
      "col_0       high_rain  low_rain  no_rain\n",
      "rain_class                              \n",
      "high_rain          20        12        1\n",
      "low_rain           12        34       12\n",
      "no_rain             8        23       16\n",
      "              precision    recall  f1-score   support\n",
      "\n",
      "   high_rain       0.50      0.61      0.55        33\n",
      "    low_rain       0.49      0.59      0.54        58\n",
      "     no_rain       0.55      0.34      0.42        47\n",
      "\n",
      "    accuracy                           0.51       138\n",
      "   macro avg       0.51      0.51      0.50       138\n",
      "weighted avg       0.51      0.51      0.50       138\n",
      "\n"
     ]
    }
   ],
   "source": [
    "# Prediction of the test sample\n",
    "y_pred_test= svmPoly2Opt.predict(X_test)\n",
    "classification_metric(Y_test_class, y_pred_test)"
   ]
  },
  {
   "cell_type": "markdown",
   "metadata": {},
   "source": [
    "### 2.4.3. SVM with radial kernel"
   ]
  },
  {
   "cell_type": "code",
   "execution_count": null,
   "metadata": {},
   "outputs": [
    {
     "name": "stdout",
     "output_type": "stream",
     "text": [
      "Best Mean cross-validated accuracy = 0.565455, Best parameter = {'C': 1.25, 'gamma': 0.09444444444444444}\n"
     ]
    }
   ],
   "source": [
    "from sklearn.svm import SVC\n",
    "from sklearn.model_selection import GridSearchCV\n",
    "param=[{\"C\" : np.linspace(1,1.25,10),\"gamma\":np.linspace(0.05, 0.15, 10)}]\n",
    "svm= GridSearchCV(SVC(kernel=\"rbf\"), param, cv=10, n_jobs=-1,scoring = \"accuracy\")\n",
    "svmRadOpt=svm.fit(X_train, Y_train_class)\n",
    "print(\"Best Mean cross-validated accuracy = %f, Best parameter = %s\" % (svmRadOpt.best_score_,svmRadOpt.best_params_))"
   ]
  },
  {
   "cell_type": "code",
   "execution_count": null,
   "metadata": {},
   "outputs": [
    {
     "name": "stdout",
     "output_type": "stream",
     "text": [
      "Confusion matrix : \n",
      "col_0       high_rain  low_rain  no_rain\n",
      "rain_class                              \n",
      "high_rain          21        11        1\n",
      "low_rain           10        39        9\n",
      "no_rain            10        26       11\n",
      "              precision    recall  f1-score   support\n",
      "\n",
      "   high_rain       0.51      0.64      0.57        33\n",
      "    low_rain       0.51      0.67      0.58        58\n",
      "     no_rain       0.52      0.23      0.32        47\n",
      "\n",
      "    accuracy                           0.51       138\n",
      "   macro avg       0.52      0.51      0.49       138\n",
      "weighted avg       0.52      0.51      0.49       138\n",
      "\n"
     ]
    }
   ],
   "source": [
    "# Prediction of the test sample\n",
    "y_pred_test = svmRadOpt.predict(X_test)\n",
    "classification_metric(Y_test_class, y_pred_test)"
   ]
  },
  {
   "cell_type": "markdown",
   "metadata": {},
   "source": [
    "### 2.4.3. SVM with sigmoid kernel"
   ]
  },
  {
   "cell_type": "code",
   "execution_count": null,
   "metadata": {},
   "outputs": [
    {
     "name": "stdout",
     "output_type": "stream",
     "text": [
      "Best Mean cross-validated accuracy = 0.516364, Best parameter = {'C': 0.4, 'coef0': 0.1, 'gamma': 0.05}\n"
     ]
    }
   ],
   "source": [
    "from sklearn.svm import SVC\n",
    "from sklearn.model_selection import GridSearchCV\n",
    "param=[{\"C\":[0.1,0.4,0.5,0.6,0.8,1,1.2,1.4,1.6,2],\"gamma\":np.array(range(1,11))/100, \"coef0\":np.array(range(1,11))/10}]\n",
    "svm= GridSearchCV(SVC(kernel=\"sigmoid\"),param,cv=10,n_jobs=-1,scoring = \"accuracy\")\n",
    "svmSigOpt=svm.fit(X_train, Y_train_class)\n",
    "print(\"Best Mean cross-validated accuracy = %f, Best parameter = %s\" % (svmSigOpt.best_score_,svmSigOpt.best_params_))"
   ]
  },
  {
   "cell_type": "code",
   "execution_count": null,
   "metadata": {},
   "outputs": [
    {
     "name": "stdout",
     "output_type": "stream",
     "text": [
      "Confusion matrix : \n",
      "col_0       high_rain  low_rain  no_rain\n",
      "rain_class                              \n",
      "high_rain          26         7        0\n",
      "low_rain           12        42        4\n",
      "no_rain             8        35        4\n",
      "              precision    recall  f1-score   support\n",
      "\n",
      "   high_rain       0.57      0.79      0.66        33\n",
      "    low_rain       0.50      0.72      0.59        58\n",
      "     no_rain       0.50      0.09      0.15        47\n",
      "\n",
      "    accuracy                           0.52       138\n",
      "   macro avg       0.52      0.53      0.47       138\n",
      "weighted avg       0.52      0.52      0.46       138\n",
      "\n"
     ]
    }
   ],
   "source": [
    "# Prediction of the test sample\n",
    "y_pred_test = svmSigOpt.predict(X_test)\n",
    "classification_metric(Y_test_class, y_pred_test)"
   ]
  },
  {
   "cell_type": "markdown",
   "metadata": {},
   "source": [
    "    "
   ]
  },
  {
   "cell_type": "markdown",
   "metadata": {},
   "source": [
    "## 2.5. Neural Network"
   ]
  },
  {
   "cell_type": "markdown",
   "metadata": {},
   "source": [
    "### 2.5.1 One hidden layer neural network"
   ]
  },
  {
   "cell_type": "code",
   "execution_count": null,
   "metadata": {},
   "outputs": [],
   "source": [
    "from sklearn.neural_network import MLPClassifier"
   ]
  },
  {
   "cell_type": "markdown",
   "metadata": {},
   "source": [
    "Firstly, we fit an one-hidden layer neural network with ReLU activation in the hidden layer and the softmax activation for the out put layer, and the log-loss function. We use here the default configuration for the optimisation task."
   ]
  },
  {
   "cell_type": "code",
   "execution_count": null,
   "metadata": {},
   "outputs": [
    {
     "data": {
      "text/plain": [
       "MLPClassifier(hidden_layer_sizes=3, max_iter=1500, random_state=42)"
      ]
     },
     "execution_count": 195,
     "metadata": {},
     "output_type": "execute_result"
    }
   ],
   "source": [
    "nnet1 = MLPClassifier(hidden_layer_sizes = (3), random_state = 42, max_iter = 1500)\n",
    "nnet1.fit(X_train, Y_train_class)"
   ]
  },
  {
   "cell_type": "code",
   "execution_count": null,
   "metadata": {},
   "outputs": [
    {
     "data": {
      "text/plain": [
       "[<matplotlib.lines.Line2D at 0x7fb0967eb460>]"
      ]
     },
     "execution_count": 132,
     "metadata": {},
     "output_type": "execute_result"
    },
    {
     "data": {
      "image/png": "[encoded data removed]",
      "text/plain": [
       "<Figure size 432x288 with 1 Axes>"
      ]
     },
     "metadata": {
      "needs_background": "light"
     },
     "output_type": "display_data"
    }
   ],
   "source": [
    "plt.plot(nnet1.loss_curve_)"
   ]
  },
  {
   "cell_type": "markdown",
   "metadata": {},
   "source": [
    "Training accuracy"
   ]
  },
  {
   "cell_type": "code",
   "execution_count": null,
   "metadata": {},
   "outputs": [
    {
     "name": "stdout",
     "output_type": "stream",
     "text": [
      "Confusion matrix : \n",
      "col_0       high_rain  low_rain  no_rain\n",
      "rain_class                              \n",
      "high_rain          90        60        5\n",
      "low_rain           34       179       21\n",
      "no_rain             9       100       52\n",
      "              precision    recall  f1-score   support\n",
      "\n",
      "   high_rain       0.68      0.58      0.62       155\n",
      "    low_rain       0.53      0.76      0.62       234\n",
      "     no_rain       0.67      0.32      0.44       161\n",
      "\n",
      "    accuracy                           0.58       550\n",
      "   macro avg       0.62      0.56      0.56       550\n",
      "weighted avg       0.61      0.58      0.57       550\n",
      "\n"
     ]
    }
   ],
   "source": [
    "y_pred = nnet1.predict(X_train)\n",
    "\n",
    "classification_metric(Y_train_class, y_pred)"
   ]
  },
  {
   "cell_type": "markdown",
   "metadata": {},
   "source": [
    "Test accuracy"
   ]
  },
  {
   "cell_type": "code",
   "execution_count": null,
   "metadata": {},
   "outputs": [
    {
     "name": "stdout",
     "output_type": "stream",
     "text": [
      "Confusion matrix : \n",
      "col_0       high_rain  low_rain  no_rain\n",
      "rain_class                              \n",
      "high_rain          24         8        1\n",
      "low_rain           10        36       12\n",
      "no_rain             8        28       11\n",
      "              precision    recall  f1-score   support\n",
      "\n",
      "   high_rain       0.57      0.73      0.64        33\n",
      "    low_rain       0.50      0.62      0.55        58\n",
      "     no_rain       0.46      0.23      0.31        47\n",
      "\n",
      "    accuracy                           0.51       138\n",
      "   macro avg       0.51      0.53      0.50       138\n",
      "weighted avg       0.50      0.51      0.49       138\n",
      "\n"
     ]
    }
   ],
   "source": [
    "y_pred_test = nnet1.predict(X_test)\n",
    "\n",
    "classification_metric(Y_test_class, y_pred_test)"
   ]
  },
  {
   "cell_type": "markdown",
   "metadata": {},
   "source": [
    "    Since the training accuracy is low, we can not expect that the test accuracy is good. It means that this model does fit with the data or the optimisation process did not minimize the loss function since it stopped around 500 iterations"
   ]
  },
  {
   "cell_type": "markdown",
   "metadata": {},
   "source": [
    "We'll use cross validation for searching the optimal number of neurones in the hidden layer and the learning rate for optimisation process"
   ]
  },
  {
   "cell_type": "code",
   "execution_count": null,
   "metadata": {},
   "outputs": [
    {
     "name": "stderr",
     "output_type": "stream",
     "text": [
      "/usr/local/insa/anaconda/lib/python3.8/site-packages/sklearn/neural_network/_multilayer_perceptron.py:614: ConvergenceWarning: Stochastic Optimizer: Maximum iterations (1500) reached and the optimization hasn't converged yet.\n",
      "  warnings.warn(\n",
      "/usr/local/insa/anaconda/lib/python3.8/site-packages/sklearn/neural_network/_multilayer_perceptron.py:614: ConvergenceWarning: Stochastic Optimizer: Maximum iterations (1500) reached and the optimization hasn't converged yet.\n",
      "  warnings.warn(\n",
      "/usr/local/insa/anaconda/lib/python3.8/site-packages/sklearn/neural_network/_multilayer_perceptron.py:614: ConvergenceWarning: Stochastic Optimizer: Maximum iterations (1500) reached and the optimization hasn't converged yet.\n",
      "  warnings.warn(\n",
      "/usr/local/insa/anaconda/lib/python3.8/site-packages/sklearn/neural_network/_multilayer_perceptron.py:614: ConvergenceWarning: Stochastic Optimizer: Maximum iterations (1500) reached and the optimization hasn't converged yet.\n",
      "  warnings.warn(\n"
     ]
    },
    {
     "name": "stdout",
     "output_type": "stream",
     "text": [
      "Best Mean cross-validated accuracy = 0.527273, Best parameter = {'alpha': 0.01, 'early_stopping': False, 'hidden_layer_sizes': (5,)}\n"
     ]
    }
   ],
   "source": [
    "param_grid = [{\"hidden_layer_sizes\" : [(3,),(4,),(5,),(6,), (7,)], \"early_stopping\" : [True, False], \"alpha\" : [0.0001, 0.001, 0.005, 0.01, 0.05, 0.1]}]\n",
    "\n",
    "nnet1_cv = GridSearchCV(MLPClassifier(max_iter = 1500, random_state = 42), param_grid, cv = 5, n_jobs=-1, return_train_score = True)\n",
    "nnet1_cv.fit(X_train, Y_train_class)\n",
    "\n",
    "print(\"Best Mean cross-validated accuracy = %f, Best parameter = %s\" % (nnet1_cv.best_score_, nnet1_cv.best_params_))"
   ]
  },
  {
   "cell_type": "code",
   "execution_count": null,
   "metadata": {},
   "outputs": [
    {
     "name": "stdout",
     "output_type": "stream",
     "text": [
      "Confusion matrix : \n",
      "col_0       high_rain  low_rain  no_rain\n",
      "rain_class                              \n",
      "high_rain         106        36       13\n",
      "low_rain           31       172       31\n",
      "no_rain            10        73       78\n",
      "              precision    recall  f1-score   support\n",
      "\n",
      "   high_rain       0.72      0.68      0.70       155\n",
      "    low_rain       0.61      0.74      0.67       234\n",
      "     no_rain       0.64      0.48      0.55       161\n",
      "\n",
      "    accuracy                           0.65       550\n",
      "   macro avg       0.66      0.63      0.64       550\n",
      "weighted avg       0.65      0.65      0.64       550\n",
      "\n"
     ]
    }
   ],
   "source": [
    "y_pred = nnet1_cv.predict(X_train)\n",
    "\n",
    "classification_metric(Y_train_class, y_pred)"
   ]
  },
  {
   "cell_type": "code",
   "execution_count": null,
   "metadata": {},
   "outputs": [
    {
     "name": "stdout",
     "output_type": "stream",
     "text": [
      "Confusion matrix : \n",
      "col_0       high_rain  low_rain  no_rain\n",
      "rain_class                              \n",
      "high_rain          25         7        1\n",
      "low_rain           12        33       13\n",
      "no_rain             8        24       15\n",
      "              precision    recall  f1-score   support\n",
      "\n",
      "   high_rain       0.56      0.76      0.64        33\n",
      "    low_rain       0.52      0.57      0.54        58\n",
      "     no_rain       0.52      0.32      0.39        47\n",
      "\n",
      "    accuracy                           0.53       138\n",
      "   macro avg       0.53      0.55      0.53       138\n",
      "weighted avg       0.53      0.53      0.52       138\n",
      "\n"
     ]
    }
   ],
   "source": [
    "y_pred_test = nnet1_cv.predict(X_test)\n",
    "\n",
    "classification_metric(Y_test_class, y_pred_test)"
   ]
  },
  {
   "cell_type": "markdown",
   "metadata": {},
   "source": [
    "We can see that the loss function is almost reached the minimum but the prediction accuracy is still arounded $50$ percents. It means that this model does not fit well the data. We will try with more sophisticated models in the next sections"
   ]
  },
  {
   "cell_type": "markdown",
   "metadata": {},
   "source": [
    "### 2.5.2. Multilayers Neural Network"
   ]
  },
  {
   "cell_type": "markdown",
   "metadata": {},
   "source": [
    "    Remark that if we just fit a sophisticated model with many parameters (weights and biases), we can get very high performance on the training set. But unfortunately, we can get a worse performance on the test set\n",
    "    and the generalization of the model is very bad. This is the **overfitting** phenomenon"
   ]
  },
  {
   "cell_type": "code",
   "execution_count": null,
   "metadata": {},
   "outputs": [
    {
     "data": {
      "text/plain": [
       "MLPClassifier(alpha=0.1, hidden_layer_sizes=(20, 25, 15, 15, 10, 5),\n",
       "              max_iter=1500, n_iter_no_change=75, random_state=42)"
      ]
     },
     "execution_count": 138,
     "metadata": {},
     "output_type": "execute_result"
    }
   ],
   "source": [
    "nnet_of = MLPClassifier(hidden_layer_sizes = (20, 25 , 15, 15, 10, 5), random_state = 42, max_iter = 1500, alpha = 0.1, activation = \"relu\", early_stopping = False, n_iter_no_change = 75)\n",
    "nnet_of.fit(X_train, Y_train_class)\n"
   ]
  },
  {
   "cell_type": "code",
   "execution_count": null,
   "metadata": {},
   "outputs": [
    {
     "name": "stdout",
     "output_type": "stream",
     "text": [
      "Training accuracy :  1.0\n"
     ]
    },
    {
     "data": {
      "image/png": "[encoded data removed]",
      "text/plain": [
       "<Figure size 432x288 with 1 Axes>"
      ]
     },
     "metadata": {
      "needs_background": "light"
     },
     "output_type": "display_data"
    }
   ],
   "source": [
    "print(\"Training accuracy : \", nnet_of.score(X_train, Y_train_class))\n",
    "plt.figure(figsize=(6,4))\n",
    "plt.plot(nnet_of.loss_curve_)\n",
    "plt.title(\"Loss curve during training\")\n",
    "plt.xlabel(\"Iteration\")\n",
    "plt.tight_layout()\n",
    "plt.savefig(\"loss_nn_overfit.pdf\")"
   ]
  },
  {
   "cell_type": "code",
   "execution_count": null,
   "metadata": {},
   "outputs": [
    {
     "name": "stdout",
     "output_type": "stream",
     "text": [
      "Confusion matrix : \n",
      "col_0       high_rain  low_rain  no_rain\n",
      "rain_class                              \n",
      "high_rain          23         7        3\n",
      "low_rain           16        25       17\n",
      "no_rain            10        22       15\n",
      "              precision    recall  f1-score   support\n",
      "\n",
      "   high_rain       0.47      0.70      0.56        33\n",
      "    low_rain       0.46      0.43      0.45        58\n",
      "     no_rain       0.43      0.32      0.37        47\n",
      "\n",
      "    accuracy                           0.46       138\n",
      "   macro avg       0.45      0.48      0.46       138\n",
      "weighted avg       0.45      0.46      0.45       138\n",
      "\n"
     ]
    }
   ],
   "source": [
    "y_pred_test = nnet_of.predict(X_test)\n",
    "\n",
    "classification_metric(Y_test_class, y_pred_test)"
   ]
  },
  {
   "cell_type": "markdown",
   "metadata": {},
   "source": [
    "We try here to find a Neural Network which can generalize the data "
   ]
  },
  {
   "cell_type": "code",
   "execution_count": null,
   "metadata": {},
   "outputs": [
    {
     "name": "stdout",
     "output_type": "stream",
     "text": [
      "Training accuracy :  0.5454545454545454\n"
     ]
    },
    {
     "data": {
      "image/png": "[encoded data removed]",
      "text/plain": [
       "<Figure size 576x720 with 1 Axes>"
      ]
     },
     "metadata": {
      "needs_background": "light"
     },
     "output_type": "display_data"
    },
    {
     "name": "stdout",
     "output_type": "stream",
     "text": [
      "Confusion matrix : \n",
      "col_0       high_rain  low_rain  no_rain\n",
      "rain_class                              \n",
      "high_rain          25         7        1\n",
      "low_rain           11        42        5\n",
      "no_rain             9        27       11\n",
      "              precision    recall  f1-score   support\n",
      "\n",
      "   high_rain       0.56      0.76      0.64        33\n",
      "    low_rain       0.55      0.72      0.63        58\n",
      "     no_rain       0.65      0.23      0.34        47\n",
      "\n",
      "    accuracy                           0.57       138\n",
      "   macro avg       0.59      0.57      0.54       138\n",
      "weighted avg       0.59      0.57      0.53       138\n",
      "\n"
     ]
    }
   ],
   "source": [
    "nnet = MLPClassifier(hidden_layer_sizes = (15, 10, 10, 8, 8, 5), random_state = 42, max_iter = 1500, alpha = 0.1, activation = \"tanh\", early_stopping = True, n_iter_no_change = 500)\n",
    "nnet.fit(X_train, Y_train_class)\n",
    "\n",
    "print(\"Training accuracy : \", nnet.score(X_train, Y_train_class))\n",
    "plt.plot(nnet.loss_curve_)\n",
    "plt.title(\"Loss curve during training\")\n",
    "plt.xlabel(\"Iteration\")\n",
    "plt.show()\n",
    "y_pred_test = nnet.predict(X_test)\n",
    "\n",
    "classification_metric(Y_test_class, y_pred_test)"
   ]
  },
  {
   "cell_type": "markdown",
   "metadata": {},
   "source": [
    "## 2.6. Gaussian Process Classifier"
   ]
  },
  {
   "cell_type": "code",
   "execution_count": null,
   "metadata": {},
   "outputs": [],
   "source": [
    "from sklearn.gaussian_process import GaussianProcessClassifier\n",
    "from sklearn.gaussian_process.kernels import RBF\n",
    "from sklearn.gaussian_process.kernels import Matern\n"
   ]
  },
  {
   "cell_type": "code",
   "execution_count": null,
   "metadata": {},
   "outputs": [
    {
     "name": "stdout",
     "output_type": "stream",
     "text": [
      "0.5981818181818181\n",
      "0.5144927536231884\n"
     ]
    }
   ],
   "source": [
    "GPC = GaussianProcessClassifier(kernel = 0.5*RBF(3.0), random_state = 42, multi_class = \"one_vs_rest\")\n",
    "GPC.fit(X_train, Y_train_class)\n",
    "print(GPC.score(X_train, Y_train_class))\n",
    "print(GPC.score(X_test, Y_test_class))"
   ]
  },
  {
   "cell_type": "code",
   "execution_count": null,
   "metadata": {},
   "outputs": [
    {
     "name": "stdout",
     "output_type": "stream",
     "text": [
      "0.6218181818181818\n",
      "0.5217391304347826\n"
     ]
    }
   ],
   "source": [
    "GPC = GaussianProcessClassifier(kernel = Matern(3.0, nu = 1.5), random_state = 42, multi_class = \"one_vs_rest\")\n",
    "GPC.fit(X_train, Y_train_class)\n",
    "print(GPC.score(X_train, Y_train_class))\n",
    "print(GPC.score(X_test, Y_test_class))"
   ]
  },
  {
   "cell_type": "markdown",
   "metadata": {},
   "source": [
    "# 3. REGRESSION AND CLASSIFICATION USING REGRESSION"
   ]
  },
  {
   "cell_type": "markdown",
   "metadata": {},
   "source": [
    "## 3.1. Evaluation Metrics used in regression problem: MSE, MAPE et R2-Score"
   ]
  },
  {
   "cell_type": "code",
   "execution_count": 14,
   "metadata": {},
   "outputs": [],
   "source": [
    "def regression_metric(y_true, y_pred):\n",
    "    mape = MAPE(y_true, y_pred)\n",
    "    mse = MSE(y_true, y_pred)\n",
    "    r2 = r2_score(y_true, y_pred)\n",
    "    mae = MAE(y_true, y_pred)\n",
    "\n",
    "    print(\"Mean squared error : \", np.round(mse, 2))\n",
    "    print(\"Mean absolute error : \", np.round(mae, 2))\n",
    "    print(\"Mean absolute percentage error : \", np.round(mape, 2))\n",
    "    print(\"R2 - Score : \", np.round(r2, 2))"
   ]
  },
  {
   "cell_type": "code",
   "execution_count": 15,
   "metadata": {},
   "outputs": [],
   "source": [
    "def to_class(rain, eps = 1e-3):\n",
    "    myrain = (rain <= eps)*0 + (rain > eps)*(rain <= 2 )*1 + (rain > 2)*2\n",
    "    myrain2 = myrain.astype('<U9')\n",
    "\n",
    "    myrain2[myrain == 0] = 'no_rain'\n",
    "    myrain2[myrain == 1] = 'low_rain'\n",
    "    myrain2[myrain == 2] = 'high_rain'\n",
    "    return myrain2"
   ]
  },
  {
   "cell_type": "markdown",
   "metadata": {},
   "source": [
    "## 3.2.Linear regression without penalisation and without variable selection"
   ]
  },
  {
   "cell_type": "markdown",
   "metadata": {},
   "source": [
    "### 3.2.1. With `rain`"
   ]
  },
  {
   "cell_type": "code",
   "execution_count": 16,
   "metadata": {},
   "outputs": [
    {
     "name": "stdout",
     "output_type": "stream",
     "text": [
      "Mean squared error :  21.31\n",
      "Mean absolute error :  2.71\n",
      "Mean absolute percentage error :  3012463523105789.0\n",
      "R2 - Score :  0.18\n"
     ]
    }
   ],
   "source": [
    "from sklearn.linear_model import LinearRegression\n",
    "regLin = LinearRegression().fit(X_train, Y_train)\n",
    "y_pred = regLin.predict(X_test)\n",
    "\n",
    "regression_metric(Y_test, y_pred)"
   ]
  },
  {
   "cell_type": "markdown",
   "metadata": {},
   "source": [
    "We can evaluate the prediction accuracy for classification by comparing the results into class with `rain_class`"
   ]
  },
  {
   "cell_type": "code",
   "execution_count": 53,
   "metadata": {},
   "outputs": [
    {
     "data": {
      "text/plain": [
       "0.4420289855072464"
      ]
     },
     "execution_count": 53,
     "metadata": {},
     "output_type": "execute_result"
    }
   ],
   "source": [
    "(29+24+8)/138"
   ]
  },
  {
   "cell_type": "code",
   "execution_count": 17,
   "metadata": {},
   "outputs": [
    {
     "name": "stdout",
     "output_type": "stream",
     "text": [
      "Confusion matrix : \n",
      "col_0       high_rain  low_rain  no_rain\n",
      "rain_class                              \n",
      "high_rain          29         2        2\n",
      "low_rain           28        24        6\n",
      "no_rain            21        18        8\n",
      "              precision    recall  f1-score   support\n",
      "\n",
      "   high_rain       0.37      0.88      0.52        33\n",
      "    low_rain       0.55      0.41      0.47        58\n",
      "     no_rain       0.50      0.17      0.25        47\n",
      "\n",
      "    accuracy                           0.44       138\n",
      "   macro avg       0.47      0.49      0.42       138\n",
      "weighted avg       0.49      0.44      0.41       138\n",
      "\n"
     ]
    }
   ],
   "source": [
    "y_pred_class = to_class(y_pred)\n",
    "\n",
    "classification_metric(Y_test_class,y_pred_class)"
   ]
  },
  {
   "cell_type": "markdown",
   "metadata": {},
   "source": [
    "### 3.2.2. With `rain_log`"
   ]
  },
  {
   "cell_type": "code",
   "execution_count": 18,
   "metadata": {},
   "outputs": [
    {
     "name": "stdout",
     "output_type": "stream",
     "text": [
      "Mean squared error :  18.36\n",
      "Mean absolute error :  2.06\n",
      "Mean absolute percentage error :  1494003623307454.5\n",
      "R2 - Score :  0.29\n",
      "Confusion matrix : \n",
      "col_0       high_rain  low_rain  no_rain\n",
      "rain_class                              \n",
      "high_rain          23         8        2\n",
      "low_rain           11        45        2\n",
      "no_rain             7        38        2\n",
      "              precision    recall  f1-score   support\n",
      "\n",
      "   high_rain       0.56      0.70      0.62        33\n",
      "    low_rain       0.49      0.78      0.60        58\n",
      "     no_rain       0.33      0.04      0.08        47\n",
      "\n",
      "    accuracy                           0.51       138\n",
      "   macro avg       0.46      0.51      0.43       138\n",
      "weighted avg       0.46      0.51      0.43       138\n",
      "\n"
     ]
    }
   ],
   "source": [
    "regLinLog = LinearRegression().fit(X_train, Y_train_log)\n",
    "\n",
    "prevLog = regLinLog.predict(X_test)\n",
    "prev = np.exp(prevLog) - 1\n",
    "\n",
    "regression_metric(Y_test, prev)\n",
    "classification_metric(Y_test_class, to_class(prev))"
   ]
  },
  {
   "cell_type": "markdown",
   "metadata": {},
   "source": [
    "By using `rain_log`, the value of MSE is reduced"
   ]
  },
  {
   "cell_type": "markdown",
   "metadata": {},
   "source": [
    "## 3.3. Penalized regression "
   ]
  },
  {
   "cell_type": "markdown",
   "metadata": {},
   "source": [
    "### 3.3.1. Penalisation Lasso"
   ]
  },
  {
   "cell_type": "markdown",
   "metadata": {},
   "source": [
    "#### 3.3.1.1. With `rain`"
   ]
  },
  {
   "cell_type": "markdown",
   "metadata": {},
   "source": [
    "We implement the Lasso regression with the default values"
   ]
  },
  {
   "cell_type": "code",
   "execution_count": 19,
   "metadata": {},
   "outputs": [
    {
     "name": "stdout",
     "output_type": "stream",
     "text": [
      "Mean squared error :  22.87\n",
      "Mean absolute error :  2.79\n",
      "Mean absolute percentage error :  3322153815044801.5\n",
      "R2 - Score :  0.12\n",
      "Confusion matrix : \n",
      "col_0       high_rain  low_rain\n",
      "rain_class                     \n",
      "high_rain          32         1\n",
      "low_rain           37        21\n",
      "no_rain            28        19\n",
      "              precision    recall  f1-score   support\n",
      "\n",
      "   high_rain       0.33      0.97      0.49        33\n",
      "    low_rain       0.51      0.36      0.42        58\n",
      "     no_rain       0.00      0.00      0.00        47\n",
      "\n",
      "    accuracy                           0.38       138\n",
      "   macro avg       0.28      0.44      0.31       138\n",
      "weighted avg       0.29      0.38      0.30       138\n",
      "\n"
     ]
    },
    {
     "name": "stderr",
     "output_type": "stream",
     "text": [
      "c:\\Users\\nguye\\anaconda3\\lib\\site-packages\\sklearn\\metrics\\_classification.py:1318: UndefinedMetricWarning: Precision and F-score are ill-defined and being set to 0.0 in labels with no predicted samples. Use `zero_division` parameter to control this behavior.\n",
      "  _warn_prf(average, modifier, msg_start, len(result))\n",
      "c:\\Users\\nguye\\anaconda3\\lib\\site-packages\\sklearn\\metrics\\_classification.py:1318: UndefinedMetricWarning: Precision and F-score are ill-defined and being set to 0.0 in labels with no predicted samples. Use `zero_division` parameter to control this behavior.\n",
      "  _warn_prf(average, modifier, msg_start, len(result))\n",
      "c:\\Users\\nguye\\anaconda3\\lib\\site-packages\\sklearn\\metrics\\_classification.py:1318: UndefinedMetricWarning: Precision and F-score are ill-defined and being set to 0.0 in labels with no predicted samples. Use `zero_division` parameter to control this behavior.\n",
      "  _warn_prf(average, modifier, msg_start, len(result))\n"
     ]
    }
   ],
   "source": [
    "from sklearn import linear_model\n",
    "regLasso = linear_model.Lasso()\n",
    "regLasso.fit(X_train, Y_train)\n",
    "prev = regLasso.predict(X_test)\n",
    "\n",
    "regression_metric(Y_test, prev)\n",
    "classification_metric(Y_test_class, to_class(prev))"
   ]
  },
  {
   "cell_type": "markdown",
   "metadata": {},
   "source": [
    "The penalisation parameter is optimized by the cross validation"
   ]
  },
  {
   "cell_type": "code",
   "execution_count": 20,
   "metadata": {},
   "outputs": [
    {
     "name": "stdout",
     "output_type": "stream",
     "text": [
      "Best R2 = 0.200521, Best parameter = {'alpha': 0.1306532663316583}\n"
     ]
    }
   ],
   "source": [
    "from sklearn.model_selection import GridSearchCV\n",
    "param = [{\"alpha\":np.linspace(0, 2, 200)}]\n",
    "regLasso = GridSearchCV(linear_model.Lasso(), param_grid = param, scoring = \"r2\", cv = 5,n_jobs=-1)\n",
    "regLassOpt = regLasso.fit(X_train, Y_train)\n",
    "# Optimal parameter\n",
    "regLassOpt.best_params_[\"alpha\"]\n",
    "print(\"Best R2 = %f, Best parameter = %s\" % (regLassOpt.best_score_, regLassOpt.best_params_))"
   ]
  },
  {
   "cell_type": "markdown",
   "metadata": {},
   "source": [
    "Let's do some previsions with the optimized value of `lambda`"
   ]
  },
  {
   "cell_type": "code",
   "execution_count": 21,
   "metadata": {},
   "outputs": [
    {
     "name": "stdout",
     "output_type": "stream",
     "text": [
      "Mean squared error :  20.13\n",
      "Mean absolute error :  2.48\n",
      "Mean absolute percentage error :  2685508596512428.0\n",
      "R2 - Score :  0.23\n",
      "Confusion matrix : \n",
      "col_0       high_rain  low_rain  no_rain\n",
      "rain_class                              \n",
      "high_rain          28         4        1\n",
      "low_rain           27        31        0\n",
      "no_rain            19        25        3\n",
      "              precision    recall  f1-score   support\n",
      "\n",
      "   high_rain       0.38      0.85      0.52        33\n",
      "    low_rain       0.52      0.53      0.53        58\n",
      "     no_rain       0.75      0.06      0.12        47\n",
      "\n",
      "    accuracy                           0.45       138\n",
      "   macro avg       0.55      0.48      0.39       138\n",
      "weighted avg       0.56      0.45      0.39       138\n",
      "\n"
     ]
    }
   ],
   "source": [
    "prev = regLassOpt.predict(X_test)\n",
    "regression_metric(Y_test, prev)\n",
    "classification_metric(Y_test_class, to_class(prev))"
   ]
  },
  {
   "cell_type": "code",
   "execution_count": 22,
   "metadata": {},
   "outputs": [
    {
     "data": {
      "image/png": "[encoded data removed]",
      "text/plain": [
       "<Figure size 432x288 with 1 Axes>"
      ]
     },
     "metadata": {
      "needs_background": "light"
     },
     "output_type": "display_data"
    }
   ],
   "source": [
    "plt.plot(prev, Y_test,\"o\")\n",
    "plt.xlabel(\"Rain predicted\")\n",
    "plt.ylabel(\"Rain observed\")\n",
    "plt.show()"
   ]
  },
  {
   "cell_type": "code",
   "execution_count": 23,
   "metadata": {},
   "outputs": [
    {
     "data": {
      "image/png": "[encoded data removed]",
      "text/plain": [
       "<Figure size 432x288 with 1 Axes>"
      ]
     },
     "metadata": {
      "needs_background": "light"
     },
     "output_type": "display_data"
    }
   ],
   "source": [
    "plt.plot(prev,Y_test - prev,\"o\")\n",
    "plt.xlabel(u\"Predicted\")\n",
    "plt.ylabel(u\"Residus\")\n",
    "plt.hlines(0,-1,9)\n",
    "plt.show()"
   ]
  },
  {
   "cell_type": "code",
   "execution_count": 24,
   "metadata": {},
   "outputs": [
    {
     "data": {
      "text/plain": [
       "array([ 0.        , -0.37687198, -0.        ,  0.        , -0.        ,\n",
       "        0.38776323,  0.        ,  0.        ,  0.54709915,  0.78792087,\n",
       "       -0.        , -0.22947443, -0.        , -0.        , -0.90195728,\n",
       "        0.        ,  0.        , -0.        , -0.        ,  0.        ,\n",
       "       -0.        ,  0.        , -0.        , -0.        ,  0.        ,\n",
       "        0.        ])"
      ]
     },
     "execution_count": 24,
     "metadata": {},
     "output_type": "execute_result"
    }
   ],
   "source": [
    "# Coefficients\n",
    "regLasso=linear_model.Lasso(alpha=regLassOpt.best_params_['alpha'])\n",
    "model_lasso=regLasso.fit(X_train,Y_train)\n",
    "model_lasso.coef_"
   ]
  },
  {
   "cell_type": "code",
   "execution_count": 25,
   "metadata": {},
   "outputs": [
    {
     "name": "stdout",
     "output_type": "stream",
     "text": [
      "Lasso retain 6 variables and delete 20\n"
     ]
    }
   ],
   "source": [
    "coef = pd.Series(model_lasso.coef_, index = X_train.columns)\n",
    "print(\"Lasso retain \" + str(sum(coef != 0)) + \n",
    "      \" variables and delete \" +  str(sum(coef == 0)))"
   ]
  },
  {
   "cell_type": "code",
   "execution_count": 26,
   "metadata": {},
   "outputs": [
    {
     "data": {
      "text/plain": [
       "Text(0.5, 1.0, 'Lasso model coefficients')"
      ]
     },
     "execution_count": 26,
     "metadata": {},
     "output_type": "execute_result"
    },
    {
     "data": {
      "image/png": "[encoded data removed]",
      "text/plain": [
       "<Figure size 576x720 with 1 Axes>"
      ]
     },
     "metadata": {
      "needs_background": "light"
     },
     "output_type": "display_data"
    }
   ],
   "source": [
    "imp_coef = coef.sort_values()\n",
    "plt.rcParams['figure.figsize'] = (8.0, 10.0)\n",
    "imp_coef.plot(kind = \"barh\")\n",
    "plt.title(u\"Lasso model coefficients\")"
   ]
  },
  {
   "cell_type": "code",
   "execution_count": 27,
   "metadata": {},
   "outputs": [
    {
     "name": "stderr",
     "output_type": "stream",
     "text": [
      "c:\\Users\\nguye\\anaconda3\\lib\\site-packages\\sklearn\\linear_model\\_coordinate_descent.py:644: ConvergenceWarning: Objective did not converge. You might want to increase the number of iterations. Duality gap: 1.2934564480574409, tolerance: 0.895025215909091\n",
      "  positive,\n",
      "c:\\Users\\nguye\\anaconda3\\lib\\site-packages\\sklearn\\linear_model\\_coordinate_descent.py:644: ConvergenceWarning: Objective did not converge. You might want to increase the number of iterations. Duality gap: 44.55080072126839, tolerance: 0.7780063977272728\n",
      "  positive,\n"
     ]
    },
    {
     "data": {
      "image/png": "[encoded data removed]",
      "text/plain": [
       "<Figure size 576x720 with 1 Axes>"
      ]
     },
     "metadata": {
      "needs_background": "light"
     },
     "output_type": "display_data"
    }
   ],
   "source": [
    "from sklearn.linear_model import LassoCV\n",
    "model = LassoCV(cv=5, alphas=np.array(range(1,200,1))/200.,n_jobs=-1,random_state=42).fit(X_train,Y_train)\n",
    "m_log_alphas = -np.log10(model.alphas_)\n",
    "\n",
    "plt.figure()\n",
    "# ymin, ymax = 2300, 3800\n",
    "plt.plot(m_log_alphas, model.mse_path_, ':')\n",
    "plt.plot(m_log_alphas, model.mse_path_.mean(axis=-1), 'k',\n",
    "         label='Mean of MSE', linewidth=2)\n",
    "plt.axvline(-np.log10(model.alpha_), linestyle='--', color='k',\n",
    "            label='alpha: optimised by VC')\n",
    "\n",
    "plt.legend()\n",
    "\n",
    "plt.xlabel('-log(alpha)')\n",
    "plt.ylabel('MSE')\n",
    "plt.title('MSE of each validation: coordinate descent ')\n",
    "plt.show()"
   ]
  },
  {
   "cell_type": "code",
   "execution_count": 28,
   "metadata": {},
   "outputs": [
    {
     "data": {
      "image/png": "[encoded data removed]",
      "text/plain": [
       "<Figure size 576x720 with 1 Axes>"
      ]
     },
     "metadata": {
      "needs_background": "light"
     },
     "output_type": "display_data"
    }
   ],
   "source": [
    "from itertools import cycle\n",
    "\n",
    "from sklearn.linear_model import lasso_path\n",
    "alphas_lasso, coefs_lasso, _ = lasso_path(X_train,Y_train, alphas=np.array(range(1,50,1))/20.,)\n",
    "\n",
    "\n",
    "plt.figure()\n",
    "ax = plt.gca()\n",
    "\n",
    "styles = cycle(['-', '--', '-.', ':'])\n",
    "\n",
    "neg_log_alphas_lasso = -np.log10(alphas_lasso)\n",
    "for coef_l, s in zip(coefs_lasso, styles):\n",
    "    l1 = plt.plot(neg_log_alphas_lasso, coef_l, linestyle=s,c='b')\n",
    "plt.xlabel('-Log(alpha)')\n",
    "plt.ylabel('Coefficients')\n",
    "plt.show()"
   ]
  },
  {
   "cell_type": "markdown",
   "metadata": {},
   "source": [
    "#### 3.3.1.2. With `rain_log`"
   ]
  },
  {
   "cell_type": "code",
   "execution_count": 29,
   "metadata": {},
   "outputs": [
    {
     "name": "stdout",
     "output_type": "stream",
     "text": [
      "Best R2 = 0.295246, Best parameter = {'alpha': 0.03015075376884422}\n"
     ]
    }
   ],
   "source": [
    "from sklearn.model_selection import GridSearchCV\n",
    "param=[{\"alpha\": np.linspace(0, 2 , 200) }]\n",
    "\n",
    "regLasso = GridSearchCV(linear_model.Lasso(), param_grid = param, scoring = \"r2\",cv=5,n_jobs=-1)\n",
    "regLassOpt=regLasso.fit(X_train, Y_train_log)\n",
    "# optimal parameter \n",
    "regLassOpt.best_params_[\"alpha\"]\n",
    "print(\"Best R2 = %f, Best parameter = %s\" % (regLassOpt.best_score_,regLassOpt.best_params_))"
   ]
  },
  {
   "cell_type": "code",
   "execution_count": 30,
   "metadata": {},
   "outputs": [
    {
     "name": "stdout",
     "output_type": "stream",
     "text": [
      "Mean squared error :  19.96\n",
      "Mean absolute error :  2.02\n",
      "Mean absolute percentage error :  1342118209495518.2\n",
      "R2 - Score :  0.23\n",
      "Confusion matrix : \n",
      "col_0       high_rain  low_rain\n",
      "rain_class                     \n",
      "high_rain          21        12\n",
      "low_rain           10        48\n",
      "no_rain             3        44\n",
      "              precision    recall  f1-score   support\n",
      "\n",
      "   high_rain       0.62      0.64      0.63        33\n",
      "    low_rain       0.46      0.83      0.59        58\n",
      "     no_rain       0.00      0.00      0.00        47\n",
      "\n",
      "    accuracy                           0.50       138\n",
      "   macro avg       0.36      0.49      0.41       138\n",
      "weighted avg       0.34      0.50      0.40       138\n",
      "\n"
     ]
    },
    {
     "name": "stderr",
     "output_type": "stream",
     "text": [
      "c:\\Users\\nguye\\anaconda3\\lib\\site-packages\\sklearn\\metrics\\_classification.py:1318: UndefinedMetricWarning: Precision and F-score are ill-defined and being set to 0.0 in labels with no predicted samples. Use `zero_division` parameter to control this behavior.\n",
      "  _warn_prf(average, modifier, msg_start, len(result))\n",
      "c:\\Users\\nguye\\anaconda3\\lib\\site-packages\\sklearn\\metrics\\_classification.py:1318: UndefinedMetricWarning: Precision and F-score are ill-defined and being set to 0.0 in labels with no predicted samples. Use `zero_division` parameter to control this behavior.\n",
      "  _warn_prf(average, modifier, msg_start, len(result))\n",
      "c:\\Users\\nguye\\anaconda3\\lib\\site-packages\\sklearn\\metrics\\_classification.py:1318: UndefinedMetricWarning: Precision and F-score are ill-defined and being set to 0.0 in labels with no predicted samples. Use `zero_division` parameter to control this behavior.\n",
      "  _warn_prf(average, modifier, msg_start, len(result))\n"
     ]
    }
   ],
   "source": [
    "prevLog = regLassOpt.predict(X_test)\n",
    "prev = np.exp(prevLog) -1\n",
    "\n",
    "regression_metric(Y_test, prev)\n",
    "classification_metric(Y_test_class, to_class(prev))"
   ]
  },
  {
   "cell_type": "markdown",
   "metadata": {},
   "source": [
    "### 3.3.2. Penalisation Ridge"
   ]
  },
  {
   "cell_type": "markdown",
   "metadata": {},
   "source": [
    "#### With `rain`"
   ]
  },
  {
   "cell_type": "markdown",
   "metadata": {},
   "source": [
    "We implement the Ridge regression with the default values"
   ]
  },
  {
   "cell_type": "code",
   "execution_count": 31,
   "metadata": {},
   "outputs": [
    {
     "name": "stdout",
     "output_type": "stream",
     "text": [
      "Mean squared error :  21.09\n",
      "Mean absolute error :  2.66\n",
      "Mean absolute percentage error :  2978857695046723.0\n",
      "R2 - Score :  0.19\n",
      "Confusion matrix : \n",
      "col_0       high_rain  low_rain  no_rain\n",
      "rain_class                              \n",
      "high_rain          29         2        2\n",
      "low_rain           28        24        6\n",
      "no_rain            20        19        8\n",
      "              precision    recall  f1-score   support\n",
      "\n",
      "   high_rain       0.38      0.88      0.53        33\n",
      "    low_rain       0.53      0.41      0.47        58\n",
      "     no_rain       0.50      0.17      0.25        47\n",
      "\n",
      "    accuracy                           0.44       138\n",
      "   macro avg       0.47      0.49      0.42       138\n",
      "weighted avg       0.48      0.44      0.41       138\n",
      "\n"
     ]
    }
   ],
   "source": [
    "from sklearn.linear_model import Ridge\n",
    "regRidge = Ridge()\n",
    "regRidge.fit(X_train, Y_train)\n",
    "prev = regRidge.predict(X_test)\n",
    "\n",
    "regression_metric(Y_test, prev)\n",
    "classification_metric(Y_test_class, to_class(prev))"
   ]
  },
  {
   "cell_type": "markdown",
   "metadata": {},
   "source": [
    "The penalisation parameter is optimized by the cross validation"
   ]
  },
  {
   "cell_type": "code",
   "execution_count": 74,
   "metadata": {},
   "outputs": [
    {
     "name": "stdout",
     "output_type": "stream",
     "text": [
      "Best R2 = 0.181217, Best parameter = {'alpha': 140.05050505050505}\n"
     ]
    }
   ],
   "source": [
    "from sklearn.model_selection import GridSearchCV\n",
    "param=[{\"alpha\" : np.linspace(140, 145, 100)}]\n",
    "regRidge = GridSearchCV(Ridge(),param_grid = param, scoring = \"r2\",cv=10,n_jobs=-1)\n",
    "regRidOpt=regRidge.fit(X_train, Y_train)\n",
    "# optimal parameter\n",
    "regRidOpt.best_params_[\"alpha\"]\n",
    "print(\"Best R2 = %f, Best parameter = %s\" % (regRidOpt.best_score_,regRidOpt.best_params_))"
   ]
  },
  {
   "cell_type": "markdown",
   "metadata": {},
   "source": [
    "Let's do some previsions with the optimized value of `lambda`"
   ]
  },
  {
   "cell_type": "code",
   "execution_count": 75,
   "metadata": {},
   "outputs": [
    {
     "name": "stdout",
     "output_type": "stream",
     "text": [
      "Mean squared error :  20.31\n",
      "Mean absolute error :  2.5\n",
      "Mean absolute percentage error :  2734181685333767.0\n",
      "R2 - Score :  0.22\n",
      "Confusion matrix : \n",
      "col_0       high_rain  low_rain  no_rain\n",
      "rain_class                              \n",
      "high_rain          29         3        1\n",
      "low_rain           27        31        0\n",
      "no_rain            19        26        2\n",
      "              precision    recall  f1-score   support\n",
      "\n",
      "   high_rain       0.39      0.88      0.54        33\n",
      "    low_rain       0.52      0.53      0.53        58\n",
      "     no_rain       0.67      0.04      0.08        47\n",
      "\n",
      "    accuracy                           0.45       138\n",
      "   macro avg       0.52      0.49      0.38       138\n",
      "weighted avg       0.54      0.45      0.38       138\n",
      "\n"
     ]
    }
   ],
   "source": [
    "prev = regRidOpt.predict(X_test)\n",
    "regression_metric(Y_test, prev)\n",
    "classification_metric(Y_test_class, to_class(prev))"
   ]
  },
  {
   "cell_type": "code",
   "execution_count": 76,
   "metadata": {},
   "outputs": [
    {
     "data": {
      "text/plain": [
       "array([ 0.00110532, -0.18285315, -0.15389393,  0.1651522 , -0.08972391,\n",
       "        0.48351588,  0.0224198 ,  0.09717099,  0.5529149 ,  0.73598732,\n",
       "       -0.10560912, -0.20018796, -0.1167771 , -0.09761594, -0.81023836,\n",
       "        0.14847003,  0.12779397, -0.28033134, -0.12260699,  0.0658401 ,\n",
       "       -0.05654105,  0.01236394, -0.14549736, -0.06987998,  0.14225015,\n",
       "        0.10135434])"
      ]
     },
     "execution_count": 76,
     "metadata": {},
     "output_type": "execute_result"
    }
   ],
   "source": [
    "# Coefficients\n",
    "regRidge=linear_model.Ridge(alpha=regRidOpt.best_params_['alpha'])\n",
    "model_ridge=regRidge.fit(X_train,Y_train)\n",
    "model_ridge.coef_"
   ]
  },
  {
   "cell_type": "code",
   "execution_count": 77,
   "metadata": {},
   "outputs": [
    {
     "name": "stdout",
     "output_type": "stream",
     "text": [
      "Ridge retains 26 variables and deletes 0\n"
     ]
    }
   ],
   "source": [
    "coef = pd.Series(model_ridge.coef_, index = X_train.columns)\n",
    "print(\"Ridge retains \" + str(sum(coef != 0)) + \n",
    "      \" variables and deletes \" +  str(sum(coef == 0)))"
   ]
  },
  {
   "cell_type": "code",
   "execution_count": 78,
   "metadata": {},
   "outputs": [
    {
     "data": {
      "text/plain": [
       "Text(0.5, 1.0, 'Ridge model coefficients')"
      ]
     },
     "execution_count": 78,
     "metadata": {},
     "output_type": "execute_result"
    },
    {
     "data": {
      "image/png": "[encoded data removed]",
      "text/plain": [
       "<Figure size 576x720 with 1 Axes>"
      ]
     },
     "metadata": {
      "needs_background": "light"
     },
     "output_type": "display_data"
    }
   ],
   "source": [
    "imp_coef = coef.sort_values()\n",
    "plt.rcParams['figure.figsize'] = (8.0, 10.0)\n",
    "imp_coef.plot(kind = \"barh\")\n",
    "plt.title(u\"Ridge model coefficients\")"
   ]
  },
  {
   "cell_type": "markdown",
   "metadata": {},
   "source": [
    "#### With `rain_log`"
   ]
  },
  {
   "cell_type": "markdown",
   "metadata": {},
   "source": [
    "We implement the Ridge regression with the default values"
   ]
  },
  {
   "cell_type": "code",
   "execution_count": 79,
   "metadata": {},
   "outputs": [
    {
     "name": "stdout",
     "output_type": "stream",
     "text": [
      "Mean squared error :  18.55\n",
      "Mean absolute error :  2.03\n",
      "Mean absolute percentage error :  1456739163201788.8\n",
      "R2 - Score :  0.29\n",
      "Confusion matrix : \n",
      "col_0       high_rain  low_rain  no_rain\n",
      "rain_class                              \n",
      "high_rain          23         9        1\n",
      "low_rain            9        49        0\n",
      "no_rain             7        38        2\n",
      "              precision    recall  f1-score   support\n",
      "\n",
      "   high_rain       0.59      0.70      0.64        33\n",
      "    low_rain       0.51      0.84      0.64        58\n",
      "     no_rain       0.67      0.04      0.08        47\n",
      "\n",
      "    accuracy                           0.54       138\n",
      "   macro avg       0.59      0.53      0.45       138\n",
      "weighted avg       0.58      0.54      0.45       138\n",
      "\n"
     ]
    }
   ],
   "source": [
    "from sklearn.linear_model import Ridge\n",
    "regRidge_log = Ridge()\n",
    "regRidge_log.fit(X_train, Y_train_log)\n",
    "prev = regRidge_log.predict(X_test)\n",
    "prev = np.exp(prev) - 1\n",
    "\n",
    "regression_metric(Y_test, prev)\n",
    "classification_metric(Y_test_class, to_class(prev))"
   ]
  },
  {
   "cell_type": "markdown",
   "metadata": {},
   "source": [
    "The penalisation parameter is optimized by the cross validation"
   ]
  },
  {
   "cell_type": "code",
   "execution_count": 82,
   "metadata": {},
   "outputs": [
    {
     "name": "stdout",
     "output_type": "stream",
     "text": [
      "Best R2 = 0.288807, Best parameter = {'alpha': 48.63636363636363}\n"
     ]
    }
   ],
   "source": [
    "from sklearn.model_selection import GridSearchCV\n",
    "param=[{\"alpha\" : np.linspace(45, 50, 100)}]\n",
    "regRidge_log = GridSearchCV(Ridge(),param_grid = param, scoring = \"r2\",cv=10,n_jobs=-1)\n",
    "regRidOpt_log=regRidge_log.fit(X_train, Y_train_log)\n",
    "# optimal parameter\n",
    "regRidOpt_log.best_params_[\"alpha\"]\n",
    "print(\"Best R2 = %f, Best parameter = %s\" % (regRidOpt_log.best_score_,regRidOpt_log.best_params_))"
   ]
  },
  {
   "cell_type": "markdown",
   "metadata": {},
   "source": [
    "Let's do some previsions with the optimized value of `lambda`"
   ]
  },
  {
   "cell_type": "code",
   "execution_count": 83,
   "metadata": {},
   "outputs": [
    {
     "name": "stdout",
     "output_type": "stream",
     "text": [
      "Mean squared error :  19.37\n",
      "Mean absolute error :  2.0\n",
      "Mean absolute percentage error :  1388376374218653.8\n",
      "R2 - Score :  0.25\n",
      "Confusion matrix : \n",
      "col_0       high_rain  low_rain\n",
      "rain_class                     \n",
      "high_rain          22        11\n",
      "low_rain            8        50\n",
      "no_rain             5        42\n",
      "              precision    recall  f1-score   support\n",
      "\n",
      "   high_rain       0.63      0.67      0.65        33\n",
      "    low_rain       0.49      0.86      0.62        58\n",
      "     no_rain       0.00      0.00      0.00        47\n",
      "\n",
      "    accuracy                           0.52       138\n",
      "   macro avg       0.37      0.51      0.42       138\n",
      "weighted avg       0.35      0.52      0.42       138\n",
      "\n"
     ]
    },
    {
     "name": "stderr",
     "output_type": "stream",
     "text": [
      "c:\\Users\\nguye\\anaconda3\\lib\\site-packages\\sklearn\\metrics\\_classification.py:1318: UndefinedMetricWarning: Precision and F-score are ill-defined and being set to 0.0 in labels with no predicted samples. Use `zero_division` parameter to control this behavior.\n",
      "  _warn_prf(average, modifier, msg_start, len(result))\n",
      "c:\\Users\\nguye\\anaconda3\\lib\\site-packages\\sklearn\\metrics\\_classification.py:1318: UndefinedMetricWarning: Precision and F-score are ill-defined and being set to 0.0 in labels with no predicted samples. Use `zero_division` parameter to control this behavior.\n",
      "  _warn_prf(average, modifier, msg_start, len(result))\n",
      "c:\\Users\\nguye\\anaconda3\\lib\\site-packages\\sklearn\\metrics\\_classification.py:1318: UndefinedMetricWarning: Precision and F-score are ill-defined and being set to 0.0 in labels with no predicted samples. Use `zero_division` parameter to control this behavior.\n",
      "  _warn_prf(average, modifier, msg_start, len(result))\n"
     ]
    }
   ],
   "source": [
    "prev = regRidOpt_log.predict(X_test)\n",
    "prev = np.exp(prev) - 1\n",
    "regression_metric(Y_test, prev)\n",
    "classification_metric(Y_test_class, to_class(prev))"
   ]
  },
  {
   "cell_type": "markdown",
   "metadata": {},
   "source": [
    "### 3.3.3. Penalisation Elastic"
   ]
  },
  {
   "cell_type": "markdown",
   "metadata": {},
   "source": [
    "#### With `rain`"
   ]
  },
  {
   "cell_type": "code",
   "execution_count": 37,
   "metadata": {},
   "outputs": [
    {
     "name": "stdout",
     "output_type": "stream",
     "text": [
      "Mean squared error :  21.6\n",
      "Mean absolute error :  2.67\n",
      "Mean absolute percentage error :  3039005896868875.0\n",
      "R2 - Score :  0.17\n",
      "Confusion matrix : \n",
      "col_0       high_rain  low_rain\n",
      "rain_class                     \n",
      "high_rain          31         2\n",
      "low_rain           29        29\n",
      "no_rain            19        28\n",
      "              precision    recall  f1-score   support\n",
      "\n",
      "   high_rain       0.39      0.94      0.55        33\n",
      "    low_rain       0.49      0.50      0.50        58\n",
      "     no_rain       0.00      0.00      0.00        47\n",
      "\n",
      "    accuracy                           0.43       138\n",
      "   macro avg       0.29      0.48      0.35       138\n",
      "weighted avg       0.30      0.43      0.34       138\n",
      "\n"
     ]
    },
    {
     "name": "stderr",
     "output_type": "stream",
     "text": [
      "c:\\Users\\nguye\\anaconda3\\lib\\site-packages\\sklearn\\metrics\\_classification.py:1318: UndefinedMetricWarning: Precision and F-score are ill-defined and being set to 0.0 in labels with no predicted samples. Use `zero_division` parameter to control this behavior.\n",
      "  _warn_prf(average, modifier, msg_start, len(result))\n",
      "c:\\Users\\nguye\\anaconda3\\lib\\site-packages\\sklearn\\metrics\\_classification.py:1318: UndefinedMetricWarning: Precision and F-score are ill-defined and being set to 0.0 in labels with no predicted samples. Use `zero_division` parameter to control this behavior.\n",
      "  _warn_prf(average, modifier, msg_start, len(result))\n",
      "c:\\Users\\nguye\\anaconda3\\lib\\site-packages\\sklearn\\metrics\\_classification.py:1318: UndefinedMetricWarning: Precision and F-score are ill-defined and being set to 0.0 in labels with no predicted samples. Use `zero_division` parameter to control this behavior.\n",
      "  _warn_prf(average, modifier, msg_start, len(result))\n"
     ]
    }
   ],
   "source": [
    "from sklearn.linear_model import ElasticNet\n",
    "regElastic = ElasticNet()\n",
    "regElastic.fit(X_train,Y_train)\n",
    "prev = regElastic.predict(X_test)\n",
    "\n",
    "regression_metric(Y_test, prev)\n",
    "classification_metric(Y_test_class, to_class(prev))"
   ]
  },
  {
   "cell_type": "code",
   "execution_count": 38,
   "metadata": {},
   "outputs": [
    {
     "name": "stdout",
     "output_type": "stream",
     "text": [
      "Best R2 = 0.199723, Best parameter = {'alpha': 0.19095477386934673}\n"
     ]
    }
   ],
   "source": [
    "from sklearn.model_selection import GridSearchCV\n",
    "param=[{\"alpha\":np.linspace(0,2,200)}]\n",
    "regElastic = GridSearchCV(ElasticNet(), param, cv=5,n_jobs=-1)\n",
    "regElasOpt=regElastic.fit(X_train, Y_train)\n",
    "# optimal parameter\n",
    "regElasOpt.best_params_[\"alpha\"]\n",
    "print(\"Best R2 = %f, Best parameter = %s\" % (regElasOpt.best_score_, regElasOpt.best_params_))"
   ]
  },
  {
   "cell_type": "markdown",
   "metadata": {},
   "source": [
    "Let's do some previsions with the optimized value of `lambda`"
   ]
  },
  {
   "cell_type": "code",
   "execution_count": 39,
   "metadata": {},
   "outputs": [
    {
     "name": "stdout",
     "output_type": "stream",
     "text": [
      "Mean squared error :  20.2\n",
      "Mean absolute error :  2.49\n",
      "Mean absolute percentage error :  2695997953841904.0\n",
      "R2 - Score :  0.22\n",
      "Confusion matrix : \n",
      "col_0       high_rain  low_rain  no_rain\n",
      "rain_class                              \n",
      "high_rain          28         4        1\n",
      "low_rain           27        31        0\n",
      "no_rain            19        25        3\n",
      "              precision    recall  f1-score   support\n",
      "\n",
      "   high_rain       0.38      0.85      0.52        33\n",
      "    low_rain       0.52      0.53      0.53        58\n",
      "     no_rain       0.75      0.06      0.12        47\n",
      "\n",
      "    accuracy                           0.45       138\n",
      "   macro avg       0.55      0.48      0.39       138\n",
      "weighted avg       0.56      0.45      0.39       138\n",
      "\n"
     ]
    }
   ],
   "source": [
    "prev=regElasOpt.predict(X_test)\n",
    "\n",
    "regression_metric(Y_test, prev)\n",
    "classification_metric(Y_test_class, to_class(prev))\n"
   ]
  },
  {
   "cell_type": "code",
   "execution_count": 40,
   "metadata": {},
   "outputs": [
    {
     "data": {
      "text/plain": [
       "array([ 0.        , -0.2883587 , -0.04571471,  0.        , -0.        ,\n",
       "        0.43373162,  0.        ,  0.        ,  0.543652  ,  0.75824188,\n",
       "       -0.04462993, -0.22759725,  0.        , -0.        , -0.84085592,\n",
       "        0.        ,  0.        , -0.00232474, -0.        ,  0.        ,\n",
       "       -0.        ,  0.        , -0.        , -0.        ,  0.        ,\n",
       "        0.        ])"
      ]
     },
     "execution_count": 40,
     "metadata": {},
     "output_type": "execute_result"
    }
   ],
   "source": [
    "# Coefficients\n",
    "regElastic=linear_model.ElasticNet(alpha=regElasOpt.best_params_['alpha'])\n",
    "model_elastic=regElastic.fit(X_train,Y_train)\n",
    "model_elastic.coef_"
   ]
  },
  {
   "cell_type": "code",
   "execution_count": 41,
   "metadata": {},
   "outputs": [
    {
     "name": "stdout",
     "output_type": "stream",
     "text": [
      "Elastic retains 9 variables and deletes 17\n"
     ]
    }
   ],
   "source": [
    "coef = pd.Series(model_elastic.coef_, index = X_train.columns)\n",
    "print(\"Elastic retains \" + str(sum(coef != 0)) + \n",
    "      \" variables and deletes \" +  str(sum(coef == 0)))"
   ]
  },
  {
   "cell_type": "code",
   "execution_count": 42,
   "metadata": {},
   "outputs": [
    {
     "data": {
      "text/plain": [
       "Text(0.5, 1.0, 'Elastic model coefficients')"
      ]
     },
     "execution_count": 42,
     "metadata": {},
     "output_type": "execute_result"
    },
    {
     "data": {
      "image/png": "[encoded data removed]",
      "text/plain": [
       "<Figure size 576x720 with 1 Axes>"
      ]
     },
     "metadata": {
      "needs_background": "light"
     },
     "output_type": "display_data"
    }
   ],
   "source": [
    "imp_coef = coef.sort_values()\n",
    "plt.rcParams['figure.figsize'] = (8.0, 10.0)\n",
    "imp_coef.plot(kind = \"barh\")\n",
    "plt.title(u\"Elastic model coefficients\")"
   ]
  },
  {
   "cell_type": "markdown",
   "metadata": {},
   "source": [
    "#### With `rain_log`"
   ]
  },
  {
   "cell_type": "code",
   "execution_count": 85,
   "metadata": {},
   "outputs": [
    {
     "name": "stdout",
     "output_type": "stream",
     "text": [
      "Mean squared error :  27.52\n",
      "Mean absolute error :  2.44\n",
      "Mean absolute percentage error :  1648054885416743.2\n",
      "R2 - Score :  -0.06\n",
      "Confusion matrix : \n",
      "col_0       low_rain\n",
      "rain_class          \n",
      "high_rain         33\n",
      "low_rain          58\n",
      "no_rain           47\n",
      "              precision    recall  f1-score   support\n",
      "\n",
      "   high_rain       0.00      0.00      0.00        33\n",
      "    low_rain       0.42      1.00      0.59        58\n",
      "     no_rain       0.00      0.00      0.00        47\n",
      "\n",
      "    accuracy                           0.42       138\n",
      "   macro avg       0.14      0.33      0.20       138\n",
      "weighted avg       0.18      0.42      0.25       138\n",
      "\n"
     ]
    },
    {
     "name": "stderr",
     "output_type": "stream",
     "text": [
      "c:\\Users\\nguye\\anaconda3\\lib\\site-packages\\sklearn\\metrics\\_classification.py:1318: UndefinedMetricWarning: Precision and F-score are ill-defined and being set to 0.0 in labels with no predicted samples. Use `zero_division` parameter to control this behavior.\n",
      "  _warn_prf(average, modifier, msg_start, len(result))\n",
      "c:\\Users\\nguye\\anaconda3\\lib\\site-packages\\sklearn\\metrics\\_classification.py:1318: UndefinedMetricWarning: Precision and F-score are ill-defined and being set to 0.0 in labels with no predicted samples. Use `zero_division` parameter to control this behavior.\n",
      "  _warn_prf(average, modifier, msg_start, len(result))\n",
      "c:\\Users\\nguye\\anaconda3\\lib\\site-packages\\sklearn\\metrics\\_classification.py:1318: UndefinedMetricWarning: Precision and F-score are ill-defined and being set to 0.0 in labels with no predicted samples. Use `zero_division` parameter to control this behavior.\n",
      "  _warn_prf(average, modifier, msg_start, len(result))\n"
     ]
    }
   ],
   "source": [
    "from sklearn.linear_model import ElasticNet\n",
    "regElastic_log = ElasticNet()\n",
    "regElastic_log.fit(X_train,Y_train_log)\n",
    "prev = regElastic_log.predict(X_test)\n",
    "prev = np.exp(prev) - 1\n",
    "\n",
    "regression_metric(Y_test, prev)\n",
    "classification_metric(Y_test_class, to_class(prev))"
   ]
  },
  {
   "cell_type": "code",
   "execution_count": 86,
   "metadata": {},
   "outputs": [
    {
     "name": "stdout",
     "output_type": "stream",
     "text": [
      "Best R2 = 0.294919, Best parameter = {'alpha': 0.05025125628140704}\n"
     ]
    }
   ],
   "source": [
    "from sklearn.model_selection import GridSearchCV\n",
    "param = [{\"alpha\":np.linspace(0,2,200)}]\n",
    "regElastic = GridSearchCV(ElasticNet(), param, cv=5,n_jobs=-1)\n",
    "regElasOpt_log = regElastic.fit(X_train, Y_train_log)\n",
    "# optimal parameter\n",
    "regElasOpt_log.best_params_[\"alpha\"]\n",
    "print(\"Best R2 = %f, Best parameter = %s\" % (regElasOpt_log.best_score_, regElasOpt_log.best_params_))"
   ]
  },
  {
   "cell_type": "markdown",
   "metadata": {},
   "source": [
    "Let's do some previsions with the optimized value of `lambda`"
   ]
  },
  {
   "cell_type": "code",
   "execution_count": 87,
   "metadata": {},
   "outputs": [
    {
     "name": "stdout",
     "output_type": "stream",
     "text": [
      "Mean squared error :  19.95\n",
      "Mean absolute error :  2.01\n",
      "Mean absolute percentage error :  1340408312436011.0\n",
      "R2 - Score :  0.23\n",
      "Confusion matrix : \n",
      "col_0       high_rain  low_rain\n",
      "rain_class                     \n",
      "high_rain          21        12\n",
      "low_rain            9        49\n",
      "no_rain             3        44\n",
      "              precision    recall  f1-score   support\n",
      "\n",
      "   high_rain       0.64      0.64      0.64        33\n",
      "    low_rain       0.47      0.84      0.60        58\n",
      "     no_rain       0.00      0.00      0.00        47\n",
      "\n",
      "    accuracy                           0.51       138\n",
      "   macro avg       0.37      0.49      0.41       138\n",
      "weighted avg       0.35      0.51      0.40       138\n",
      "\n"
     ]
    },
    {
     "name": "stderr",
     "output_type": "stream",
     "text": [
      "c:\\Users\\nguye\\anaconda3\\lib\\site-packages\\sklearn\\metrics\\_classification.py:1318: UndefinedMetricWarning: Precision and F-score are ill-defined and being set to 0.0 in labels with no predicted samples. Use `zero_division` parameter to control this behavior.\n",
      "  _warn_prf(average, modifier, msg_start, len(result))\n",
      "c:\\Users\\nguye\\anaconda3\\lib\\site-packages\\sklearn\\metrics\\_classification.py:1318: UndefinedMetricWarning: Precision and F-score are ill-defined and being set to 0.0 in labels with no predicted samples. Use `zero_division` parameter to control this behavior.\n",
      "  _warn_prf(average, modifier, msg_start, len(result))\n",
      "c:\\Users\\nguye\\anaconda3\\lib\\site-packages\\sklearn\\metrics\\_classification.py:1318: UndefinedMetricWarning: Precision and F-score are ill-defined and being set to 0.0 in labels with no predicted samples. Use `zero_division` parameter to control this behavior.\n",
      "  _warn_prf(average, modifier, msg_start, len(result))\n"
     ]
    }
   ],
   "source": [
    "prev = regElasOpt_log.predict(X_test)\n",
    "prev = np.exp(prev) - 1\n",
    " \n",
    "regression_metric(Y_test, prev)\n",
    "classification_metric(Y_test_class, to_class(prev))\n"
   ]
  },
  {
   "cell_type": "markdown",
   "metadata": {},
   "source": [
    "## 3.4. Generalized Linear Models (GLM)"
   ]
  },
  {
   "cell_type": "markdown",
   "metadata": {},
   "source": [
    "### 3.4.1. Poisson Regression "
   ]
  },
  {
   "cell_type": "markdown",
   "metadata": {},
   "source": [
    "#### With `rain`"
   ]
  },
  {
   "cell_type": "code",
   "execution_count": 43,
   "metadata": {},
   "outputs": [
    {
     "name": "stdout",
     "output_type": "stream",
     "text": [
      "Mean squared error :  19.13\n",
      "Mean absolute error :  2.53\n",
      "Mean absolute percentage error :  2402814485053989.5\n",
      "R2 - Score :  0.26\n",
      "Confusion matrix : \n",
      "col_0       high_rain  low_rain\n",
      "rain_class                     \n",
      "high_rain          26         7\n",
      "low_rain           25        33\n",
      "no_rain            15        32\n",
      "              precision    recall  f1-score   support\n",
      "\n",
      "   high_rain       0.39      0.79      0.53        33\n",
      "    low_rain       0.46      0.57      0.51        58\n",
      "     no_rain       0.00      0.00      0.00        47\n",
      "\n",
      "    accuracy                           0.43       138\n",
      "   macro avg       0.28      0.45      0.34       138\n",
      "weighted avg       0.29      0.43      0.34       138\n",
      "\n"
     ]
    },
    {
     "name": "stderr",
     "output_type": "stream",
     "text": [
      "c:\\Users\\nguye\\anaconda3\\lib\\site-packages\\sklearn\\metrics\\_classification.py:1318: UndefinedMetricWarning: Precision and F-score are ill-defined and being set to 0.0 in labels with no predicted samples. Use `zero_division` parameter to control this behavior.\n",
      "  _warn_prf(average, modifier, msg_start, len(result))\n",
      "c:\\Users\\nguye\\anaconda3\\lib\\site-packages\\sklearn\\metrics\\_classification.py:1318: UndefinedMetricWarning: Precision and F-score are ill-defined and being set to 0.0 in labels with no predicted samples. Use `zero_division` parameter to control this behavior.\n",
      "  _warn_prf(average, modifier, msg_start, len(result))\n",
      "c:\\Users\\nguye\\anaconda3\\lib\\site-packages\\sklearn\\metrics\\_classification.py:1318: UndefinedMetricWarning: Precision and F-score are ill-defined and being set to 0.0 in labels with no predicted samples. Use `zero_division` parameter to control this behavior.\n",
      "  _warn_prf(average, modifier, msg_start, len(result))\n"
     ]
    }
   ],
   "source": [
    "from sklearn.linear_model import PoissonRegressor\n",
    "regPoisson = PoissonRegressor(alpha = 0, max_iter = 300)\n",
    "regPoisson.fit(X_train, Y_train)\n",
    "prev = regPoisson.predict(X_test)\n",
    "\n",
    "regression_metric(Y_test, prev)\n",
    "classification_metric(Y_test_class, to_class(prev))\n"
   ]
  },
  {
   "cell_type": "markdown",
   "metadata": {},
   "source": [
    "### 3.4.2. Poisson Regression with penalty "
   ]
  },
  {
   "cell_type": "code",
   "execution_count": 44,
   "metadata": {},
   "outputs": [
    {
     "name": "stdout",
     "output_type": "stream",
     "text": [
      "Best R2 = 0.261372, Best parameter = {'alpha': 0.45226130653266333}\n"
     ]
    }
   ],
   "source": [
    "from sklearn.model_selection import GridSearchCV\n",
    "param = [{\"alpha\":np.linspace(0,2,200)}]\n",
    "regPoisson_l2 = GridSearchCV(PoissonRegressor(), param,cv=5,n_jobs=-1)\n",
    "regPoiOpt_l2 = regPoisson_l2.fit(X_train, Y_train)\n",
    "# optimal parameter\n",
    "regPoiOpt_l2.best_params_[\"alpha\"]\n",
    "print(\"Best R2 = %f, Best parameter = %s\" % (regPoiOpt_l2.best_score_,regPoiOpt_l2.best_params_))"
   ]
  },
  {
   "cell_type": "code",
   "execution_count": 45,
   "metadata": {},
   "outputs": [
    {
     "name": "stdout",
     "output_type": "stream",
     "text": [
      "Mean squared error :  18.09\n",
      "Mean absolute error :  2.42\n",
      "Mean absolute percentage error :  2560581532952368.0\n",
      "R2 - Score :  0.3\n",
      "Confusion matrix : \n",
      "col_0      high_rain  low_rain\n",
      "row_0                         \n",
      "high_rain         26         7\n",
      "low_rain          23        35\n",
      "no_rain           16        31\n",
      "              precision    recall  f1-score   support\n",
      "\n",
      "   high_rain       0.40      0.79      0.53        33\n",
      "    low_rain       0.48      0.60      0.53        58\n",
      "     no_rain       0.00      0.00      0.00        47\n",
      "\n",
      "    accuracy                           0.44       138\n",
      "   macro avg       0.29      0.46      0.35       138\n",
      "weighted avg       0.30      0.44      0.35       138\n",
      "\n"
     ]
    },
    {
     "name": "stderr",
     "output_type": "stream",
     "text": [
      "c:\\Users\\nguye\\anaconda3\\lib\\site-packages\\sklearn\\metrics\\_classification.py:1318: UndefinedMetricWarning: Precision and F-score are ill-defined and being set to 0.0 in labels with no predicted samples. Use `zero_division` parameter to control this behavior.\n",
      "  _warn_prf(average, modifier, msg_start, len(result))\n",
      "c:\\Users\\nguye\\anaconda3\\lib\\site-packages\\sklearn\\metrics\\_classification.py:1318: UndefinedMetricWarning: Precision and F-score are ill-defined and being set to 0.0 in labels with no predicted samples. Use `zero_division` parameter to control this behavior.\n",
      "  _warn_prf(average, modifier, msg_start, len(result))\n",
      "c:\\Users\\nguye\\anaconda3\\lib\\site-packages\\sklearn\\metrics\\_classification.py:1318: UndefinedMetricWarning: Precision and F-score are ill-defined and being set to 0.0 in labels with no predicted samples. Use `zero_division` parameter to control this behavior.\n",
      "  _warn_prf(average, modifier, msg_start, len(result))\n"
     ]
    }
   ],
   "source": [
    "prev = regPoiOpt_l2.predict(X_test)\n",
    "\n",
    "regression_metric(Y_test, prev)\n",
    "classification_metric(np.array(Y_test_class), to_class(prev))"
   ]
  },
  {
   "cell_type": "markdown",
   "metadata": {},
   "source": [
    "### 3.4.3. Gamma Regression"
   ]
  },
  {
   "cell_type": "code",
   "execution_count": 46,
   "metadata": {},
   "outputs": [],
   "source": [
    "from sklearn.linear_model import GammaRegressor"
   ]
  },
  {
   "cell_type": "code",
   "execution_count": 92,
   "metadata": {},
   "outputs": [
    {
     "name": "stdout",
     "output_type": "stream",
     "text": [
      "The best parameter is  {'alpha': 0.1642857142857143}\n",
      "Mean squared error :  18.12\n",
      "Mean absolute error :  2.38\n",
      "Mean absolute percentage error :  2241305606891828.5\n",
      "R2 - Score :  0.3\n",
      "Confusion matrix : \n",
      "col_0       high_rain  low_rain\n",
      "rain_class                     \n",
      "high_rain          27         6\n",
      "low_rain           17        41\n",
      "no_rain            10        37\n",
      "              precision    recall  f1-score   support\n",
      "\n",
      "   high_rain       0.50      0.82      0.62        33\n",
      "    low_rain       0.49      0.71      0.58        58\n",
      "     no_rain       0.00      0.00      0.00        47\n",
      "\n",
      "    accuracy                           0.49       138\n",
      "   macro avg       0.33      0.51      0.40       138\n",
      "weighted avg       0.32      0.49      0.39       138\n",
      "\n"
     ]
    },
    {
     "name": "stderr",
     "output_type": "stream",
     "text": [
      "c:\\Users\\nguye\\anaconda3\\lib\\site-packages\\sklearn\\metrics\\_classification.py:1318: UndefinedMetricWarning: Precision and F-score are ill-defined and being set to 0.0 in labels with no predicted samples. Use `zero_division` parameter to control this behavior.\n",
      "  _warn_prf(average, modifier, msg_start, len(result))\n",
      "c:\\Users\\nguye\\anaconda3\\lib\\site-packages\\sklearn\\metrics\\_classification.py:1318: UndefinedMetricWarning: Precision and F-score are ill-defined and being set to 0.0 in labels with no predicted samples. Use `zero_division` parameter to control this behavior.\n",
      "  _warn_prf(average, modifier, msg_start, len(result))\n",
      "c:\\Users\\nguye\\anaconda3\\lib\\site-packages\\sklearn\\metrics\\_classification.py:1318: UndefinedMetricWarning: Precision and F-score are ill-defined and being set to 0.0 in labels with no predicted samples. Use `zero_division` parameter to control this behavior.\n",
      "  _warn_prf(average, modifier, msg_start, len(result))\n"
     ]
    }
   ],
   "source": [
    "param = {\"alpha\" : np.linspace(0.1, 1, 15)}\n",
    "gamma_reg_cv = GridSearchCV(GammaRegressor(max_iter=300), param_grid = param, cv = 10, n_jobs = -1)\n",
    "gamma_reg = gamma_reg_cv.fit(X_train, Y_train + 1e-5)\n",
    "\n",
    "print(\"The best parameter is \", gamma_reg_cv.best_params_)\n",
    "\n",
    "y_pred = gamma_reg.predict(X_test)\n",
    "\n",
    "regression_metric(Y_test, y_pred)\n",
    "classification_metric(Y_test_class, to_class(y_pred))"
   ]
  },
  {
   "cell_type": "markdown",
   "metadata": {},
   "source": [
    "### 3.3.4. Tweedie Regression"
   ]
  },
  {
   "cell_type": "code",
   "execution_count": 48,
   "metadata": {},
   "outputs": [],
   "source": [
    "from sklearn.linear_model import TweedieRegressor"
   ]
  },
  {
   "cell_type": "code",
   "execution_count": 93,
   "metadata": {},
   "outputs": [
    {
     "name": "stdout",
     "output_type": "stream",
     "text": [
      "The best parameter is  {'alpha': 0.4, 'power': 1.8}\n",
      "The best score is  -2.3144461668512224\n",
      "Mean squared error :  17.52\n",
      "Mean absolute error :  2.32\n",
      "Mean absolute percentage error :  2306044107209599.0\n",
      "R2 - Score :  0.33\n",
      "Confusion matrix : \n",
      "col_0       high_rain  low_rain\n",
      "rain_class                     \n",
      "high_rain          27         6\n",
      "low_rain           18        40\n",
      "no_rain            11        36\n",
      "              precision    recall  f1-score   support\n",
      "\n",
      "   high_rain       0.48      0.82      0.61        33\n",
      "    low_rain       0.49      0.69      0.57        58\n",
      "     no_rain       0.00      0.00      0.00        47\n",
      "\n",
      "    accuracy                           0.49       138\n",
      "   macro avg       0.32      0.50      0.39       138\n",
      "weighted avg       0.32      0.49      0.39       138\n",
      "\n",
      "Confusion matrix : \n",
      "col_0       high_rain  low_rain  no_rain\n",
      "rain_class                              \n",
      "high_rain          27         4        2\n",
      "low_rain           18        39        1\n",
      "no_rain            11        32        4\n",
      "              precision    recall  f1-score   support\n",
      "\n",
      "   high_rain       0.48      0.82      0.61        33\n",
      "    low_rain       0.52      0.67      0.59        58\n",
      "     no_rain       0.57      0.09      0.15        47\n",
      "\n",
      "    accuracy                           0.51       138\n",
      "   macro avg       0.52      0.53      0.45       138\n",
      "weighted avg       0.53      0.51      0.44       138\n",
      "\n"
     ]
    },
    {
     "name": "stderr",
     "output_type": "stream",
     "text": [
      "c:\\Users\\nguye\\anaconda3\\lib\\site-packages\\sklearn\\model_selection\\_validation.py:372: FitFailedWarning: \n",
      "400 fits failed out of a total of 1000.\n",
      "The score on these train-test partitions for these parameters will be set to nan.\n",
      "If these failures are not expected, you can try to debug them by setting error_score='raise'.\n",
      "\n",
      "Below are more details about the failures:\n",
      "--------------------------------------------------------------------------------\n",
      "400 fits failed with the following error:\n",
      "Traceback (most recent call last):\n",
      "  File \"c:\\Users\\nguye\\anaconda3\\lib\\site-packages\\sklearn\\model_selection\\_validation.py\", line 680, in _fit_and_score\n",
      "    estimator.fit(X_train, y_train, **fit_params)\n",
      "  File \"c:\\Users\\nguye\\anaconda3\\lib\\site-packages\\sklearn\\linear_model\\_glm\\glm.py\", line 265, in fit\n",
      "    family.__class__.__name__\n",
      "ValueError: Some value(s) of y are out of the valid range for family TweedieDistribution\n",
      "\n",
      "  warnings.warn(some_fits_failed_message, FitFailedWarning)\n",
      "c:\\Users\\nguye\\anaconda3\\lib\\site-packages\\sklearn\\model_selection\\_search.py:972: UserWarning: One or more of the test scores are non-finite: [-2.46975079 -2.38491419 -2.3492212  -2.3471463  -2.34834597 -2.35383168\n",
      "         nan         nan         nan         nan -2.48003216 -2.38199501\n",
      " -2.33975383 -2.33403525 -2.32956043 -2.32667909         nan         nan\n",
      "         nan         nan -2.48497843 -2.38236378 -2.33671292 -2.32914964\n",
      " -2.32218609 -2.31572835         nan         nan         nan         nan\n",
      " -2.48854741 -2.38648245 -2.3384635  -2.33035181 -2.32242048 -2.31444617\n",
      "         nan         nan         nan         nan -2.49112204 -2.39052069\n",
      " -2.34318116 -2.33449175 -2.32561109 -2.31694991         nan         nan\n",
      "         nan         nan -2.49343213 -2.39456177 -2.34825793 -2.33978847\n",
      " -2.33093333 -2.32149394         nan         nan         nan         nan\n",
      " -2.49557788 -2.39883688 -2.35440526 -2.34550943 -2.33607655 -2.32599732\n",
      "         nan         nan         nan         nan -2.49753181 -2.40351906\n",
      " -2.36009096 -2.35085869 -2.34099708 -2.33075312         nan         nan\n",
      "         nan         nan -2.49933787 -2.40844433 -2.36556648 -2.35604849\n",
      " -2.3464644  -2.33611            nan         nan         nan         nan\n",
      " -2.50108616 -2.41313624 -2.37069695 -2.36147682 -2.35168339 -2.34106753\n",
      "         nan         nan         nan         nan]\n",
      "  category=UserWarning,\n",
      "c:\\Users\\nguye\\anaconda3\\lib\\site-packages\\sklearn\\metrics\\_classification.py:1318: UndefinedMetricWarning: Precision and F-score are ill-defined and being set to 0.0 in labels with no predicted samples. Use `zero_division` parameter to control this behavior.\n",
      "  _warn_prf(average, modifier, msg_start, len(result))\n",
      "c:\\Users\\nguye\\anaconda3\\lib\\site-packages\\sklearn\\metrics\\_classification.py:1318: UndefinedMetricWarning: Precision and F-score are ill-defined and being set to 0.0 in labels with no predicted samples. Use `zero_division` parameter to control this behavior.\n",
      "  _warn_prf(average, modifier, msg_start, len(result))\n",
      "c:\\Users\\nguye\\anaconda3\\lib\\site-packages\\sklearn\\metrics\\_classification.py:1318: UndefinedMetricWarning: Precision and F-score are ill-defined and being set to 0.0 in labels with no predicted samples. Use `zero_division` parameter to control this behavior.\n",
      "  _warn_prf(average, modifier, msg_start, len(result))\n"
     ]
    }
   ],
   "source": [
    "param = {\"power\" : [0, 1, 1.5, 1.6, 1.7, 1.8, 2, 2.5, 3, 4], \"alpha\" : np.linspace(0.1, 1, 10)}\n",
    "tw_cv = GridSearchCV(TweedieRegressor(link = \"log\", max_iter = 300), param_grid= param, cv = 10, n_jobs = -1, scoring = \"neg_mean_absolute_error\")\n",
    "tw = tw_cv.fit(X_train, Y_train)\n",
    "print(\"The best parameter is \", tw_cv.best_params_)\n",
    "print(\"The best score is \", tw_cv.best_score_ )\n",
    "y_pred = tw.predict(X_test)\n",
    "\n",
    "regression_metric(Y_test, y_pred)\n",
    "classification_metric(Y_test_class, to_class(y_pred))\n",
    "classification_metric(Y_test_class, to_class(y_pred, eps = 0.5))"
   ]
  },
  {
   "cell_type": "markdown",
   "metadata": {},
   "source": [
    "## 3.5. SVM Regression"
   ]
  },
  {
   "cell_type": "code",
   "execution_count": 50,
   "metadata": {},
   "outputs": [],
   "source": [
    "from sklearn.svm import LinearSVR"
   ]
  },
  {
   "cell_type": "code",
   "execution_count": 51,
   "metadata": {},
   "outputs": [
    {
     "name": "stdout",
     "output_type": "stream",
     "text": [
      "Best Mean cross-validated accuracy = -2.105254, Best parameter = {'C': 0.05477386934673367}\n"
     ]
    }
   ],
   "source": [
    "param = [{\"C\": np.linspace(0.01, 1, 200) }]\n",
    "svr = GridSearchCV(LinearSVR(), param, cv=10, n_jobs = -1, scoring = \"neg_mean_absolute_error\")\n",
    "svrLinOpt = svr.fit(X_train, Y_train)\n",
    "print(\"Best Mean cross-validated accuracy = %f, Best parameter = %s\" % (svrLinOpt.best_score_, svrLinOpt.best_params_))"
   ]
  },
  {
   "cell_type": "code",
   "execution_count": 52,
   "metadata": {},
   "outputs": [
    {
     "name": "stdout",
     "output_type": "stream",
     "text": [
      "Mean squared error :  23.23\n",
      "Mean absolute error :  2.06\n",
      "Mean absolute percentage error :  1033653042433951.0\n",
      "R2 - Score :  0.11\n",
      "Confusion matrix : \n",
      "col_0       high_rain  low_rain  no_rain\n",
      "rain_class                              \n",
      "high_rain          16        16        1\n",
      "low_rain            5        47        6\n",
      "no_rain             3        38        6\n",
      "              precision    recall  f1-score   support\n",
      "\n",
      "   high_rain       0.67      0.48      0.56        33\n",
      "    low_rain       0.47      0.81      0.59        58\n",
      "     no_rain       0.46      0.13      0.20        47\n",
      "\n",
      "    accuracy                           0.50       138\n",
      "   macro avg       0.53      0.47      0.45       138\n",
      "weighted avg       0.51      0.50      0.45       138\n",
      "\n"
     ]
    }
   ],
   "source": [
    "prev = svrLinOpt.predict(X_test)\n",
    "\n",
    "regression_metric(Y_test, prev)\n",
    "classification_metric(Y_test_class, to_class(prev))"
   ]
  },
  {
   "cell_type": "markdown",
   "metadata": {},
   "source": [
    "## 3.6. Comparison of the performance "
   ]
  },
  {
   "cell_type": "code",
   "execution_count": 15,
   "metadata": {},
   "outputs": [],
   "source": [
    "perf_reg = pd.read_excel(\"./Performance_Regression.xlsx\", header = 1)"
   ]
  },
  {
   "cell_type": "code",
   "execution_count": 16,
   "metadata": {},
   "outputs": [
    {
     "data": {
      "text/html": [
       "<div>\n",
       "<style scoped>\n",
       "    .dataframe tbody tr th:only-of-type {\n",
       "        vertical-align: middle;\n",
       "    }\n",
       "\n",
       "    .dataframe tbody tr th {\n",
       "        vertical-align: top;\n",
       "    }\n",
       "\n",
       "    .dataframe thead th {\n",
       "        text-align: right;\n",
       "    }\n",
       "</style>\n",
       "<table border=\"1\" class=\"dataframe\">\n",
       "  <thead>\n",
       "    <tr style=\"text-align: right;\">\n",
       "      <th></th>\n",
       "      <th>Model</th>\n",
       "      <th>MSE</th>\n",
       "      <th>MAE</th>\n",
       "      <th>MAPE</th>\n",
       "      <th>R2_Score</th>\n",
       "      <th>Accuracy</th>\n",
       "      <th>Avg_precision</th>\n",
       "      <th>Avg_recall</th>\n",
       "      <th>Avg_f1_score</th>\n",
       "    </tr>\n",
       "  </thead>\n",
       "  <tbody>\n",
       "    <tr>\n",
       "      <th>0</th>\n",
       "      <td>lin_reg_rain</td>\n",
       "      <td>21.31</td>\n",
       "      <td>2.71</td>\n",
       "      <td>3.012464e+15</td>\n",
       "      <td>0.18</td>\n",
       "      <td>0.44</td>\n",
       "      <td>0.47</td>\n",
       "      <td>0.49</td>\n",
       "      <td>0.42</td>\n",
       "    </tr>\n",
       "    <tr>\n",
       "      <th>1</th>\n",
       "      <td>lin_reg_rain_log</td>\n",
       "      <td>18.36</td>\n",
       "      <td>2.06</td>\n",
       "      <td>1.494004e+15</td>\n",
       "      <td>0.29</td>\n",
       "      <td>0.51</td>\n",
       "      <td>0.46</td>\n",
       "      <td>0.51</td>\n",
       "      <td>0.43</td>\n",
       "    </tr>\n",
       "    <tr>\n",
       "      <th>2</th>\n",
       "      <td>lasso_rain</td>\n",
       "      <td>20.13</td>\n",
       "      <td>2.48</td>\n",
       "      <td>2.685509e+15</td>\n",
       "      <td>0.23</td>\n",
       "      <td>0.45</td>\n",
       "      <td>0.55</td>\n",
       "      <td>0.48</td>\n",
       "      <td>0.39</td>\n",
       "    </tr>\n",
       "    <tr>\n",
       "      <th>3</th>\n",
       "      <td>lasso_rain_log</td>\n",
       "      <td>19.96</td>\n",
       "      <td>2.02</td>\n",
       "      <td>1.342118e+15</td>\n",
       "      <td>0.23</td>\n",
       "      <td>0.50</td>\n",
       "      <td>0.36</td>\n",
       "      <td>0.49</td>\n",
       "      <td>0.41</td>\n",
       "    </tr>\n",
       "    <tr>\n",
       "      <th>4</th>\n",
       "      <td>ridge_rain</td>\n",
       "      <td>20.31</td>\n",
       "      <td>2.50</td>\n",
       "      <td>2.734182e+15</td>\n",
       "      <td>0.22</td>\n",
       "      <td>0.45</td>\n",
       "      <td>0.52</td>\n",
       "      <td>0.49</td>\n",
       "      <td>0.38</td>\n",
       "    </tr>\n",
       "    <tr>\n",
       "      <th>5</th>\n",
       "      <td>ridge_rain_log</td>\n",
       "      <td>18.55</td>\n",
       "      <td>2.03</td>\n",
       "      <td>1.456739e+15</td>\n",
       "      <td>0.29</td>\n",
       "      <td>0.54</td>\n",
       "      <td>0.59</td>\n",
       "      <td>0.53</td>\n",
       "      <td>0.45</td>\n",
       "    </tr>\n",
       "    <tr>\n",
       "      <th>6</th>\n",
       "      <td>elastic_net</td>\n",
       "      <td>20.20</td>\n",
       "      <td>2.49</td>\n",
       "      <td>2.695998e+15</td>\n",
       "      <td>0.22</td>\n",
       "      <td>0.45</td>\n",
       "      <td>0.55</td>\n",
       "      <td>0.48</td>\n",
       "      <td>0.39</td>\n",
       "    </tr>\n",
       "    <tr>\n",
       "      <th>7</th>\n",
       "      <td>elastic_net_log</td>\n",
       "      <td>19.95</td>\n",
       "      <td>2.01</td>\n",
       "      <td>1.340408e+15</td>\n",
       "      <td>0.23</td>\n",
       "      <td>0.51</td>\n",
       "      <td>0.37</td>\n",
       "      <td>0.49</td>\n",
       "      <td>0.41</td>\n",
       "    </tr>\n",
       "    <tr>\n",
       "      <th>8</th>\n",
       "      <td>poisson</td>\n",
       "      <td>19.13</td>\n",
       "      <td>2.53</td>\n",
       "      <td>2.402814e+15</td>\n",
       "      <td>0.26</td>\n",
       "      <td>0.43</td>\n",
       "      <td>0.28</td>\n",
       "      <td>0.45</td>\n",
       "      <td>0.34</td>\n",
       "    </tr>\n",
       "    <tr>\n",
       "      <th>9</th>\n",
       "      <td>poisson_pen</td>\n",
       "      <td>18.09</td>\n",
       "      <td>2.42</td>\n",
       "      <td>2.560582e+15</td>\n",
       "      <td>0.30</td>\n",
       "      <td>0.44</td>\n",
       "      <td>0.29</td>\n",
       "      <td>0.46</td>\n",
       "      <td>0.35</td>\n",
       "    </tr>\n",
       "    <tr>\n",
       "      <th>10</th>\n",
       "      <td>gamma</td>\n",
       "      <td>18.12</td>\n",
       "      <td>2.38</td>\n",
       "      <td>2.241306e+15</td>\n",
       "      <td>0.30</td>\n",
       "      <td>0.49</td>\n",
       "      <td>0.33</td>\n",
       "      <td>0.51</td>\n",
       "      <td>0.40</td>\n",
       "    </tr>\n",
       "    <tr>\n",
       "      <th>12</th>\n",
       "      <td>tweedie</td>\n",
       "      <td>17.52</td>\n",
       "      <td>2.32</td>\n",
       "      <td>2.306044e+15</td>\n",
       "      <td>0.33</td>\n",
       "      <td>0.49</td>\n",
       "      <td>0.32</td>\n",
       "      <td>0.50</td>\n",
       "      <td>0.39</td>\n",
       "    </tr>\n",
       "    <tr>\n",
       "      <th>13</th>\n",
       "      <td>svm_lin</td>\n",
       "      <td>23.23</td>\n",
       "      <td>2.06</td>\n",
       "      <td>1.033653e+15</td>\n",
       "      <td>0.11</td>\n",
       "      <td>0.50</td>\n",
       "      <td>0.53</td>\n",
       "      <td>0.47</td>\n",
       "      <td>0.45</td>\n",
       "    </tr>\n",
       "  </tbody>\n",
       "</table>\n",
       "</div>"
      ],
      "text/plain": [
       "               Model    MSE   MAE          MAPE  R2_Score  Accuracy  \\\n",
       "0       lin_reg_rain  21.31  2.71  3.012464e+15      0.18      0.44   \n",
       "1   lin_reg_rain_log  18.36  2.06  1.494004e+15      0.29      0.51   \n",
       "2         lasso_rain  20.13  2.48  2.685509e+15      0.23      0.45   \n",
       "3     lasso_rain_log  19.96  2.02  1.342118e+15      0.23      0.50   \n",
       "4         ridge_rain  20.31  2.50  2.734182e+15      0.22      0.45   \n",
       "5     ridge_rain_log  18.55  2.03  1.456739e+15      0.29      0.54   \n",
       "6        elastic_net  20.20  2.49  2.695998e+15      0.22      0.45   \n",
       "7    elastic_net_log  19.95  2.01  1.340408e+15      0.23      0.51   \n",
       "8            poisson  19.13  2.53  2.402814e+15      0.26      0.43   \n",
       "9        poisson_pen  18.09  2.42  2.560582e+15      0.30      0.44   \n",
       "10             gamma  18.12  2.38  2.241306e+15      0.30      0.49   \n",
       "12           tweedie  17.52  2.32  2.306044e+15      0.33      0.49   \n",
       "13           svm_lin  23.23  2.06  1.033653e+15      0.11      0.50   \n",
       "\n",
       "    Avg_precision  Avg_recall  Avg_f1_score  \n",
       "0            0.47        0.49          0.42  \n",
       "1            0.46        0.51          0.43  \n",
       "2            0.55        0.48          0.39  \n",
       "3            0.36        0.49          0.41  \n",
       "4            0.52        0.49          0.38  \n",
       "5            0.59        0.53          0.45  \n",
       "6            0.55        0.48          0.39  \n",
       "7            0.37        0.49          0.41  \n",
       "8            0.28        0.45          0.34  \n",
       "9            0.29        0.46          0.35  \n",
       "10           0.33        0.51          0.40  \n",
       "12           0.32        0.50          0.39  \n",
       "13           0.53        0.47          0.45  "
      ]
     },
     "execution_count": 16,
     "metadata": {},
     "output_type": "execute_result"
    }
   ],
   "source": [
    "perf_reg = perf_reg.drop(11)\n",
    "perf_reg"
   ]
  },
  {
   "cell_type": "markdown",
   "metadata": {},
   "source": [
    "### 3.6.1. Regression Performance"
   ]
  },
  {
   "cell_type": "code",
   "execution_count": 49,
   "metadata": {},
   "outputs": [
    {
     "data": {
      "image/png": "[encoded data removed]",
      "text/plain": [
       "<Figure size 864x576 with 1 Axes>"
      ]
     },
     "metadata": {
      "needs_background": "light"
     },
     "output_type": "display_data"
    }
   ],
   "source": [
    "plt.figure(figsize=(12,8))\n",
    "\n",
    "x = np.arange(13)\n",
    "\n",
    "plt.plot(x, perf_reg[\"MSE\"], \"o\", label = \"MSE\")\n",
    "plt.plot(x, perf_reg[\"MAE\"], \"o\", label = \"MAE\")\n",
    "plt.plot(x, np.log(perf_reg[\"MAPE\"]), \"o\", label = \"log(MAPE)\")\n",
    "plt.plot(x, perf_reg[\"R2_Score\"], \"o\", label = \"R2 Score\")\n",
    "\n",
    "arg_min_mse, min_mse = np.argmin(perf_reg[\"MSE\"]), np.min(perf_reg[\"MSE\"])\n",
    "\n",
    "plt.annotate(s = \"Min MSE\", xy = [arg_min_mse, min_mse + 0.25], \n",
    "        xytext = [arg_min_mse, min_mse + 3.75],\n",
    "        arrowprops = dict(facecolor ='red', shrink = 0.001), fontsize = 14 )\n",
    "\n",
    "arg_min_mae, min_mae = np.argmin(perf_reg[\"MAE\"]), np.min(perf_reg[\"MAE\"])\n",
    "\n",
    "plt.annotate(s = \"Min MAE\", xy = [arg_min_mae, min_mae + 0.25], \n",
    "        xytext = [arg_min_mae, min_mae + 3.75],\n",
    "        arrowprops = dict(facecolor ='red', shrink = 0.001), fontsize = 14 )\n",
    "\n",
    "arg_min_mape, min_mape = np.argmin(perf_reg[\"MAPE\"]), np.min(np.log(perf_reg[\"MAPE\"]))\n",
    "\n",
    "plt.annotate(s = \"Min MAPE\", xy = [arg_min_mape, min_mape + 0.25], \n",
    "        xytext = [arg_min_mape, min_mape + 3.75],\n",
    "        arrowprops = dict(facecolor ='red', shrink = 0.001), fontsize = 14 )\n",
    "\n",
    "arg_min_r2, min_r2 = np.argmax(perf_reg[\"R2_Score\"]), np.max(perf_reg[\"R2_Score\"])\n",
    "\n",
    "plt.annotate(s = \"Max r2\", xy = [arg_min_r2, min_r2 + 0.25], \n",
    "        xytext = [arg_min_r2, min_r2 + 3.75],\n",
    "        arrowprops = dict(facecolor ='red', shrink = 0.001), fontsize = 14 )\n",
    "\n",
    "plt.xticks(x, list(perf_reg[\"Model\"]), rotation ='vertical', fontsize = 16)\n",
    "plt.legend(loc = 3, fontsize = 15)\n",
    "plt.tight_layout()\n",
    "plt.savefig(\"./Images/Reg_Performance.pdf\")"
   ]
  },
  {
   "cell_type": "markdown",
   "metadata": {},
   "source": [
    "### 3.6.2. Classification Performance"
   ]
  },
  {
   "cell_type": "code",
   "execution_count": 19,
   "metadata": {},
   "outputs": [],
   "source": [
    "perf_class = pd.read_excel(\"./Performance_Regression.xlsx\", header = 1)"
   ]
  },
  {
   "cell_type": "code",
   "execution_count": 48,
   "metadata": {},
   "outputs": [
    {
     "data": {
      "image/png": "[encoded data removed]",
      "text/plain": [
       "<Figure size 864x720 with 1 Axes>"
      ]
     },
     "metadata": {
      "needs_background": "light"
     },
     "output_type": "display_data"
    }
   ],
   "source": [
    "plt.figure(figsize=(12,10))\n",
    "\n",
    "x = np.arange(14)\n",
    "\n",
    "plt.plot(x, perf_class[\"Accuracy\"], \"-o\", label = \"Accuracy\")\n",
    "plt.plot(x, perf_class[\"Avg_precision\"], \"-o\", label = \"Precision\")\n",
    "plt.plot(x, perf_class[\"Avg_recall\"], \"-o\", label = \"Recall\")\n",
    "plt.plot(x, perf_class[\"Avg_f1_score\"], \"-o\", label = \"F1 score\")\n",
    "\n",
    "arg_max_Accuracy, max_Accuracy = np.argmax(perf_class[\"Accuracy\"]), np.max(perf_class[\"Accuracy\"])\n",
    "\n",
    "plt.annotate(s = \"Max Accuracy\", xy = [arg_max_Accuracy, max_Accuracy ], \n",
    "        xytext = [arg_max_Accuracy - 4, max_Accuracy + 0.1],\n",
    "        arrowprops = dict(facecolor ='red', shrink = 0.001), fontsize = 14 )\n",
    "\n",
    "arg_max_Avg_precision, max_Avg_precision = np.argmax(perf_class[\"Avg_precision\"]), np.max(perf_class[\"Avg_precision\"])\n",
    "\n",
    "plt.annotate(s = \"Max precision\", xy = [arg_max_Avg_precision, max_Avg_precision], \n",
    "        xytext = [arg_max_Avg_precision + 2, max_Avg_precision + 0.1],\n",
    "        arrowprops = dict(facecolor ='red', shrink = 0.001), fontsize = 14 )\n",
    "\n",
    "arg_max_Avg_recall, max_Avg_recall = np.argmax(perf_class[\"Avg_recall\"]), np.max(perf_class[\"Avg_recall\"])\n",
    "\n",
    "plt.annotate(s = \"Max recall\", xy = [arg_max_Avg_recall, max_Avg_recall], \n",
    "        xytext = [arg_max_Avg_recall + 2, max_Avg_recall + 0.1],\n",
    "        arrowprops = dict(facecolor ='red', shrink = 0.001), fontsize = 14 )\n",
    "\n",
    "arg_max_f1, max_f1 = np.argmax(perf_class[\"Avg_f1_score\"]), np.max(perf_class[\"Avg_f1_score\"])\n",
    "\n",
    "plt.annotate(s = \"Max f1-score\", xy = [arg_max_f1, max_f1], \n",
    "        xytext = [arg_max_f1 + 3, max_f1 + 0.15],\n",
    "        arrowprops = dict(facecolor ='red', shrink = 0.001), fontsize = 14 )\n",
    "\n",
    "plt.xticks(x, list(perf_class[\"Model\"]), rotation ='vertical', fontsize = 16)\n",
    "plt.legend(loc = 3, fontsize = 15)\n",
    "plt.tight_layout()\n",
    "plt.savefig(\"./Images/Reg_Class_Performance.pdf\")"
   ]
  }
 ],
 "metadata": {
  "interpreter": {
   "hash": "0650c59a78a128c748f8aadfab5692cc08be5aacb695e9a8f2efcdc6dbedda40"
  },
  "kernelspec": {
   "display_name": "Python 3.8.10 ('base')",
   "language": "python",
   "name": "python3"
  },
  "language_info": {
   "codemirror_mode": {
    "name": "ipython",
    "version": 3
   },
   "file_extension": ".py",
   "mimetype": "text/x-python",
   "name": "python",
   "nbconvert_exporter": "python",
   "pygments_lexer": "ipython3",
   "version": "3.8.10"
  }
 },
 "nbformat": 4,
 "nbformat_minor": 2
}
