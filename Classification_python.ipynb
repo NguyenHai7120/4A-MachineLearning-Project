{
 "cells": [
  {
   "cell_type": "markdown",
   "metadata": {},
   "source": [
    "# CLASSIFICATION"
   ]
  },
  {
   "cell_type": "code",
   "execution_count": 129,
   "metadata": {},
   "outputs": [],
   "source": [
    "import pandas as pd\n",
    "import numpy as np\n",
    "import itertools\n",
    "import matplotlib.pyplot as plt\n",
    "%matplotlib inline\n",
    "import seaborn as sns\n",
    "import time\n",
    "import random\n",
    "import os\n",
    "\n",
    "from sklearn.metrics import accuracy_score, confusion_matrix"
   ]
  },
  {
   "cell_type": "code",
   "execution_count": 47,
   "metadata": {},
   "outputs": [],
   "source": [
    "def seed_everything(seed=42):\n",
    "    \"\"\"\"Seed everything.\n",
    "    \"\"\"   \n",
    "    random.seed(seed)\n",
    "    np.random.seed(seed)\n",
    "    os.environ['PYTHONHASHSEED'] = str(seed)"
   ]
  },
  {
   "cell_type": "code",
   "execution_count": 48,
   "metadata": {},
   "outputs": [],
   "source": [
    "seed_everything()"
   ]
  },
  {
   "cell_type": "code",
   "execution_count": 10,
   "metadata": {},
   "outputs": [],
   "source": [
    "train_set = pd.read_csv(\"data/train_set.txt\",sep = ' ')\n",
    "test_set = pd.read_csv(\"data/test_set.txt\",sep = ' ')"
   ]
  },
  {
   "cell_type": "code",
   "execution_count": 11,
   "metadata": {},
   "outputs": [],
   "source": [
    "X_train = pd.DataFrame(train_set).copy()\n",
    "del X_train['rain']\n",
    "del X_train['rain_class']\n",
    "del X_train['rain_log']\n",
    "\n",
    "X_test = pd.DataFrame(test_set).copy()\n",
    "del X_test['rain']\n",
    "del X_test['rain_class']\n",
    "del X_test['rain_log']"
   ]
  },
  {
   "cell_type": "code",
   "execution_count": 23,
   "metadata": {},
   "outputs": [],
   "source": [
    "train_set['rain_class'] = train_set['rain_class'].astype(\"category\")\n",
    "test_set['rain_class'] = test_set['rain_class'].astype(\"category\")"
   ]
  },
  {
   "cell_type": "code",
   "execution_count": 25,
   "metadata": {},
   "outputs": [],
   "source": [
    "Y_train = train_set['rain']\n",
    "Y_test = test_set['rain']"
   ]
  },
  {
   "cell_type": "code",
   "execution_count": 26,
   "metadata": {},
   "outputs": [],
   "source": [
    "Y_train_class = train_set['rain_class']\n",
    "Y_test_class = test_set['rain_class']\n"
   ]
  },
  {
   "cell_type": "code",
   "execution_count": 101,
   "metadata": {},
   "outputs": [
    {
     "data": {
      "text/html": [
       "<div>\n",
       "<style scoped>\n",
       "    .dataframe tbody tr th:only-of-type {\n",
       "        vertical-align: middle;\n",
       "    }\n",
       "\n",
       "    .dataframe tbody tr th {\n",
       "        vertical-align: top;\n",
       "    }\n",
       "\n",
       "    .dataframe thead th {\n",
       "        text-align: right;\n",
       "    }\n",
       "</style>\n",
       "<table border=\"1\" class=\"dataframe\">\n",
       "  <thead>\n",
       "    <tr style=\"text-align: right;\">\n",
       "      <th></th>\n",
       "      <th>ff</th>\n",
       "      <th>t</th>\n",
       "      <th>td</th>\n",
       "      <th>hu</th>\n",
       "      <th>dd</th>\n",
       "      <th>precip_log</th>\n",
       "      <th>ws_arome</th>\n",
       "      <th>p3031_arome</th>\n",
       "      <th>u10_arome</th>\n",
       "      <th>v10_arome</th>\n",
       "      <th>...</th>\n",
       "      <th>month3</th>\n",
       "      <th>month4</th>\n",
       "      <th>month5</th>\n",
       "      <th>month6</th>\n",
       "      <th>month7</th>\n",
       "      <th>month8</th>\n",
       "      <th>month9</th>\n",
       "      <th>month10</th>\n",
       "      <th>month11</th>\n",
       "      <th>month12</th>\n",
       "    </tr>\n",
       "  </thead>\n",
       "  <tbody>\n",
       "    <tr>\n",
       "      <th>1</th>\n",
       "      <td>-0.086213</td>\n",
       "      <td>1.164777</td>\n",
       "      <td>0.910535</td>\n",
       "      <td>-0.798235</td>\n",
       "      <td>0.520054</td>\n",
       "      <td>-0.820399</td>\n",
       "      <td>-0.036595</td>\n",
       "      <td>0.529785</td>\n",
       "      <td>0.801953</td>\n",
       "      <td>0.400758</td>\n",
       "      <td>...</td>\n",
       "      <td>0</td>\n",
       "      <td>0</td>\n",
       "      <td>0</td>\n",
       "      <td>1</td>\n",
       "      <td>0</td>\n",
       "      <td>0</td>\n",
       "      <td>0</td>\n",
       "      <td>0</td>\n",
       "      <td>0</td>\n",
       "      <td>0</td>\n",
       "    </tr>\n",
       "    <tr>\n",
       "      <th>2</th>\n",
       "      <td>-0.215296</td>\n",
       "      <td>-1.471529</td>\n",
       "      <td>-1.661333</td>\n",
       "      <td>-0.454718</td>\n",
       "      <td>0.695888</td>\n",
       "      <td>0.078895</td>\n",
       "      <td>-0.257664</td>\n",
       "      <td>1.323143</td>\n",
       "      <td>0.556898</td>\n",
       "      <td>-0.888709</td>\n",
       "      <td>...</td>\n",
       "      <td>1</td>\n",
       "      <td>0</td>\n",
       "      <td>0</td>\n",
       "      <td>0</td>\n",
       "      <td>0</td>\n",
       "      <td>0</td>\n",
       "      <td>0</td>\n",
       "      <td>0</td>\n",
       "      <td>0</td>\n",
       "      <td>0</td>\n",
       "    </tr>\n",
       "    <tr>\n",
       "      <th>4</th>\n",
       "      <td>-1.468680</td>\n",
       "      <td>0.129100</td>\n",
       "      <td>-0.187510</td>\n",
       "      <td>-1.056853</td>\n",
       "      <td>0.129012</td>\n",
       "      <td>-0.820399</td>\n",
       "      <td>-1.317523</td>\n",
       "      <td>-0.827820</td>\n",
       "      <td>-0.605044</td>\n",
       "      <td>-0.693706</td>\n",
       "      <td>...</td>\n",
       "      <td>0</td>\n",
       "      <td>0</td>\n",
       "      <td>1</td>\n",
       "      <td>0</td>\n",
       "      <td>0</td>\n",
       "      <td>0</td>\n",
       "      <td>0</td>\n",
       "      <td>0</td>\n",
       "      <td>0</td>\n",
       "      <td>0</td>\n",
       "    </tr>\n",
       "    <tr>\n",
       "      <th>5</th>\n",
       "      <td>1.028401</td>\n",
       "      <td>-1.238485</td>\n",
       "      <td>-1.421240</td>\n",
       "      <td>-0.491033</td>\n",
       "      <td>1.022205</td>\n",
       "      <td>0.269433</td>\n",
       "      <td>0.464623</td>\n",
       "      <td>1.063498</td>\n",
       "      <td>1.186435</td>\n",
       "      <td>-0.717044</td>\n",
       "      <td>...</td>\n",
       "      <td>0</td>\n",
       "      <td>0</td>\n",
       "      <td>0</td>\n",
       "      <td>0</td>\n",
       "      <td>0</td>\n",
       "      <td>0</td>\n",
       "      <td>0</td>\n",
       "      <td>0</td>\n",
       "      <td>0</td>\n",
       "      <td>0</td>\n",
       "    </tr>\n",
       "    <tr>\n",
       "      <th>6</th>\n",
       "      <td>-1.465538</td>\n",
       "      <td>-1.273800</td>\n",
       "      <td>-1.288810</td>\n",
       "      <td>0.075769</td>\n",
       "      <td>-0.850480</td>\n",
       "      <td>-0.612447</td>\n",
       "      <td>-1.277939</td>\n",
       "      <td>-0.588190</td>\n",
       "      <td>-0.432199</td>\n",
       "      <td>0.107395</td>\n",
       "      <td>...</td>\n",
       "      <td>0</td>\n",
       "      <td>0</td>\n",
       "      <td>0</td>\n",
       "      <td>0</td>\n",
       "      <td>0</td>\n",
       "      <td>0</td>\n",
       "      <td>0</td>\n",
       "      <td>0</td>\n",
       "      <td>0</td>\n",
       "      <td>1</td>\n",
       "    </tr>\n",
       "  </tbody>\n",
       "</table>\n",
       "<p>5 rows × 26 columns</p>\n",
       "</div>"
      ],
      "text/plain": [
       "         ff         t        td        hu        dd  precip_log  ws_arome  \\\n",
       "1 -0.086213  1.164777  0.910535 -0.798235  0.520054   -0.820399 -0.036595   \n",
       "2 -0.215296 -1.471529 -1.661333 -0.454718  0.695888    0.078895 -0.257664   \n",
       "4 -1.468680  0.129100 -0.187510 -1.056853  0.129012   -0.820399 -1.317523   \n",
       "5  1.028401 -1.238485 -1.421240 -0.491033  1.022205    0.269433  0.464623   \n",
       "6 -1.465538 -1.273800 -1.288810  0.075769 -0.850480   -0.612447 -1.277939   \n",
       "\n",
       "   p3031_arome  u10_arome  v10_arome  ...  month3  month4  month5  month6  \\\n",
       "1     0.529785   0.801953   0.400758  ...       0       0       0       1   \n",
       "2     1.323143   0.556898  -0.888709  ...       1       0       0       0   \n",
       "4    -0.827820  -0.605044  -0.693706  ...       0       0       1       0   \n",
       "5     1.063498   1.186435  -0.717044  ...       0       0       0       0   \n",
       "6    -0.588190  -0.432199   0.107395  ...       0       0       0       0   \n",
       "\n",
       "   month7  month8  month9  month10  month11  month12  \n",
       "1       0       0       0        0        0        0  \n",
       "2       0       0       0        0        0        0  \n",
       "4       0       0       0        0        0        0  \n",
       "5       0       0       0        0        0        0  \n",
       "6       0       0       0        0        0        1  \n",
       "\n",
       "[5 rows x 26 columns]"
      ]
     },
     "execution_count": 101,
     "metadata": {},
     "output_type": "execute_result"
    }
   ],
   "source": [
    "X_train.head()"
   ]
  },
  {
   "cell_type": "markdown",
   "metadata": {},
   "source": [
    "## 1. K nearest neighbors"
   ]
  },
  {
   "cell_type": "markdown",
   "metadata": {},
   "source": [
    "The completeness parameter `k` is optimised on a predefined grid by minimising the estimated error by cross-validation; scikit-learn offers many cross-validation options. "
   ]
  },
  {
   "cell_type": "code",
   "execution_count": 35,
   "metadata": {},
   "outputs": [
    {
     "name": "stdout",
     "output_type": "stream",
     "text": [
      "Best Mean cross-validated accuracy = 0.540000, Best parameter = {'n_neighbors': 18}\n"
     ]
    }
   ],
   "source": [
    "from sklearn.model_selection import GridSearchCV\n",
    "from sklearn.neighbors import KNeighborsClassifier\n",
    "# Optimisation of k\n",
    "param_grid = [{\"n_neighbors\": list(range(1, 20))}]\n",
    "knn = GridSearchCV(KNeighborsClassifier(weights = \"distance\"), scoring = \"accuracy\", param_grid = param_grid, cv=10, n_jobs=-1, refit = True)\n",
    "knnOpt = knn.fit(X_train, Y_train_class)  \n",
    "# optimal parameter\n",
    "# knnOpt.best_params_[\"n_neighbors\"]\n",
    "print(\"Best Mean cross-validated accuracy = %f, Best parameter = %s\" % (knnOpt.best_score_, knnOpt.best_params_))"
   ]
  },
  {
   "cell_type": "markdown",
   "metadata": {},
   "source": [
    "The prediction accuracy in the test set"
   ]
  },
  {
   "cell_type": "code",
   "execution_count": 36,
   "metadata": {},
   "outputs": [
    {
     "name": "stdout",
     "output_type": "stream",
     "text": [
      "Prediction accuracy in the test sample :  0.5072463768115942\n"
     ]
    }
   ],
   "source": [
    "# Estimation of the prediction accuracy on the test sample\n",
    "print(\"Prediction accuracy in the test sample : \", knnOpt.score(X_test, Y_test_class))\n"
   ]
  },
  {
   "cell_type": "code",
   "execution_count": 54,
   "metadata": {},
   "outputs": [
    {
     "name": "stdout",
     "output_type": "stream",
     "text": [
      "Accuracy score = 0.5072463768115942\n",
      "Confusion matrix\n",
      "rain_class  high_rain  low_rain  no_rain\n",
      "row_0                                   \n",
      "high_rain          20        11       11\n",
      "low_rain           12        37       23\n",
      "no_rain             1        10       13\n"
     ]
    }
   ],
   "source": [
    "# Prediction of the test sample\n",
    "y_hat_class = knnOpt.predict(X_test)\n",
    "print(\"Accuracy score =\", accuracy_score(y_true = Y_test_class, y_pred = y_hat_class))\n",
    "\n",
    "# confusion matrix\n",
    "table = pd.crosstab(y_hat_class, Y_test_class)\n",
    "print(\"Confusion matrix\")\n",
    "print(table)"
   ]
  },
  {
   "cell_type": "markdown",
   "metadata": {},
   "source": [
    "## 2. Decision tree"
   ]
  },
  {
   "cell_type": "code",
   "execution_count": 90,
   "metadata": {},
   "outputs": [
    {
     "name": "stdout",
     "output_type": "stream",
     "text": [
      "Best Mean cross-validated accuracy = 0.512727, Best parameter = {'max_depth': 4, 'min_samples_leaf': 2, 'min_samples_split': 2}\n"
     ]
    }
   ],
   "source": [
    "from sklearn.tree import DecisionTreeClassifier\n",
    "# Optimisation of shaft depth\n",
    "param_grid = [{\"max_depth\": range(2,10), \"min_samples_split\" : range(2,10), \"min_samples_leaf\": range(1,5) }]\n",
    "tree = GridSearchCV(DecisionTreeClassifier(max_features = 'auto', min_impurity_decrease = 1e-3, random_state = 42), scoring = \"accuracy\", param_grid = param_grid, cv=10, n_jobs=-1, refit = True)\n",
    "treeOpt = tree.fit(X_train, Y_train_class)\n",
    "# Optimal parameter\n",
    "print(\"Best Mean cross-validated accuracy = %f, Best parameter = %s\" % (treeOpt.best_score_, treeOpt.best_params_))"
   ]
  },
  {
   "cell_type": "code",
   "execution_count": 91,
   "metadata": {},
   "outputs": [
    {
     "data": {
      "text/plain": [
       "0.4855072463768116"
      ]
     },
     "execution_count": 91,
     "metadata": {},
     "output_type": "execute_result"
    }
   ],
   "source": [
    "# Estimation of the prediction error on the test sample\n",
    "treeOpt.score(X_test, Y_test_class)"
   ]
  },
  {
   "cell_type": "code",
   "execution_count": 92,
   "metadata": {},
   "outputs": [
    {
     "name": "stdout",
     "output_type": "stream",
     "text": [
      "Accuracy score = 0.4855072463768116\n",
      "rain_class  high_rain  low_rain  no_rain\n",
      "row_0                                   \n",
      "high_rain          14         6        4\n",
      "low_rain           17        39       29\n",
      "no_rain             2        13       14\n"
     ]
    }
   ],
   "source": [
    "# Prediction of the test sample\n",
    "y_hat_class = treeOpt.predict(X_test)\n",
    "print(\"Accuracy score =\", accuracy_score(y_true = Y_test_class, y_pred = y_hat_class))\n",
    "# confusion matrix\n",
    "table = pd.crosstab(y_hat_class, Y_test_class)\n",
    "print(table)"
   ]
  },
  {
   "cell_type": "markdown",
   "metadata": {},
   "source": [
    "    The `low_rain` class seems to be difficult to predict!"
   ]
  },
  {
   "cell_type": "markdown",
   "metadata": {},
   "source": [
    "## 3. Random Forest"
   ]
  },
  {
   "cell_type": "code",
   "execution_count": 96,
   "metadata": {},
   "outputs": [
    {
     "name": "stdout",
     "output_type": "stream",
     "text": [
      "0.46545454545454545\n",
      "0.5072463768115942\n"
     ]
    }
   ],
   "source": [
    "from sklearn.ensemble import RandomForestClassifier \n",
    "# Parameters' definitions\n",
    "forest = RandomForestClassifier(n_estimators = 500, \n",
    "   criterion='gini', max_depth=None,\n",
    "   min_samples_split=2, min_samples_leaf=1, \n",
    "   max_features='auto', max_leaf_nodes=None,\n",
    "   bootstrap=True, oob_score=True)\n",
    "# Training\n",
    "rfFit = forest.fit(X_train,Y_train_class)\n",
    "# Out-of-bag error on the train sample\n",
    "print(1-rfFit.oob_score_)\n",
    "# Out-of-bag error on the test sample\n",
    "print(1-rfFit.score(X_test,Y_test_class))"
   ]
  },
  {
   "cell_type": "markdown",
   "metadata": {},
   "source": [
    "Hyper parameters tunning by cross validation"
   ]
  },
  {
   "cell_type": "code",
   "execution_count": 99,
   "metadata": {},
   "outputs": [
    {
     "name": "stdout",
     "output_type": "stream",
     "text": [
      "Best Mean cross-validated accuracy = 0.545455, Best parameter = {'max_depth': 12, 'max_features': 4, 'n_estimators': 300}\n"
     ]
    }
   ],
   "source": [
    "param=[{\"n_estimators\" : range(200, 500, 100) , \"max_features\": range(2,5), \"max_depth\" : range(10, 20, 2) }]\n",
    "rf = GridSearchCV(RandomForestClassifier(random_state=42, criterion=\"entropy\"),\n",
    "        param, cv = 5, n_jobs=-1)\n",
    "rfOpt = rf.fit(X_train, Y_train_class)\n",
    "print(\"Best Mean cross-validated accuracy = %f, Best parameter = %s\" % (rfOpt.best_score_, rfOpt.best_params_))"
   ]
  },
  {
   "cell_type": "code",
   "execution_count": 100,
   "metadata": {},
   "outputs": [
    {
     "name": "stdout",
     "output_type": "stream",
     "text": [
      "Accuracy score = 0.4855072463768116\n",
      "rain_class  high_rain  low_rain  no_rain\n",
      "row_0                                   \n",
      "high_rain          14         6        4\n",
      "low_rain           17        39       29\n",
      "no_rain             2        13       14\n"
     ]
    }
   ],
   "source": [
    "# Prediction of the test sample\n",
    "y_pred_test = treeOpt.predict(X_test)\n",
    "print(\"Accuracy score =\", accuracy_score(y_true = Y_test_class, y_pred = y_pred_test))\n",
    "# confusion matrix\n",
    "table = pd.crosstab(y_pred_test, Y_test_class)\n",
    "print(table)"
   ]
  },
  {
   "cell_type": "markdown",
   "metadata": {},
   "source": [
    "### Gradient Boosting applying to Random Forest"
   ]
  },
  {
   "cell_type": "code",
   "execution_count": 107,
   "metadata": {},
   "outputs": [],
   "source": [
    "from sklearn.model_selection import KFold\n",
    "from sklearn.model_selection import RepeatedStratifiedKFold\n",
    "from sklearn.model_selection import cross_val_score"
   ]
  },
  {
   "cell_type": "code",
   "execution_count": 105,
   "metadata": {},
   "outputs": [],
   "source": [
    "from xgboost import XGBRFClassifier"
   ]
  },
  {
   "cell_type": "code",
   "execution_count": 114,
   "metadata": {},
   "outputs": [],
   "source": [
    "# define the model\n",
    "model = XGBRFClassifier(n_estimators = 500, subsample = 0.99, random_state = 42, metric = \"accuracy\", n_jobs = -1)"
   ]
  },
  {
   "cell_type": "code",
   "execution_count": 120,
   "metadata": {},
   "outputs": [
    {
     "name": "stdout",
     "output_type": "stream",
     "text": [
      "Mean Accuracy: 0.528 (0.056)\n"
     ]
    }
   ],
   "source": [
    "# define the model evaluation procedure\n",
    "cv = RepeatedStratifiedKFold(n_splits=10, n_repeats=3, random_state=1)\n",
    "# evaluate the model and collect the scores\n",
    "n_scores = cross_val_score(model, X_train, Y_train_class, scoring='accuracy', cv = cv, n_jobs=-1)\n",
    "# report performance\n",
    "print('Mean Accuracy: %.3f (%.3f)' % (np.mean(n_scores), np.std(n_scores)))"
   ]
  },
  {
   "cell_type": "code",
   "execution_count": 119,
   "metadata": {},
   "outputs": [
    {
     "name": "stderr",
     "output_type": "stream",
     "text": [
      "c:\\Users\\nguye\\anaconda3\\lib\\site-packages\\xgboost\\sklearn.py:1224: UserWarning: The use of label encoder in XGBClassifier is deprecated and will be removed in a future release. To remove this warning, do the following: 1) Pass option use_label_encoder=False when constructing XGBClassifier object; and 2) Encode your labels (y) as integers starting with 0, i.e. 0, 1, 2, ..., [num_class - 1].\n",
      "  warnings.warn(label_encoder_deprecation_msg, UserWarning)\n"
     ]
    },
    {
     "name": "stdout",
     "output_type": "stream",
     "text": [
      "[19:16:40] WARNING: ..\\src\\learner.cc:576: \n",
      "Parameters: { \"metric\" } might not be used.\n",
      "\n",
      "  This could be a false alarm, with some parameters getting used by language bindings but\n",
      "  then being mistakenly passed down to XGBoost core, or some parameter actually being used\n",
      "  but getting flagged wrongly here. Please open an issue if you find any such cases.\n",
      "\n",
      "\n",
      "[19:16:41] WARNING: ..\\src\\learner.cc:1115: Starting in XGBoost 1.3.0, the default evaluation metric used with the objective 'multi:softprob' was changed from 'merror' to 'mlogloss'. Explicitly set eval_metric if you'd like to restore the old behavior.\n",
      "Accuracy score = 0.5217391304347826\n",
      "rain_class  high_rain  low_rain  no_rain\n",
      "row_0                                   \n",
      "high_rain          18        10        8\n",
      "low_rain           13        36       21\n",
      "no_rain             2        12       18\n"
     ]
    }
   ],
   "source": [
    "y_pred_test = model.predict(X_test)\n",
    "\n",
    "print(\"Accuracy score =\", accuracy_score(y_true = Y_test_class, y_pred = y_pred_test))\n",
    "# confusion matrix\n",
    "table = pd.crosstab(y_pred_test, Y_test_class)\n",
    "print(table)"
   ]
  },
  {
   "cell_type": "markdown",
   "metadata": {},
   "source": [
    "# Support Vector Machine"
   ]
  },
  {
   "cell_type": "markdown",
   "metadata": {},
   "source": [
    "## Linear SVM"
   ]
  },
  {
   "cell_type": "code",
   "execution_count": 126,
   "metadata": {},
   "outputs": [],
   "source": [
    "from sklearn.svm import LinearSVC"
   ]
  },
  {
   "cell_type": "markdown",
   "metadata": {},
   "source": [
    "# Neural Network"
   ]
  },
  {
   "cell_type": "markdown",
   "metadata": {},
   "source": [
    "## Multi-layer Perceptron Classifier"
   ]
  },
  {
   "cell_type": "code",
   "execution_count": 130,
   "metadata": {},
   "outputs": [],
   "source": [
    "from sklearn.neural_network import MLPClassifier"
   ]
  },
  {
   "cell_type": "markdown",
   "metadata": {},
   "source": [
    "#### One hidden layer neural network"
   ]
  },
  {
   "cell_type": "markdown",
   "metadata": {},
   "source": [
    "Firstly, we fit an one-hidden layer neural network with ReLU activation in the hidden layer and the softmax activation for the out put layer, and the log-loss function. We use here the default configuration for the optimisation task."
   ]
  },
  {
   "cell_type": "code",
   "execution_count": 153,
   "metadata": {},
   "outputs": [
    {
     "data": {
      "text/plain": [
       "MLPClassifier(activation='relu', alpha=0.0001, batch_size='auto', beta_1=0.9,\n",
       "              beta_2=0.999, early_stopping=False, epsilon=1e-08,\n",
       "              hidden_layer_sizes=3, learning_rate='constant',\n",
       "              learning_rate_init=0.001, max_fun=15000, max_iter=1500,\n",
       "              momentum=0.9, n_iter_no_change=10, nesterovs_momentum=True,\n",
       "              power_t=0.5, random_state=42, shuffle=True, solver='adam',\n",
       "              tol=0.0001, validation_fraction=0.1, verbose=False,\n",
       "              warm_start=False)"
      ]
     },
     "execution_count": 153,
     "metadata": {},
     "output_type": "execute_result"
    }
   ],
   "source": [
    "nnet1 = MLPClassifier(hidden_layer_sizes = (3), random_state = 42, max_iter = 1500)\n",
    "nnet1.fit(X_train, Y_train_class)"
   ]
  },
  {
   "cell_type": "code",
   "execution_count": 154,
   "metadata": {},
   "outputs": [
    {
     "data": {
      "text/plain": [
       "'softmax'"
      ]
     },
     "execution_count": 154,
     "metadata": {},
     "output_type": "execute_result"
    }
   ],
   "source": [
    "nnet1.out_activation_"
   ]
  },
  {
   "cell_type": "code",
   "execution_count": 155,
   "metadata": {},
   "outputs": [
    {
     "data": {
      "text/plain": [
       "[<matplotlib.lines.Line2D at 0x176c4d5eb48>]"
      ]
     },
     "execution_count": 155,
     "metadata": {},
     "output_type": "execute_result"
    },
    {
     "data": {
      "image/png": "[encoded data removed]",
      "text/plain": [
       "<Figure size 432x288 with 1 Axes>"
      ]
     },
     "metadata": {
      "needs_background": "light"
     },
     "output_type": "display_data"
    }
   ],
   "source": [
    "plt.plot(nnet1.loss_curve_)"
   ]
  },
  {
   "cell_type": "code",
   "execution_count": 156,
   "metadata": {},
   "outputs": [
    {
     "name": "stdout",
     "output_type": "stream",
     "text": [
      "Accuracy score = 0.5144927536231884\n",
      "rain_class  high_rain  low_rain  no_rain\n",
      "row_0                                   \n",
      "high_rain          24        10        8\n",
      "low_rain            8        36       28\n",
      "no_rain             1        12       11\n"
     ]
    }
   ],
   "source": [
    "y_pred_test = nnet1.predict(X_test)\n",
    "\n",
    "print(\"Accuracy score =\", accuracy_score(y_true = Y_test_class, y_pred = y_pred_test))\n",
    "# confusion matrix\n",
    "table = pd.crosstab(y_pred_test, Y_test_class)\n",
    "print(table)"
   ]
  },
  {
   "cell_type": "markdown",
   "metadata": {},
   "source": [
    "We'll use cross validation for searching the optimal number of neurones in the hidden layer"
   ]
  },
  {
   "cell_type": "code",
   "execution_count": 171,
   "metadata": {},
   "outputs": [
    {
     "name": "stdout",
     "output_type": "stream",
     "text": [
      "Best Mean cross-validated accuracy = 0.527273, Best parameter = {'alpha': 0.01, 'early_stopping': False, 'hidden_layer_sizes': (5,)}\n"
     ]
    }
   ],
   "source": [
    "param_grid = [{\"hidden_layer_sizes\" : [(3,),(4,),(5,),(6,), (7,)], \"early_stopping\" : [True, False], \"alpha\" : [0.0001, 0.001, 0.005, 0.01, 0.05, 0.1]}]\n",
    "\n",
    "nnet1_cv = GridSearchCV(MLPClassifier(max_iter = 1500, random_state = 42), param_grid, cv = 5, n_jobs=-1, return_train_score = True)\n",
    "nnet1_cv.fit(X_train, Y_train_class)\n",
    "\n",
    "print(\"Best Mean cross-validated accuracy = %f, Best parameter = %s\" % (nnet1_cv.best_score_, nnet1_cv.best_params_))"
   ]
  },
  {
   "cell_type": "code",
   "execution_count": 173,
   "metadata": {},
   "outputs": [
    {
     "name": "stdout",
     "output_type": "stream",
     "text": [
      "Accuracy score = 0.5289855072463768\n",
      "rain_class  high_rain  low_rain  no_rain\n",
      "row_0                                   \n",
      "high_rain          25        12        8\n",
      "low_rain            7        33       24\n",
      "no_rain             1        13       15\n"
     ]
    }
   ],
   "source": [
    "nnet1Opt = nnet1_cv.best_estimator_\n",
    "\n",
    "y_pred_test = nnet1Opt.predict(X_test)\n",
    "\n",
    "print(\"Accuracy score =\", accuracy_score(y_true = Y_test_class, y_pred = y_pred_test))\n",
    "# confusion matrix\n",
    "table = pd.crosstab(y_pred_test, Y_test_class)\n",
    "print(table)"
   ]
  },
  {
   "cell_type": "code",
   "execution_count": 174,
   "metadata": {},
   "outputs": [
    {
     "data": {
      "text/plain": [
       "Text(0.5, 0, 'Iteration')"
      ]
     },
     "execution_count": 174,
     "metadata": {},
     "output_type": "execute_result"
    },
    {
     "data": {
      "image/png": "[encoded data removed]",
      "text/plain": [
       "<Figure size 432x288 with 1 Axes>"
      ]
     },
     "metadata": {
      "needs_background": "light"
     },
     "output_type": "display_data"
    }
   ],
   "source": [
    "plt.plot(nnet1Opt.loss_curve_)\n",
    "plt.title(\"Loss curve during training\")\n",
    "plt.xlabel(\"Iteration\")"
   ]
  },
  {
   "cell_type": "markdown",
   "metadata": {},
   "source": [
    "We can see that the loss function is almost reached the minimum but the prediction accuracy is still arounded $50$ percents. It means that this model does not fit well the data. We will try with more sophisticated models in the next sections"
   ]
  },
  {
   "cell_type": "markdown",
   "metadata": {},
   "source": [
    "### Multilayers Neural Network"
   ]
  },
  {
   "cell_type": "code",
   "execution_count": 193,
   "metadata": {},
   "outputs": [
    {
     "data": {
      "text/plain": [
       "MLPClassifier(activation='relu', alpha=0.01, batch_size='auto', beta_1=0.9,\n",
       "              beta_2=0.999, early_stopping=False, epsilon=1e-08,\n",
       "              hidden_layer_sizes=(5, 8, 15, 20, 15, 8, 5),\n",
       "              learning_rate='constant', learning_rate_init=0.001, max_fun=15000,\n",
       "              max_iter=1500, momentum=0.9, n_iter_no_change=10,\n",
       "              nesterovs_momentum=True, power_t=0.5, random_state=42,\n",
       "              shuffle=True, solver='adam', tol=0.0001, validation_fraction=0.1,\n",
       "              verbose=False, warm_start=False)"
      ]
     },
     "execution_count": 193,
     "metadata": {},
     "output_type": "execute_result"
    }
   ],
   "source": [
    "nnet = MLPClassifier(hidden_layer_sizes = (5, 8, 15, 20, 15, 8, 5), random_state = 42, max_iter = 1500, alpha = 0.01)\n",
    "nnet.fit(X_train, Y_train_class)\n"
   ]
  },
  {
   "cell_type": "code",
   "execution_count": 194,
   "metadata": {},
   "outputs": [
    {
     "name": "stdout",
     "output_type": "stream",
     "text": [
      "Training accuracy :  0.7218181818181818\n"
     ]
    },
    {
     "data": {
      "text/plain": [
       "Text(0.5, 0, 'Iteration')"
      ]
     },
     "execution_count": 194,
     "metadata": {},
     "output_type": "execute_result"
    },
    {
     "data": {
      "image/png": "[encoded data removed]",
      "text/plain": [
       "<Figure size 432x288 with 1 Axes>"
      ]
     },
     "metadata": {
      "needs_background": "light"
     },
     "output_type": "display_data"
    }
   ],
   "source": [
    "print(\"Training accuracy : \", nnet.score(X_train, Y_train_class))\n",
    "plt.plot(nnet.loss_curve_)\n",
    "plt.title(\"Loss curve during training\")\n",
    "plt.xlabel(\"Iteration\")"
   ]
  },
  {
   "cell_type": "code",
   "execution_count": 195,
   "metadata": {},
   "outputs": [
    {
     "name": "stdout",
     "output_type": "stream",
     "text": [
      "Prediction accuracy in test set = 0.43478260869565216\n",
      "rain_class  high_rain  low_rain  no_rain\n",
      "row_0                                   \n",
      "high_rain          22        17       16\n",
      "low_rain            8        28       21\n",
      "no_rain             3        13       10\n"
     ]
    }
   ],
   "source": [
    "y_pred_test = nnet.predict(X_test)\n",
    "\n",
    "print(\"Prediction accuracy in test set =\", accuracy_score(y_true = Y_test_class, y_pred = y_pred_test))\n",
    "# confusion matrix\n",
    "table = pd.crosstab(y_pred_test, Y_test_class)\n",
    "print(table)"
   ]
  },
  {
   "cell_type": "code",
   "execution_count": 191,
   "metadata": {},
   "outputs": [
    {
     "data": {
      "text/plain": [
       "low_rain     0.42029\n",
       "no_rain      0.34058\n",
       "high_rain    0.23913\n",
       "Name: rain_class, dtype: float64"
      ]
     },
     "execution_count": 191,
     "metadata": {},
     "output_type": "execute_result"
    }
   ],
   "source": [
    "Y_test_class.value_counts() / Y_test_class.value_counts().sum()"
   ]
  },
  {
   "cell_type": "code",
   "execution_count": 192,
   "metadata": {},
   "outputs": [
    {
     "data": {
      "text/plain": [
       "low_rain     0.425455\n",
       "no_rain      0.292727\n",
       "high_rain    0.281818\n",
       "Name: rain_class, dtype: float64"
      ]
     },
     "execution_count": 192,
     "metadata": {},
     "output_type": "execute_result"
    }
   ],
   "source": [
    "Y_train_class.value_counts() / Y_train_class.value_counts().sum()"
   ]
  }
 ],
 "metadata": {
  "interpreter": {
   "hash": "960f2ae499b536958d588fcafb5f9e40dd995fc898e4b79db932caf22756042a"
  },
  "kernelspec": {
   "display_name": "Python 3.7.6 ('base')",
   "language": "python",
   "name": "python3"
  },
  "language_info": {
   "codemirror_mode": {
    "name": "ipython",
    "version": 3
   },
   "file_extension": ".py",
   "mimetype": "text/x-python",
   "name": "python",
   "nbconvert_exporter": "python",
   "pygments_lexer": "ipython3",
   "version": "3.7.6"
  },
  "orig_nbformat": 4
 },
 "nbformat": 4,
 "nbformat_minor": 2
}
