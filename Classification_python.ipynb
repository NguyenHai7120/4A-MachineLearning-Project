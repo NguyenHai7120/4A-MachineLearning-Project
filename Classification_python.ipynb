{
 "cells": [
  {
   "cell_type": "markdown",
   "metadata": {},
   "source": [
    "# CLASSIFICATION"
   ]
  },
  {
   "cell_type": "code",
   "execution_count": 58,
   "metadata": {},
   "outputs": [],
   "source": [
    "import pandas as pd\n",
    "import numpy as np\n",
    "import itertools\n",
    "import matplotlib.pyplot as plt\n",
    "%matplotlib inline\n",
    "import seaborn as sns\n",
    "import time\n",
    "import random\n",
    "import os\n",
    "\n",
    "from sklearn.metrics import accuracy_score, confusion_matrix, f1_score, recall_score, precision_score"
   ]
  },
  {
   "cell_type": "code",
   "execution_count": 9,
   "metadata": {},
   "outputs": [],
   "source": [
    "def seed_everything(seed=42):\n",
    "    \"\"\"\"Seed everything.\n",
    "    \"\"\"   \n",
    "    random.seed(seed)\n",
    "    np.random.seed(seed)\n",
    "    os.environ['PYTHONHASHSEED'] = str(seed)"
   ]
  },
  {
   "cell_type": "code",
   "execution_count": 10,
   "metadata": {},
   "outputs": [],
   "source": [
    "seed_everything()"
   ]
  },
  {
   "cell_type": "code",
   "execution_count": 96,
   "metadata": {},
   "outputs": [],
   "source": [
    "def classification_metric(y_true, y_pred):\n",
    "    labs = [\"high_rain\", \"low_rain\", \"no_rain\"]\n",
    "    f1 = np.round(f1_score(y_true, y_pred, labels = labs, average = \"weighted\"), 3)\n",
    "    class_recall = np.round(recall_score(y_true, y_pred, labels = labs, average = None), 3)\n",
    "    total_recall = np.round(recall_score(y_true, y_pred, labels = labs, average = \"weighted\"), 3)\n",
    "    acc = np.round(accuracy_score(y_true, y_pred), 3)\n",
    "    precision = np.round(precision_score(y_true, y_pred, labels = labs, average = None), 3)\n",
    "\n",
    "    table = pd.crosstab(y_pred, y_true)\n",
    "    table[\"recall\"] = class_recall\n",
    "    table[\"precision\"] = precision\n",
    "    print(\"The confusion matrix \")\n",
    "    print(table)\n",
    "    print(\"The prediction accuracy: \", acc)\n",
    "    print(\"The f1-score : \", f1)\n",
    "    print(\"The recall-score : \", total_recall)\n"
   ]
  },
  {
   "cell_type": "code",
   "execution_count": 11,
   "metadata": {},
   "outputs": [],
   "source": [
    "train_set = pd.read_csv(\"data/train_set.txt\",sep = ' ')\n",
    "test_set = pd.read_csv(\"data/test_set.txt\",sep = ' ')"
   ]
  },
  {
   "cell_type": "code",
   "execution_count": 12,
   "metadata": {},
   "outputs": [
    {
     "data": {
      "text/html": [
       "<div>\n",
       "<style scoped>\n",
       "    .dataframe tbody tr th:only-of-type {\n",
       "        vertical-align: middle;\n",
       "    }\n",
       "\n",
       "    .dataframe tbody tr th {\n",
       "        vertical-align: top;\n",
       "    }\n",
       "\n",
       "    .dataframe thead th {\n",
       "        text-align: right;\n",
       "    }\n",
       "</style>\n",
       "<table border=\"1\" class=\"dataframe\">\n",
       "  <thead>\n",
       "    <tr style=\"text-align: right;\">\n",
       "      <th></th>\n",
       "      <th>ff</th>\n",
       "      <th>t</th>\n",
       "      <th>td</th>\n",
       "      <th>hu</th>\n",
       "      <th>dd</th>\n",
       "      <th>precip_log</th>\n",
       "      <th>ws_arome</th>\n",
       "      <th>p3031_arome</th>\n",
       "      <th>u10_arome</th>\n",
       "      <th>v10_arome</th>\n",
       "      <th>...</th>\n",
       "      <th>month3</th>\n",
       "      <th>month4</th>\n",
       "      <th>month5</th>\n",
       "      <th>month6</th>\n",
       "      <th>month7</th>\n",
       "      <th>month8</th>\n",
       "      <th>month9</th>\n",
       "      <th>month10</th>\n",
       "      <th>month11</th>\n",
       "      <th>month12</th>\n",
       "    </tr>\n",
       "  </thead>\n",
       "  <tbody>\n",
       "    <tr>\n",
       "      <th>1</th>\n",
       "      <td>-0.086213</td>\n",
       "      <td>1.164777</td>\n",
       "      <td>0.910535</td>\n",
       "      <td>-0.798235</td>\n",
       "      <td>0.520054</td>\n",
       "      <td>-0.820399</td>\n",
       "      <td>-0.036595</td>\n",
       "      <td>0.529785</td>\n",
       "      <td>0.801953</td>\n",
       "      <td>0.400758</td>\n",
       "      <td>...</td>\n",
       "      <td>0</td>\n",
       "      <td>0</td>\n",
       "      <td>0</td>\n",
       "      <td>1</td>\n",
       "      <td>0</td>\n",
       "      <td>0</td>\n",
       "      <td>0</td>\n",
       "      <td>0</td>\n",
       "      <td>0</td>\n",
       "      <td>0</td>\n",
       "    </tr>\n",
       "    <tr>\n",
       "      <th>2</th>\n",
       "      <td>-0.215296</td>\n",
       "      <td>-1.471529</td>\n",
       "      <td>-1.661333</td>\n",
       "      <td>-0.454718</td>\n",
       "      <td>0.695888</td>\n",
       "      <td>0.078895</td>\n",
       "      <td>-0.257664</td>\n",
       "      <td>1.323143</td>\n",
       "      <td>0.556898</td>\n",
       "      <td>-0.888709</td>\n",
       "      <td>...</td>\n",
       "      <td>1</td>\n",
       "      <td>0</td>\n",
       "      <td>0</td>\n",
       "      <td>0</td>\n",
       "      <td>0</td>\n",
       "      <td>0</td>\n",
       "      <td>0</td>\n",
       "      <td>0</td>\n",
       "      <td>0</td>\n",
       "      <td>0</td>\n",
       "    </tr>\n",
       "    <tr>\n",
       "      <th>4</th>\n",
       "      <td>-1.468680</td>\n",
       "      <td>0.129100</td>\n",
       "      <td>-0.187510</td>\n",
       "      <td>-1.056853</td>\n",
       "      <td>0.129012</td>\n",
       "      <td>-0.820399</td>\n",
       "      <td>-1.317523</td>\n",
       "      <td>-0.827820</td>\n",
       "      <td>-0.605044</td>\n",
       "      <td>-0.693706</td>\n",
       "      <td>...</td>\n",
       "      <td>0</td>\n",
       "      <td>0</td>\n",
       "      <td>1</td>\n",
       "      <td>0</td>\n",
       "      <td>0</td>\n",
       "      <td>0</td>\n",
       "      <td>0</td>\n",
       "      <td>0</td>\n",
       "      <td>0</td>\n",
       "      <td>0</td>\n",
       "    </tr>\n",
       "    <tr>\n",
       "      <th>5</th>\n",
       "      <td>1.028401</td>\n",
       "      <td>-1.238485</td>\n",
       "      <td>-1.421240</td>\n",
       "      <td>-0.491033</td>\n",
       "      <td>1.022205</td>\n",
       "      <td>0.269433</td>\n",
       "      <td>0.464623</td>\n",
       "      <td>1.063498</td>\n",
       "      <td>1.186435</td>\n",
       "      <td>-0.717044</td>\n",
       "      <td>...</td>\n",
       "      <td>0</td>\n",
       "      <td>0</td>\n",
       "      <td>0</td>\n",
       "      <td>0</td>\n",
       "      <td>0</td>\n",
       "      <td>0</td>\n",
       "      <td>0</td>\n",
       "      <td>0</td>\n",
       "      <td>0</td>\n",
       "      <td>0</td>\n",
       "    </tr>\n",
       "    <tr>\n",
       "      <th>6</th>\n",
       "      <td>-1.465538</td>\n",
       "      <td>-1.273800</td>\n",
       "      <td>-1.288810</td>\n",
       "      <td>0.075769</td>\n",
       "      <td>-0.850480</td>\n",
       "      <td>-0.612447</td>\n",
       "      <td>-1.277939</td>\n",
       "      <td>-0.588190</td>\n",
       "      <td>-0.432199</td>\n",
       "      <td>0.107395</td>\n",
       "      <td>...</td>\n",
       "      <td>0</td>\n",
       "      <td>0</td>\n",
       "      <td>0</td>\n",
       "      <td>0</td>\n",
       "      <td>0</td>\n",
       "      <td>0</td>\n",
       "      <td>0</td>\n",
       "      <td>0</td>\n",
       "      <td>0</td>\n",
       "      <td>1</td>\n",
       "    </tr>\n",
       "    <tr>\n",
       "      <th>...</th>\n",
       "      <td>...</td>\n",
       "      <td>...</td>\n",
       "      <td>...</td>\n",
       "      <td>...</td>\n",
       "      <td>...</td>\n",
       "      <td>...</td>\n",
       "      <td>...</td>\n",
       "      <td>...</td>\n",
       "      <td>...</td>\n",
       "      <td>...</td>\n",
       "      <td>...</td>\n",
       "      <td>...</td>\n",
       "      <td>...</td>\n",
       "      <td>...</td>\n",
       "      <td>...</td>\n",
       "      <td>...</td>\n",
       "      <td>...</td>\n",
       "      <td>...</td>\n",
       "      <td>...</td>\n",
       "      <td>...</td>\n",
       "      <td>...</td>\n",
       "    </tr>\n",
       "    <tr>\n",
       "      <th>724</th>\n",
       "      <td>-1.530734</td>\n",
       "      <td>-0.516512</td>\n",
       "      <td>-0.138244</td>\n",
       "      <td>1.196123</td>\n",
       "      <td>-1.643351</td>\n",
       "      <td>-0.820399</td>\n",
       "      <td>-1.372398</td>\n",
       "      <td>-0.675518</td>\n",
       "      <td>-0.807684</td>\n",
       "      <td>-0.353231</td>\n",
       "      <td>...</td>\n",
       "      <td>0</td>\n",
       "      <td>0</td>\n",
       "      <td>0</td>\n",
       "      <td>0</td>\n",
       "      <td>0</td>\n",
       "      <td>0</td>\n",
       "      <td>0</td>\n",
       "      <td>0</td>\n",
       "      <td>1</td>\n",
       "      <td>0</td>\n",
       "    </tr>\n",
       "    <tr>\n",
       "      <th>727</th>\n",
       "      <td>-1.169931</td>\n",
       "      <td>1.010201</td>\n",
       "      <td>0.849969</td>\n",
       "      <td>-0.528329</td>\n",
       "      <td>-0.517151</td>\n",
       "      <td>-0.436627</td>\n",
       "      <td>-0.937395</td>\n",
       "      <td>-1.045143</td>\n",
       "      <td>-0.647040</td>\n",
       "      <td>-0.734017</td>\n",
       "      <td>...</td>\n",
       "      <td>0</td>\n",
       "      <td>0</td>\n",
       "      <td>0</td>\n",
       "      <td>0</td>\n",
       "      <td>0</td>\n",
       "      <td>1</td>\n",
       "      <td>0</td>\n",
       "      <td>0</td>\n",
       "      <td>0</td>\n",
       "      <td>0</td>\n",
       "    </tr>\n",
       "    <tr>\n",
       "      <th>728</th>\n",
       "      <td>0.070624</td>\n",
       "      <td>1.223185</td>\n",
       "      <td>0.604995</td>\n",
       "      <td>-1.875404</td>\n",
       "      <td>0.563203</td>\n",
       "      <td>-0.820399</td>\n",
       "      <td>-0.361343</td>\n",
       "      <td>0.433055</td>\n",
       "      <td>-0.257686</td>\n",
       "      <td>0.071419</td>\n",
       "      <td>...</td>\n",
       "      <td>0</td>\n",
       "      <td>0</td>\n",
       "      <td>1</td>\n",
       "      <td>0</td>\n",
       "      <td>0</td>\n",
       "      <td>0</td>\n",
       "      <td>0</td>\n",
       "      <td>0</td>\n",
       "      <td>0</td>\n",
       "      <td>0</td>\n",
       "    </tr>\n",
       "    <tr>\n",
       "      <th>729</th>\n",
       "      <td>-1.387512</td>\n",
       "      <td>1.472917</td>\n",
       "      <td>1.344347</td>\n",
       "      <td>-0.480237</td>\n",
       "      <td>-1.532241</td>\n",
       "      <td>-0.612447</td>\n",
       "      <td>-1.125196</td>\n",
       "      <td>-1.264025</td>\n",
       "      <td>-1.094799</td>\n",
       "      <td>0.101478</td>\n",
       "      <td>...</td>\n",
       "      <td>0</td>\n",
       "      <td>0</td>\n",
       "      <td>0</td>\n",
       "      <td>1</td>\n",
       "      <td>0</td>\n",
       "      <td>0</td>\n",
       "      <td>0</td>\n",
       "      <td>0</td>\n",
       "      <td>0</td>\n",
       "      <td>0</td>\n",
       "    </tr>\n",
       "    <tr>\n",
       "      <th>730</th>\n",
       "      <td>0.205467</td>\n",
       "      <td>-0.315664</td>\n",
       "      <td>-0.026424</td>\n",
       "      <td>0.860458</td>\n",
       "      <td>1.292428</td>\n",
       "      <td>-0.029813</td>\n",
       "      <td>0.185286</td>\n",
       "      <td>0.719858</td>\n",
       "      <td>0.197224</td>\n",
       "      <td>-1.135743</td>\n",
       "      <td>...</td>\n",
       "      <td>0</td>\n",
       "      <td>1</td>\n",
       "      <td>0</td>\n",
       "      <td>0</td>\n",
       "      <td>0</td>\n",
       "      <td>0</td>\n",
       "      <td>0</td>\n",
       "      <td>0</td>\n",
       "      <td>0</td>\n",
       "      <td>0</td>\n",
       "    </tr>\n",
       "  </tbody>\n",
       "</table>\n",
       "<p>550 rows × 29 columns</p>\n",
       "</div>"
      ],
      "text/plain": [
       "           ff         t        td        hu        dd  precip_log  ws_arome  \\\n",
       "1   -0.086213  1.164777  0.910535 -0.798235  0.520054   -0.820399 -0.036595   \n",
       "2   -0.215296 -1.471529 -1.661333 -0.454718  0.695888    0.078895 -0.257664   \n",
       "4   -1.468680  0.129100 -0.187510 -1.056853  0.129012   -0.820399 -1.317523   \n",
       "5    1.028401 -1.238485 -1.421240 -0.491033  1.022205    0.269433  0.464623   \n",
       "6   -1.465538 -1.273800 -1.288810  0.075769 -0.850480   -0.612447 -1.277939   \n",
       "..        ...       ...       ...       ...       ...         ...       ...   \n",
       "724 -1.530734 -0.516512 -0.138244  1.196123 -1.643351   -0.820399 -1.372398   \n",
       "727 -1.169931  1.010201  0.849969 -0.528329 -0.517151   -0.436627 -0.937395   \n",
       "728  0.070624  1.223185  0.604995 -1.875404  0.563203   -0.820399 -0.361343   \n",
       "729 -1.387512  1.472917  1.344347 -0.480237 -1.532241   -0.612447 -1.125196   \n",
       "730  0.205467 -0.315664 -0.026424  0.860458  1.292428   -0.029813  0.185286   \n",
       "\n",
       "     p3031_arome  u10_arome  v10_arome  ...  month3  month4  month5  month6  \\\n",
       "1       0.529785   0.801953   0.400758  ...       0       0       0       1   \n",
       "2       1.323143   0.556898  -0.888709  ...       1       0       0       0   \n",
       "4      -0.827820  -0.605044  -0.693706  ...       0       0       1       0   \n",
       "5       1.063498   1.186435  -0.717044  ...       0       0       0       0   \n",
       "6      -0.588190  -0.432199   0.107395  ...       0       0       0       0   \n",
       "..           ...        ...        ...  ...     ...     ...     ...     ...   \n",
       "724    -0.675518  -0.807684  -0.353231  ...       0       0       0       0   \n",
       "727    -1.045143  -0.647040  -0.734017  ...       0       0       0       0   \n",
       "728     0.433055  -0.257686   0.071419  ...       0       0       1       0   \n",
       "729    -1.264025  -1.094799   0.101478  ...       0       0       0       1   \n",
       "730     0.719858   0.197224  -1.135743  ...       0       1       0       0   \n",
       "\n",
       "     month7  month8 month9  month10  month11  month12  \n",
       "1         0       0      0        0        0        0  \n",
       "2         0       0      0        0        0        0  \n",
       "4         0       0      0        0        0        0  \n",
       "5         0       0      0        0        0        0  \n",
       "6         0       0      0        0        0        1  \n",
       "..      ...     ...    ...      ...      ...      ...  \n",
       "724       0       0      0        0        1        0  \n",
       "727       0       1      0        0        0        0  \n",
       "728       0       0      0        0        0        0  \n",
       "729       0       0      0        0        0        0  \n",
       "730       0       0      0        0        0        0  \n",
       "\n",
       "[550 rows x 29 columns]"
      ]
     },
     "execution_count": 12,
     "metadata": {},
     "output_type": "execute_result"
    }
   ],
   "source": [
    "train_set"
   ]
  },
  {
   "cell_type": "code",
   "execution_count": 13,
   "metadata": {},
   "outputs": [],
   "source": [
    "X_train = pd.DataFrame(train_set).copy()\n",
    "del X_train['rain']\n",
    "del X_train['rain_class']\n",
    "del X_train['rain_log']\n",
    "\n",
    "X_test = pd.DataFrame(test_set).copy()\n",
    "del X_test['rain']\n",
    "del X_test['rain_class']\n",
    "del X_test['rain_log']"
   ]
  },
  {
   "cell_type": "code",
   "execution_count": 14,
   "metadata": {},
   "outputs": [],
   "source": [
    "train_set['rain_class'] = train_set['rain_class'].astype(\"category\")\n",
    "test_set['rain_class'] = test_set['rain_class'].astype(\"category\")"
   ]
  },
  {
   "cell_type": "code",
   "execution_count": 15,
   "metadata": {},
   "outputs": [
    {
     "data": {
      "image/png": "[encoded data removed]",
      "text/plain": [
       "<Figure size 1152x864 with 30 Axes>"
      ]
     },
     "metadata": {
      "needs_background": "light"
     },
     "output_type": "display_data"
    }
   ],
   "source": [
    "_ = train_set.hist(figsize=(16,12), bins = 15)"
   ]
  },
  {
   "cell_type": "code",
   "execution_count": 16,
   "metadata": {},
   "outputs": [
    {
     "data": {
      "image/png": "[encoded data removed]",
      "text/plain": [
       "<Figure size 1152x864 with 30 Axes>"
      ]
     },
     "metadata": {
      "needs_background": "light"
     },
     "output_type": "display_data"
    }
   ],
   "source": [
    "_ = test_set.hist(figsize=(16,12), bins = 15)"
   ]
  },
  {
   "cell_type": "code",
   "execution_count": 17,
   "metadata": {},
   "outputs": [],
   "source": [
    "Y_train = train_set['rain']\n",
    "Y_test = test_set['rain']"
   ]
  },
  {
   "cell_type": "code",
   "execution_count": 18,
   "metadata": {},
   "outputs": [],
   "source": [
    "Y_train_class = train_set['rain_class']\n",
    "Y_test_class = test_set['rain_class']\n"
   ]
  },
  {
   "cell_type": "code",
   "execution_count": 19,
   "metadata": {},
   "outputs": [
    {
     "data": {
      "text/html": [
       "<div>\n",
       "<style scoped>\n",
       "    .dataframe tbody tr th:only-of-type {\n",
       "        vertical-align: middle;\n",
       "    }\n",
       "\n",
       "    .dataframe tbody tr th {\n",
       "        vertical-align: top;\n",
       "    }\n",
       "\n",
       "    .dataframe thead th {\n",
       "        text-align: right;\n",
       "    }\n",
       "</style>\n",
       "<table border=\"1\" class=\"dataframe\">\n",
       "  <thead>\n",
       "    <tr style=\"text-align: right;\">\n",
       "      <th></th>\n",
       "      <th>ff</th>\n",
       "      <th>t</th>\n",
       "      <th>td</th>\n",
       "      <th>hu</th>\n",
       "      <th>dd</th>\n",
       "      <th>precip_log</th>\n",
       "      <th>ws_arome</th>\n",
       "      <th>p3031_arome</th>\n",
       "      <th>u10_arome</th>\n",
       "      <th>v10_arome</th>\n",
       "      <th>...</th>\n",
       "      <th>month3</th>\n",
       "      <th>month4</th>\n",
       "      <th>month5</th>\n",
       "      <th>month6</th>\n",
       "      <th>month7</th>\n",
       "      <th>month8</th>\n",
       "      <th>month9</th>\n",
       "      <th>month10</th>\n",
       "      <th>month11</th>\n",
       "      <th>month12</th>\n",
       "    </tr>\n",
       "  </thead>\n",
       "  <tbody>\n",
       "    <tr>\n",
       "      <th>1</th>\n",
       "      <td>-0.086213</td>\n",
       "      <td>1.164777</td>\n",
       "      <td>0.910535</td>\n",
       "      <td>-0.798235</td>\n",
       "      <td>0.520054</td>\n",
       "      <td>-0.820399</td>\n",
       "      <td>-0.036595</td>\n",
       "      <td>0.529785</td>\n",
       "      <td>0.801953</td>\n",
       "      <td>0.400758</td>\n",
       "      <td>...</td>\n",
       "      <td>0</td>\n",
       "      <td>0</td>\n",
       "      <td>0</td>\n",
       "      <td>1</td>\n",
       "      <td>0</td>\n",
       "      <td>0</td>\n",
       "      <td>0</td>\n",
       "      <td>0</td>\n",
       "      <td>0</td>\n",
       "      <td>0</td>\n",
       "    </tr>\n",
       "    <tr>\n",
       "      <th>2</th>\n",
       "      <td>-0.215296</td>\n",
       "      <td>-1.471529</td>\n",
       "      <td>-1.661333</td>\n",
       "      <td>-0.454718</td>\n",
       "      <td>0.695888</td>\n",
       "      <td>0.078895</td>\n",
       "      <td>-0.257664</td>\n",
       "      <td>1.323143</td>\n",
       "      <td>0.556898</td>\n",
       "      <td>-0.888709</td>\n",
       "      <td>...</td>\n",
       "      <td>1</td>\n",
       "      <td>0</td>\n",
       "      <td>0</td>\n",
       "      <td>0</td>\n",
       "      <td>0</td>\n",
       "      <td>0</td>\n",
       "      <td>0</td>\n",
       "      <td>0</td>\n",
       "      <td>0</td>\n",
       "      <td>0</td>\n",
       "    </tr>\n",
       "    <tr>\n",
       "      <th>4</th>\n",
       "      <td>-1.468680</td>\n",
       "      <td>0.129100</td>\n",
       "      <td>-0.187510</td>\n",
       "      <td>-1.056853</td>\n",
       "      <td>0.129012</td>\n",
       "      <td>-0.820399</td>\n",
       "      <td>-1.317523</td>\n",
       "      <td>-0.827820</td>\n",
       "      <td>-0.605044</td>\n",
       "      <td>-0.693706</td>\n",
       "      <td>...</td>\n",
       "      <td>0</td>\n",
       "      <td>0</td>\n",
       "      <td>1</td>\n",
       "      <td>0</td>\n",
       "      <td>0</td>\n",
       "      <td>0</td>\n",
       "      <td>0</td>\n",
       "      <td>0</td>\n",
       "      <td>0</td>\n",
       "      <td>0</td>\n",
       "    </tr>\n",
       "    <tr>\n",
       "      <th>5</th>\n",
       "      <td>1.028401</td>\n",
       "      <td>-1.238485</td>\n",
       "      <td>-1.421240</td>\n",
       "      <td>-0.491033</td>\n",
       "      <td>1.022205</td>\n",
       "      <td>0.269433</td>\n",
       "      <td>0.464623</td>\n",
       "      <td>1.063498</td>\n",
       "      <td>1.186435</td>\n",
       "      <td>-0.717044</td>\n",
       "      <td>...</td>\n",
       "      <td>0</td>\n",
       "      <td>0</td>\n",
       "      <td>0</td>\n",
       "      <td>0</td>\n",
       "      <td>0</td>\n",
       "      <td>0</td>\n",
       "      <td>0</td>\n",
       "      <td>0</td>\n",
       "      <td>0</td>\n",
       "      <td>0</td>\n",
       "    </tr>\n",
       "    <tr>\n",
       "      <th>6</th>\n",
       "      <td>-1.465538</td>\n",
       "      <td>-1.273800</td>\n",
       "      <td>-1.288810</td>\n",
       "      <td>0.075769</td>\n",
       "      <td>-0.850480</td>\n",
       "      <td>-0.612447</td>\n",
       "      <td>-1.277939</td>\n",
       "      <td>-0.588190</td>\n",
       "      <td>-0.432199</td>\n",
       "      <td>0.107395</td>\n",
       "      <td>...</td>\n",
       "      <td>0</td>\n",
       "      <td>0</td>\n",
       "      <td>0</td>\n",
       "      <td>0</td>\n",
       "      <td>0</td>\n",
       "      <td>0</td>\n",
       "      <td>0</td>\n",
       "      <td>0</td>\n",
       "      <td>0</td>\n",
       "      <td>1</td>\n",
       "    </tr>\n",
       "  </tbody>\n",
       "</table>\n",
       "<p>5 rows × 26 columns</p>\n",
       "</div>"
      ],
      "text/plain": [
       "         ff         t        td        hu        dd  precip_log  ws_arome  \\\n",
       "1 -0.086213  1.164777  0.910535 -0.798235  0.520054   -0.820399 -0.036595   \n",
       "2 -0.215296 -1.471529 -1.661333 -0.454718  0.695888    0.078895 -0.257664   \n",
       "4 -1.468680  0.129100 -0.187510 -1.056853  0.129012   -0.820399 -1.317523   \n",
       "5  1.028401 -1.238485 -1.421240 -0.491033  1.022205    0.269433  0.464623   \n",
       "6 -1.465538 -1.273800 -1.288810  0.075769 -0.850480   -0.612447 -1.277939   \n",
       "\n",
       "   p3031_arome  u10_arome  v10_arome  ...  month3  month4  month5  month6  \\\n",
       "1     0.529785   0.801953   0.400758  ...       0       0       0       1   \n",
       "2     1.323143   0.556898  -0.888709  ...       1       0       0       0   \n",
       "4    -0.827820  -0.605044  -0.693706  ...       0       0       1       0   \n",
       "5     1.063498   1.186435  -0.717044  ...       0       0       0       0   \n",
       "6    -0.588190  -0.432199   0.107395  ...       0       0       0       0   \n",
       "\n",
       "   month7  month8  month9  month10  month11  month12  \n",
       "1       0       0       0        0        0        0  \n",
       "2       0       0       0        0        0        0  \n",
       "4       0       0       0        0        0        0  \n",
       "5       0       0       0        0        0        0  \n",
       "6       0       0       0        0        0        1  \n",
       "\n",
       "[5 rows x 26 columns]"
      ]
     },
     "execution_count": 19,
     "metadata": {},
     "output_type": "execute_result"
    }
   ],
   "source": [
    "X_train.head()"
   ]
  },
  {
   "cell_type": "markdown",
   "metadata": {},
   "source": [
    "## 1. K nearest neighbors"
   ]
  },
  {
   "cell_type": "markdown",
   "metadata": {},
   "source": [
    "The completeness parameter `k` is optimised on a predefined grid by minimising the estimated error by cross-validation; scikit-learn offers many cross-validation options. "
   ]
  },
  {
   "cell_type": "code",
   "execution_count": 20,
   "metadata": {},
   "outputs": [
    {
     "name": "stdout",
     "output_type": "stream",
     "text": [
      "Best Mean cross-validated accuracy = 0.540000, Best parameter = {'n_neighbors': 18}\n"
     ]
    }
   ],
   "source": [
    "from sklearn.model_selection import GridSearchCV\n",
    "from sklearn.neighbors import KNeighborsClassifier\n",
    "# Optimisation of k\n",
    "param_grid = [{\"n_neighbors\": list(range(1, 20))}]\n",
    "knn = GridSearchCV(KNeighborsClassifier(weights = \"distance\"), scoring = \"accuracy\", param_grid = param_grid, cv=10, n_jobs=-1, refit = True)\n",
    "knnOpt = knn.fit(X_train, Y_train_class)  \n",
    "# optimal parameter\n",
    "# knnOpt.best_params_[\"n_neighbors\"]\n",
    "print(\"Best Mean cross-validated accuracy = %f, Best parameter = %s\" % (knnOpt.best_score_, knnOpt.best_params_))"
   ]
  },
  {
   "cell_type": "markdown",
   "metadata": {},
   "source": [
    "The prediction accuracy in the test set"
   ]
  },
  {
   "cell_type": "code",
   "execution_count": 21,
   "metadata": {},
   "outputs": [
    {
     "name": "stdout",
     "output_type": "stream",
     "text": [
      "Prediction accuracy in the test sample :  0.5072463768115942\n"
     ]
    }
   ],
   "source": [
    "# Estimation of the prediction accuracy on the test sample\n",
    "print(\"Prediction accuracy in the test sample : \", knnOpt.score(X_test, Y_test_class))\n"
   ]
  },
  {
   "cell_type": "code",
   "execution_count": 74,
   "metadata": {},
   "outputs": [
    {
     "name": "stdout",
     "output_type": "stream",
     "text": [
      "The confusion matrix \n",
      "rain_class  high_rain  low_rain  no_rain    recall  precision\n",
      "row_0                                                        \n",
      "high_rain          20        11       11  0.606061   0.476190\n",
      "low_rain           12        37       23  0.637931   0.513889\n",
      "no_rain             1        10       13  0.276596   0.541667\n",
      "The prediction accuracy:  0.5072463768115942\n",
      "The f1-score :  0.49149747986245235\n",
      "The recall-score :  0.5072463768115942\n"
     ]
    }
   ],
   "source": [
    "# Prediction of the test sample\n",
    "y_hat_class = knnOpt.predict(X_test)\n",
    "classification_metric(Y_test_class, y_hat_class)\n",
    "# print(\"Accuracy score =\", accuracy_score(y_true = Y_test_class, y_pred = y_hat_class))\n",
    "\n",
    "# # confusion matrix\n",
    "# table = pd.crosstab(y_hat_class, Y_test_class)\n",
    "# print(\"Confusion matrix\")\n",
    "# print(table)"
   ]
  },
  {
   "cell_type": "markdown",
   "metadata": {},
   "source": [
    "## 2. Decision tree"
   ]
  },
  {
   "cell_type": "code",
   "execution_count": 23,
   "metadata": {},
   "outputs": [
    {
     "name": "stdout",
     "output_type": "stream",
     "text": [
      "Best Mean cross-validated accuracy = 0.512727, Best parameter = {'max_depth': 4, 'min_samples_leaf': 2, 'min_samples_split': 2}\n"
     ]
    }
   ],
   "source": [
    "from sklearn.tree import DecisionTreeClassifier\n",
    "# Optimisation of shaft depth\n",
    "param_grid = [{\"max_depth\": range(2,10), \"min_samples_split\" : range(2,10), \"min_samples_leaf\": range(1,5) }]\n",
    "tree = GridSearchCV(DecisionTreeClassifier(max_features = 'auto', min_impurity_decrease = 1e-3, random_state = 42), scoring = \"accuracy\", param_grid = param_grid, cv=10, n_jobs=-1, refit = True)\n",
    "treeOpt = tree.fit(X_train, Y_train_class)\n",
    "# Optimal parameter\n",
    "print(\"Best Mean cross-validated accuracy = %f, Best parameter = %s\" % (treeOpt.best_score_, treeOpt.best_params_))"
   ]
  },
  {
   "cell_type": "code",
   "execution_count": 24,
   "metadata": {},
   "outputs": [
    {
     "data": {
      "text/plain": [
       "0.4855072463768116"
      ]
     },
     "execution_count": 24,
     "metadata": {},
     "output_type": "execute_result"
    }
   ],
   "source": [
    "# Estimation of the prediction error on the test sample\n",
    "treeOpt.score(X_test, Y_test_class)"
   ]
  },
  {
   "cell_type": "code",
   "execution_count": 75,
   "metadata": {},
   "outputs": [
    {
     "name": "stdout",
     "output_type": "stream",
     "text": [
      "The confusion matrix \n",
      "rain_class  high_rain  low_rain  no_rain    recall  precision\n",
      "row_0                                                        \n",
      "high_rain          14         6        4  0.424242   0.583333\n",
      "low_rain           17        39       29  0.672414   0.458824\n",
      "no_rain             2        13       14  0.297872   0.482759\n",
      "The prediction accuracy:  0.4855072463768116\n",
      "The f1-score :  0.47219332917273416\n",
      "The recall-score :  0.4855072463768116\n"
     ]
    }
   ],
   "source": [
    "# Prediction of the test sample\n",
    "y_hat_class = treeOpt.predict(X_test)\n",
    "classification_metric(Y_test_class, y_hat_class)"
   ]
  },
  {
   "cell_type": "markdown",
   "metadata": {},
   "source": [
    "    The `low_rain` class seems to be difficult to predict!"
   ]
  },
  {
   "cell_type": "markdown",
   "metadata": {},
   "source": [
    "## 3. Random Forest"
   ]
  },
  {
   "cell_type": "code",
   "execution_count": 76,
   "metadata": {},
   "outputs": [
    {
     "name": "stdout",
     "output_type": "stream",
     "text": [
      "0.46545454545454545\n",
      "0.5072463768115942\n"
     ]
    }
   ],
   "source": [
    "from sklearn.ensemble import RandomForestClassifier \n",
    "# Parameters' definitions\n",
    "forest = RandomForestClassifier(n_estimators = 500, \n",
    "   criterion='gini', max_depth=None,\n",
    "   min_samples_split=2, min_samples_leaf=1, \n",
    "   max_features='auto', max_leaf_nodes=None,\n",
    "   bootstrap=True, oob_score=True)\n",
    "# Training\n",
    "rfFit = forest.fit(X_train,Y_train_class)\n",
    "# Out-of-bag error on the train sample\n",
    "print(1 - rfFit.oob_score_)\n",
    "# Out-of-bag error on the test sample\n",
    "print(1 - rfFit.score(X_test,Y_test_class))"
   ]
  },
  {
   "cell_type": "markdown",
   "metadata": {},
   "source": [
    "Hyper parameters tunning by cross validation"
   ]
  },
  {
   "cell_type": "code",
   "execution_count": 64,
   "metadata": {},
   "outputs": [
    {
     "name": "stdout",
     "output_type": "stream",
     "text": [
      "Best Mean cross-validated accuracy = 0.545455, Best parameter = {'max_depth': 12, 'max_features': 4, 'n_estimators': 300}\n"
     ]
    }
   ],
   "source": [
    "param = [{\"n_estimators\" : range(200, 500, 100) , \"max_features\": range(2,5), \"max_depth\" : range(10, 20, 2) }]\n",
    "rf = GridSearchCV(RandomForestClassifier(random_state=42, criterion=\"entropy\"),\n",
    "        param, cv = 5, n_jobs=-1)\n",
    "rfOpt = rf.fit(X_train, Y_train_class)\n",
    "print(\"Best Mean cross-validated accuracy = %f, Best parameter = %s\" % (rfOpt.best_score_, rfOpt.best_params_))"
   ]
  },
  {
   "cell_type": "code",
   "execution_count": 77,
   "metadata": {},
   "outputs": [
    {
     "name": "stdout",
     "output_type": "stream",
     "text": [
      "The confusion matrix \n",
      "rain_class  high_rain  low_rain  no_rain    recall  precision\n",
      "row_0                                                        \n",
      "high_rain          14         6        4  0.424242   0.583333\n",
      "low_rain           17        39       29  0.672414   0.458824\n",
      "no_rain             2        13       14  0.297872   0.482759\n",
      "The prediction accuracy:  0.4855072463768116\n",
      "The f1-score :  0.47219332917273416\n",
      "The recall-score :  0.4855072463768116\n"
     ]
    }
   ],
   "source": [
    "# Prediction of the test sample\n",
    "y_pred_test = treeOpt.predict(X_test)\n",
    "classification_metric(Y_test_class, y_pred_test)"
   ]
  },
  {
   "cell_type": "markdown",
   "metadata": {},
   "source": [
    "### Gradient Boosting applying to Random Forest"
   ]
  },
  {
   "cell_type": "code",
   "execution_count": 29,
   "metadata": {},
   "outputs": [],
   "source": [
    "from sklearn.model_selection import KFold\n",
    "from sklearn.model_selection import RepeatedStratifiedKFold\n",
    "from sklearn.model_selection import cross_val_score"
   ]
  },
  {
   "cell_type": "code",
   "execution_count": 30,
   "metadata": {},
   "outputs": [],
   "source": [
    "from xgboost import XGBRFClassifier"
   ]
  },
  {
   "cell_type": "code",
   "execution_count": 31,
   "metadata": {},
   "outputs": [],
   "source": [
    "# define the model\n",
    "model = XGBRFClassifier(n_estimators = 500, subsample = 0.99, random_state = 42, metric = \"accuracy\", n_jobs = -1)"
   ]
  },
  {
   "cell_type": "code",
   "execution_count": 32,
   "metadata": {},
   "outputs": [
    {
     "name": "stdout",
     "output_type": "stream",
     "text": [
      "Mean Accuracy: 0.525 (0.052)\n"
     ]
    }
   ],
   "source": [
    "# define the model evaluation procedure\n",
    "cv = RepeatedStratifiedKFold(n_splits=10, n_repeats=3, random_state=1)\n",
    "# evaluate the model and collect the scores\n",
    "n_scores = cross_val_score(model, X_train, Y_train_class, scoring='accuracy', cv = cv, n_jobs=-1)\n",
    "# report performance\n",
    "print('Mean Accuracy: %.3f (%.3f)' % (np.mean(n_scores), np.std(n_scores)))"
   ]
  },
  {
   "cell_type": "code",
   "execution_count": 78,
   "metadata": {},
   "outputs": [
    {
     "ename": "NotFittedError",
     "evalue": "need to call fit or load_model beforehand",
     "output_type": "error",
     "traceback": [
      "\u001b[0;31m---------------------------------------------------------------------------\u001b[0m",
      "\u001b[0;31mNotFittedError\u001b[0m                            Traceback (most recent call last)",
      "\u001b[0;32m<ipython-input-78-e5e6f73deeee>\u001b[0m in \u001b[0;36m<module>\u001b[0;34m\u001b[0m\n\u001b[0;32m----> 1\u001b[0;31m \u001b[0my_pred_test\u001b[0m \u001b[0;34m=\u001b[0m \u001b[0mmodel\u001b[0m\u001b[0;34m.\u001b[0m\u001b[0mpredict\u001b[0m\u001b[0;34m(\u001b[0m\u001b[0mX_test\u001b[0m\u001b[0;34m)\u001b[0m\u001b[0;34m\u001b[0m\u001b[0;34m\u001b[0m\u001b[0m\n\u001b[0m\u001b[1;32m      2\u001b[0m \u001b[0;34m\u001b[0m\u001b[0m\n\u001b[1;32m      3\u001b[0m \u001b[0mprint\u001b[0m\u001b[0;34m(\u001b[0m\u001b[0;34m\"Accuracy score =\"\u001b[0m\u001b[0;34m,\u001b[0m \u001b[0maccuracy_score\u001b[0m\u001b[0;34m(\u001b[0m\u001b[0my_true\u001b[0m \u001b[0;34m=\u001b[0m \u001b[0mY_test_class\u001b[0m\u001b[0;34m,\u001b[0m \u001b[0my_pred\u001b[0m \u001b[0;34m=\u001b[0m \u001b[0my_pred_test\u001b[0m\u001b[0;34m)\u001b[0m\u001b[0;34m)\u001b[0m\u001b[0;34m\u001b[0m\u001b[0;34m\u001b[0m\u001b[0m\n\u001b[1;32m      4\u001b[0m \u001b[0;31m# confusion matrix\u001b[0m\u001b[0;34m\u001b[0m\u001b[0;34m\u001b[0m\u001b[0;34m\u001b[0m\u001b[0m\n\u001b[1;32m      5\u001b[0m \u001b[0mtable\u001b[0m \u001b[0;34m=\u001b[0m \u001b[0mpd\u001b[0m\u001b[0;34m.\u001b[0m\u001b[0mcrosstab\u001b[0m\u001b[0;34m(\u001b[0m\u001b[0my_pred_test\u001b[0m\u001b[0;34m,\u001b[0m \u001b[0mY_test_class\u001b[0m\u001b[0;34m)\u001b[0m\u001b[0;34m\u001b[0m\u001b[0;34m\u001b[0m\u001b[0m\n",
      "\u001b[0;32m/usr/local/insa/anaconda/lib/python3.8/site-packages/xgboost/sklearn.py\u001b[0m in \u001b[0;36mpredict\u001b[0;34m(self, X, output_margin, ntree_limit, validate_features, base_margin, iteration_range)\u001b[0m\n\u001b[1;32m   1207\u001b[0m         \u001b[0miteration_range\u001b[0m\u001b[0;34m:\u001b[0m \u001b[0mOptional\u001b[0m\u001b[0;34m[\u001b[0m\u001b[0mTuple\u001b[0m\u001b[0;34m[\u001b[0m\u001b[0mint\u001b[0m\u001b[0;34m,\u001b[0m \u001b[0mint\u001b[0m\u001b[0;34m]\u001b[0m\u001b[0;34m]\u001b[0m \u001b[0;34m=\u001b[0m \u001b[0;32mNone\u001b[0m\u001b[0;34m,\u001b[0m\u001b[0;34m\u001b[0m\u001b[0;34m\u001b[0m\u001b[0m\n\u001b[1;32m   1208\u001b[0m     ):\n\u001b[0;32m-> 1209\u001b[0;31m         class_probs = super().predict(\n\u001b[0m\u001b[1;32m   1210\u001b[0m             \u001b[0mX\u001b[0m\u001b[0;34m=\u001b[0m\u001b[0mX\u001b[0m\u001b[0;34m,\u001b[0m\u001b[0;34m\u001b[0m\u001b[0;34m\u001b[0m\u001b[0m\n\u001b[1;32m   1211\u001b[0m             \u001b[0moutput_margin\u001b[0m\u001b[0;34m=\u001b[0m\u001b[0moutput_margin\u001b[0m\u001b[0;34m,\u001b[0m\u001b[0;34m\u001b[0m\u001b[0;34m\u001b[0m\u001b[0m\n",
      "\u001b[0;32m/usr/local/insa/anaconda/lib/python3.8/site-packages/xgboost/sklearn.py\u001b[0m in \u001b[0;36mpredict\u001b[0;34m(self, X, output_margin, ntree_limit, validate_features, base_margin, iteration_range)\u001b[0m\n\u001b[1;32m    813\u001b[0m         \"\"\"\n\u001b[1;32m    814\u001b[0m         iteration_range = _convert_ntree_limit(\n\u001b[0;32m--> 815\u001b[0;31m             \u001b[0mself\u001b[0m\u001b[0;34m.\u001b[0m\u001b[0mget_booster\u001b[0m\u001b[0;34m(\u001b[0m\u001b[0;34m)\u001b[0m\u001b[0;34m,\u001b[0m \u001b[0mntree_limit\u001b[0m\u001b[0;34m,\u001b[0m \u001b[0miteration_range\u001b[0m\u001b[0;34m\u001b[0m\u001b[0;34m\u001b[0m\u001b[0m\n\u001b[0m\u001b[1;32m    816\u001b[0m         )\n\u001b[1;32m    817\u001b[0m         \u001b[0miteration_range\u001b[0m \u001b[0;34m=\u001b[0m \u001b[0mself\u001b[0m\u001b[0;34m.\u001b[0m\u001b[0m_get_iteration_range\u001b[0m\u001b[0;34m(\u001b[0m\u001b[0miteration_range\u001b[0m\u001b[0;34m)\u001b[0m\u001b[0;34m\u001b[0m\u001b[0;34m\u001b[0m\u001b[0m\n",
      "\u001b[0;32m/usr/local/insa/anaconda/lib/python3.8/site-packages/xgboost/sklearn.py\u001b[0m in \u001b[0;36mget_booster\u001b[0;34m(self)\u001b[0m\n\u001b[1;32m    395\u001b[0m         \u001b[0;32mif\u001b[0m \u001b[0;32mnot\u001b[0m \u001b[0mhasattr\u001b[0m\u001b[0;34m(\u001b[0m\u001b[0mself\u001b[0m\u001b[0;34m,\u001b[0m \u001b[0;34m'_Booster'\u001b[0m\u001b[0;34m)\u001b[0m\u001b[0;34m:\u001b[0m\u001b[0;34m\u001b[0m\u001b[0;34m\u001b[0m\u001b[0m\n\u001b[1;32m    396\u001b[0m             \u001b[0;32mfrom\u001b[0m \u001b[0msklearn\u001b[0m\u001b[0;34m.\u001b[0m\u001b[0mexceptions\u001b[0m \u001b[0;32mimport\u001b[0m \u001b[0mNotFittedError\u001b[0m\u001b[0;34m\u001b[0m\u001b[0;34m\u001b[0m\u001b[0m\n\u001b[0;32m--> 397\u001b[0;31m             \u001b[0;32mraise\u001b[0m \u001b[0mNotFittedError\u001b[0m\u001b[0;34m(\u001b[0m\u001b[0;34m'need to call fit or load_model beforehand'\u001b[0m\u001b[0;34m)\u001b[0m\u001b[0;34m\u001b[0m\u001b[0;34m\u001b[0m\u001b[0m\n\u001b[0m\u001b[1;32m    398\u001b[0m         \u001b[0;32mreturn\u001b[0m \u001b[0mself\u001b[0m\u001b[0;34m.\u001b[0m\u001b[0m_Booster\u001b[0m\u001b[0;34m\u001b[0m\u001b[0;34m\u001b[0m\u001b[0m\n\u001b[1;32m    399\u001b[0m \u001b[0;34m\u001b[0m\u001b[0m\n",
      "\u001b[0;31mNotFittedError\u001b[0m: need to call fit or load_model beforehand"
     ]
    }
   ],
   "source": [
    "y_pred_test = model.predict(X_test)\n",
    "\n",
    "classification_metric(Y_test_class, y_pred_test)"
   ]
  },
  {
   "cell_type": "markdown",
   "metadata": {},
   "source": [
    "## 4. Support Vector Machine"
   ]
  },
  {
   "cell_type": "markdown",
   "metadata": {},
   "source": [
    "### 4.1. Linear SVM "
   ]
  },
  {
   "cell_type": "markdown",
   "metadata": {},
   "source": [
    "Optimisation of C - Regularization parameter. The strength of the regularization is inversely proportional to C. Must be strictly positive. The penalty is a squared l2 penalty"
   ]
  },
  {
   "cell_type": "code",
   "execution_count": 85,
   "metadata": {},
   "outputs": [
    {
     "name": "stdout",
     "output_type": "stream",
     "text": [
      "Best Mean cross-validated accuracy = 0.547273, Best parameter = {'C': 0.06000000000000001}\n"
     ]
    }
   ],
   "source": [
    "from sklearn.svm import LinearSVC\n",
    "from sklearn.model_selection import GridSearchCV\n",
    "param=[{\"C\": np.linspace(0.01, 0.1, 10) }]\n",
    "svm= GridSearchCV(LinearSVC(), param, cv=10, n_jobs = -1, scoring = \"accuracy\")\n",
    "svmLinOpt=svm.fit(X_train, Y_train_class)\n",
    "print(\"Best Mean cross-validated accuracy = %f, Best parameter = %s\" % (svmLinOpt.best_score_,svmLinOpt.best_params_))"
   ]
  },
  {
   "cell_type": "code",
   "execution_count": 86,
   "metadata": {},
   "outputs": [
    {
     "name": "stdout",
     "output_type": "stream",
     "text": [
      "The confusion matrix \n",
      "rain_class  high_rain  low_rain  no_rain    recall  precision\n",
      "row_0                                                        \n",
      "high_rain          25        11        9  0.757576   0.555556\n",
      "low_rain            7        36       20  0.620690   0.571429\n",
      "no_rain             1        11       18  0.382979   0.600000\n",
      "The prediction accuracy:  0.572463768115942\n",
      "The f1-score :  0.5626106436383117\n",
      "The recall-score :  0.572463768115942\n"
     ]
    }
   ],
   "source": [
    "# Prediction of the test sample\n",
    "y_pred_test = svmLinOpt.predict(X_test)\n",
    "classification_metric(Y_test_class, y_pred_test)"
   ]
  },
  {
   "cell_type": "markdown",
   "metadata": {},
   "source": [
    "    It seems that with the linear kernel, the results is quite good comparing to other methods"
   ]
  },
  {
   "cell_type": "markdown",
   "metadata": {},
   "source": [
    "### 4.2. SVM with polynomial kernels"
   ]
  },
  {
   "cell_type": "markdown",
   "metadata": {},
   "source": [
    "By default, we take polynomial of degree 3"
   ]
  },
  {
   "cell_type": "code",
   "execution_count": 87,
   "metadata": {},
   "outputs": [
    {
     "name": "stdout",
     "output_type": "stream",
     "text": [
      "Best Mean cross-validated accuracy = 0.543636, Best parameter = {'C': 1, 'coef0': 0.9, 'gamma': 0.04}\n"
     ]
    }
   ],
   "source": [
    "from sklearn.svm import SVC\n",
    "from sklearn.model_selection import GridSearchCV\n",
    "param = [{\"C\":[0.1,0.4,0.5,0.6,0.8,1,1.2,1.4,1.6,2],\"gamma\":np.array(range(1,11))/100, \"coef0\":np.array(range(1,11))/10}]\n",
    "svm = GridSearchCV(SVC(kernel=\"poly\"),param,cv=10,n_jobs=-1, scoring = \"accuracy\")\n",
    "svmPolyOpt=svm.fit(X_train, Y_train_class)\n",
    "print(\"Best Mean cross-validated accuracy = %f, Best parameter = %s\" % (svmPolyOpt.best_score_, svmPolyOpt.best_params_))"
   ]
  },
  {
   "cell_type": "code",
   "execution_count": 89,
   "metadata": {},
   "outputs": [
    {
     "name": "stdout",
     "output_type": "stream",
     "text": [
      "The confusion matrix \n",
      "rain_class  high_rain  low_rain  no_rain    recall  precision\n",
      "row_0                                                        \n",
      "high_rain          20        10        7  0.606061   0.540541\n",
      "low_rain           13        38       26  0.655172   0.493506\n",
      "no_rain             0        10       14  0.297872   0.583333\n",
      "The prediction accuracy:  0.5217391304347826\n",
      "The f1-score :  0.5075667099753648\n",
      "The recall-score :  0.5217391304347826\n"
     ]
    }
   ],
   "source": [
    "# Prediction of the test sample\n",
    "y_pred_test = svmPolyOpt.predict(X_test)\n",
    "classification_metric(Y_test_class, y_pred_test)"
   ]
  },
  {
   "cell_type": "markdown",
   "metadata": {},
   "source": [
    "Let's test for degree 2"
   ]
  },
  {
   "cell_type": "code",
   "execution_count": 90,
   "metadata": {},
   "outputs": [
    {
     "name": "stdout",
     "output_type": "stream",
     "text": [
      "Best Mean cross-validated accuracy = 0.545455, Best parameter = {'C': 1, 'coef0': 0.9, 'gamma': 0.08}\n"
     ]
    }
   ],
   "source": [
    "from sklearn.svm import SVC\n",
    "from sklearn.model_selection import GridSearchCV\n",
    "param=[{\"C\":[0.1,0.4,0.5,0.6,0.8,1,1.2,1.4,1.6,2],\"gamma\":np.array(range(1,11))/100, \"coef0\":np.array(range(1,11))/10}]\n",
    "svm= GridSearchCV(SVC(kernel=\"poly\",degree =2),param,cv=10,n_jobs=-1,scoring = \"accuracy\")\n",
    "svmPoly2Opt=svm.fit(X_train, Y_train_class)\n",
    "print(\"Best Mean cross-validated accuracy = %f, Best parameter = %s\" % (svmPoly2Opt.best_score_,svmPoly2Opt.best_params_))"
   ]
  },
  {
   "cell_type": "code",
   "execution_count": 92,
   "metadata": {},
   "outputs": [
    {
     "name": "stdout",
     "output_type": "stream",
     "text": [
      "The confusion matrix \n",
      "rain_class  high_rain  low_rain  no_rain    recall  precision\n",
      "row_0                                                        \n",
      "high_rain          20        12        8  0.606061   0.500000\n",
      "low_rain           12        34       23  0.586207   0.492754\n",
      "no_rain             1        12       16  0.340426   0.551724\n",
      "The prediction accuracy:  0.5072463768115942\n",
      "The f1-score :  0.499469446197599\n",
      "The recall-score :  0.5072463768115942\n"
     ]
    }
   ],
   "source": [
    "# Prediction of the test sample\n",
    "y_pred_test= svmPoly2Opt.predict(X_test)\n",
    "classification_metric(Y_test_class, y_pred_test)"
   ]
  },
  {
   "cell_type": "markdown",
   "metadata": {},
   "source": [
    "### 4.3. SVM with radial kernel"
   ]
  },
  {
   "cell_type": "code",
   "execution_count": 93,
   "metadata": {},
   "outputs": [
    {
     "name": "stdout",
     "output_type": "stream",
     "text": [
      "Best Mean cross-validated accuracy = 0.567273, Best parameter = {'C': 1.2, 'coef0': 0.1, 'gamma': 0.1}\n"
     ]
    }
   ],
   "source": [
    "from sklearn.svm import SVC\n",
    "from sklearn.model_selection import GridSearchCV\n",
    "param=[{\"C\":[0.1,0.4,0.5,0.6,0.8,1,1.2,1.4,1.6,2],\"gamma\":np.array(range(1,11))/100, \"coef0\":np.array(range(1,11))/10}]\n",
    "svm= GridSearchCV(SVC(kernel=\"rbf\"),param,cv=10,n_jobs=-1,scoring = \"accuracy\")\n",
    "svmRadOpt=svm.fit(X_train, Y_train_class)\n",
    "print(\"Best Mean cross-validated accuracy = %f, Best parameter = %s\" % (svmRadOpt.best_score_,svmRadOpt.best_params_))"
   ]
  },
  {
   "cell_type": "code",
   "execution_count": 97,
   "metadata": {},
   "outputs": [
    {
     "name": "stdout",
     "output_type": "stream",
     "text": [
      "The confusion matrix \n",
      "rain_class  high_rain  low_rain  no_rain  recall  precision\n",
      "row_0                                                      \n",
      "high_rain          21         9       10   0.636      0.525\n",
      "low_rain           11        40       26   0.690      0.519\n",
      "no_rain             1         9       11   0.234      0.524\n",
      "The prediction accuracy:  0.522\n",
      "The f1-score :  0.497\n",
      "The recall-score :  0.522\n"
     ]
    }
   ],
   "source": [
    "# Prediction of the test sample\n",
    "y_pred_test = svmRadOpt.predict(X_test)\n",
    "classification_metric(Y_test_class, y_pred_test)"
   ]
  },
  {
   "cell_type": "markdown",
   "metadata": {},
   "source": [
    "## 4. Support Vector Machine"
   ]
  },
  {
   "cell_type": "markdown",
   "metadata": {},
   "source": [
    "### 4.1. Linear SVM "
   ]
  },
  {
   "cell_type": "markdown",
   "metadata": {},
   "source": [
    "Optimisation of C - Regularization parameter. The strength of the regularization is inversely proportional to C. Must be strictly positive. The penalty is a squared l2 penalty"
   ]
  },
  {
   "cell_type": "code",
   "execution_count": null,
   "metadata": {},
   "outputs": [
    {
     "name": "stdout",
     "output_type": "stream",
     "text": [
      "Best Mean cross-validated accuracy = 0.530909, Best parameter = {'C': 0.4}\n"
     ]
    }
   ],
   "source": [
    "from sklearn.svm import LinearSVC\n",
    "from sklearn.model_selection import GridSearchCV\n",
    "param=[{\"C\":[0.4,0.5,0.6,0.8,1,1.4]}]\n",
    "svm= GridSearchCV(LinearSVC(),param,cv=10,n_jobs=-1,scoring = \"accuracy\")\n",
    "svmLinOpt=svm.fit(X_train, Y_train_class)\n",
    "print(\"Best Mean cross-validated accuracy = %f, Best parameter = %s\" % (svmLinOpt.best_score_,svmLinOpt.best_params_))"
   ]
  },
  {
   "cell_type": "code",
   "execution_count": null,
   "metadata": {},
   "outputs": [
    {
     "name": "stdout",
     "output_type": "stream",
     "text": [
      "Accuracy score = 0.572463768115942\n",
      "rain_class  high_rain  low_rain  no_rain\n",
      "row_0                                   \n",
      "high_rain          24        11        9\n",
      "low_rain            8        36       19\n",
      "no_rain             1        11       19\n"
     ]
    }
   ],
   "source": [
    "# Prediction of the test sample\n",
    "y_hat_class = svmLinOpt.predict(X_test)\n",
    "print(\"Accuracy score =\", accuracy_score(y_true = Y_test_class, y_pred = y_hat_class))\n",
    "# confusion matrix\n",
    "table = pd.crosstab(y_hat_class, Y_test_class)\n",
    "print(table)"
   ]
  },
  {
   "cell_type": "markdown",
   "metadata": {},
   "source": [
    "### 4.2. SVM with polynomial kernels"
   ]
  },
  {
   "cell_type": "markdown",
   "metadata": {},
   "source": [
    "By default, we take polynomial of degree 3"
   ]
  },
  {
   "cell_type": "code",
   "execution_count": null,
   "metadata": {},
   "outputs": [
    {
     "name": "stdout",
     "output_type": "stream",
     "text": [
      "Best Mean cross-validated accuracy = 0.543636, Best parameter = {'C': 1, 'coef0': 0.9, 'gamma': 0.04}\n"
     ]
    }
   ],
   "source": [
    "from sklearn.svm import SVC\n",
    "from sklearn.model_selection import GridSearchCV\n",
    "param=[{\"C\":[0.1,0.4,0.5,0.6,0.8,1,1.2,1.4,1.6,2],\"gamma\":np.array(range(1,11))/100, \"coef0\":np.array(range(1,11))/10}]\n",
    "svm= GridSearchCV(SVC(kernel=\"poly\"),param,cv=10,n_jobs=-1,scoring = \"accuracy\")\n",
    "svmPolyOpt=svm.fit(X_train, Y_train_class)\n",
    "print(\"Best Mean cross-validated accuracy = %f, Best parameter = %s\" % (svmPolyOpt.best_score_,svmPolyOpt.best_params_))"
   ]
  },
  {
   "cell_type": "code",
   "execution_count": null,
   "metadata": {},
   "outputs": [
    {
     "name": "stdout",
     "output_type": "stream",
     "text": [
      "Accuracy score = 0.5217391304347826\n",
      "rain_class  high_rain  low_rain  no_rain\n",
      "row_0                                   \n",
      "high_rain          20        10        7\n",
      "low_rain           13        38       26\n",
      "no_rain             0        10       14\n"
     ]
    }
   ],
   "source": [
    "# Prediction of the test sample\n",
    "y_hat_class = svmPolyOpt.predict(X_test)\n",
    "print(\"Accuracy score =\", accuracy_score(y_true = Y_test_class, y_pred = y_hat_class))\n",
    "# confusion matrix\n",
    "table = pd.crosstab(y_hat_class, Y_test_class)\n",
    "print(table)"
   ]
  },
  {
   "cell_type": "markdown",
   "metadata": {},
   "source": [
    "Let's test for degree 2"
   ]
  },
  {
   "cell_type": "code",
   "execution_count": null,
   "metadata": {},
   "outputs": [
    {
     "name": "stdout",
     "output_type": "stream",
     "text": [
      "Best Mean cross-validated accuracy = 0.545455, Best parameter = {'C': 1, 'coef0': 0.9, 'gamma': 0.08}\n"
     ]
    }
   ],
   "source": [
    "from sklearn.svm import SVC\n",
    "from sklearn.model_selection import GridSearchCV\n",
    "param=[{\"C\":[0.1,0.4,0.5,0.6,0.8,1,1.2,1.4,1.6,2],\"gamma\":np.array(range(1,11))/100, \"coef0\":np.array(range(1,11))/10}]\n",
    "svm= GridSearchCV(SVC(kernel=\"poly\",degree =2),param,cv=10,n_jobs=-1,scoring = \"accuracy\")\n",
    "svmPoly2Opt=svm.fit(X_train, Y_train_class)\n",
    "print(\"Best Mean cross-validated accuracy = %f, Best parameter = %s\" % (svmPoly2Opt.best_score_,svmPoly2Opt.best_params_))"
   ]
  },
  {
   "cell_type": "code",
   "execution_count": null,
   "metadata": {},
   "outputs": [
    {
     "name": "stdout",
     "output_type": "stream",
     "text": [
      "Accuracy score = 0.5072463768115942\n",
      "rain_class  high_rain  low_rain  no_rain\n",
      "row_0                                   \n",
      "high_rain          20        12        8\n",
      "low_rain           12        34       23\n",
      "no_rain             1        12       16\n"
     ]
    }
   ],
   "source": [
    "# Prediction of the test sample\n",
    "y_hat_class = svmPoly2Opt.predict(X_test)\n",
    "print(\"Accuracy score =\", accuracy_score(y_true = Y_test_class, y_pred = y_hat_class))\n",
    "# confusion matrix\n",
    "table = pd.crosstab(y_hat_class, Y_test_class)\n",
    "print(table)"
   ]
  },
  {
   "cell_type": "markdown",
   "metadata": {},
   "source": [
    "### 4.3. SVM with radial kernel"
   ]
  },
  {
   "cell_type": "code",
   "execution_count": null,
   "metadata": {},
   "outputs": [
    {
     "name": "stdout",
     "output_type": "stream",
     "text": [
      "Best Mean cross-validated accuracy = 0.567273, Best parameter = {'C': 1.2, 'coef0': 0.1, 'gamma': 0.1}\n"
     ]
    }
   ],
   "source": [
    "from sklearn.svm import SVC\n",
    "from sklearn.model_selection import GridSearchCV\n",
    "param=[{\"C\":[0.1,0.4,0.5,0.6,0.8,1,1.2,1.4,1.6,2],\"gamma\":np.array(range(1,11))/100, \"coef0\":np.array(range(1,11))/10}]\n",
    "svm= GridSearchCV(SVC(kernel=\"rbf\"),param,cv=10,n_jobs=-1,scoring = \"accuracy\")\n",
    "svmRadOpt=svm.fit(X_train, Y_train_class)\n",
    "print(\"Best Mean cross-validated accuracy = %f, Best parameter = %s\" % (svmRadOpt.best_score_,svmRadOpt.best_params_))"
   ]
  },
  {
   "cell_type": "code",
   "execution_count": null,
   "metadata": {},
   "outputs": [
    {
     "name": "stdout",
     "output_type": "stream",
     "text": [
      "Accuracy score = 0.5217391304347826\n",
      "rain_class  high_rain  low_rain  no_rain\n",
      "row_0                                   \n",
      "high_rain          21         9       10\n",
      "low_rain           11        40       26\n",
      "no_rain             1         9       11\n"
     ]
    }
   ],
   "source": [
    "# Prediction of the test sample\n",
    "y_hat_class = svmRadOpt.predict(X_test)\n",
    "print(\"Accuracy score =\", accuracy_score(y_true = Y_test_class, y_pred = y_hat_class))\n",
    "# confusion matrix\n",
    "table = pd.crosstab(y_hat_class, Y_test_class)\n",
    "print(table)"
   ]
  },
  {
   "cell_type": "markdown",
   "metadata": {},
   "source": [
    "### 4.3. SVM with sigmoid kernel"
   ]
  },
  {
   "cell_type": "code",
   "execution_count": null,
   "metadata": {},
   "outputs": [
    {
     "name": "stdout",
     "output_type": "stream",
     "text": [
      "Best Mean cross-validated accuracy = 0.516364, Best parameter = {'C': 0.4, 'coef0': 0.1, 'gamma': 0.05}\n"
     ]
    }
   ],
   "source": [
    "from sklearn.svm import SVC\n",
    "from sklearn.model_selection import GridSearchCV\n",
    "param=[{\"C\":[0.1,0.4,0.5,0.6,0.8,1,1.2,1.4,1.6,2],\"gamma\":np.array(range(1,11))/100, \"coef0\":np.array(range(1,11))/10}]\n",
    "svm= GridSearchCV(SVC(kernel=\"sigmoid\"),param,cv=10,n_jobs=-1,scoring = \"accuracy\")\n",
    "svmSigOpt=svm.fit(X_train, Y_train_class)\n",
    "print(\"Best Mean cross-validated accuracy = %f, Best parameter = %s\" % (svmSigOpt.best_score_,svmSigOpt.best_params_))"
   ]
  },
  {
   "cell_type": "code",
   "execution_count": null,
   "metadata": {},
   "outputs": [
    {
     "name": "stdout",
     "output_type": "stream",
     "text": [
      "Accuracy score = 0.5217391304347826\n",
      "rain_class  high_rain  low_rain  no_rain\n",
      "row_0                                   \n",
      "high_rain          26        12        8\n",
      "low_rain            7        42       35\n",
      "no_rain             0         4        4\n"
     ]
    }
   ],
   "source": [
    "# Prediction of the test sample\n",
    "y_hat_class = svmSigOpt.predict(X_test)\n",
    "print(\"Accuracy score =\", accuracy_score(y_true = Y_test_class, y_pred = y_hat_class))\n",
    "# confusion matrix\n",
    "table = pd.crosstab(y_hat_class, Y_test_class)\n",
    "print(table)"
   ]
  },
  {
   "cell_type": "markdown",
   "metadata": {},
   "source": [
    "### 4.3. SVM with sigmoid kernel"
   ]
  },
  {
   "cell_type": "code",
   "execution_count": null,
   "metadata": {},
   "outputs": [
    {
     "name": "stdout",
     "output_type": "stream",
     "text": [
      "Best Mean cross-validated accuracy = 0.516364, Best parameter = {'C': 0.4, 'coef0': 0.1, 'gamma': 0.05}\n"
     ]
    }
   ],
   "source": [
    "from sklearn.svm import SVC\n",
    "from sklearn.model_selection import GridSearchCV\n",
    "param=[{\"C\":[0.1,0.4,0.5,0.6,0.8,1,1.2,1.4,1.6,2],\"gamma\":np.array(range(1,11))/100, \"coef0\":np.array(range(1,11))/10}]\n",
    "svm= GridSearchCV(SVC(kernel=\"sigmoid\"),param,cv=10,n_jobs=-1,scoring = \"accuracy\")\n",
    "svmSigOpt=svm.fit(X_train, Y_train_class)\n",
    "print(\"Best Mean cross-validated accuracy = %f, Best parameter = %s\" % (svmSigOpt.best_score_,svmSigOpt.best_params_))"
   ]
  },
  {
   "cell_type": "code",
   "execution_count": null,
   "metadata": {},
   "outputs": [
    {
     "name": "stdout",
     "output_type": "stream",
     "text": [
      "Accuracy score = 0.5217391304347826\n",
      "rain_class  high_rain  low_rain  no_rain\n",
      "row_0                                   \n",
      "high_rain          26        12        8\n",
      "low_rain            7        42       35\n",
      "no_rain             0         4        4\n"
     ]
    }
   ],
   "source": [
    "# Prediction of the test sample\n",
    "y_hat_class = svmSigOpt.predict(X_test)\n",
    "print(\"Accuracy score =\", accuracy_score(y_true = Y_test_class, y_pred = y_hat_class))\n",
    "# confusion matrix\n",
    "table = pd.crosstab(y_hat_class, Y_test_class)\n",
    "print(table)"
   ]
  },
  {
   "cell_type": "markdown",
   "metadata": {},
   "source": [
    "# Neural Network"
   ]
  },
  {
   "cell_type": "markdown",
   "metadata": {},
   "source": [
    "## Multi-layer Perceptron Classifier"
   ]
  },
  {
   "cell_type": "code",
   "execution_count": 35,
   "metadata": {},
   "outputs": [],
   "source": [
    "from sklearn.neural_network import MLPClassifier"
   ]
  },
  {
   "cell_type": "markdown",
   "metadata": {},
   "source": [
    "#### One hidden layer neural network"
   ]
  },
  {
   "cell_type": "markdown",
   "metadata": {},
   "source": [
    "Firstly, we fit an one-hidden layer neural network with ReLU activation in the hidden layer and the softmax activation for the out put layer, and the log-loss function. We use here the default configuration for the optimisation task."
   ]
  },
  {
   "cell_type": "code",
   "execution_count": 36,
   "metadata": {},
   "outputs": [
    {
     "data": {
      "text/plain": [
       "MLPClassifier(hidden_layer_sizes=3, max_iter=1500, random_state=42)"
      ]
     },
     "execution_count": 36,
     "metadata": {},
     "output_type": "execute_result"
    }
   ],
   "source": [
    "nnet1 = MLPClassifier(hidden_layer_sizes = (3), random_state = 42, max_iter = 1500)\n",
    "nnet1.fit(X_train, Y_train_class)"
   ]
  },
  {
   "cell_type": "code",
   "execution_count": 37,
   "metadata": {},
   "outputs": [
    {
     "data": {
      "text/plain": [
       "'softmax'"
      ]
     },
     "execution_count": 37,
     "metadata": {},
     "output_type": "execute_result"
    }
   ],
   "source": [
    "nnet1.out_activation_"
   ]
  },
  {
   "cell_type": "code",
   "execution_count": 38,
   "metadata": {},
   "outputs": [
    {
     "data": {
      "text/plain": [
       "[<matplotlib.lines.Line2D at 0x7f53647f44f0>]"
      ]
     },
     "execution_count": 38,
     "metadata": {},
     "output_type": "execute_result"
    },
    {
     "data": {
      "image/png": "[encoded data removed]",
      "text/plain": [
       "<Figure size 432x288 with 1 Axes>"
      ]
     },
     "metadata": {
      "needs_background": "light"
     },
     "output_type": "display_data"
    }
   ],
   "source": [
    "plt.plot(nnet1.loss_curve_)"
   ]
  },
  {
   "cell_type": "code",
   "execution_count": 39,
   "metadata": {},
   "outputs": [
    {
     "name": "stdout",
     "output_type": "stream",
     "text": [
      "Accuracy score = 0.5144927536231884\n",
      "rain_class  high_rain  low_rain  no_rain\n",
      "row_0                                   \n",
      "high_rain          24        10        8\n",
      "low_rain            8        36       28\n",
      "no_rain             1        12       11\n"
     ]
    }
   ],
   "source": [
    "y_pred_test = nnet1.predict(X_test)\n",
    "\n",
    "print(\"Accuracy score =\", accuracy_score(y_true = Y_test_class, y_pred = y_pred_test))\n",
    "# confusion matrix\n",
    "table = pd.crosstab(y_pred_test, Y_test_class)\n",
    "print(table)"
   ]
  },
  {
   "cell_type": "markdown",
   "metadata": {},
   "source": [
    "We'll use cross validation for searching the optimal number of neurones in the hidden layer"
   ]
  },
  {
   "cell_type": "code",
   "execution_count": null,
   "metadata": {},
   "outputs": [
    {
     "name": "stdout",
     "output_type": "stream",
     "text": [
      "Best Mean cross-validated accuracy = 0.527273, Best parameter = {'alpha': 0.01, 'early_stopping': False, 'hidden_layer_sizes': (5,)}\n"
     ]
    }
   ],
   "source": [
    "param_grid = [{\"hidden_layer_sizes\" : [(3,),(4,),(5,),(6,), (7,)], \"early_stopping\" : [True, False], \"alpha\" : [0.0001, 0.001, 0.005, 0.01, 0.05, 0.1]}]\n",
    "\n",
    "nnet1_cv = GridSearchCV(MLPClassifier(max_iter = 1500, random_state = 42), param_grid, cv = 5, n_jobs=-1, return_train_score = True)\n",
    "nnet1_cv.fit(X_train, Y_train_class)\n",
    "\n",
    "print(\"Best Mean cross-validated accuracy = %f, Best parameter = %s\" % (nnet1_cv.best_score_, nnet1_cv.best_params_))"
   ]
  },
  {
   "cell_type": "code",
   "execution_count": null,
   "metadata": {},
   "outputs": [
    {
     "name": "stdout",
     "output_type": "stream",
     "text": [
      "Accuracy score = 0.5289855072463768\n",
      "rain_class  high_rain  low_rain  no_rain\n",
      "row_0                                   \n",
      "high_rain          25        12        8\n",
      "low_rain            7        33       24\n",
      "no_rain             1        13       15\n"
     ]
    }
   ],
   "source": [
    "nnet1Opt = nnet1_cv.best_estimator_\n",
    "\n",
    "y_pred_test = nnet1Opt.predict(X_test)\n",
    "\n",
    "print(\"Accuracy score =\", accuracy_score(y_true = Y_test_class, y_pred = y_pred_test))\n",
    "# confusion matrix\n",
    "table = pd.crosstab(y_pred_test, Y_test_class)\n",
    "print(table)"
   ]
  },
  {
   "cell_type": "code",
   "execution_count": null,
   "metadata": {},
   "outputs": [
    {
     "data": {
      "text/plain": [
       "Text(0.5, 0, 'Iteration')"
      ]
     },
     "execution_count": 174,
     "metadata": {},
     "output_type": "execute_result"
    },
    {
     "data": {
      "image/png": "[encoded data removed]",
      "text/plain": [
       "<Figure size 432x288 with 1 Axes>"
      ]
     },
     "metadata": {
      "needs_background": "light"
     },
     "output_type": "display_data"
    }
   ],
   "source": [
    "plt.plot(nnet1Opt.loss_curve_)\n",
    "plt.title(\"Loss curve during training\")\n",
    "plt.xlabel(\"Iteration\")"
   ]
  },
  {
   "cell_type": "markdown",
   "metadata": {},
   "source": [
    "We can see that the loss function is almost reached the minimum but the prediction accuracy is still arounded $50$ percents. It means that this model does not fit well the data. We will try with more sophisticated models in the next sections"
   ]
  },
  {
   "cell_type": "markdown",
   "metadata": {},
   "source": [
    "### Multilayers Neural Network"
   ]
  },
  {
   "cell_type": "code",
   "execution_count": null,
   "metadata": {},
   "outputs": [
    {
     "data": {
      "text/plain": [
       "MLPClassifier(activation='relu', alpha=0.1, batch_size='auto', beta_1=0.9,\n",
       "              beta_2=0.999, early_stopping=True, epsilon=1e-08,\n",
       "              hidden_layer_sizes=(20, 12, 10, 5), learning_rate='constant',\n",
       "              learning_rate_init=0.001, max_fun=15000, max_iter=1500,\n",
       "              momentum=0.9, n_iter_no_change=75, nesterovs_momentum=True,\n",
       "              power_t=0.5, random_state=42, shuffle=True, solver='adam',\n",
       "              tol=0.0001, validation_fraction=0.1, verbose=False,\n",
       "              warm_start=False)"
      ]
     },
     "execution_count": 250,
     "metadata": {},
     "output_type": "execute_result"
    }
   ],
   "source": [
    "nnet = MLPClassifier(hidden_layer_sizes = (20, 12 , 10, 5), random_state = 42, max_iter = 1500, alpha = 0.1, activation = \"relu\", early_stopping = True, n_iter_no_change = 75)\n",
    "nnet.fit(X_train, Y_train_class)\n"
   ]
  },
  {
   "cell_type": "code",
   "execution_count": null,
   "metadata": {},
   "outputs": [
    {
     "name": "stdout",
     "output_type": "stream",
     "text": [
      "Training accuracy :  0.5509090909090909\n"
     ]
    },
    {
     "data": {
      "text/plain": [
       "Text(0.5, 0, 'Iteration')"
      ]
     },
     "execution_count": 251,
     "metadata": {},
     "output_type": "execute_result"
    },
    {
     "data": {
      "image/png": "[encoded data removed]",
      "text/plain": [
       "<Figure size 432x288 with 1 Axes>"
      ]
     },
     "metadata": {
      "needs_background": "light"
     },
     "output_type": "display_data"
    }
   ],
   "source": [
    "print(\"Training accuracy : \", nnet.score(X_train, Y_train_class))\n",
    "plt.plot(nnet.loss_curve_)\n",
    "plt.title(\"Loss curve during training\")\n",
    "plt.xlabel(\"Iteration\")"
   ]
  },
  {
   "cell_type": "code",
   "execution_count": null,
   "metadata": {},
   "outputs": [
    {
     "name": "stdout",
     "output_type": "stream",
     "text": [
      "Prediction accuracy in test set = 0.5289855072463768\n",
      "rain_class  high_rain  low_rain  no_rain\n",
      "row_0                                   \n",
      "high_rain          23        11       10\n",
      "low_rain            9        44       31\n",
      "no_rain             1         3        6\n"
     ]
    }
   ],
   "source": [
    "y_pred_test = nnet.predict(X_test)\n",
    "\n",
    "print(\"Prediction accuracy in test set =\", accuracy_score(y_true = Y_test_class, y_pred = y_pred_test))\n",
    "# confusion matrix\n",
    "table = pd.crosstab(y_pred_test, Y_test_class)\n",
    "print(table)"
   ]
  },
  {
   "cell_type": "markdown",
   "metadata": {},
   "source": [
    "# Gaussian Process Classification"
   ]
  },
  {
   "cell_type": "code",
   "execution_count": null,
   "metadata": {},
   "outputs": [],
   "source": [
    "from sklearn.gaussian_process import GaussianProcessClassifier\n",
    "from sklearn.gaussian_process.kernels import RBF\n",
    "from sklearn.gaussian_process.kernels import Matern\n"
   ]
  },
  {
   "cell_type": "code",
   "execution_count": null,
   "metadata": {},
   "outputs": [
    {
     "name": "stdout",
     "output_type": "stream",
     "text": [
      "0.5981818181818181\n",
      "0.5144927536231884\n"
     ]
    }
   ],
   "source": [
    "GPC = GaussianProcessClassifier(kernel = 0.5*RBF(3.0), random_state = 42, multi_class = \"one_vs_rest\")\n",
    "GPC.fit(X_train, Y_train_class)\n",
    "print(GPC.score(X_train, Y_train_class))\n",
    "print(GPC.score(X_test, Y_test_class))"
   ]
  },
  {
   "cell_type": "code",
   "execution_count": null,
   "metadata": {},
   "outputs": [
    {
     "name": "stdout",
     "output_type": "stream",
     "text": [
      "0.6218181818181818\n",
      "0.5217391304347826\n"
     ]
    }
   ],
   "source": [
    "GPC = GaussianProcessClassifier(kernel = Matern(3.0, nu = 1.5), random_state = 42, multi_class = \"one_vs_rest\")\n",
    "GPC.fit(X_train, Y_train_class)\n",
    "print(GPC.score(X_train, Y_train_class))\n",
    "print(GPC.score(X_test, Y_test_class))"
   ]
  }
 ],
 "metadata": {
  "interpreter": {
   "hash": "0650c59a78a128c748f8aadfab5692cc08be5aacb695e9a8f2efcdc6dbedda40"
  },
  "kernelspec": {
   "display_name": "Python 3.8.10 ('base')",
   "language": "python",
   "name": "python3"
  },
  "language_info": {
   "codemirror_mode": {
    "name": "ipython",
    "version": 3
   },
   "file_extension": ".py",
   "mimetype": "text/x-python",
   "name": "python",
   "nbconvert_exporter": "python",
   "pygments_lexer": "ipython3",
   "version": "3.8.10"
  },
  "orig_nbformat": 4
 },
 "nbformat": 4,
 "nbformat_minor": 2
}
