{
 "cells": [
  {
   "cell_type": "code",
   "execution_count": 1,
   "metadata": {
    "vscode": {
     "languageId": "r"
    }
   },
   "outputs": [],
   "source": [
    "set.seed(42)"
   ]
  },
  {
   "cell_type": "code",
   "execution_count": 2,
   "metadata": {
    "vscode": {
     "languageId": "r"
    }
   },
   "outputs": [],
   "source": [
    "train_set = read.delim(\"data/train_set.txt\", sep = \" \")\n",
    "test_set = read.delim(\"data/test_set.txt\", sep = \" \")"
   ]
  },
  {
   "cell_type": "code",
   "execution_count": 3,
   "metadata": {
    "vscode": {
     "languageId": "r"
    }
   },
   "outputs": [
    {
     "data": {
      "text/html": [
       "<table class=\"dataframe\">\n",
       "<caption>A data.frame: 6 × 29</caption>\n",
       "<thead>\n",
       "\t<tr><th></th><th scope=col>ff</th><th scope=col>t</th><th scope=col>td</th><th scope=col>hu</th><th scope=col>dd</th><th scope=col>precip_log</th><th scope=col>ws_arome</th><th scope=col>p3031_arome</th><th scope=col>u10_arome</th><th scope=col>v10_arome</th><th scope=col>⋯</th><th scope=col>month3</th><th scope=col>month4</th><th scope=col>month5</th><th scope=col>month6</th><th scope=col>month7</th><th scope=col>month8</th><th scope=col>month9</th><th scope=col>month10</th><th scope=col>month11</th><th scope=col>month12</th></tr>\n",
       "\t<tr><th></th><th scope=col>&lt;dbl&gt;</th><th scope=col>&lt;dbl&gt;</th><th scope=col>&lt;dbl&gt;</th><th scope=col>&lt;dbl&gt;</th><th scope=col>&lt;dbl&gt;</th><th scope=col>&lt;dbl&gt;</th><th scope=col>&lt;dbl&gt;</th><th scope=col>&lt;dbl&gt;</th><th scope=col>&lt;dbl&gt;</th><th scope=col>&lt;dbl&gt;</th><th scope=col>⋯</th><th scope=col>&lt;int&gt;</th><th scope=col>&lt;int&gt;</th><th scope=col>&lt;int&gt;</th><th scope=col>&lt;int&gt;</th><th scope=col>&lt;int&gt;</th><th scope=col>&lt;int&gt;</th><th scope=col>&lt;int&gt;</th><th scope=col>&lt;int&gt;</th><th scope=col>&lt;int&gt;</th><th scope=col>&lt;int&gt;</th></tr>\n",
       "</thead>\n",
       "<tbody>\n",
       "\t<tr><th scope=row>1</th><td>-0.08621305</td><td> 1.164777</td><td> 0.9105351</td><td>-0.79823471</td><td> 0.5200537</td><td>-0.82039852</td><td>-0.03659526</td><td> 0.5297853</td><td> 0.8019527</td><td> 0.4007581</td><td>⋯</td><td>0</td><td>0</td><td>0</td><td>1</td><td>0</td><td>0</td><td>0</td><td>0</td><td>0</td><td>0</td></tr>\n",
       "\t<tr><th scope=row>2</th><td>-0.21529566</td><td>-1.471529</td><td>-1.6613332</td><td>-0.45471837</td><td> 0.6958876</td><td> 0.07889537</td><td>-0.25766440</td><td> 1.3231433</td><td> 0.5568977</td><td>-0.8887086</td><td>⋯</td><td>1</td><td>0</td><td>0</td><td>0</td><td>0</td><td>0</td><td>0</td><td>0</td><td>0</td><td>0</td></tr>\n",
       "\t<tr><th scope=row>4</th><td>-1.46867996</td><td> 0.129100</td><td>-0.1875101</td><td>-1.05685344</td><td> 0.1290120</td><td>-0.82039852</td><td>-1.31752316</td><td>-0.8278199</td><td>-0.6050438</td><td>-0.6937063</td><td>⋯</td><td>0</td><td>0</td><td>1</td><td>0</td><td>0</td><td>0</td><td>0</td><td>0</td><td>0</td><td>0</td></tr>\n",
       "\t<tr><th scope=row>5</th><td> 1.02840090</td><td>-1.238485</td><td>-1.4212403</td><td>-0.49103295</td><td> 1.0222052</td><td> 0.26943290</td><td> 0.46462317</td><td> 1.0634977</td><td> 1.1864348</td><td>-0.7170438</td><td>⋯</td><td>0</td><td>0</td><td>0</td><td>0</td><td>0</td><td>0</td><td>0</td><td>0</td><td>0</td><td>0</td></tr>\n",
       "\t<tr><th scope=row>6</th><td>-1.46553799</td><td>-1.273800</td><td>-1.2888096</td><td> 0.07576901</td><td>-0.8504800</td><td>-0.61244731</td><td>-1.27793928</td><td>-0.5881897</td><td>-0.4321987</td><td> 0.1073955</td><td>⋯</td><td>0</td><td>0</td><td>0</td><td>0</td><td>0</td><td>0</td><td>0</td><td>0</td><td>0</td><td>1</td></tr>\n",
       "\t<tr><th scope=row>8</th><td> 2.36216728</td><td>-1.243795</td><td>-1.3614883</td><td>-0.33792281</td><td>-2.0645970</td><td>-0.82039852</td><td> 1.53127621</td><td>-2.0125623</td><td>-2.3869380</td><td>-1.7343155</td><td>⋯</td><td>1</td><td>0</td><td>0</td><td>0</td><td>0</td><td>0</td><td>0</td><td>0</td><td>0</td><td>0</td></tr>\n",
       "</tbody>\n",
       "</table>\n"
      ],
      "text/latex": [
       "A data.frame: 6 × 29\n",
       "\\begin{tabular}{r|lllllllllllllllllllll}\n",
       "  & ff & t & td & hu & dd & precip\\_log & ws\\_arome & p3031\\_arome & u10\\_arome & v10\\_arome & ⋯ & month3 & month4 & month5 & month6 & month7 & month8 & month9 & month10 & month11 & month12\\\\\n",
       "  & <dbl> & <dbl> & <dbl> & <dbl> & <dbl> & <dbl> & <dbl> & <dbl> & <dbl> & <dbl> & ⋯ & <int> & <int> & <int> & <int> & <int> & <int> & <int> & <int> & <int> & <int>\\\\\n",
       "\\hline\n",
       "\t1 & -0.08621305 &  1.164777 &  0.9105351 & -0.79823471 &  0.5200537 & -0.82039852 & -0.03659526 &  0.5297853 &  0.8019527 &  0.4007581 & ⋯ & 0 & 0 & 0 & 1 & 0 & 0 & 0 & 0 & 0 & 0\\\\\n",
       "\t2 & -0.21529566 & -1.471529 & -1.6613332 & -0.45471837 &  0.6958876 &  0.07889537 & -0.25766440 &  1.3231433 &  0.5568977 & -0.8887086 & ⋯ & 1 & 0 & 0 & 0 & 0 & 0 & 0 & 0 & 0 & 0\\\\\n",
       "\t4 & -1.46867996 &  0.129100 & -0.1875101 & -1.05685344 &  0.1290120 & -0.82039852 & -1.31752316 & -0.8278199 & -0.6050438 & -0.6937063 & ⋯ & 0 & 0 & 1 & 0 & 0 & 0 & 0 & 0 & 0 & 0\\\\\n",
       "\t5 &  1.02840090 & -1.238485 & -1.4212403 & -0.49103295 &  1.0222052 &  0.26943290 &  0.46462317 &  1.0634977 &  1.1864348 & -0.7170438 & ⋯ & 0 & 0 & 0 & 0 & 0 & 0 & 0 & 0 & 0 & 0\\\\\n",
       "\t6 & -1.46553799 & -1.273800 & -1.2888096 &  0.07576901 & -0.8504800 & -0.61244731 & -1.27793928 & -0.5881897 & -0.4321987 &  0.1073955 & ⋯ & 0 & 0 & 0 & 0 & 0 & 0 & 0 & 0 & 0 & 1\\\\\n",
       "\t8 &  2.36216728 & -1.243795 & -1.3614883 & -0.33792281 & -2.0645970 & -0.82039852 &  1.53127621 & -2.0125623 & -2.3869380 & -1.7343155 & ⋯ & 1 & 0 & 0 & 0 & 0 & 0 & 0 & 0 & 0 & 0\\\\\n",
       "\\end{tabular}\n"
      ],
      "text/markdown": [
       "\n",
       "A data.frame: 6 × 29\n",
       "\n",
       "| <!--/--> | ff &lt;dbl&gt; | t &lt;dbl&gt; | td &lt;dbl&gt; | hu &lt;dbl&gt; | dd &lt;dbl&gt; | precip_log &lt;dbl&gt; | ws_arome &lt;dbl&gt; | p3031_arome &lt;dbl&gt; | u10_arome &lt;dbl&gt; | v10_arome &lt;dbl&gt; | ⋯ ⋯ | month3 &lt;int&gt; | month4 &lt;int&gt; | month5 &lt;int&gt; | month6 &lt;int&gt; | month7 &lt;int&gt; | month8 &lt;int&gt; | month9 &lt;int&gt; | month10 &lt;int&gt; | month11 &lt;int&gt; | month12 &lt;int&gt; |\n",
       "|---|---|---|---|---|---|---|---|---|---|---|---|---|---|---|---|---|---|---|---|---|---|\n",
       "| 1 | -0.08621305 |  1.164777 |  0.9105351 | -0.79823471 |  0.5200537 | -0.82039852 | -0.03659526 |  0.5297853 |  0.8019527 |  0.4007581 | ⋯ | 0 | 0 | 0 | 1 | 0 | 0 | 0 | 0 | 0 | 0 |\n",
       "| 2 | -0.21529566 | -1.471529 | -1.6613332 | -0.45471837 |  0.6958876 |  0.07889537 | -0.25766440 |  1.3231433 |  0.5568977 | -0.8887086 | ⋯ | 1 | 0 | 0 | 0 | 0 | 0 | 0 | 0 | 0 | 0 |\n",
       "| 4 | -1.46867996 |  0.129100 | -0.1875101 | -1.05685344 |  0.1290120 | -0.82039852 | -1.31752316 | -0.8278199 | -0.6050438 | -0.6937063 | ⋯ | 0 | 0 | 1 | 0 | 0 | 0 | 0 | 0 | 0 | 0 |\n",
       "| 5 |  1.02840090 | -1.238485 | -1.4212403 | -0.49103295 |  1.0222052 |  0.26943290 |  0.46462317 |  1.0634977 |  1.1864348 | -0.7170438 | ⋯ | 0 | 0 | 0 | 0 | 0 | 0 | 0 | 0 | 0 | 0 |\n",
       "| 6 | -1.46553799 | -1.273800 | -1.2888096 |  0.07576901 | -0.8504800 | -0.61244731 | -1.27793928 | -0.5881897 | -0.4321987 |  0.1073955 | ⋯ | 0 | 0 | 0 | 0 | 0 | 0 | 0 | 0 | 0 | 1 |\n",
       "| 8 |  2.36216728 | -1.243795 | -1.3614883 | -0.33792281 | -2.0645970 | -0.82039852 |  1.53127621 | -2.0125623 | -2.3869380 | -1.7343155 | ⋯ | 1 | 0 | 0 | 0 | 0 | 0 | 0 | 0 | 0 | 0 |\n",
       "\n"
      ],
      "text/plain": [
       "  ff          t         td         hu          dd         precip_log \n",
       "1 -0.08621305  1.164777  0.9105351 -0.79823471  0.5200537 -0.82039852\n",
       "2 -0.21529566 -1.471529 -1.6613332 -0.45471837  0.6958876  0.07889537\n",
       "4 -1.46867996  0.129100 -0.1875101 -1.05685344  0.1290120 -0.82039852\n",
       "5  1.02840090 -1.238485 -1.4212403 -0.49103295  1.0222052  0.26943290\n",
       "6 -1.46553799 -1.273800 -1.2888096  0.07576901 -0.8504800 -0.61244731\n",
       "8  2.36216728 -1.243795 -1.3614883 -0.33792281 -2.0645970 -0.82039852\n",
       "  ws_arome    p3031_arome u10_arome  v10_arome  ⋯ month3 month4 month5 month6\n",
       "1 -0.03659526  0.5297853   0.8019527  0.4007581 ⋯ 0      0      0      1     \n",
       "2 -0.25766440  1.3231433   0.5568977 -0.8887086 ⋯ 1      0      0      0     \n",
       "4 -1.31752316 -0.8278199  -0.6050438 -0.6937063 ⋯ 0      0      1      0     \n",
       "5  0.46462317  1.0634977   1.1864348 -0.7170438 ⋯ 0      0      0      0     \n",
       "6 -1.27793928 -0.5881897  -0.4321987  0.1073955 ⋯ 0      0      0      0     \n",
       "8  1.53127621 -2.0125623  -2.3869380 -1.7343155 ⋯ 1      0      0      0     \n",
       "  month7 month8 month9 month10 month11 month12\n",
       "1 0      0      0      0       0       0      \n",
       "2 0      0      0      0       0       0      \n",
       "4 0      0      0      0       0       0      \n",
       "5 0      0      0      0       0       0      \n",
       "6 0      0      0      0       0       1      \n",
       "8 0      0      0      0       0       0      "
      ]
     },
     "metadata": {},
     "output_type": "display_data"
    }
   ],
   "source": [
    "head(train_set)"
   ]
  },
  {
   "cell_type": "markdown",
   "metadata": {},
   "source": [
    "We define here all the explicative variables"
   ]
  },
  {
   "cell_type": "code",
   "execution_count": 4,
   "metadata": {
    "vscode": {
     "languageId": "r"
    }
   },
   "outputs": [],
   "source": [
    "exp_var = setdiff(names(train_set), c(\"rain\", \"rain_log\", \"rain_class\"))"
   ]
  },
  {
   "cell_type": "markdown",
   "metadata": {},
   "source": [
    "### 0.1. Performance Evaluation methods and Metrics"
   ]
  },
  {
   "cell_type": "markdown",
   "metadata": {},
   "source": [
    "We define as below some utility functions for comparing the performance of different methods"
   ]
  },
  {
   "cell_type": "markdown",
   "metadata": {},
   "source": [
    "#### Function to calculate error using MAPE\n",
    "\n",
    "Error is calculated using \n",
    "$$MAPE = \\frac{100}{n} \\sum_{i =1}^{n} \\frac{|Y_i - \\hat{Y_i}|}{|Y_i|}$$\n",
    "\n",
    "Which is more robust then the $l2-norm$ for dealing with outliers"
   ]
  },
  {
   "cell_type": "code",
   "execution_count": 6,
   "metadata": {
    "vscode": {
     "languageId": "r"
    }
   },
   "outputs": [
    {
     "name": "stderr",
     "output_type": "stream",
     "text": [
      "\n",
      "Attaching package: 'MLmetrics'\n",
      "\n",
      "\n",
      "The following object is masked from 'package:base':\n",
      "\n",
      "    Recall\n",
      "\n",
      "\n"
     ]
    }
   ],
   "source": [
    "library(MLmetrics)"
   ]
  },
  {
   "cell_type": "code",
   "execution_count": 7,
   "metadata": {
    "vscode": {
     "languageId": "r"
    }
   },
   "outputs": [],
   "source": [
    "myMAPE = function(y_true, y_pred, eps = 1e-10){\n",
    "    # y = as.numeric(y)\n",
    "    # y_hat = as.numeric(y_hat)\n",
    "    mape = 100*mean(abs((y_true - y_pred))/(pmax(abs(y_true), eps)))\n",
    "    return(mape)\n",
    "}"
   ]
  },
  {
   "cell_type": "markdown",
   "metadata": {},
   "source": [
    "#### Funtion to calculate quadratic error"
   ]
  },
  {
   "cell_type": "markdown",
   "metadata": {},
   "source": [
    "#### Regression Metrics"
   ]
  },
  {
   "cell_type": "code",
   "execution_count": 133,
   "metadata": {
    "vscode": {
     "languageId": "r"
    }
   },
   "outputs": [],
   "source": [
    "regression_metric = function(y_true, y_pred) {\n",
    "    mape = myMAPE(y_true, y_pred)\n",
    "    mse = MSE(y_true, y_pred)\n",
    "    r2 = R2_Score(y_pred, y_true)\n",
    "    mae = MAE(y_true, y_pred)\n",
    "\n",
    "    print(\"Regression Metrics : \")\n",
    "    print(paste(\"Mean Absolute Percentage Error : \", mape))\n",
    "    print(paste(\"Mean squared Error : \", mse))\n",
    "    print(paste(\"Mean Absolute Error : \", mae))\n",
    "    print(paste(\"R2 Score : \", r2))    \n",
    "}"
   ]
  },
  {
   "cell_type": "markdown",
   "metadata": {},
   "source": [
    "#### Function to transform predicted rain values in log scale to original sclale "
   ]
  },
  {
   "cell_type": "code",
   "execution_count": 18,
   "metadata": {
    "vscode": {
     "languageId": "r"
    }
   },
   "outputs": [],
   "source": [
    "to_rain = function(rain_log){\n",
    "    return(exp(rain_log) - 1)\n",
    "}"
   ]
  },
  {
   "cell_type": "markdown",
   "metadata": {},
   "source": [
    "#### Function to transform rain values to rain class\n",
    "\n",
    "Here in this regression setting, the outputs are numerical values. We will use these values to transform to the rain class for the classification problem. Since in the classification problem, we set the output to be `no_rain` if the `rain == 0`, and etc,... but in the regression setting, we allow here some perturbations `eps`."
   ]
  },
  {
   "cell_type": "code",
   "execution_count": 19,
   "metadata": {
    "vscode": {
     "languageId": "r"
    }
   },
   "outputs": [],
   "source": [
    "to_class = function(rain, eps = 1e-2 ){\n",
    "    myrain = (rain <= eps)*0 + (rain > eps)*(rain <= 2 )*1 + (rain > 2)*2\n",
    "    myrain[myrain == 0] = 'no_rain'\n",
    "    myrain[myrain == 1] = 'low_rain'\n",
    "    myrain[myrain == 2] = 'high_rain'\n",
    "    return(myrain)\n",
    "}"
   ]
  },
  {
   "cell_type": "markdown",
   "metadata": {},
   "source": [
    "#### Function to create the confusion matrix for the classification context"
   ]
  },
  {
   "cell_type": "code",
   "execution_count": 20,
   "metadata": {
    "vscode": {
     "languageId": "r"
    }
   },
   "outputs": [],
   "source": [
    "confusion_matrix = function(pred_class, true_class){\n",
    "    tab = table(pred_class, true_class)\n",
    "    print(\"Confusion matrix\")\n",
    "    print(tab)\n",
    "    acc = sum(diag(tab)) / sum(tab)\n",
    "    print(paste(\"Prediction accuracy : \", acc))\n",
    "}"
   ]
  },
  {
   "cell_type": "markdown",
   "metadata": {},
   "source": [
    "## 1. Linear Regression"
   ]
  },
  {
   "cell_type": "code",
   "execution_count": 21,
   "metadata": {
    "vscode": {
     "languageId": "r"
    }
   },
   "outputs": [],
   "source": [
    "library(glmnet)\n",
    "library(Rcpp)\n",
    "library(ellipse)\n",
    "library(leaps)\n",
    "library(MASS)\n",
    "\n",
    "library(plotly)\n",
    "library(ggplot2)     \n",
    "library(gridExtra)   \n",
    "library(ggfortify)   \n",
    "library(ggcorrplot) \n",
    "\n",
    "library(dplyr)"
   ]
  },
  {
   "cell_type": "code",
   "execution_count": 22,
   "metadata": {
    "vscode": {
     "languageId": "r"
    }
   },
   "outputs": [
    {
     "data": {
      "text/html": [
       "<table class=\"dataframe\">\n",
       "<caption>A data.frame: 6 × 29</caption>\n",
       "<thead>\n",
       "\t<tr><th></th><th scope=col>ff</th><th scope=col>t</th><th scope=col>td</th><th scope=col>hu</th><th scope=col>dd</th><th scope=col>precip_log</th><th scope=col>ws_arome</th><th scope=col>p3031_arome</th><th scope=col>u10_arome</th><th scope=col>v10_arome</th><th scope=col>⋯</th><th scope=col>month3</th><th scope=col>month4</th><th scope=col>month5</th><th scope=col>month6</th><th scope=col>month7</th><th scope=col>month8</th><th scope=col>month9</th><th scope=col>month10</th><th scope=col>month11</th><th scope=col>month12</th></tr>\n",
       "\t<tr><th></th><th scope=col>&lt;dbl&gt;</th><th scope=col>&lt;dbl&gt;</th><th scope=col>&lt;dbl&gt;</th><th scope=col>&lt;dbl&gt;</th><th scope=col>&lt;dbl&gt;</th><th scope=col>&lt;dbl&gt;</th><th scope=col>&lt;dbl&gt;</th><th scope=col>&lt;dbl&gt;</th><th scope=col>&lt;dbl&gt;</th><th scope=col>&lt;dbl&gt;</th><th scope=col>⋯</th><th scope=col>&lt;int&gt;</th><th scope=col>&lt;int&gt;</th><th scope=col>&lt;int&gt;</th><th scope=col>&lt;int&gt;</th><th scope=col>&lt;int&gt;</th><th scope=col>&lt;int&gt;</th><th scope=col>&lt;int&gt;</th><th scope=col>&lt;int&gt;</th><th scope=col>&lt;int&gt;</th><th scope=col>&lt;int&gt;</th></tr>\n",
       "</thead>\n",
       "<tbody>\n",
       "\t<tr><th scope=row>1</th><td>-0.08621305</td><td> 1.164777</td><td> 0.9105351</td><td>-0.79823471</td><td> 0.5200537</td><td>-0.82039852</td><td>-0.03659526</td><td> 0.5297853</td><td> 0.8019527</td><td> 0.4007581</td><td>⋯</td><td>0</td><td>0</td><td>0</td><td>1</td><td>0</td><td>0</td><td>0</td><td>0</td><td>0</td><td>0</td></tr>\n",
       "\t<tr><th scope=row>2</th><td>-0.21529566</td><td>-1.471529</td><td>-1.6613332</td><td>-0.45471837</td><td> 0.6958876</td><td> 0.07889537</td><td>-0.25766440</td><td> 1.3231433</td><td> 0.5568977</td><td>-0.8887086</td><td>⋯</td><td>1</td><td>0</td><td>0</td><td>0</td><td>0</td><td>0</td><td>0</td><td>0</td><td>0</td><td>0</td></tr>\n",
       "\t<tr><th scope=row>4</th><td>-1.46867996</td><td> 0.129100</td><td>-0.1875101</td><td>-1.05685344</td><td> 0.1290120</td><td>-0.82039852</td><td>-1.31752316</td><td>-0.8278199</td><td>-0.6050438</td><td>-0.6937063</td><td>⋯</td><td>0</td><td>0</td><td>1</td><td>0</td><td>0</td><td>0</td><td>0</td><td>0</td><td>0</td><td>0</td></tr>\n",
       "\t<tr><th scope=row>5</th><td> 1.02840090</td><td>-1.238485</td><td>-1.4212403</td><td>-0.49103295</td><td> 1.0222052</td><td> 0.26943290</td><td> 0.46462317</td><td> 1.0634977</td><td> 1.1864348</td><td>-0.7170438</td><td>⋯</td><td>0</td><td>0</td><td>0</td><td>0</td><td>0</td><td>0</td><td>0</td><td>0</td><td>0</td><td>0</td></tr>\n",
       "\t<tr><th scope=row>6</th><td>-1.46553799</td><td>-1.273800</td><td>-1.2888096</td><td> 0.07576901</td><td>-0.8504800</td><td>-0.61244731</td><td>-1.27793928</td><td>-0.5881897</td><td>-0.4321987</td><td> 0.1073955</td><td>⋯</td><td>0</td><td>0</td><td>0</td><td>0</td><td>0</td><td>0</td><td>0</td><td>0</td><td>0</td><td>1</td></tr>\n",
       "\t<tr><th scope=row>8</th><td> 2.36216728</td><td>-1.243795</td><td>-1.3614883</td><td>-0.33792281</td><td>-2.0645970</td><td>-0.82039852</td><td> 1.53127621</td><td>-2.0125623</td><td>-2.3869380</td><td>-1.7343155</td><td>⋯</td><td>1</td><td>0</td><td>0</td><td>0</td><td>0</td><td>0</td><td>0</td><td>0</td><td>0</td><td>0</td></tr>\n",
       "</tbody>\n",
       "</table>\n"
      ],
      "text/latex": [
       "A data.frame: 6 × 29\n",
       "\\begin{tabular}{r|lllllllllllllllllllll}\n",
       "  & ff & t & td & hu & dd & precip\\_log & ws\\_arome & p3031\\_arome & u10\\_arome & v10\\_arome & ⋯ & month3 & month4 & month5 & month6 & month7 & month8 & month9 & month10 & month11 & month12\\\\\n",
       "  & <dbl> & <dbl> & <dbl> & <dbl> & <dbl> & <dbl> & <dbl> & <dbl> & <dbl> & <dbl> & ⋯ & <int> & <int> & <int> & <int> & <int> & <int> & <int> & <int> & <int> & <int>\\\\\n",
       "\\hline\n",
       "\t1 & -0.08621305 &  1.164777 &  0.9105351 & -0.79823471 &  0.5200537 & -0.82039852 & -0.03659526 &  0.5297853 &  0.8019527 &  0.4007581 & ⋯ & 0 & 0 & 0 & 1 & 0 & 0 & 0 & 0 & 0 & 0\\\\\n",
       "\t2 & -0.21529566 & -1.471529 & -1.6613332 & -0.45471837 &  0.6958876 &  0.07889537 & -0.25766440 &  1.3231433 &  0.5568977 & -0.8887086 & ⋯ & 1 & 0 & 0 & 0 & 0 & 0 & 0 & 0 & 0 & 0\\\\\n",
       "\t4 & -1.46867996 &  0.129100 & -0.1875101 & -1.05685344 &  0.1290120 & -0.82039852 & -1.31752316 & -0.8278199 & -0.6050438 & -0.6937063 & ⋯ & 0 & 0 & 1 & 0 & 0 & 0 & 0 & 0 & 0 & 0\\\\\n",
       "\t5 &  1.02840090 & -1.238485 & -1.4212403 & -0.49103295 &  1.0222052 &  0.26943290 &  0.46462317 &  1.0634977 &  1.1864348 & -0.7170438 & ⋯ & 0 & 0 & 0 & 0 & 0 & 0 & 0 & 0 & 0 & 0\\\\\n",
       "\t6 & -1.46553799 & -1.273800 & -1.2888096 &  0.07576901 & -0.8504800 & -0.61244731 & -1.27793928 & -0.5881897 & -0.4321987 &  0.1073955 & ⋯ & 0 & 0 & 0 & 0 & 0 & 0 & 0 & 0 & 0 & 1\\\\\n",
       "\t8 &  2.36216728 & -1.243795 & -1.3614883 & -0.33792281 & -2.0645970 & -0.82039852 &  1.53127621 & -2.0125623 & -2.3869380 & -1.7343155 & ⋯ & 1 & 0 & 0 & 0 & 0 & 0 & 0 & 0 & 0 & 0\\\\\n",
       "\\end{tabular}\n"
      ],
      "text/markdown": [
       "\n",
       "A data.frame: 6 × 29\n",
       "\n",
       "| <!--/--> | ff &lt;dbl&gt; | t &lt;dbl&gt; | td &lt;dbl&gt; | hu &lt;dbl&gt; | dd &lt;dbl&gt; | precip_log &lt;dbl&gt; | ws_arome &lt;dbl&gt; | p3031_arome &lt;dbl&gt; | u10_arome &lt;dbl&gt; | v10_arome &lt;dbl&gt; | ⋯ ⋯ | month3 &lt;int&gt; | month4 &lt;int&gt; | month5 &lt;int&gt; | month6 &lt;int&gt; | month7 &lt;int&gt; | month8 &lt;int&gt; | month9 &lt;int&gt; | month10 &lt;int&gt; | month11 &lt;int&gt; | month12 &lt;int&gt; |\n",
       "|---|---|---|---|---|---|---|---|---|---|---|---|---|---|---|---|---|---|---|---|---|---|\n",
       "| 1 | -0.08621305 |  1.164777 |  0.9105351 | -0.79823471 |  0.5200537 | -0.82039852 | -0.03659526 |  0.5297853 |  0.8019527 |  0.4007581 | ⋯ | 0 | 0 | 0 | 1 | 0 | 0 | 0 | 0 | 0 | 0 |\n",
       "| 2 | -0.21529566 | -1.471529 | -1.6613332 | -0.45471837 |  0.6958876 |  0.07889537 | -0.25766440 |  1.3231433 |  0.5568977 | -0.8887086 | ⋯ | 1 | 0 | 0 | 0 | 0 | 0 | 0 | 0 | 0 | 0 |\n",
       "| 4 | -1.46867996 |  0.129100 | -0.1875101 | -1.05685344 |  0.1290120 | -0.82039852 | -1.31752316 | -0.8278199 | -0.6050438 | -0.6937063 | ⋯ | 0 | 0 | 1 | 0 | 0 | 0 | 0 | 0 | 0 | 0 |\n",
       "| 5 |  1.02840090 | -1.238485 | -1.4212403 | -0.49103295 |  1.0222052 |  0.26943290 |  0.46462317 |  1.0634977 |  1.1864348 | -0.7170438 | ⋯ | 0 | 0 | 0 | 0 | 0 | 0 | 0 | 0 | 0 | 0 |\n",
       "| 6 | -1.46553799 | -1.273800 | -1.2888096 |  0.07576901 | -0.8504800 | -0.61244731 | -1.27793928 | -0.5881897 | -0.4321987 |  0.1073955 | ⋯ | 0 | 0 | 0 | 0 | 0 | 0 | 0 | 0 | 0 | 1 |\n",
       "| 8 |  2.36216728 | -1.243795 | -1.3614883 | -0.33792281 | -2.0645970 | -0.82039852 |  1.53127621 | -2.0125623 | -2.3869380 | -1.7343155 | ⋯ | 1 | 0 | 0 | 0 | 0 | 0 | 0 | 0 | 0 | 0 |\n",
       "\n"
      ],
      "text/plain": [
       "  ff          t         td         hu          dd         precip_log \n",
       "1 -0.08621305  1.164777  0.9105351 -0.79823471  0.5200537 -0.82039852\n",
       "2 -0.21529566 -1.471529 -1.6613332 -0.45471837  0.6958876  0.07889537\n",
       "4 -1.46867996  0.129100 -0.1875101 -1.05685344  0.1290120 -0.82039852\n",
       "5  1.02840090 -1.238485 -1.4212403 -0.49103295  1.0222052  0.26943290\n",
       "6 -1.46553799 -1.273800 -1.2888096  0.07576901 -0.8504800 -0.61244731\n",
       "8  2.36216728 -1.243795 -1.3614883 -0.33792281 -2.0645970 -0.82039852\n",
       "  ws_arome    p3031_arome u10_arome  v10_arome  ⋯ month3 month4 month5 month6\n",
       "1 -0.03659526  0.5297853   0.8019527  0.4007581 ⋯ 0      0      0      1     \n",
       "2 -0.25766440  1.3231433   0.5568977 -0.8887086 ⋯ 1      0      0      0     \n",
       "4 -1.31752316 -0.8278199  -0.6050438 -0.6937063 ⋯ 0      0      1      0     \n",
       "5  0.46462317  1.0634977   1.1864348 -0.7170438 ⋯ 0      0      0      0     \n",
       "6 -1.27793928 -0.5881897  -0.4321987  0.1073955 ⋯ 0      0      0      0     \n",
       "8  1.53127621 -2.0125623  -2.3869380 -1.7343155 ⋯ 1      0      0      0     \n",
       "  month7 month8 month9 month10 month11 month12\n",
       "1 0      0      0      0       0       0      \n",
       "2 0      0      0      0       0       0      \n",
       "4 0      0      0      0       0       0      \n",
       "5 0      0      0      0       0       0      \n",
       "6 0      0      0      0       0       1      \n",
       "8 0      0      0      0       0       0      "
      ]
     },
     "metadata": {},
     "output_type": "display_data"
    }
   ],
   "source": [
    "head(train_set)"
   ]
  },
  {
   "cell_type": "code",
   "execution_count": 23,
   "metadata": {
    "vscode": {
     "languageId": "r"
    }
   },
   "outputs": [],
   "source": [
    "y_train = train_set[,\"rain\"]\n",
    "y_train_log = train_set[, \"rain_log\"]\n",
    "y_train_class = train_set[, \"rain_class\"]\n",
    "\n",
    "y_test = test_set[,\"rain\"]\n",
    "y_test_log = test_set[, \"rain_log\"]\n",
    "y_test_class = test_set[, \"rain_class\"]"
   ]
  },
  {
   "cell_type": "markdown",
   "metadata": {},
   "source": [
    "### 1.1. Linear regression without variable selection, applying to the `rain_log` reponse"
   ]
  },
  {
   "cell_type": "code",
   "execution_count": 24,
   "metadata": {
    "vscode": {
     "languageId": "r"
    }
   },
   "outputs": [
    {
     "data": {
      "text/plain": [
       "\n",
       "Call:\n",
       "lm(formula = rain_log ~ ., data = train_set[, c(exp_var, \"rain_log\")])\n",
       "\n",
       "Residuals:\n",
       "    Min      1Q  Median      3Q     Max \n",
       "-2.2655 -0.4517 -0.1343  0.3067  2.3558 \n",
       "\n",
       "Coefficients:\n",
       "             Estimate Std. Error t value Pr(>|t|)    \n",
       "(Intercept)   0.96546    0.14215   6.792 3.01e-11 ***\n",
       "ff            0.16300    0.13133   1.241 0.215085    \n",
       "t            -2.85956    1.22615  -2.332 0.020072 *  \n",
       "td            2.01236    1.16894   1.722 0.085747 .  \n",
       "hu           -0.76002    0.42961  -1.769 0.077459 .  \n",
       "dd           -0.05309    0.11331  -0.469 0.639601    \n",
       "precip_log    0.16740    0.05873   2.850 0.004540 ** \n",
       "ws_arome     -0.31402    0.14732  -2.132 0.033507 *  \n",
       "p3031_arome   0.01991    0.11823   0.168 0.866313    \n",
       "u10_arome     0.23410    0.06648   3.521 0.000467 ***\n",
       "v10_arome     0.20739    0.04309   4.813 1.95e-06 ***\n",
       "t2m_arome     2.74332    1.19641   2.293 0.022247 *  \n",
       "d2m_arome    -1.90265    1.09403  -1.739 0.082601 .  \n",
       "r_arome       0.62745    0.38823   1.616 0.106655    \n",
       "tp_arome_log -0.08193    0.06157  -1.331 0.183872    \n",
       "msl_arome    -0.28486    0.04673  -6.096 2.11e-09 ***\n",
       "month2       -0.02668    0.15556  -0.171 0.863901    \n",
       "month3       -0.04810    0.16156  -0.298 0.766047    \n",
       "month4       -0.38374    0.16950  -2.264 0.023985 *  \n",
       "month5       -0.45210    0.20352  -2.221 0.026750 *  \n",
       "month6       -0.37534    0.22147  -1.695 0.090715 .  \n",
       "month7       -0.49077    0.23064  -2.128 0.033816 *  \n",
       "month8       -0.36704    0.23278  -1.577 0.115445    \n",
       "month9       -0.42688    0.20929  -2.040 0.041887 *  \n",
       "month10      -0.26322    0.19052  -1.382 0.167690    \n",
       "month11       0.10815    0.16631   0.650 0.515761    \n",
       "month12       0.10988    0.15999   0.687 0.492526    \n",
       "---\n",
       "Signif. codes:  0 '***' 0.001 '**' 0.01 '*' 0.05 '.' 0.1 ' ' 1\n",
       "\n",
       "Residual standard error: 0.7204 on 523 degrees of freedom\n",
       "Multiple R-squared:  0.3566,\tAdjusted R-squared:  0.3246 \n",
       "F-statistic: 11.15 on 26 and 523 DF,  p-value: < 2.2e-16\n"
      ]
     },
     "metadata": {},
     "output_type": "display_data"
    }
   ],
   "source": [
    "lin.reg.log = lm(rain_log ~ ., data = train_set[,c(exp_var, \"rain_log\")])\n",
    "summary(lin.reg.log)"
   ]
  },
  {
   "cell_type": "markdown",
   "metadata": {},
   "source": [
    "#### Training error\n",
    "As a regular setting, the solution of this regression problem is a minimiser of a least square problem, so we will look at the $l_2$ error during training but also the MAPE to see the corresponding error."
   ]
  },
  {
   "cell_type": "code",
   "execution_count": 134,
   "metadata": {
    "vscode": {
     "languageId": "r"
    }
   },
   "outputs": [
    {
     "name": "stdout",
     "output_type": "stream",
     "text": [
      "[1] \"TRAINING ERROR IN LOG SCALE\"\n",
      "[1] \"Regression Metrics : \"\n",
      "[1] \"Mean Absolute Percentage Error :  141854207765.186\"\n",
      "[1] \"Mean squared Error :  0.493535364891652\"\n",
      "[1] \"Mean Absolute Error :  0.533529775896053\"\n",
      "[1] \"R2 Score :  0.356551644769907\"\n",
      "[1] \"Mean Square Error :  0.493535364891652\"\n",
      "[1] \"Confusion matrix\"\n",
      "           true_class\n",
      "pred_class  high_rain low_rain no_rain\n",
      "  high_rain        13        1       1\n",
      "  low_rain        142      216     146\n",
      "  no_rain           0       17      14\n",
      "[1] \"Prediction accuracy :  0.441818181818182\"\n"
     ]
    }
   ],
   "source": [
    "print('TRAINING ERROR IN LOG SCALE')\n",
    "regression_metric(y_train_log, lin.reg.log$fitted.values)\n",
    "print(paste('Mean Square Error : ', mean(lin.reg.log$residual**2)))\n",
    "# print(paste('MAPE : ', MAPE(y_train_log, lin.reg.log$fitted.values)))\n",
    "\n",
    "pred_class = to_class(lin.reg.log$fitted.values, eps = 0.01)\n",
    "confusion_matrix(pred_class, y_train_class)"
   ]
  },
  {
   "cell_type": "code",
   "execution_count": null,
   "metadata": {
    "vscode": {
     "languageId": "r"
    }
   },
   "outputs": [],
   "source": []
  },
  {
   "cell_type": "markdown",
   "metadata": {},
   "source": [
    "But we notice that the reponse variable is in the log scale, so we will convert it to the original scale for comparison purposes"
   ]
  },
  {
   "cell_type": "code",
   "execution_count": null,
   "metadata": {
    "vscode": {
     "languageId": "r"
    }
   },
   "outputs": [],
   "source": []
  },
  {
   "cell_type": "code",
   "execution_count": 135,
   "metadata": {
    "vscode": {
     "languageId": "r"
    }
   },
   "outputs": [
    {
     "name": "stdout",
     "output_type": "stream",
     "text": [
      "[1] \"TRAING ERROR\"\n",
      "[1] \"Regression Metrics : \"\n",
      "[1] \"Mean Absolute Percentage Error :  217580999865.347\"\n",
      "[1] \"Mean squared Error :  15.9855859570724\"\n",
      "[1] \"Mean Absolute Error :  1.9672302085345\"\n",
      "[1] \"R2 Score :  0.19082655186525\"\n",
      "[1] \"Confusion matrix\"\n",
      "           true_class\n",
      "pred_class  high_rain low_rain no_rain\n",
      "  high_rain        81       26       7\n",
      "  low_rain         74      191     140\n",
      "  no_rain           0       17      14\n",
      "[1] \"Prediction accuracy :  0.52\"\n"
     ]
    }
   ],
   "source": [
    "print('TRAING ERROR')\n",
    "regression_metric(y_train, to_rain(lin.reg.log$fitted.values))\n",
    "\n",
    "# print(paste('Mean Square Error : ', MSE(to_rain(lin.reg.log$fitted.values), y_train)))\n",
    "# print(paste('MAPE : ', MAPE(y_train, to_rain(lin.reg.log$fitted.values))))\n",
    "\n",
    "pred_class = to_class(to_rain(lin.reg.log$fitted.values), eps = 0.01)\n",
    "confusion_matrix(pred_class, y_train_class)"
   ]
  },
  {
   "cell_type": "markdown",
   "metadata": {},
   "source": [
    "    The training error is quite large, it seems that the ordinary linear model does not perform well on this data set. Let's take a look at the test error, in both scales."
   ]
  },
  {
   "cell_type": "markdown",
   "metadata": {},
   "source": [
    "#### Test error"
   ]
  },
  {
   "cell_type": "code",
   "execution_count": 136,
   "metadata": {
    "vscode": {
     "languageId": "r"
    }
   },
   "outputs": [
    {
     "name": "stdout",
     "output_type": "stream",
     "text": [
      "[1] \"TEST ERROR IN LOG SCALE\"\n",
      "[1] \"Regression Metrics : \"\n",
      "[1] \"Mean Absolute Percentage Error :  203715872829.148\"\n",
      "[1] \"Mean squared Error :  0.571967970075163\"\n",
      "[1] \"Mean Absolute Error :  0.573312384444765\"\n",
      "[1] \"R2 Score :  0.24564049093258\"\n",
      "[1] \"Confusion matrix\"\n",
      "           true_class\n",
      "pred_class  high_rain low_rain no_rain\n",
      "  high_rain         8        1       0\n",
      "  low_rain         23       55      45\n",
      "  no_rain           2        2       2\n",
      "[1] \"Prediction accuracy :  0.471014492753623\"\n",
      "[1] \"TEST ERROR\"\n",
      "[1] \"Regression Metrics : \"\n",
      "[1] \"Mean Absolute Percentage Error :  331735444410.19\"\n",
      "[1] \"Mean squared Error :  18.3631364775563\"\n",
      "[1] \"Mean Absolute Error :  2.06080881371748\"\n",
      "[1] \"R2 Score :  0.292969760365644\"\n",
      "[1] \"Confusion matrix\"\n",
      "           true_class\n",
      "pred_class  high_rain low_rain no_rain\n",
      "  high_rain        23       11       7\n",
      "  low_rain          8       45      38\n",
      "  no_rain           2        2       2\n",
      "[1] \"Prediction accuracy :  0.507246376811594\"\n"
     ]
    }
   ],
   "source": [
    "y_predict_log = predict(lin.reg.log, newdata = test_set)\n",
    "y_predict = to_rain(y_predict_log)\n",
    "\n",
    "\n",
    "print('TEST ERROR IN LOG SCALE')\n",
    "regression_metric(y_test_log, y_predict_log)\n",
    "\n",
    "# print(paste('Mean Square Error : ', MSE(y_predict_log, y_test_log)))\n",
    "# print(paste('MAPE : ', MAPE(y_predict_log, y_test_log)))\n",
    "pred_class = to_class(y_predict_log, eps = 0.01)\n",
    "confusion_matrix(pred_class, y_test_class)\n",
    "\n",
    "print('TEST ERROR')\n",
    "regression_metric(y_test, y_predict)\n",
    "\n",
    "# print(paste('Mean Square Error : ', MSE(y_predict, y_test)))\n",
    "# print(paste('MAPE : ', MAPE(y_predict, y_test)))\n",
    "pred_class = to_class(y_predict, eps = 0.01)\n",
    "confusion_matrix(pred_class, y_test_class)"
   ]
  },
  {
   "cell_type": "markdown",
   "metadata": {},
   "source": [
    "    The test errors in both scale are quite large, espectially in MAPE  "
   ]
  },
  {
   "cell_type": "markdown",
   "metadata": {},
   "source": [
    "#### The residual plot"
   ]
  },
  {
   "cell_type": "code",
   "execution_count": 28,
   "metadata": {
    "vscode": {
     "languageId": "r"
    }
   },
   "outputs": [
    {
     "data": {
      "image/png": "[encoded data removed]",
      "text/plain": [
       "plot without title"
      ]
     },
     "metadata": {
      "image/png": {
       "height": 600,
       "width": 720
      }
     },
     "output_type": "display_data"
    }
   ],
   "source": [
    "options(repr.plot.width = 12, repr.plot.height = 10)\n",
    "autoplot(lin.reg.log, which=c(1,2), label.size=2)    "
   ]
  },
  {
   "cell_type": "markdown",
   "metadata": {},
   "source": [
    "### 1.2. Linear regression without variable selection, applying to the `rain` reponse"
   ]
  },
  {
   "cell_type": "code",
   "execution_count": 29,
   "metadata": {
    "vscode": {
     "languageId": "r"
    }
   },
   "outputs": [
    {
     "data": {
      "text/plain": [
       "\n",
       "Call:\n",
       "lm(formula = rain ~ ., data = train_set[, c(exp_var, \"rain\")])\n",
       "\n",
       "Residuals:\n",
       "    Min      1Q  Median      3Q     Max \n",
       "-8.6959 -2.1731 -0.7763  0.6184 23.7098 \n",
       "\n",
       "Coefficients:\n",
       "               Estimate Std. Error t value Pr(>|t|)    \n",
       "(Intercept)    3.496821   0.769383   4.545 6.83e-06 ***\n",
       "ff             0.709571   0.710825   0.998  0.31863    \n",
       "t            -10.249199   6.636738  -1.544  0.12312    \n",
       "td             7.053990   6.327077   1.115  0.26541    \n",
       "hu            -2.575633   2.325329  -1.108  0.26853    \n",
       "dd            -0.713278   0.613300  -1.163  0.24535    \n",
       "precip_log     0.740423   0.317892   2.329  0.02023 *  \n",
       "ws_arome      -1.243244   0.797383  -1.559  0.11956    \n",
       "p3031_arome    0.476998   0.639958   0.745  0.45639    \n",
       "u10_arome      1.034278   0.359846   2.874  0.00422 ** \n",
       "v10_arome      1.002884   0.233210   4.300 2.03e-05 ***\n",
       "t2m_arome     12.630014   6.475783   1.950  0.05167 .  \n",
       "d2m_arome     -9.511573   5.921589  -1.606  0.10882    \n",
       "r_arome        2.975995   2.101331   1.416  0.15730    \n",
       "tp_arome_log  -0.452562   0.333243  -1.358  0.17503    \n",
       "msl_arome     -1.155674   0.252929  -4.569 6.12e-06 ***\n",
       "month2        -0.005935   0.842006  -0.007  0.99438    \n",
       "month3        -0.145339   0.874463  -0.166  0.86806    \n",
       "month4        -2.075335   0.917442  -2.262  0.02410 *  \n",
       "month5        -2.032071   1.101578  -1.845  0.06565 .  \n",
       "month6        -1.431166   1.198744  -1.194  0.23306    \n",
       "month7        -1.937121   1.248372  -1.552  0.12133    \n",
       "month8        -1.611029   1.259944  -1.279  0.20159    \n",
       "month9        -2.018604   1.132818  -1.782  0.07534 .  \n",
       "month10       -1.319620   1.031220  -1.280  0.20123    \n",
       "month11       -0.024249   0.900159  -0.027  0.97852    \n",
       "month12        0.028188   0.865967   0.033  0.97405    \n",
       "---\n",
       "Signif. codes:  0 '***' 0.001 '**' 0.01 '*' 0.05 '.' 0.1 ' ' 1\n",
       "\n",
       "Residual standard error: 3.899 on 523 degrees of freedom\n",
       "Multiple R-squared:  0.2681,\tAdjusted R-squared:  0.2317 \n",
       "F-statistic: 7.368 on 26 and 523 DF,  p-value: < 2.2e-16\n"
      ]
     },
     "metadata": {},
     "output_type": "display_data"
    }
   ],
   "source": [
    "lin.reg = lm(rain ~ ., data = train_set[,c(exp_var, \"rain\")])\n",
    "summary(lin.reg)"
   ]
  },
  {
   "cell_type": "markdown",
   "metadata": {},
   "source": [
    "#### Training error"
   ]
  },
  {
   "cell_type": "code",
   "execution_count": 30,
   "metadata": {
    "vscode": {
     "languageId": "r"
    }
   },
   "outputs": [
    {
     "name": "stdout",
     "output_type": "stream",
     "text": [
      "[1] \"TRAING ERROR\"\n",
      "[1] \"Regression Metrics : \"\n",
      "[1] \"Mean Absolute Percentage Error :  457176680750.008\"\n",
      "[1] \"Mean squared Error :  14.4590378372337\"\n",
      "[1] \"Mean Absolute Error :  2.40825933038239\"\n",
      "[1] \"R2 Score :  -1.72996816987686\"\n",
      "[1] \"Confusion matrix\"\n",
      "           true_class\n",
      "pred_class  high_rain low_rain no_rain\n",
      "  high_rain       126      107      51\n",
      "  low_rain         28       88      73\n",
      "  no_rain           1       39      37\n",
      "[1] \"Prediction accuracy :  0.456363636363636\"\n"
     ]
    }
   ],
   "source": [
    "print('TRAING ERROR')\n",
    "regression_metric(y_train, lin.reg$fitted.values)\n",
    "# print(paste('Mean Square Error : ', mean(lin.reg$residual**2)))\n",
    "# print(paste('MAPE : ', MAPE(lin.reg$fitted.values, y_train)))\n",
    "\n",
    "pred_class = to_class(lin.reg$fitted.values, eps = 0.01)\n",
    "confusion_matrix(pred_class, y_train_class)"
   ]
  },
  {
   "cell_type": "code",
   "execution_count": 31,
   "metadata": {
    "vscode": {
     "languageId": "r"
    }
   },
   "outputs": [
    {
     "data": {
      "image/png": "[encoded data removed]",
      "text/plain": [
       "plot without title"
      ]
     },
     "metadata": {
      "image/png": {
       "height": 600,
       "width": 720
      }
     },
     "output_type": "display_data"
    }
   ],
   "source": [
    "options(repr.plot.width = 12, repr.plot.height = 10)\n",
    "autoplot(lin.reg,which=c(1,2),label.size=2)    "
   ]
  },
  {
   "cell_type": "markdown",
   "metadata": {},
   "source": [
    "#### Test error"
   ]
  },
  {
   "cell_type": "code",
   "execution_count": 32,
   "metadata": {
    "vscode": {
     "languageId": "r"
    }
   },
   "outputs": [
    {
     "name": "stdout",
     "output_type": "stream",
     "text": [
      "[1] \"TEST ERROR\"\n",
      "[1] \"Mean Square Error :  21.3125251406604\"\n",
      "[1] \"MAPE :  Inf\"\n",
      "[1] \"Confusion matrix\"\n",
      "           true_class\n",
      "pred_class  high_rain low_rain no_rain\n",
      "  high_rain        29       28      21\n",
      "  low_rain          2       24      18\n",
      "  no_rain           2        6       8\n",
      "[1] \"Prediction accuracy :  0.442028985507246\"\n"
     ]
    }
   ],
   "source": [
    "y_predict = predict(lin.reg, newdata = test_set)\n",
    "\n",
    "print('TEST ERROR')\n",
    "print(paste('Mean Square Error : ', MSE(y_predict, y_test)))\n",
    "print(paste('MAPE : ', MAPE(y_predict, y_test)))\n",
    "\n",
    "pred_class = to_class(y_predict, eps = 0.01)\n",
    "confusion_matrix(pred_class, y_test_class)\n"
   ]
  },
  {
   "cell_type": "markdown",
   "metadata": {},
   "source": [
    "    We can see that, in the test set, the MAPE is smaller in linear regression with `rain` reponse than `rain_log`, but MSE is greater."
   ]
  },
  {
   "cell_type": "markdown",
   "metadata": {},
   "source": [
    "## 2. Variable selection"
   ]
  },
  {
   "cell_type": "markdown",
   "metadata": {},
   "source": [
    "### 2.1 Variable selection for `rain_log` reponse"
   ]
  },
  {
   "cell_type": "markdown",
   "metadata": {},
   "source": [
    "In this section, we will use some criterias such as BIC, Cp-Mallow and R2 score to determine whether a variable is useful or not. "
   ]
  },
  {
   "cell_type": "code",
   "execution_count": 33,
   "metadata": {
    "vscode": {
     "languageId": "r"
    }
   },
   "outputs": [
    {
     "data": {
      "text/plain": [
       "Subset selection object\n",
       "Call: regsubsets.formula(rain_log ~ ., data = test_set[, c(exp_var, \n",
       "    \"rain_log\")], nvmax = 30, method = \"forward\")\n",
       "26 Variables  (and intercept)\n",
       "             Forced in Forced out\n",
       "ff               FALSE      FALSE\n",
       "t                FALSE      FALSE\n",
       "td               FALSE      FALSE\n",
       "hu               FALSE      FALSE\n",
       "dd               FALSE      FALSE\n",
       "precip_log       FALSE      FALSE\n",
       "ws_arome         FALSE      FALSE\n",
       "p3031_arome      FALSE      FALSE\n",
       "u10_arome        FALSE      FALSE\n",
       "v10_arome        FALSE      FALSE\n",
       "t2m_arome        FALSE      FALSE\n",
       "d2m_arome        FALSE      FALSE\n",
       "r_arome          FALSE      FALSE\n",
       "tp_arome_log     FALSE      FALSE\n",
       "msl_arome        FALSE      FALSE\n",
       "month2           FALSE      FALSE\n",
       "month3           FALSE      FALSE\n",
       "month4           FALSE      FALSE\n",
       "month5           FALSE      FALSE\n",
       "month6           FALSE      FALSE\n",
       "month7           FALSE      FALSE\n",
       "month8           FALSE      FALSE\n",
       "month9           FALSE      FALSE\n",
       "month10          FALSE      FALSE\n",
       "month11          FALSE      FALSE\n",
       "month12          FALSE      FALSE\n",
       "1 subsets of each size up to 26\n",
       "Selection Algorithm: forward\n",
       "          ff  t   td  hu  dd  precip_log ws_arome p3031_arome u10_arome\n",
       "1  ( 1 )  \" \" \" \" \" \" \" \" \" \" \" \"        \" \"      \" \"         \" \"      \n",
       "2  ( 1 )  \" \" \" \" \" \" \" \" \" \" \" \"        \" \"      \" \"         \" \"      \n",
       "3  ( 1 )  \" \" \"*\" \" \" \" \" \" \" \" \"        \" \"      \" \"         \" \"      \n",
       "4  ( 1 )  \" \" \"*\" \" \" \" \" \" \" \" \"        \" \"      \" \"         \" \"      \n",
       "5  ( 1 )  \" \" \"*\" \" \" \" \" \" \" \" \"        \" \"      \" \"         \" \"      \n",
       "6  ( 1 )  \" \" \"*\" \" \" \" \" \" \" \" \"        \" \"      \" \"         \" \"      \n",
       "7  ( 1 )  \" \" \"*\" \" \" \" \" \" \" \" \"        \" \"      \" \"         \"*\"      \n",
       "8  ( 1 )  \" \" \"*\" \" \" \" \" \" \" \" \"        \" \"      \" \"         \"*\"      \n",
       "9  ( 1 )  \" \" \"*\" \" \" \" \" \" \" \" \"        \" \"      \" \"         \"*\"      \n",
       "10  ( 1 ) \" \" \"*\" \" \" \" \" \" \" \" \"        \" \"      \" \"         \"*\"      \n",
       "11  ( 1 ) \" \" \"*\" \" \" \" \" \" \" \" \"        \" \"      \" \"         \"*\"      \n",
       "12  ( 1 ) \" \" \"*\" \" \" \" \" \" \" \" \"        \" \"      \" \"         \"*\"      \n",
       "13  ( 1 ) \" \" \"*\" \" \" \" \" \" \" \" \"        \" \"      \" \"         \"*\"      \n",
       "14  ( 1 ) \" \" \"*\" \" \" \" \" \"*\" \" \"        \" \"      \" \"         \"*\"      \n",
       "15  ( 1 ) \" \" \"*\" \" \" \" \" \"*\" \" \"        \"*\"      \" \"         \"*\"      \n",
       "16  ( 1 ) \" \" \"*\" \" \" \" \" \"*\" \" \"        \"*\"      \" \"         \"*\"      \n",
       "17  ( 1 ) \" \" \"*\" \" \" \" \" \"*\" \" \"        \"*\"      \" \"         \"*\"      \n",
       "18  ( 1 ) \"*\" \"*\" \" \" \" \" \"*\" \" \"        \"*\"      \" \"         \"*\"      \n",
       "19  ( 1 ) \"*\" \"*\" \" \" \" \" \"*\" \"*\"        \"*\"      \" \"         \"*\"      \n",
       "20  ( 1 ) \"*\" \"*\" \"*\" \" \" \"*\" \"*\"        \"*\"      \" \"         \"*\"      \n",
       "21  ( 1 ) \"*\" \"*\" \"*\" \" \" \"*\" \"*\"        \"*\"      \"*\"         \"*\"      \n",
       "22  ( 1 ) \"*\" \"*\" \"*\" \" \" \"*\" \"*\"        \"*\"      \"*\"         \"*\"      \n",
       "23  ( 1 ) \"*\" \"*\" \"*\" \" \" \"*\" \"*\"        \"*\"      \"*\"         \"*\"      \n",
       "24  ( 1 ) \"*\" \"*\" \"*\" \"*\" \"*\" \"*\"        \"*\"      \"*\"         \"*\"      \n",
       "25  ( 1 ) \"*\" \"*\" \"*\" \"*\" \"*\" \"*\"        \"*\"      \"*\"         \"*\"      \n",
       "26  ( 1 ) \"*\" \"*\" \"*\" \"*\" \"*\" \"*\"        \"*\"      \"*\"         \"*\"      \n",
       "          v10_arome t2m_arome d2m_arome r_arome tp_arome_log msl_arome month2\n",
       "1  ( 1 )  \" \"       \" \"       \" \"       \" \"     \" \"          \"*\"       \" \"   \n",
       "2  ( 1 )  \" \"       \" \"       \" \"       \" \"     \" \"          \"*\"       \" \"   \n",
       "3  ( 1 )  \" \"       \" \"       \" \"       \" \"     \" \"          \"*\"       \" \"   \n",
       "4  ( 1 )  \" \"       \" \"       \" \"       \" \"     \" \"          \"*\"       \" \"   \n",
       "5  ( 1 )  \" \"       \" \"       \" \"       \" \"     \" \"          \"*\"       \" \"   \n",
       "6  ( 1 )  \"*\"       \" \"       \" \"       \" \"     \" \"          \"*\"       \" \"   \n",
       "7  ( 1 )  \"*\"       \" \"       \" \"       \" \"     \" \"          \"*\"       \" \"   \n",
       "8  ( 1 )  \"*\"       \" \"       \" \"       \" \"     \" \"          \"*\"       \" \"   \n",
       "9  ( 1 )  \"*\"       \" \"       \" \"       \" \"     \" \"          \"*\"       \" \"   \n",
       "10  ( 1 ) \"*\"       \" \"       \" \"       \" \"     \" \"          \"*\"       \" \"   \n",
       "11  ( 1 ) \"*\"       \" \"       \" \"       \" \"     \"*\"          \"*\"       \" \"   \n",
       "12  ( 1 ) \"*\"       \" \"       \"*\"       \" \"     \"*\"          \"*\"       \" \"   \n",
       "13  ( 1 ) \"*\"       \" \"       \"*\"       \" \"     \"*\"          \"*\"       \"*\"   \n",
       "14  ( 1 ) \"*\"       \" \"       \"*\"       \" \"     \"*\"          \"*\"       \"*\"   \n",
       "15  ( 1 ) \"*\"       \" \"       \"*\"       \" \"     \"*\"          \"*\"       \"*\"   \n",
       "16  ( 1 ) \"*\"       \" \"       \"*\"       \" \"     \"*\"          \"*\"       \"*\"   \n",
       "17  ( 1 ) \"*\"       \"*\"       \"*\"       \" \"     \"*\"          \"*\"       \"*\"   \n",
       "18  ( 1 ) \"*\"       \"*\"       \"*\"       \" \"     \"*\"          \"*\"       \"*\"   \n",
       "19  ( 1 ) \"*\"       \"*\"       \"*\"       \" \"     \"*\"          \"*\"       \"*\"   \n",
       "20  ( 1 ) \"*\"       \"*\"       \"*\"       \" \"     \"*\"          \"*\"       \"*\"   \n",
       "21  ( 1 ) \"*\"       \"*\"       \"*\"       \" \"     \"*\"          \"*\"       \"*\"   \n",
       "22  ( 1 ) \"*\"       \"*\"       \"*\"       \" \"     \"*\"          \"*\"       \"*\"   \n",
       "23  ( 1 ) \"*\"       \"*\"       \"*\"       \" \"     \"*\"          \"*\"       \"*\"   \n",
       "24  ( 1 ) \"*\"       \"*\"       \"*\"       \" \"     \"*\"          \"*\"       \"*\"   \n",
       "25  ( 1 ) \"*\"       \"*\"       \"*\"       \"*\"     \"*\"          \"*\"       \"*\"   \n",
       "26  ( 1 ) \"*\"       \"*\"       \"*\"       \"*\"     \"*\"          \"*\"       \"*\"   \n",
       "          month3 month4 month5 month6 month7 month8 month9 month10 month11\n",
       "1  ( 1 )  \" \"    \" \"    \" \"    \" \"    \" \"    \" \"    \" \"    \" \"     \" \"    \n",
       "2  ( 1 )  \" \"    \" \"    \" \"    \" \"    \" \"    \" \"    \" \"    \" \"     \" \"    \n",
       "3  ( 1 )  \" \"    \" \"    \" \"    \" \"    \" \"    \" \"    \" \"    \" \"     \" \"    \n",
       "4  ( 1 )  \" \"    \" \"    \"*\"    \" \"    \" \"    \" \"    \" \"    \" \"     \" \"    \n",
       "5  ( 1 )  \" \"    \" \"    \"*\"    \"*\"    \" \"    \" \"    \" \"    \" \"     \" \"    \n",
       "6  ( 1 )  \" \"    \" \"    \"*\"    \"*\"    \" \"    \" \"    \" \"    \" \"     \" \"    \n",
       "7  ( 1 )  \" \"    \" \"    \"*\"    \"*\"    \" \"    \" \"    \" \"    \" \"     \" \"    \n",
       "8  ( 1 )  \" \"    \" \"    \"*\"    \"*\"    \" \"    \" \"    \" \"    \"*\"     \" \"    \n",
       "9  ( 1 )  \"*\"    \" \"    \"*\"    \"*\"    \" \"    \" \"    \" \"    \"*\"     \" \"    \n",
       "10  ( 1 ) \"*\"    \"*\"    \"*\"    \"*\"    \" \"    \" \"    \" \"    \"*\"     \" \"    \n",
       "11  ( 1 ) \"*\"    \"*\"    \"*\"    \"*\"    \" \"    \" \"    \" \"    \"*\"     \" \"    \n",
       "12  ( 1 ) \"*\"    \"*\"    \"*\"    \"*\"    \" \"    \" \"    \" \"    \"*\"     \" \"    \n",
       "13  ( 1 ) \"*\"    \"*\"    \"*\"    \"*\"    \" \"    \" \"    \" \"    \"*\"     \" \"    \n",
       "14  ( 1 ) \"*\"    \"*\"    \"*\"    \"*\"    \" \"    \" \"    \" \"    \"*\"     \" \"    \n",
       "15  ( 1 ) \"*\"    \"*\"    \"*\"    \"*\"    \" \"    \" \"    \" \"    \"*\"     \" \"    \n",
       "16  ( 1 ) \"*\"    \"*\"    \"*\"    \"*\"    \" \"    \" \"    \" \"    \"*\"     \"*\"    \n",
       "17  ( 1 ) \"*\"    \"*\"    \"*\"    \"*\"    \" \"    \" \"    \" \"    \"*\"     \"*\"    \n",
       "18  ( 1 ) \"*\"    \"*\"    \"*\"    \"*\"    \" \"    \" \"    \" \"    \"*\"     \"*\"    \n",
       "19  ( 1 ) \"*\"    \"*\"    \"*\"    \"*\"    \" \"    \" \"    \" \"    \"*\"     \"*\"    \n",
       "20  ( 1 ) \"*\"    \"*\"    \"*\"    \"*\"    \" \"    \" \"    \" \"    \"*\"     \"*\"    \n",
       "21  ( 1 ) \"*\"    \"*\"    \"*\"    \"*\"    \" \"    \" \"    \" \"    \"*\"     \"*\"    \n",
       "22  ( 1 ) \"*\"    \"*\"    \"*\"    \"*\"    \" \"    \"*\"    \" \"    \"*\"     \"*\"    \n",
       "23  ( 1 ) \"*\"    \"*\"    \"*\"    \"*\"    \"*\"    \"*\"    \" \"    \"*\"     \"*\"    \n",
       "24  ( 1 ) \"*\"    \"*\"    \"*\"    \"*\"    \"*\"    \"*\"    \" \"    \"*\"     \"*\"    \n",
       "25  ( 1 ) \"*\"    \"*\"    \"*\"    \"*\"    \"*\"    \"*\"    \" \"    \"*\"     \"*\"    \n",
       "26  ( 1 ) \"*\"    \"*\"    \"*\"    \"*\"    \"*\"    \"*\"    \"*\"    \"*\"     \"*\"    \n",
       "          month12\n",
       "1  ( 1 )  \" \"    \n",
       "2  ( 1 )  \"*\"    \n",
       "3  ( 1 )  \"*\"    \n",
       "4  ( 1 )  \"*\"    \n",
       "5  ( 1 )  \"*\"    \n",
       "6  ( 1 )  \"*\"    \n",
       "7  ( 1 )  \"*\"    \n",
       "8  ( 1 )  \"*\"    \n",
       "9  ( 1 )  \"*\"    \n",
       "10  ( 1 ) \"*\"    \n",
       "11  ( 1 ) \"*\"    \n",
       "12  ( 1 ) \"*\"    \n",
       "13  ( 1 ) \"*\"    \n",
       "14  ( 1 ) \"*\"    \n",
       "15  ( 1 ) \"*\"    \n",
       "16  ( 1 ) \"*\"    \n",
       "17  ( 1 ) \"*\"    \n",
       "18  ( 1 ) \"*\"    \n",
       "19  ( 1 ) \"*\"    \n",
       "20  ( 1 ) \"*\"    \n",
       "21  ( 1 ) \"*\"    \n",
       "22  ( 1 ) \"*\"    \n",
       "23  ( 1 ) \"*\"    \n",
       "24  ( 1 ) \"*\"    \n",
       "25  ( 1 ) \"*\"    \n",
       "26  ( 1 ) \"*\"    "
      ]
     },
     "metadata": {},
     "output_type": "display_data"
    }
   ],
   "source": [
    "select.lin.reg.log <- regsubsets(rain_log ~., data = test_set[,c(exp_var, \"rain_log\")], nvmax=30, method=\"forward\")\n",
    "res.slr.log = summary(select.lin.reg.log)\n",
    "res.slr.log"
   ]
  },
  {
   "cell_type": "markdown",
   "metadata": {},
   "source": [
    "    We will look at how many important variables are retained by each creteria. "
   ]
  },
  {
   "cell_type": "code",
   "execution_count": 34,
   "metadata": {
    "vscode": {
     "languageId": "r"
    }
   },
   "outputs": [
    {
     "name": "stdout",
     "output_type": "stream",
     "text": [
      "'data.frame':\t1 obs. of  3 variables:\n",
      " $ R2_Score : int 10\n",
      " $ Cp_Mallow: int 7\n",
      " $ BIC      : int 2\n"
     ]
    }
   ],
   "source": [
    "str(data.frame(R2_Score = which.max(res.slr.log$adjr2), Cp_Mallow = which.min(res.slr.log$cp), BIC = which.min(res.slr.log$bic) ))"
   ]
  },
  {
   "cell_type": "markdown",
   "metadata": {},
   "source": [
    "    We retain 10, 7 and 2 variables for R2, Cp and BIC criterion respectively.\n",
    "\n",
    "We'll see  which variables are retained"
   ]
  },
  {
   "cell_type": "code",
   "execution_count": 35,
   "metadata": {
    "vscode": {
     "languageId": "r"
    }
   },
   "outputs": [
    {
     "data": {
      "image/png": "[encoded data removed]",
      "text/plain": [
       "plot without title"
      ]
     },
     "metadata": {
      "image/png": {
       "height": 600,
       "width": 1200
      }
     },
     "output_type": "display_data"
    }
   ],
   "source": [
    "options(repr.plot.width = 20, repr.plot.height = 10)\n",
    "par(mfrow = c(1,3))\n",
    "plot(select.lin.reg.log, scale = \"Cp\")\n",
    "plot(select.lin.reg.log, scale = \"bic\")\n",
    "plot(select.lin.reg.log, scale = \"adjr2\")"
   ]
  },
  {
   "cell_type": "markdown",
   "metadata": {},
   "source": [
    "By looking at these graphs, and considering the all 7 criterions, we decided to retain a linear model of 8 variables:\n",
    "`t`, `u10_arome`, `v10_arome`, `tp_arome_log`, `msl_arome` and `month12`, "
   ]
  },
  {
   "cell_type": "code",
   "execution_count": 36,
   "metadata": {
    "vscode": {
     "languageId": "r"
    }
   },
   "outputs": [],
   "source": [
    "retained.var.log = c(\"t\", \"u10_arome\", \"v10_arome\", \"tp_arome_log\", \"msl_arome\", \"month12\")"
   ]
  },
  {
   "cell_type": "markdown",
   "metadata": {},
   "source": [
    "In this case, we used `month1` (Jan.) as the reference.\n"
   ]
  },
  {
   "cell_type": "markdown",
   "metadata": {},
   "source": [
    "#### Fit the linear model with selected variables"
   ]
  },
  {
   "cell_type": "code",
   "execution_count": 37,
   "metadata": {
    "vscode": {
     "languageId": "r"
    }
   },
   "outputs": [
    {
     "data": {
      "text/plain": [
       "\n",
       "Call:\n",
       "lm(formula = rain_log ~ t + u10_arome + v10_arome + tp_arome_log + \n",
       "    msl_arome + month12, data = train_set[, c(retained.var.log, \n",
       "    \"rain_log\")])\n",
       "\n",
       "Residuals:\n",
       "    Min      1Q  Median      3Q     Max \n",
       "-2.0636 -0.4770 -0.1398  0.2834  2.5283 \n",
       "\n",
       "Coefficients:\n",
       "             Estimate Std. Error t value Pr(>|t|)    \n",
       "(Intercept)   0.72576    0.03260  22.260  < 2e-16 ***\n",
       "t            -0.15521    0.03382  -4.590 5.52e-06 ***\n",
       "u10_arome     0.18600    0.03672   5.065 5.60e-07 ***\n",
       "v10_arome     0.16617    0.03438   4.834 1.75e-06 ***\n",
       "tp_arome_log -0.01541    0.04362  -0.353   0.7240    \n",
       "msl_arome    -0.30046    0.04036  -7.444 3.85e-13 ***\n",
       "month12       0.21119    0.12274   1.721   0.0859 .  \n",
       "---\n",
       "Signif. codes:  0 '***' 0.001 '**' 0.01 '*' 0.05 '.' 0.1 ' ' 1\n",
       "\n",
       "Residual standard error: 0.7309 on 543 degrees of freedom\n",
       "Multiple R-squared:  0.3123,\tAdjusted R-squared:  0.3047 \n",
       "F-statistic:  41.1 on 6 and 543 DF,  p-value: < 2.2e-16\n"
      ]
     },
     "metadata": {},
     "output_type": "display_data"
    }
   ],
   "source": [
    "selected.lin.reg.log = lm(rain_log ~ t + u10_arome + v10_arome + tp_arome_log + msl_arome + month12, data = train_set[,c(retained.var.log, \"rain_log\")])\n",
    "summary(selected.lin.reg.log)"
   ]
  },
  {
   "cell_type": "markdown",
   "metadata": {},
   "source": [
    "#### Training error"
   ]
  },
  {
   "cell_type": "code",
   "execution_count": 38,
   "metadata": {
    "vscode": {
     "languageId": "r"
    }
   },
   "outputs": [
    {
     "name": "stdout",
     "output_type": "stream",
     "text": [
      "[1] \"TRAING ERROR IN LOG SCALE\"\n",
      "[1] \"Mean Square Error :  0.527457807720186\"\n",
      "[1] \"MAPE :  Inf\"\n",
      "[1] \"Confusion matrix\"\n",
      "           true_class\n",
      "pred_class  high_rain low_rain no_rain\n",
      "  high_rain        11        1       1\n",
      "  low_rain        144      225     149\n",
      "  no_rain           0        8      11\n",
      "[1] \"Prediction accuracy :  0.449090909090909\"\n"
     ]
    }
   ],
   "source": [
    "print('TRAING ERROR IN LOG SCALE')\n",
    "print(paste('Mean Square Error : ', mean(selected.lin.reg.log$residual**2)))\n",
    "print(paste('MAPE : ', MAPE(selected.lin.reg.log$fitted.values, y_train_log)))\n",
    "\n",
    "pred_class = to_class(selected.lin.reg.log$fitted.values, eps = 0.01)\n",
    "confusion_matrix(pred_class, y_train_class)"
   ]
  },
  {
   "cell_type": "code",
   "execution_count": 39,
   "metadata": {
    "vscode": {
     "languageId": "r"
    }
   },
   "outputs": [
    {
     "name": "stdout",
     "output_type": "stream",
     "text": [
      "[1] \"TRAINING ERROR\"\n",
      "[1] \"Mean Square Error :  16.7318645844248\"\n",
      "[1] \"MAPE :  Inf\"\n",
      "[1] \"Confusion matrix\"\n",
      "           true_class\n",
      "pred_class  high_rain low_rain no_rain\n",
      "  high_rain        70       26       7\n",
      "  low_rain         85      200     143\n",
      "  no_rain           0        8      11\n",
      "[1] \"Prediction accuracy :  0.510909090909091\"\n"
     ]
    }
   ],
   "source": [
    "print('TRAINING ERROR')\n",
    "print(paste('Mean Square Error : ', MSE(to_rain(selected.lin.reg.log$fitted.values), y_train)))\n",
    "print(paste('MAPE : ', MAPE(to_rain(selected.lin.reg.log$fitted.values), y_train)))\n",
    "\n",
    "pred_class = to_class(to_rain(selected.lin.reg.log$fitted.values), eps = 0.01)\n",
    "confusion_matrix(pred_class, y_train_class)"
   ]
  },
  {
   "cell_type": "markdown",
   "metadata": {},
   "source": [
    "    We can notice that the training MAPE is slightly decreased in this selected model"
   ]
  },
  {
   "cell_type": "markdown",
   "metadata": {},
   "source": [
    "#### Test error"
   ]
  },
  {
   "cell_type": "code",
   "execution_count": 40,
   "metadata": {
    "vscode": {
     "languageId": "r"
    }
   },
   "outputs": [
    {
     "name": "stdout",
     "output_type": "stream",
     "text": [
      "[1] \"TEST ERROR IN LOG SCALE\"\n",
      "[1] \"Mean Square Error :  0.50143160860573\"\n",
      "[1] \"MAPE :  Inf\"\n",
      "[1] \"Confusion matrix\"\n",
      "           true_class\n",
      "pred_class  high_rain low_rain no_rain\n",
      "  high_rain         6        0       0\n",
      "  low_rain         27       58      47\n",
      "[1] \"Prediction accuracy :  0.463768115942029\"\n",
      "[1] \"TEST ERROR\"\n",
      "[1] \"Mean Square Error :  18.3125035476811\"\n",
      "[1] \"MAPE :  Inf\"\n",
      "[1] \"Confusion matrix\"\n",
      "           true_class\n",
      "pred_class  high_rain low_rain no_rain\n",
      "  high_rain        23       11       4\n",
      "  low_rain         10       47      43\n",
      "[1] \"Prediction accuracy :  0.507246376811594\"\n"
     ]
    }
   ],
   "source": [
    "y_predict_log = predict(selected.lin.reg.log, newdata = test_set)\n",
    "y_predict = to_rain(y_predict_log)\n",
    "\n",
    "\n",
    "print('TEST ERROR IN LOG SCALE')\n",
    "print(paste('Mean Square Error : ', MSE(y_predict_log, y_test_log)))\n",
    "print(paste('MAPE : ', MAPE(y_predict_log, y_test_log)))\n",
    "\n",
    "pred_class = to_class(y_predict_log, eps = 0.01)\n",
    "confusion_matrix(pred_class, y_test_class)\n",
    "\n",
    "\n",
    "print('TEST ERROR')\n",
    "print(paste('Mean Square Error : ', MSE(y_predict, y_test)))\n",
    "print(paste('MAPE : ', MAPE(y_predict, y_test)))\n",
    "\n",
    "pred_class = to_class(y_predict, eps = 0.01)\n",
    "confusion_matrix(pred_class, y_test_class)"
   ]
  },
  {
   "cell_type": "markdown",
   "metadata": {},
   "source": [
    "\n",
    "The MAPE in test set is dramatically descresed comparing to the linear model with `rain_log` reponse, but it's still greater than the linear model with `rain` reponse. It seems that this transformation to ``rain_log` does perfom very well, even when it makes the reponse to be more gaussian. "
   ]
  },
  {
   "cell_type": "markdown",
   "metadata": {},
   "source": [
    "### 2.1 Variable selection for `rain` reponse"
   ]
  },
  {
   "cell_type": "code",
   "execution_count": 41,
   "metadata": {
    "vscode": {
     "languageId": "r"
    }
   },
   "outputs": [
    {
     "data": {
      "text/plain": [
       "Subset selection object\n",
       "Call: regsubsets.formula(rain ~ ., data = test_set[, c(exp_var, \"rain\")], \n",
       "    nvmax = 30, method = \"forward\")\n",
       "26 Variables  (and intercept)\n",
       "             Forced in Forced out\n",
       "ff               FALSE      FALSE\n",
       "t                FALSE      FALSE\n",
       "td               FALSE      FALSE\n",
       "hu               FALSE      FALSE\n",
       "dd               FALSE      FALSE\n",
       "precip_log       FALSE      FALSE\n",
       "ws_arome         FALSE      FALSE\n",
       "p3031_arome      FALSE      FALSE\n",
       "u10_arome        FALSE      FALSE\n",
       "v10_arome        FALSE      FALSE\n",
       "t2m_arome        FALSE      FALSE\n",
       "d2m_arome        FALSE      FALSE\n",
       "r_arome          FALSE      FALSE\n",
       "tp_arome_log     FALSE      FALSE\n",
       "msl_arome        FALSE      FALSE\n",
       "month2           FALSE      FALSE\n",
       "month3           FALSE      FALSE\n",
       "month4           FALSE      FALSE\n",
       "month5           FALSE      FALSE\n",
       "month6           FALSE      FALSE\n",
       "month7           FALSE      FALSE\n",
       "month8           FALSE      FALSE\n",
       "month9           FALSE      FALSE\n",
       "month10          FALSE      FALSE\n",
       "month11          FALSE      FALSE\n",
       "month12          FALSE      FALSE\n",
       "1 subsets of each size up to 26\n",
       "Selection Algorithm: forward\n",
       "          ff  t   td  hu  dd  precip_log ws_arome p3031_arome u10_arome\n",
       "1  ( 1 )  \" \" \" \" \" \" \" \" \" \" \" \"        \" \"      \" \"         \" \"      \n",
       "2  ( 1 )  \" \" \" \" \" \" \" \" \" \" \" \"        \" \"      \" \"         \" \"      \n",
       "3  ( 1 )  \" \" \" \" \" \" \" \" \" \" \" \"        \" \"      \" \"         \" \"      \n",
       "4  ( 1 )  \" \" \" \" \"*\" \" \" \" \" \" \"        \" \"      \" \"         \" \"      \n",
       "5  ( 1 )  \" \" \" \" \"*\" \" \" \" \" \" \"        \" \"      \" \"         \" \"      \n",
       "6  ( 1 )  \" \" \" \" \"*\" \" \" \" \" \" \"        \" \"      \" \"         \"*\"      \n",
       "7  ( 1 )  \" \" \" \" \"*\" \" \" \" \" \" \"        \" \"      \"*\"         \"*\"      \n",
       "8  ( 1 )  \" \" \" \" \"*\" \" \" \" \" \"*\"        \" \"      \"*\"         \"*\"      \n",
       "9  ( 1 )  \" \" \" \" \"*\" \" \" \" \" \"*\"        \" \"      \"*\"         \"*\"      \n",
       "10  ( 1 ) \" \" \" \" \"*\" \" \" \" \" \"*\"        \" \"      \"*\"         \"*\"      \n",
       "11  ( 1 ) \" \" \" \" \"*\" \" \" \" \" \"*\"        \" \"      \"*\"         \"*\"      \n",
       "12  ( 1 ) \" \" \" \" \"*\" \" \" \" \" \"*\"        \" \"      \"*\"         \"*\"      \n",
       "13  ( 1 ) \" \" \" \" \"*\" \" \" \" \" \"*\"        \" \"      \"*\"         \"*\"      \n",
       "14  ( 1 ) \" \" \" \" \"*\" \" \" \" \" \"*\"        \" \"      \"*\"         \"*\"      \n",
       "15  ( 1 ) \"*\" \" \" \"*\" \" \" \" \" \"*\"        \" \"      \"*\"         \"*\"      \n",
       "16  ( 1 ) \"*\" \" \" \"*\" \" \" \" \" \"*\"        \"*\"      \"*\"         \"*\"      \n",
       "17  ( 1 ) \"*\" \" \" \"*\" \" \" \" \" \"*\"        \"*\"      \"*\"         \"*\"      \n",
       "18  ( 1 ) \"*\" \" \" \"*\" \" \" \" \" \"*\"        \"*\"      \"*\"         \"*\"      \n",
       "19  ( 1 ) \"*\" \" \" \"*\" \"*\" \" \" \"*\"        \"*\"      \"*\"         \"*\"      \n",
       "20  ( 1 ) \"*\" \"*\" \"*\" \"*\" \" \" \"*\"        \"*\"      \"*\"         \"*\"      \n",
       "21  ( 1 ) \"*\" \"*\" \"*\" \"*\" \" \" \"*\"        \"*\"      \"*\"         \"*\"      \n",
       "22  ( 1 ) \"*\" \"*\" \"*\" \"*\" \" \" \"*\"        \"*\"      \"*\"         \"*\"      \n",
       "23  ( 1 ) \"*\" \"*\" \"*\" \"*\" \" \" \"*\"        \"*\"      \"*\"         \"*\"      \n",
       "24  ( 1 ) \"*\" \"*\" \"*\" \"*\" \" \" \"*\"        \"*\"      \"*\"         \"*\"      \n",
       "25  ( 1 ) \"*\" \"*\" \"*\" \"*\" \" \" \"*\"        \"*\"      \"*\"         \"*\"      \n",
       "26  ( 1 ) \"*\" \"*\" \"*\" \"*\" \"*\" \"*\"        \"*\"      \"*\"         \"*\"      \n",
       "          v10_arome t2m_arome d2m_arome r_arome tp_arome_log msl_arome month2\n",
       "1  ( 1 )  \" \"       \" \"       \" \"       \" \"     \" \"          \"*\"       \" \"   \n",
       "2  ( 1 )  \" \"       \" \"       \" \"       \" \"     \" \"          \"*\"       \" \"   \n",
       "3  ( 1 )  \" \"       \" \"       \" \"       \" \"     \" \"          \"*\"       \" \"   \n",
       "4  ( 1 )  \" \"       \" \"       \" \"       \" \"     \" \"          \"*\"       \" \"   \n",
       "5  ( 1 )  \" \"       \" \"       \" \"       \" \"     \" \"          \"*\"       \" \"   \n",
       "6  ( 1 )  \" \"       \" \"       \" \"       \" \"     \" \"          \"*\"       \" \"   \n",
       "7  ( 1 )  \" \"       \" \"       \" \"       \" \"     \" \"          \"*\"       \" \"   \n",
       "8  ( 1 )  \" \"       \" \"       \" \"       \" \"     \" \"          \"*\"       \" \"   \n",
       "9  ( 1 )  \" \"       \" \"       \" \"       \" \"     \" \"          \"*\"       \" \"   \n",
       "10  ( 1 ) \" \"       \" \"       \" \"       \" \"     \" \"          \"*\"       \" \"   \n",
       "11  ( 1 ) \" \"       \" \"       \" \"       \" \"     \" \"          \"*\"       \" \"   \n",
       "12  ( 1 ) \" \"       \" \"       \" \"       \" \"     \" \"          \"*\"       \" \"   \n",
       "13  ( 1 ) \" \"       \" \"       \"*\"       \" \"     \" \"          \"*\"       \" \"   \n",
       "14  ( 1 ) \" \"       \" \"       \"*\"       \" \"     \"*\"          \"*\"       \" \"   \n",
       "15  ( 1 ) \" \"       \" \"       \"*\"       \" \"     \"*\"          \"*\"       \" \"   \n",
       "16  ( 1 ) \" \"       \" \"       \"*\"       \" \"     \"*\"          \"*\"       \" \"   \n",
       "17  ( 1 ) \"*\"       \" \"       \"*\"       \" \"     \"*\"          \"*\"       \" \"   \n",
       "18  ( 1 ) \"*\"       \"*\"       \"*\"       \" \"     \"*\"          \"*\"       \" \"   \n",
       "19  ( 1 ) \"*\"       \"*\"       \"*\"       \" \"     \"*\"          \"*\"       \" \"   \n",
       "20  ( 1 ) \"*\"       \"*\"       \"*\"       \" \"     \"*\"          \"*\"       \" \"   \n",
       "21  ( 1 ) \"*\"       \"*\"       \"*\"       \" \"     \"*\"          \"*\"       \" \"   \n",
       "22  ( 1 ) \"*\"       \"*\"       \"*\"       \"*\"     \"*\"          \"*\"       \" \"   \n",
       "23  ( 1 ) \"*\"       \"*\"       \"*\"       \"*\"     \"*\"          \"*\"       \"*\"   \n",
       "24  ( 1 ) \"*\"       \"*\"       \"*\"       \"*\"     \"*\"          \"*\"       \"*\"   \n",
       "25  ( 1 ) \"*\"       \"*\"       \"*\"       \"*\"     \"*\"          \"*\"       \"*\"   \n",
       "26  ( 1 ) \"*\"       \"*\"       \"*\"       \"*\"     \"*\"          \"*\"       \"*\"   \n",
       "          month3 month4 month5 month6 month7 month8 month9 month10 month11\n",
       "1  ( 1 )  \" \"    \" \"    \" \"    \" \"    \" \"    \" \"    \" \"    \" \"     \" \"    \n",
       "2  ( 1 )  \" \"    \" \"    \" \"    \" \"    \" \"    \" \"    \" \"    \" \"     \" \"    \n",
       "3  ( 1 )  \" \"    \" \"    \"*\"    \" \"    \" \"    \" \"    \" \"    \" \"     \" \"    \n",
       "4  ( 1 )  \" \"    \" \"    \"*\"    \" \"    \" \"    \" \"    \" \"    \" \"     \" \"    \n",
       "5  ( 1 )  \"*\"    \" \"    \"*\"    \" \"    \" \"    \" \"    \" \"    \" \"     \" \"    \n",
       "6  ( 1 )  \"*\"    \" \"    \"*\"    \" \"    \" \"    \" \"    \" \"    \" \"     \" \"    \n",
       "7  ( 1 )  \"*\"    \" \"    \"*\"    \" \"    \" \"    \" \"    \" \"    \" \"     \" \"    \n",
       "8  ( 1 )  \"*\"    \" \"    \"*\"    \" \"    \" \"    \" \"    \" \"    \" \"     \" \"    \n",
       "9  ( 1 )  \"*\"    \"*\"    \"*\"    \" \"    \" \"    \" \"    \" \"    \" \"     \" \"    \n",
       "10  ( 1 ) \"*\"    \"*\"    \"*\"    \"*\"    \" \"    \" \"    \" \"    \" \"     \" \"    \n",
       "11  ( 1 ) \"*\"    \"*\"    \"*\"    \"*\"    \" \"    \" \"    \" \"    \"*\"     \" \"    \n",
       "12  ( 1 ) \"*\"    \"*\"    \"*\"    \"*\"    \" \"    \" \"    \" \"    \"*\"     \"*\"    \n",
       "13  ( 1 ) \"*\"    \"*\"    \"*\"    \"*\"    \" \"    \" \"    \" \"    \"*\"     \"*\"    \n",
       "14  ( 1 ) \"*\"    \"*\"    \"*\"    \"*\"    \" \"    \" \"    \" \"    \"*\"     \"*\"    \n",
       "15  ( 1 ) \"*\"    \"*\"    \"*\"    \"*\"    \" \"    \" \"    \" \"    \"*\"     \"*\"    \n",
       "16  ( 1 ) \"*\"    \"*\"    \"*\"    \"*\"    \" \"    \" \"    \" \"    \"*\"     \"*\"    \n",
       "17  ( 1 ) \"*\"    \"*\"    \"*\"    \"*\"    \" \"    \" \"    \" \"    \"*\"     \"*\"    \n",
       "18  ( 1 ) \"*\"    \"*\"    \"*\"    \"*\"    \" \"    \" \"    \" \"    \"*\"     \"*\"    \n",
       "19  ( 1 ) \"*\"    \"*\"    \"*\"    \"*\"    \" \"    \" \"    \" \"    \"*\"     \"*\"    \n",
       "20  ( 1 ) \"*\"    \"*\"    \"*\"    \"*\"    \" \"    \" \"    \" \"    \"*\"     \"*\"    \n",
       "21  ( 1 ) \"*\"    \"*\"    \"*\"    \"*\"    \" \"    \" \"    \"*\"    \"*\"     \"*\"    \n",
       "22  ( 1 ) \"*\"    \"*\"    \"*\"    \"*\"    \" \"    \" \"    \"*\"    \"*\"     \"*\"    \n",
       "23  ( 1 ) \"*\"    \"*\"    \"*\"    \"*\"    \" \"    \" \"    \"*\"    \"*\"     \"*\"    \n",
       "24  ( 1 ) \"*\"    \"*\"    \"*\"    \"*\"    \"*\"    \" \"    \"*\"    \"*\"     \"*\"    \n",
       "25  ( 1 ) \"*\"    \"*\"    \"*\"    \"*\"    \"*\"    \"*\"    \"*\"    \"*\"     \"*\"    \n",
       "26  ( 1 ) \"*\"    \"*\"    \"*\"    \"*\"    \"*\"    \"*\"    \"*\"    \"*\"     \"*\"    \n",
       "          month12\n",
       "1  ( 1 )  \" \"    \n",
       "2  ( 1 )  \"*\"    \n",
       "3  ( 1 )  \"*\"    \n",
       "4  ( 1 )  \"*\"    \n",
       "5  ( 1 )  \"*\"    \n",
       "6  ( 1 )  \"*\"    \n",
       "7  ( 1 )  \"*\"    \n",
       "8  ( 1 )  \"*\"    \n",
       "9  ( 1 )  \"*\"    \n",
       "10  ( 1 ) \"*\"    \n",
       "11  ( 1 ) \"*\"    \n",
       "12  ( 1 ) \"*\"    \n",
       "13  ( 1 ) \"*\"    \n",
       "14  ( 1 ) \"*\"    \n",
       "15  ( 1 ) \"*\"    \n",
       "16  ( 1 ) \"*\"    \n",
       "17  ( 1 ) \"*\"    \n",
       "18  ( 1 ) \"*\"    \n",
       "19  ( 1 ) \"*\"    \n",
       "20  ( 1 ) \"*\"    \n",
       "21  ( 1 ) \"*\"    \n",
       "22  ( 1 ) \"*\"    \n",
       "23  ( 1 ) \"*\"    \n",
       "24  ( 1 ) \"*\"    \n",
       "25  ( 1 ) \"*\"    \n",
       "26  ( 1 ) \"*\"    "
      ]
     },
     "metadata": {},
     "output_type": "display_data"
    }
   ],
   "source": [
    "select.lin.reg <- regsubsets(rain ~., data = test_set[,c(exp_var, \"rain\")], nvmax=30, method=\"forward\")\n",
    "res.slr = summary(select.lin.reg)\n",
    "res.slr"
   ]
  },
  {
   "cell_type": "code",
   "execution_count": 42,
   "metadata": {
    "vscode": {
     "languageId": "r"
    }
   },
   "outputs": [
    {
     "name": "stdout",
     "output_type": "stream",
     "text": [
      "'data.frame':\t1 obs. of  3 variables:\n",
      " $ R2_Score : int 7\n",
      " $ Cp_Mallow: int 4\n",
      " $ BIC      : int 2\n"
     ]
    }
   ],
   "source": [
    "str(data.frame(R2_Score = which.max(res.slr$adjr2), Cp_Mallow = which.min(res.slr$cp), BIC = which.min(res.slr$bic) ))"
   ]
  },
  {
   "cell_type": "markdown",
   "metadata": {},
   "source": [
    "We retain 7, 4 and 2 variables for R2, Cp and BIC criterion respectively"
   ]
  },
  {
   "cell_type": "code",
   "execution_count": 43,
   "metadata": {
    "vscode": {
     "languageId": "r"
    }
   },
   "outputs": [
    {
     "data": {
      "image/png": "[encoded data removed]",
      "text/plain": [
       "plot without title"
      ]
     },
     "metadata": {
      "image/png": {
       "height": 600,
       "width": 1200
      }
     },
     "output_type": "display_data"
    }
   ],
   "source": [
    "options(repr.plot.width = 20, repr.plot.height = 10)\n",
    "par(mfrow = c(1,3))\n",
    "plot(select.lin.reg, scale = \"adjr2\")\n",
    "plot(select.lin.reg, scale = \"Cp\")\n",
    "plot(select.lin.reg, scale = \"bic\")\n"
   ]
  },
  {
   "cell_type": "code",
   "execution_count": 44,
   "metadata": {
    "vscode": {
     "languageId": "r"
    }
   },
   "outputs": [
    {
     "data": {
      "text/html": [
       "<style>\n",
       ".list-inline {list-style: none; margin:0; padding: 0}\n",
       ".list-inline>li {display: inline-block}\n",
       ".list-inline>li:not(:last-child)::after {content: \"\\00b7\"; padding: 0 .5ex}\n",
       "</style>\n",
       "<ol class=list-inline><li>'ff'</li><li>'t'</li><li>'td'</li><li>'hu'</li><li>'dd'</li><li>'precip_log'</li><li>'ws_arome'</li><li>'p3031_arome'</li><li>'u10_arome'</li><li>'v10_arome'</li><li>'t2m_arome'</li><li>'d2m_arome'</li><li>'r_arome'</li><li>'tp_arome_log'</li><li>'msl_arome'</li><li>'rain'</li><li>'rain_class'</li><li>'rain_log'</li><li>'month2'</li><li>'month3'</li><li>'month4'</li><li>'month5'</li><li>'month6'</li><li>'month7'</li><li>'month8'</li><li>'month9'</li><li>'month10'</li><li>'month11'</li><li>'month12'</li></ol>\n"
      ],
      "text/latex": [
       "\\begin{enumerate*}\n",
       "\\item 'ff'\n",
       "\\item 't'\n",
       "\\item 'td'\n",
       "\\item 'hu'\n",
       "\\item 'dd'\n",
       "\\item 'precip\\_log'\n",
       "\\item 'ws\\_arome'\n",
       "\\item 'p3031\\_arome'\n",
       "\\item 'u10\\_arome'\n",
       "\\item 'v10\\_arome'\n",
       "\\item 't2m\\_arome'\n",
       "\\item 'd2m\\_arome'\n",
       "\\item 'r\\_arome'\n",
       "\\item 'tp\\_arome\\_log'\n",
       "\\item 'msl\\_arome'\n",
       "\\item 'rain'\n",
       "\\item 'rain\\_class'\n",
       "\\item 'rain\\_log'\n",
       "\\item 'month2'\n",
       "\\item 'month3'\n",
       "\\item 'month4'\n",
       "\\item 'month5'\n",
       "\\item 'month6'\n",
       "\\item 'month7'\n",
       "\\item 'month8'\n",
       "\\item 'month9'\n",
       "\\item 'month10'\n",
       "\\item 'month11'\n",
       "\\item 'month12'\n",
       "\\end{enumerate*}\n"
      ],
      "text/markdown": [
       "1. 'ff'\n",
       "2. 't'\n",
       "3. 'td'\n",
       "4. 'hu'\n",
       "5. 'dd'\n",
       "6. 'precip_log'\n",
       "7. 'ws_arome'\n",
       "8. 'p3031_arome'\n",
       "9. 'u10_arome'\n",
       "10. 'v10_arome'\n",
       "11. 't2m_arome'\n",
       "12. 'd2m_arome'\n",
       "13. 'r_arome'\n",
       "14. 'tp_arome_log'\n",
       "15. 'msl_arome'\n",
       "16. 'rain'\n",
       "17. 'rain_class'\n",
       "18. 'rain_log'\n",
       "19. 'month2'\n",
       "20. 'month3'\n",
       "21. 'month4'\n",
       "22. 'month5'\n",
       "23. 'month6'\n",
       "24. 'month7'\n",
       "25. 'month8'\n",
       "26. 'month9'\n",
       "27. 'month10'\n",
       "28. 'month11'\n",
       "29. 'month12'\n",
       "\n",
       "\n"
      ],
      "text/plain": [
       " [1] \"ff\"           \"t\"            \"td\"           \"hu\"           \"dd\"          \n",
       " [6] \"precip_log\"   \"ws_arome\"     \"p3031_arome\"  \"u10_arome\"    \"v10_arome\"   \n",
       "[11] \"t2m_arome\"    \"d2m_arome\"    \"r_arome\"      \"tp_arome_log\" \"msl_arome\"   \n",
       "[16] \"rain\"         \"rain_class\"   \"rain_log\"     \"month2\"       \"month3\"      \n",
       "[21] \"month4\"       \"month5\"       \"month6\"       \"month7\"       \"month8\"      \n",
       "[26] \"month9\"       \"month10\"      \"month11\"      \"month12\"     "
      ]
     },
     "metadata": {},
     "output_type": "display_data"
    }
   ],
   "source": [
    "names(train_set)"
   ]
  },
  {
   "cell_type": "markdown",
   "metadata": {},
   "source": [
    "    We will test 3 models corresponding to the the creterions and compare them"
   ]
  },
  {
   "cell_type": "markdown",
   "metadata": {},
   "source": [
    "By looking at these graphs, and considering the all 3 criterions, we decided to retain a linear model of 6 variables:\n",
    "`td`, `u10_arome`, `v10_arome`, `precip_log`, `msl_arome` and `month12`"
   ]
  },
  {
   "cell_type": "code",
   "execution_count": 45,
   "metadata": {
    "vscode": {
     "languageId": "r"
    }
   },
   "outputs": [],
   "source": [
    "retained.var = c(\"msl_arome\", \"month12\")"
   ]
  },
  {
   "cell_type": "markdown",
   "metadata": {},
   "source": [
    "In this case, we used `month1` (Jan.) as the reference.\n"
   ]
  },
  {
   "cell_type": "markdown",
   "metadata": {},
   "source": [
    "#### Linear model for selected variables"
   ]
  },
  {
   "cell_type": "code",
   "execution_count": 46,
   "metadata": {
    "vscode": {
     "languageId": "r"
    }
   },
   "outputs": [
    {
     "data": {
      "text/html": [
       "<style>\n",
       ".list-inline {list-style: none; margin:0; padding: 0}\n",
       ".list-inline>li {display: inline-block}\n",
       ".list-inline>li:not(:last-child)::after {content: \"\\00b7\"; padding: 0 .5ex}\n",
       "</style>\n",
       "<ol class=list-inline><li>'ff'</li><li>'t'</li><li>'td'</li><li>'hu'</li><li>'dd'</li><li>'precip_log'</li><li>'ws_arome'</li><li>'p3031_arome'</li><li>'u10_arome'</li><li>'v10_arome'</li><li>'t2m_arome'</li><li>'d2m_arome'</li><li>'r_arome'</li><li>'tp_arome_log'</li><li>'msl_arome'</li><li>'month2'</li><li>'month3'</li><li>'month4'</li><li>'month5'</li><li>'month6'</li><li>'month7'</li><li>'month8'</li><li>'month9'</li><li>'month10'</li><li>'month11'</li><li>'month12'</li></ol>\n"
      ],
      "text/latex": [
       "\\begin{enumerate*}\n",
       "\\item 'ff'\n",
       "\\item 't'\n",
       "\\item 'td'\n",
       "\\item 'hu'\n",
       "\\item 'dd'\n",
       "\\item 'precip\\_log'\n",
       "\\item 'ws\\_arome'\n",
       "\\item 'p3031\\_arome'\n",
       "\\item 'u10\\_arome'\n",
       "\\item 'v10\\_arome'\n",
       "\\item 't2m\\_arome'\n",
       "\\item 'd2m\\_arome'\n",
       "\\item 'r\\_arome'\n",
       "\\item 'tp\\_arome\\_log'\n",
       "\\item 'msl\\_arome'\n",
       "\\item 'month2'\n",
       "\\item 'month3'\n",
       "\\item 'month4'\n",
       "\\item 'month5'\n",
       "\\item 'month6'\n",
       "\\item 'month7'\n",
       "\\item 'month8'\n",
       "\\item 'month9'\n",
       "\\item 'month10'\n",
       "\\item 'month11'\n",
       "\\item 'month12'\n",
       "\\end{enumerate*}\n"
      ],
      "text/markdown": [
       "1. 'ff'\n",
       "2. 't'\n",
       "3. 'td'\n",
       "4. 'hu'\n",
       "5. 'dd'\n",
       "6. 'precip_log'\n",
       "7. 'ws_arome'\n",
       "8. 'p3031_arome'\n",
       "9. 'u10_arome'\n",
       "10. 'v10_arome'\n",
       "11. 't2m_arome'\n",
       "12. 'd2m_arome'\n",
       "13. 'r_arome'\n",
       "14. 'tp_arome_log'\n",
       "15. 'msl_arome'\n",
       "16. 'month2'\n",
       "17. 'month3'\n",
       "18. 'month4'\n",
       "19. 'month5'\n",
       "20. 'month6'\n",
       "21. 'month7'\n",
       "22. 'month8'\n",
       "23. 'month9'\n",
       "24. 'month10'\n",
       "25. 'month11'\n",
       "26. 'month12'\n",
       "\n",
       "\n"
      ],
      "text/plain": [
       " [1] \"ff\"           \"t\"            \"td\"           \"hu\"           \"dd\"          \n",
       " [6] \"precip_log\"   \"ws_arome\"     \"p3031_arome\"  \"u10_arome\"    \"v10_arome\"   \n",
       "[11] \"t2m_arome\"    \"d2m_arome\"    \"r_arome\"      \"tp_arome_log\" \"msl_arome\"   \n",
       "[16] \"month2\"       \"month3\"       \"month4\"       \"month5\"       \"month6\"      \n",
       "[21] \"month7\"       \"month8\"       \"month9\"       \"month10\"      \"month11\"     \n",
       "[26] \"month12\"     "
      ]
     },
     "metadata": {},
     "output_type": "display_data"
    }
   ],
   "source": [
    "exp_var = setdiff(names(train_set), c(\"rain\", \"rain_log\", \"rain_class\"))\n",
    "exp_var"
   ]
  },
  {
   "cell_type": "markdown",
   "metadata": {},
   "source": [
    "#### Model with variables selected by R2 Score"
   ]
  },
  {
   "cell_type": "code",
   "execution_count": 47,
   "metadata": {
    "vscode": {
     "languageId": "r"
    }
   },
   "outputs": [
    {
     "data": {
      "text/plain": [
       "\n",
       "Call:\n",
       "lm(formula = rain ~ td + p3031_arome + u10_arome + msl_arome + \n",
       "    month3 + month5 + month12, data = train_set[, c(exp_var, \n",
       "    \"rain\")])\n",
       "\n",
       "Residuals:\n",
       "    Min      1Q  Median      3Q     Max \n",
       "-9.2680 -1.8857 -0.8714  0.2256 25.1633 \n",
       "\n",
       "Coefficients:\n",
       "            Estimate Std. Error t value Pr(>|t|)    \n",
       "(Intercept)   2.3580     0.1986  11.872  < 2e-16 ***\n",
       "td           -0.5324     0.1817  -2.930  0.00353 ** \n",
       "p3031_arome  -0.5309     0.2863  -1.854  0.06423 .  \n",
       "u10_arome     1.3561     0.3068   4.420 1.19e-05 ***\n",
       "msl_arome    -1.3694     0.1884  -7.267 1.29e-12 ***\n",
       "month3        0.4323     0.6453   0.670  0.50322    \n",
       "month5       -0.5458     0.6237  -0.875  0.38186    \n",
       "month12       1.1060     0.6641   1.666  0.09638 .  \n",
       "---\n",
       "Signif. codes:  0 '***' 0.001 '**' 0.01 '*' 0.05 '.' 0.1 ' ' 1\n",
       "\n",
       "Residual standard error: 4.003 on 542 degrees of freedom\n",
       "Multiple R-squared:  0.2007,\tAdjusted R-squared:  0.1904 \n",
       "F-statistic: 19.44 on 7 and 542 DF,  p-value: < 2.2e-16\n"
      ]
     },
     "metadata": {},
     "output_type": "display_data"
    }
   ],
   "source": [
    "selected.lin.reg = lm(rain ~ td + p3031_arome + u10_arome + msl_arome + month3 + month5 + month12, data = train_set[,c(exp_var, \"rain\")])\n",
    "summary(selected.lin.reg)"
   ]
  },
  {
   "cell_type": "code",
   "execution_count": 48,
   "metadata": {
    "vscode": {
     "languageId": "r"
    }
   },
   "outputs": [
    {
     "name": "stdout",
     "output_type": "stream",
     "text": [
      "[1] \"TRAING ERROR\"\n",
      "[1] \"Mean Square Error :  15.7905851795013\"\n",
      "[1] \"MAPE :  Inf\"\n",
      "[1] \"Confusion matrix\"\n",
      "           true_class\n",
      "pred_class  high_rain low_rain no_rain\n",
      "  high_rain       121       97      49\n",
      "  low_rain         33      125      99\n",
      "  no_rain           1       12      13\n",
      "[1] \"Prediction accuracy :  0.470909090909091\"\n"
     ]
    }
   ],
   "source": [
    "print('TRAING ERROR')\n",
    "print(paste('Mean Square Error : ', MSE(selected.lin.reg$fitted.values, y_train)))\n",
    "print(paste('MAPE : ', MAPE(selected.lin.reg$fitted.values, y_train)))\n",
    "\n",
    "pred_class = to_class(selected.lin.reg$fitted.values, eps = 0.01)\n",
    "confusion_matrix(pred_class, y_train_class)"
   ]
  },
  {
   "cell_type": "code",
   "execution_count": 49,
   "metadata": {
    "vscode": {
     "languageId": "r"
    }
   },
   "outputs": [
    {
     "name": "stdout",
     "output_type": "stream",
     "text": [
      "[1] \"TEST ERROR\"\n",
      "[1] \"Mean Square Error :  19.3827900641636\"\n",
      "[1] \"MAPE :  Inf\"\n",
      "[1] \"Confusion matrix\"\n",
      "           true_class\n",
      "pred_class  high_rain low_rain no_rain\n",
      "  high_rain        30       24      13\n",
      "  low_rain          2       34      32\n",
      "  no_rain           1        0       2\n",
      "[1] \"Prediction accuracy :  0.478260869565217\"\n"
     ]
    }
   ],
   "source": [
    "y_predict = predict(selected.lin.reg, newdata = test_set)\n",
    "\n",
    "print('TEST ERROR')\n",
    "print(paste('Mean Square Error : ', MSE(y_predict, y_test)))\n",
    "print(paste('MAPE : ', MAPE(y_predict, y_test)))\n",
    "\n",
    "pred_class = to_class(y_predict, eps = 0.01)\n",
    "confusion_matrix(pred_class, y_test_class)"
   ]
  },
  {
   "cell_type": "markdown",
   "metadata": {},
   "source": [
    "#### Model with variables selected by Cp"
   ]
  },
  {
   "cell_type": "code",
   "execution_count": 50,
   "metadata": {
    "vscode": {
     "languageId": "r"
    }
   },
   "outputs": [
    {
     "data": {
      "text/plain": [
       "\n",
       "Call:\n",
       "lm(formula = rain ~ td + msl_arome + month5 + month12, data = train_set[, \n",
       "    c(exp_var, \"rain\")])\n",
       "\n",
       "Residuals:\n",
       "    Min      1Q  Median      3Q     Max \n",
       "-9.2605 -1.9671 -0.9591  0.0854 25.7952 \n",
       "\n",
       "Coefficients:\n",
       "            Estimate Std. Error t value Pr(>|t|)    \n",
       "(Intercept)   2.4418     0.1913  12.761   <2e-16 ***\n",
       "td           -0.4049     0.1777  -2.279   0.0230 *  \n",
       "msl_arome    -1.7294     0.1794  -9.639   <2e-16 ***\n",
       "month5       -1.2846     0.6203  -2.071   0.0388 *  \n",
       "month12       1.2513     0.6709   1.865   0.0627 .  \n",
       "---\n",
       "Signif. codes:  0 '***' 0.001 '**' 0.01 '*' 0.05 '.' 0.1 ' ' 1\n",
       "\n",
       "Residual standard error: 4.093 on 545 degrees of freedom\n",
       "Multiple R-squared:  0.1597,\tAdjusted R-squared:  0.1535 \n",
       "F-statistic: 25.89 on 4 and 545 DF,  p-value: < 2.2e-16\n"
      ]
     },
     "metadata": {},
     "output_type": "display_data"
    }
   ],
   "source": [
    "selected.lin.reg = lm(rain ~ td + msl_arome + month5 + month12, data = train_set[,c(exp_var, \"rain\")])\n",
    "summary(selected.lin.reg)"
   ]
  },
  {
   "cell_type": "code",
   "execution_count": 51,
   "metadata": {
    "vscode": {
     "languageId": "r"
    }
   },
   "outputs": [
    {
     "name": "stdout",
     "output_type": "stream",
     "text": [
      "[1] \"TRAING ERROR\"\n",
      "[1] \"Mean Square Error :  16.6007565321759\"\n",
      "[1] \"MAPE :  Inf\"\n"
     ]
    }
   ],
   "source": [
    "print('TRAING ERROR')\n",
    "print(paste('Mean Square Error : ', MSE(selected.lin.reg$fitted.values, y_train)))\n",
    "print(paste('MAPE : ', MAPE(selected.lin.reg$fitted.values, y_train)))"
   ]
  },
  {
   "cell_type": "code",
   "execution_count": 52,
   "metadata": {
    "vscode": {
     "languageId": "r"
    }
   },
   "outputs": [
    {
     "name": "stdout",
     "output_type": "stream",
     "text": [
      "[1] \"TEST ERROR\"\n",
      "[1] \"Mean Square Error :  19.6902803085938\"\n",
      "[1] \"MAPE :  Inf\"\n",
      "[1] \"Confusion matrix\"\n",
      "           true_class\n",
      "pred_class  high_rain low_rain no_rain\n",
      "  high_rain        31       25      20\n",
      "  low_rain          1       32      26\n",
      "  no_rain           1        1       1\n",
      "[1] \"Prediction accuracy :  0.463768115942029\"\n"
     ]
    }
   ],
   "source": [
    "y_predict = predict(selected.lin.reg, newdata = test_set)\n",
    "\n",
    "print('TEST ERROR')\n",
    "print(paste('Mean Square Error : ', MSE(y_predict, y_test)))\n",
    "print(paste('MAPE : ', MAPE(y_predict, y_test)))\n",
    "\n",
    "pred_class = to_class(y_predict, eps = 0.01)\n",
    "confusion_matrix(pred_class, y_test_class)"
   ]
  },
  {
   "cell_type": "markdown",
   "metadata": {},
   "source": [
    "#### Model with variables selected by BIC"
   ]
  },
  {
   "cell_type": "code",
   "execution_count": 53,
   "metadata": {
    "vscode": {
     "languageId": "r"
    }
   },
   "outputs": [
    {
     "data": {
      "text/plain": [
       "\n",
       "Call:\n",
       "lm(formula = rain ~ msl_arome + month12, data = train_set[, c(exp_var, \n",
       "    \"rain\")])\n",
       "\n",
       "Residuals:\n",
       "    Min      1Q  Median      3Q     Max \n",
       "-8.8819 -2.0878 -1.0142  0.3469 26.2930 \n",
       "\n",
       "Coefficients:\n",
       "            Estimate Std. Error t value Pr(>|t|)    \n",
       "(Intercept)   2.2958     0.1832  12.533   <2e-16 ***\n",
       "msl_arome    -1.7035     0.1799  -9.467   <2e-16 ***\n",
       "month12       1.6843     0.6596   2.553   0.0109 *  \n",
       "---\n",
       "Signif. codes:  0 '***' 0.001 '**' 0.01 '*' 0.05 '.' 0.1 ' ' 1\n",
       "\n",
       "Residual standard error: 4.124 on 547 degrees of freedom\n",
       "Multiple R-squared:  0.1436,\tAdjusted R-squared:  0.1405 \n",
       "F-statistic: 45.87 on 2 and 547 DF,  p-value: < 2.2e-16\n"
      ]
     },
     "metadata": {},
     "output_type": "display_data"
    }
   ],
   "source": [
    "selected.lin.reg = lm(rain ~ msl_arome + month12, data = train_set[,c(exp_var, \"rain\")])\n",
    "summary(selected.lin.reg)"
   ]
  },
  {
   "cell_type": "code",
   "execution_count": 54,
   "metadata": {
    "vscode": {
     "languageId": "r"
    }
   },
   "outputs": [
    {
     "name": "stdout",
     "output_type": "stream",
     "text": [
      "[1] \"TRAING ERROR\"\n",
      "[1] \"Mean Square Error :  16.9178860456835\"\n",
      "[1] \"MAPE :  Inf\"\n"
     ]
    }
   ],
   "source": [
    "print('TRAING ERROR')\n",
    "print(paste('Mean Square Error : ', MSE(selected.lin.reg$fitted.values, y_train)))\n",
    "print(paste('MAPE : ', MAPE(selected.lin.reg$fitted.values, y_train)))"
   ]
  },
  {
   "cell_type": "code",
   "execution_count": 55,
   "metadata": {
    "vscode": {
     "languageId": "r"
    }
   },
   "outputs": [
    {
     "name": "stdout",
     "output_type": "stream",
     "text": [
      "[1] \"TEST ERROR\"\n",
      "[1] \"Mean Square Error :  19.4248301397696\"\n",
      "[1] \"MAPE :  Inf\"\n",
      "[1] \"Confusion matrix\"\n",
      "           true_class\n",
      "pred_class  high_rain low_rain no_rain\n",
      "  high_rain        30       25      21\n",
      "  low_rain          3       33      24\n",
      "  no_rain           0        0       2\n",
      "[1] \"Prediction accuracy :  0.471014492753623\"\n"
     ]
    }
   ],
   "source": [
    "y_predict = predict(selected.lin.reg, newdata = test_set)\n",
    "\n",
    "print('TEST ERROR')\n",
    "print(paste('Mean Square Error : ', MSE(y_predict, y_test)))\n",
    "print(paste('MAPE : ', MAPE(y_predict, y_test)))\n",
    "\n",
    "pred_class = to_class(y_predict, eps = 0.01)\n",
    "confusion_matrix(pred_class, y_test_class)"
   ]
  },
  {
   "cell_type": "markdown",
   "metadata": {},
   "source": [
    "    This is the simplest model since the beginning with just 2 explicative variables but \n",
    "    we got the smallest MAPE in the test set from the beginning.\n",
    "\n",
    "    Simple makes perfect!"
   ]
  },
  {
   "cell_type": "markdown",
   "metadata": {},
   "source": [
    "## 2. Linear regression with penalty - Rigde and Lasso"
   ]
  },
  {
   "cell_type": "markdown",
   "metadata": {},
   "source": [
    "    we have seen in the last section that the transformation to `rain_log` does not perform well as we expected. So in the following sections, we just use the `rain` as the reponse variable"
   ]
  },
  {
   "cell_type": "code",
   "execution_count": 56,
   "metadata": {
    "vscode": {
     "languageId": "r"
    }
   },
   "outputs": [],
   "source": [
    "exp_var = setdiff(names(train_set), c(\"rain\", \"rain_log\", \"rain_class\"))\n",
    "x_train = as.matrix(train_set[,exp_var])\n",
    "x_test = as.matrix(test_set[, exp_var])\n",
    "n_var = length(exp_var)"
   ]
  },
  {
   "cell_type": "code",
   "execution_count": 57,
   "metadata": {
    "vscode": {
     "languageId": "r"
    }
   },
   "outputs": [],
   "source": [
    "regularisation_path = function(model){\n",
    "    df = data.frame(\n",
    "        lambda = rep(model$lambda, n_var),\n",
    "        theta = as.vector(t(model$beta)),\n",
    "        variables = rep(exp_var, each = length(model$lambda))\n",
    "    )\n",
    "\n",
    "    plt = ggplot(df, aes(x = lambda, y = theta, col = variables)) +\n",
    "    geom_line() +\n",
    "    theme(legend.position = \"bottom\") + theme_minimal()\n",
    "    return(plt)    \n",
    "}"
   ]
  },
  {
   "cell_type": "code",
   "execution_count": 58,
   "metadata": {
    "vscode": {
     "languageId": "r"
    }
   },
   "outputs": [],
   "source": [
    "param_plot = function(coef){\n",
    "    names = rownames(coef)\n",
    "    str = coef[1:length(coef)]\n",
    "    ord = order(str)\n",
    "    df = data.frame(theta = names[ord], strength = str[ord])\n",
    "    df$theta = factor(df$theta, levels = df$theta)\n",
    "\n",
    "    ggplot(data = df, aes(x = theta, y = strength)) + \n",
    "        geom_bar(stat = \"identity\", fill = \"steelblue\") +\n",
    "        coord_flip() +\n",
    "        theme_minimal()\n",
    "}"
   ]
  },
  {
   "cell_type": "markdown",
   "metadata": {},
   "source": [
    "### 2.1. Ridge Regression "
   ]
  },
  {
   "cell_type": "markdown",
   "metadata": {},
   "source": [
    "We will fit a Ridge regression model using `glmnet` package, by varying the hyper-parameter `lambda` over the interval $[0,1]$ with a step of $0.001$"
   ]
  },
  {
   "cell_type": "code",
   "execution_count": 59,
   "metadata": {
    "vscode": {
     "languageId": "r"
    }
   },
   "outputs": [
    {
     "data": {
      "text/plain": [
       "          Length Class     Mode   \n",
       "a0         10001 -none-    numeric\n",
       "beta      260026 dgCMatrix S4     \n",
       "df         10001 -none-    numeric\n",
       "dim            2 -none-    numeric\n",
       "lambda     10001 -none-    numeric\n",
       "dev.ratio  10001 -none-    numeric\n",
       "nulldev        1 -none-    numeric\n",
       "npasses        1 -none-    numeric\n",
       "jerr           1 -none-    numeric\n",
       "offset         1 -none-    logical\n",
       "call           6 -none-    call   \n",
       "nobs           1 -none-    numeric"
      ]
     },
     "metadata": {},
     "output_type": "display_data"
    }
   ],
   "source": [
    "lambda_seq = seq(0, 100, by = 0.01)\n",
    "reg.ridge = glmnet(x = x_train, y = y_train, alpha = 0, lambda = lambda_seq, standardize = TRUE)\n",
    "summary(reg.ridge)"
   ]
  },
  {
   "cell_type": "markdown",
   "metadata": {},
   "source": [
    "We plot as below the regularisation paths, i.e the function $\\lambda \\mapsto \\hat{\\theta}_\\text{ridge}(\\lambda) $"
   ]
  },
  {
   "cell_type": "code",
   "execution_count": 60,
   "metadata": {
    "vscode": {
     "languageId": "r"
    }
   },
   "outputs": [],
   "source": [
    "plt.ridge = regularisation_path(reg.ridge)\n",
    "# ggplotly(plt.ridge)"
   ]
  },
  {
   "cell_type": "markdown",
   "metadata": {},
   "source": [
    "Now we'll use the cross validation method in order to select the best $\\lambda$ by MSE"
   ]
  },
  {
   "cell_type": "code",
   "execution_count": 61,
   "metadata": {
    "vscode": {
     "languageId": "r"
    }
   },
   "outputs": [
    {
     "data": {
      "text/html": [
       "0.94"
      ],
      "text/latex": [
       "0.94"
      ],
      "text/markdown": [
       "0.94"
      ],
      "text/plain": [
       "[1] 0.94"
      ]
     },
     "metadata": {},
     "output_type": "display_data"
    },
    {
     "data": {
      "text/html": [
       "44.76"
      ],
      "text/latex": [
       "44.76"
      ],
      "text/markdown": [
       "44.76"
      ],
      "text/plain": [
       "[1] 44.76"
      ]
     },
     "metadata": {},
     "output_type": "display_data"
    }
   ],
   "source": [
    "ridge_cv <- cv.glmnet(x = x_train, y = y_train, alpha = 0, lambda = lambda_seq, standardize = TRUE)\n",
    "ridge_cv$lambda.min\n",
    "ridge_cv$lambda.1se\n"
   ]
  },
  {
   "cell_type": "code",
   "execution_count": 62,
   "metadata": {
    "vscode": {
     "languageId": "r"
    }
   },
   "outputs": [],
   "source": [
    "# plot(ridge_cv)"
   ]
  },
  {
   "cell_type": "markdown",
   "metadata": {},
   "source": [
    "So the best $\\lambda$ is ..."
   ]
  },
  {
   "cell_type": "code",
   "execution_count": 63,
   "metadata": {
    "vscode": {
     "languageId": "r"
    }
   },
   "outputs": [],
   "source": [
    "plt.ridge = plt.ridge + \n",
    "  geom_vline(xintercept = ridge_cv$lambda.min, color = \"black\", size=.8) +\n",
    "  geom_vline(xintercept = ridge_cv$lambda.1se, color = \"black\", size=.8) +\n",
    "  xlim(c(0,ridge_cv$lambda.1se + 0.1))\n",
    "# ggplotly(plt.ridge)"
   ]
  },
  {
   "cell_type": "markdown",
   "metadata": {},
   "source": [
    "#### Get the best Ridge model from cross-validation"
   ]
  },
  {
   "cell_type": "code",
   "execution_count": 64,
   "metadata": {
    "vscode": {
     "languageId": "r"
    }
   },
   "outputs": [],
   "source": [
    "ridge.lamb.min = ridge_cv$lambda.min\n",
    "ridge.lamb.1se = ridge_cv$lambda.1se\n",
    "\n",
    "best.ridge.reg = glmnet(x = x_train, y = y_train, alpha = 0, standardize = TRUE)\n",
    "\n",
    "coef.ridge.min <- coef(best.ridge.reg, s = ridge.lamb.min, exact = TRUE, x = x_train, y = y_train)\n",
    "coef.ridge.1se <- coef(best.ridge.reg, s = ridge.lamb.1se, exact = TRUE, x = x_train, y = y_train)"
   ]
  },
  {
   "cell_type": "code",
   "execution_count": 65,
   "metadata": {
    "vscode": {
     "languageId": "r"
    }
   },
   "outputs": [
    {
     "data": {
      "image/png": "[encoded data removed]",
      "text/plain": [
       "plot without title"
      ]
     },
     "metadata": {
      "image/png": {
       "height": 600,
       "width": 1200
      }
     },
     "output_type": "display_data"
    }
   ],
   "source": [
    "param_plot(coef.ridge.min)"
   ]
  },
  {
   "cell_type": "code",
   "execution_count": 66,
   "metadata": {
    "vscode": {
     "languageId": "r"
    }
   },
   "outputs": [
    {
     "data": {
      "image/png": "[encoded data removed]",
      "text/plain": [
       "plot without title"
      ]
     },
     "metadata": {
      "image/png": {
       "height": 600,
       "width": 1200
      }
     },
     "output_type": "display_data"
    }
   ],
   "source": [
    "param_plot(coef.ridge.1se)"
   ]
  },
  {
   "cell_type": "markdown",
   "metadata": {},
   "source": [
    "#### Performance of Rigde Regression"
   ]
  },
  {
   "cell_type": "code",
   "execution_count": 67,
   "metadata": {
    "vscode": {
     "languageId": "r"
    }
   },
   "outputs": [],
   "source": [
    "y_predict_train_min = predict(best.ridge.reg, newx = x_train, type = 'response' , s = ridge.lamb.min)\n",
    "y_predict_test_min = predict(best.ridge.reg, newx = x_test, type = 'response' , s = ridge.lamb.min)\n",
    "\n",
    "y_predict_train_1se = predict(best.ridge.reg, newx = x_train, type = 'response' , s = ridge.lamb.1se)\n",
    "y_predict_test_1se = predict(best.ridge.reg, newx = x_test, type = 'response' , s = ridge.lamb.1se)"
   ]
  },
  {
   "cell_type": "code",
   "execution_count": 68,
   "metadata": {
    "vscode": {
     "languageId": "r"
    }
   },
   "outputs": [
    {
     "name": "stdout",
     "output_type": "stream",
     "text": [
      "[1] \"TRAINING ERROR LAMBDA MIN\"\n",
      "[1] \"Mean Square Error :  14.8481104299755\"\n",
      "[1] \"MAPE :  Inf\"\n",
      "[1] \"Confusion matrix\"\n",
      "           true_class\n",
      "pred_class  high_rain low_rain no_rain\n",
      "  high_rain       127      106      50\n",
      "  low_rain         28       96      94\n",
      "  no_rain           0       32      17\n",
      "[1] \"Prediction accuracy :  0.436363636363636\"\n"
     ]
    }
   ],
   "source": [
    "print('TRAINING ERROR LAMBDA MIN')\n",
    "print(paste('Mean Square Error : ', MSE(y_predict_train_min, y_train)))\n",
    "print(paste('MAPE : ', MAPE(y_predict_train_min, y_train)))\n",
    "\n",
    "pred_class = to_class(y_predict_train_min, eps = 0.01)\n",
    "confusion_matrix(pred_class, y_train_class)"
   ]
  },
  {
   "cell_type": "code",
   "execution_count": 69,
   "metadata": {
    "vscode": {
     "languageId": "r"
    }
   },
   "outputs": [
    {
     "name": "stdout",
     "output_type": "stream",
     "text": [
      "[1] \"TRAINING ERROR LAMBDA 1SE\"\n",
      "[1] \"Mean Square Error :  17.7550270695765\"\n",
      "[1] \"MAPE :  Inf\"\n",
      "[1] \"Confusion matrix\"\n",
      "           true_class\n",
      "pred_class  high_rain low_rain no_rain\n",
      "  high_rain       139      157      96\n",
      "  low_rain         16       77      65\n",
      "[1] \"Prediction accuracy :  0.392727272727273\"\n"
     ]
    }
   ],
   "source": [
    "print('TRAINING ERROR LAMBDA 1SE')\n",
    "print(paste('Mean Square Error : ', MSE(y_predict_train_1se, y_train)))\n",
    "print(paste('MAPE : ', MAPE(y_predict_train_1se, y_train)))\n",
    "\n",
    "pred_class = to_class(y_predict_train_1se, eps = 0.01)\n",
    "confusion_matrix(pred_class, y_train_class)\n",
    "\n"
   ]
  },
  {
   "cell_type": "code",
   "execution_count": 70,
   "metadata": {
    "vscode": {
     "languageId": "r"
    }
   },
   "outputs": [
    {
     "name": "stdout",
     "output_type": "stream",
     "text": [
      "[1] \"TEST ERROR MIN\"\n",
      "[1] \"Mean Square Error :  20.5666383694781\"\n",
      "[1] \"MAPE :  Inf\"\n",
      "[1] \"Confusion matrix\"\n",
      "           true_class\n",
      "pred_class  high_rain low_rain no_rain\n",
      "  high_rain        30       27      19\n",
      "  low_rain          1       30      25\n",
      "  no_rain           2        1       3\n",
      "[1] \"Prediction accuracy :  0.456521739130435\"\n"
     ]
    }
   ],
   "source": [
    "print('TEST ERROR MIN')\n",
    "print(paste('Mean Square Error : ', MSE(y_predict_test_min, y_test)))\n",
    "print(paste('MAPE : ', MAPE(y_predict_test_min, y_test)))\n",
    "\n",
    "pred_class = to_class(y_predict_test_min, eps = 0.01)\n",
    "confusion_matrix(pred_class, y_test_class)"
   ]
  },
  {
   "cell_type": "code",
   "execution_count": 71,
   "metadata": {
    "vscode": {
     "languageId": "r"
    }
   },
   "outputs": [
    {
     "name": "stdout",
     "output_type": "stream",
     "text": [
      "[1] \"TEST ERROR 1SE\"\n",
      "[1] \"Mean Square Error :  23.5581119670247\"\n",
      "[1] \"MAPE :  Inf\"\n",
      "[1] \"Confusion matrix\"\n",
      "           true_class\n",
      "pred_class  high_rain low_rain no_rain\n",
      "  high_rain       127      106      50\n",
      "  low_rain         28       96      94\n",
      "  no_rain           0       32      17\n",
      "[1] \"Prediction accuracy :  0.436363636363636\"\n",
      "[1] \"Confusion matrix\"\n",
      "           true_class\n",
      "pred_class  high_rain low_rain no_rain\n",
      "  high_rain       139      157      96\n",
      "  low_rain         16       77      65\n",
      "[1] \"Prediction accuracy :  0.392727272727273\"\n",
      "[1] \"Confusion matrix\"\n",
      "           true_class\n",
      "pred_class  high_rain low_rain no_rain\n",
      "  high_rain        30       27      19\n",
      "  low_rain          1       30      25\n",
      "  no_rain           2        1       3\n",
      "[1] \"Prediction accuracy :  0.456521739130435\"\n",
      "[1] \"Confusion matrix\"\n",
      "           true_class\n",
      "pred_class  high_rain low_rain no_rain\n",
      "  high_rain        31       42      30\n",
      "  low_rain          2       16      17\n",
      "[1] \"Prediction accuracy :  0.340579710144928\"\n"
     ]
    }
   ],
   "source": [
    "print('TEST ERROR 1SE')\n",
    "print(paste('Mean Square Error : ', MSE(y_predict_test_1se, y_test)))\n",
    "print(paste('MAPE : ', MAPE(y_predict_test_1se, y_test)))\n",
    "\n",
    "pred_class = to_class(y_predict_train_min, eps = 0.01)\n",
    "confusion_matrix(pred_class, y_train_class)\n",
    "\n",
    "pred_class = to_class(y_predict_train_1se, eps = 0.01)\n",
    "confusion_matrix(pred_class, y_train_class)\n",
    "\n",
    "pred_class = to_class(y_predict_test_min, eps = 0.01)\n",
    "confusion_matrix(pred_class, y_test_class)\n",
    "\n",
    "pred_class = to_class(y_predict_test_1se, eps = 0.01)\n",
    "confusion_matrix(pred_class, y_test_class)"
   ]
  },
  {
   "cell_type": "markdown",
   "metadata": {},
   "source": [
    "### 2.2. Lasso Regression"
   ]
  },
  {
   "cell_type": "markdown",
   "metadata": {},
   "source": [
    "The idea of LASSO (Least Absolute Selection and Shrinkage Operator) Regression is to try to cancel some coefficients of $\\theta$ to have a sparse estimator. Mathematically, we add a $l_1$ constraint to our optimization problem.\n",
    "\n",
    "We proceed this with the same approach as Ridge Regression, with a notice that `alpha = 1` means Lasso regression."
   ]
  },
  {
   "cell_type": "code",
   "execution_count": 72,
   "metadata": {
    "vscode": {
     "languageId": "r"
    }
   },
   "outputs": [
    {
     "data": {
      "text/plain": [
       "          Length Class     Mode   \n",
       "a0         2001  -none-    numeric\n",
       "beta      52026  dgCMatrix S4     \n",
       "df         2001  -none-    numeric\n",
       "dim           2  -none-    numeric\n",
       "lambda     2001  -none-    numeric\n",
       "dev.ratio  2001  -none-    numeric\n",
       "nulldev       1  -none-    numeric\n",
       "npasses       1  -none-    numeric\n",
       "jerr          1  -none-    numeric\n",
       "offset        1  -none-    logical\n",
       "call          6  -none-    call   \n",
       "nobs          1  -none-    numeric"
      ]
     },
     "metadata": {},
     "output_type": "display_data"
    }
   ],
   "source": [
    "lambda_seq = seq(0, 2, by = 0.001)\n",
    "reg.lasso <- glmnet(x = x_train, y = y_train, alpha = 1, lambda = lambda_seq, standardize=TRUE)\n",
    "summary(reg.lasso)"
   ]
  },
  {
   "cell_type": "code",
   "execution_count": 73,
   "metadata": {
    "vscode": {
     "languageId": "r"
    }
   },
   "outputs": [],
   "source": [
    "plt.lasso = regularisation_path(reg.lasso)\n",
    "# ggplotly(plt.lasso)"
   ]
  },
  {
   "cell_type": "code",
   "execution_count": 137,
   "metadata": {
    "vscode": {
     "languageId": "r"
    }
   },
   "outputs": [
    {
     "data": {
      "text/html": [
       "0.153"
      ],
      "text/latex": [
       "0.153"
      ],
      "text/markdown": [
       "0.153"
      ],
      "text/plain": [
       "[1] 0.153"
      ]
     },
     "metadata": {},
     "output_type": "display_data"
    },
    {
     "data": {
      "text/html": [
       "0.943"
      ],
      "text/latex": [
       "0.943"
      ],
      "text/markdown": [
       "0.943"
      ],
      "text/plain": [
       "[1] 0.943"
      ]
     },
     "metadata": {},
     "output_type": "display_data"
    }
   ],
   "source": [
    "lasso_cv <- cv.glmnet(x = x_train, y = y_train, alpha=1, lambda=lambda_seq, standardize=TRUE)\n",
    "lasso_cv$lambda.min\n",
    "lasso_cv$lambda.1se"
   ]
  },
  {
   "cell_type": "code",
   "execution_count": 138,
   "metadata": {
    "vscode": {
     "languageId": "r"
    }
   },
   "outputs": [
    {
     "data": {
      "image/png": "[encoded data removed]",
      "text/plain": [
       "plot without title"
      ]
     },
     "metadata": {
      "image/png": {
       "height": 600,
       "width": 1200
      }
     },
     "output_type": "display_data"
    }
   ],
   "source": [
    "plot(lasso_cv)"
   ]
  },
  {
   "cell_type": "code",
   "execution_count": 140,
   "metadata": {
    "vscode": {
     "languageId": "r"
    }
   },
   "outputs": [
    {
     "name": "stderr",
     "output_type": "stream",
     "text": [
      "Scale for 'x' is already present. Adding another scale for 'x', which will\n",
      "replace the existing scale.\n",
      "\n"
     ]
    }
   ],
   "source": [
    "plt.lasso = plt.lasso + \n",
    "  geom_vline(xintercept = lasso_cv$lambda.min, color = \"black\", size=.8) +\n",
    "  geom_text(aes(x=lasso_cv$lambda.min, label=\"\\nlambda.min\", y=20), colour=\"black\", angle=90, text=element_text(size=11)) +\n",
    "  geom_vline(xintercept = lasso_cv$lambda.1se, color = \"red\", size=.8) +\n",
    "  geom_text(aes(x=lasso_cv$lambda.1se, label=\"\\nlambda.1se\", y=20), colour=\"red\", angle=90, text=element_text(size=11)) +\n",
    "  xlim(c(0,lasso_cv$lambda.1se+0.5))\n",
    "# ggplotly(plt.lasso)"
   ]
  },
  {
   "cell_type": "markdown",
   "metadata": {},
   "source": [
    "#### Get the best Lasso model from cross-validation"
   ]
  },
  {
   "cell_type": "code",
   "execution_count": 141,
   "metadata": {
    "vscode": {
     "languageId": "r"
    }
   },
   "outputs": [],
   "source": [
    "best.lasso.reg = glmnet(x = x_train, y = y_train, alpha = 0, standardize = TRUE)\n",
    "\n",
    "lasso.lamb.min = lasso_cv$lambda.min\n",
    "lasso.lamb.1se = lasso_cv$lambda.1se\n",
    "\n",
    "coef.lasso.min <- coef(best.lasso.reg, s = lasso.lamb.min, exact = TRUE, x = x_train, y = y_train)\n",
    "coef.lasso.1se <- coef(best.lasso.reg, s = lasso.lamb.1se, exact = TRUE, x = x_train, y = y_train)\n",
    "\n"
   ]
  },
  {
   "cell_type": "code",
   "execution_count": 142,
   "metadata": {
    "vscode": {
     "languageId": "r"
    }
   },
   "outputs": [
    {
     "data": {
      "image/png": "[encoded data removed]",
      "text/plain": [
       "plot without title"
      ]
     },
     "metadata": {
      "image/png": {
       "height": 600,
       "width": 1200
      }
     },
     "output_type": "display_data"
    }
   ],
   "source": [
    "param_plot(coef.lasso.min)"
   ]
  },
  {
   "cell_type": "code",
   "execution_count": 143,
   "metadata": {
    "vscode": {
     "languageId": "r"
    }
   },
   "outputs": [
    {
     "data": {
      "image/png": "[encoded data removed]",
      "text/plain": [
       "plot without title"
      ]
     },
     "metadata": {
      "image/png": {
       "height": 600,
       "width": 1200
      }
     },
     "output_type": "display_data"
    }
   ],
   "source": [
    "param_plot(coef.lasso.1se)"
   ]
  },
  {
   "cell_type": "markdown",
   "metadata": {},
   "source": [
    "#### Performance of LASSO Regression"
   ]
  },
  {
   "cell_type": "code",
   "execution_count": 144,
   "metadata": {
    "vscode": {
     "languageId": "r"
    }
   },
   "outputs": [],
   "source": [
    "y_predict_train_min = predict(best.lasso.reg, newx = x_train, type = 'response' , s = lasso.lamb.min)\n",
    "y_predict_test_min = predict(best.lasso.reg, newx = x_test, type = 'response' , s = lasso.lamb.min)\n",
    "\n",
    "y_predict_train_1se = predict(best.lasso.reg, newx = x_train, type = 'response' , s = lasso.lamb.1se)\n",
    "y_predict_test_1se = predict(best.lasso.reg, newx = x_test, type = 'response' , s = lasso.lamb.1se)"
   ]
  },
  {
   "cell_type": "code",
   "execution_count": 145,
   "metadata": {
    "vscode": {
     "languageId": "r"
    }
   },
   "outputs": [
    {
     "name": "stdout",
     "output_type": "stream",
     "text": [
      "[1] \"Regression Metrics : \"\n",
      "[1] \"Mean Absolute Percentage Error :  662360496141.338\"\n",
      "[1] \"Mean squared Error :  20.7471308242912\"\n",
      "[1] \"Mean Absolute Error :  2.60913256476857\"\n",
      "[1] \"R2 Score :  0.201179553593557\"\n",
      "[1] \"Confusion matrix\"\n",
      "           true_class\n",
      "pred_class  high_rain low_rain no_rain\n",
      "  high_rain        29       28      20\n",
      "  low_rain          2       27      21\n",
      "  no_rain           2        3       6\n",
      "[1] \"Prediction accuracy :  0.449275362318841\"\n",
      "[1] \"Regression Metrics : \"\n",
      "[1] \"Mean Absolute Percentage Error :  647412006381.246\"\n",
      "[1] \"Mean squared Error :  20.5667071804902\"\n",
      "[1] \"Mean Absolute Error :  2.56163832721096\"\n",
      "[1] \"R2 Score :  0.208126350088167\"\n",
      "[1] \"Confusion matrix\"\n",
      "           true_class\n",
      "pred_class  high_rain low_rain no_rain\n",
      "  high_rain        30       27      19\n",
      "  low_rain          1       30      25\n",
      "  no_rain           2        1       3\n",
      "[1] \"Prediction accuracy :  0.456521739130435\"\n"
     ]
    }
   ],
   "source": [
    "regression_metric(y_test, y_predict_test_min)\n",
    "pred_class = to_class(y_predict_test_min, eps = 0.01)\n",
    "confusion_matrix(pred_class, y_test_class)\n",
    "\n",
    "regression_metric(y_test, y_predict_test_1se)\n",
    "pred_class = to_class(y_predict_test_1se, eps = 0.01)\n",
    "confusion_matrix(pred_class, y_test_class)"
   ]
  },
  {
   "cell_type": "code",
   "execution_count": 82,
   "metadata": {
    "vscode": {
     "languageId": "r"
    }
   },
   "outputs": [
    {
     "name": "stdout",
     "output_type": "stream",
     "text": [
      "[1] \"TRAINING ERROR MIN\"\n",
      "[1] \"Mean Square Error :  14.6293041417416\"\n",
      "[1] \"MAPE :  Inf\"\n"
     ]
    }
   ],
   "source": [
    "print('TRAINING ERROR MIN')\n",
    "print(paste('Mean Square Error : ', MSE(y_predict_train_min, y_train)))\n",
    "print(paste('MAPE : ', MAPE(y_predict_train_min, y_train)))"
   ]
  },
  {
   "cell_type": "code",
   "execution_count": 83,
   "metadata": {
    "vscode": {
     "languageId": "r"
    }
   },
   "outputs": [
    {
     "name": "stdout",
     "output_type": "stream",
     "text": [
      "[1] \"TRAINING ERROR \"\n",
      "[1] \"Mean Square Error :  14.8299020421406\"\n",
      "[1] \"MAPE :  Inf\"\n"
     ]
    }
   ],
   "source": [
    "print('TRAINING ERROR ')\n",
    "print(paste('Mean Square Error : ', MSE(y_predict_train_1se, y_train)))\n",
    "print(paste('MAPE : ', MAPE(y_predict_train_1se, y_train)))"
   ]
  },
  {
   "cell_type": "code",
   "execution_count": 84,
   "metadata": {
    "vscode": {
     "languageId": "r"
    }
   },
   "outputs": [
    {
     "name": "stdout",
     "output_type": "stream",
     "text": [
      "[1] \"TEST ERROR MIN\"\n",
      "[1] \"Mean Square Error :  20.7305547034728\"\n",
      "[1] \"MAPE :  Inf\"\n"
     ]
    }
   ],
   "source": [
    "print('TEST ERROR MIN')\n",
    "print(paste('Mean Square Error : ', MSE(y_predict_test_min, y_test)))\n",
    "print(paste('MAPE : ', MAPE(y_predict_test_min, y_test)))"
   ]
  },
  {
   "cell_type": "code",
   "execution_count": 85,
   "metadata": {
    "vscode": {
     "languageId": "r"
    }
   },
   "outputs": [
    {
     "name": "stdout",
     "output_type": "stream",
     "text": [
      "[1] \"TEST ERROR 1SE\"\n",
      "[1] \"Mean Square Error :  20.5656087857771\"\n",
      "[1] \"MAPE :  Inf\"\n"
     ]
    }
   ],
   "source": [
    "print('TEST ERROR 1SE')\n",
    "print(paste('Mean Square Error : ', MSE(y_predict_test_1se, y_test)))\n",
    "print(paste('MAPE : ', MAPE(y_predict_test_1se, y_test)))"
   ]
  },
  {
   "cell_type": "markdown",
   "metadata": {},
   "source": [
    "### 2.3. Elastic-Net Regression"
   ]
  },
  {
   "cell_type": "markdown",
   "metadata": {},
   "source": [
    "Elastic-Net regression combines the advantages of ridge regression and Lasso regression"
   ]
  },
  {
   "cell_type": "markdown",
   "metadata": {},
   "source": [
    "    Firstly we will fit a Elastic-Net with `alpha = 0.5`"
   ]
  },
  {
   "cell_type": "code",
   "execution_count": 86,
   "metadata": {
    "vscode": {
     "languageId": "r"
    }
   },
   "outputs": [
    {
     "data": {
      "text/plain": [
       "          Length Class     Mode   \n",
       "a0         2001  -none-    numeric\n",
       "beta      52026  dgCMatrix S4     \n",
       "df         2001  -none-    numeric\n",
       "dim           2  -none-    numeric\n",
       "lambda     2001  -none-    numeric\n",
       "dev.ratio  2001  -none-    numeric\n",
       "nulldev       1  -none-    numeric\n",
       "npasses       1  -none-    numeric\n",
       "jerr          1  -none-    numeric\n",
       "offset        1  -none-    logical\n",
       "call          6  -none-    call   \n",
       "nobs          1  -none-    numeric"
      ]
     },
     "metadata": {},
     "output_type": "display_data"
    }
   ],
   "source": [
    "lambda_seq = seq(0, 2, by = 0.001)\n",
    "reg.elas.net <- glmnet(x = x_train, y = y_train, alpha = .5, lambda=lambda_seq, standardize=TRUE)\n",
    "summary(reg.elas.net)"
   ]
  },
  {
   "cell_type": "code",
   "execution_count": 87,
   "metadata": {
    "vscode": {
     "languageId": "r"
    }
   },
   "outputs": [],
   "source": [
    "plt.net = regularisation_path(reg.elas.net)\n",
    "# ggplotly(plt.net)"
   ]
  },
  {
   "cell_type": "code",
   "execution_count": 88,
   "metadata": {
    "vscode": {
     "languageId": "r"
    }
   },
   "outputs": [
    {
     "data": {
      "text/html": [
       "0.272"
      ],
      "text/latex": [
       "0.272"
      ],
      "text/markdown": [
       "0.272"
      ],
      "text/plain": [
       "[1] 0.272"
      ]
     },
     "metadata": {},
     "output_type": "display_data"
    },
    {
     "data": {
      "text/html": [
       "2"
      ],
      "text/latex": [
       "2"
      ],
      "text/markdown": [
       "2"
      ],
      "text/plain": [
       "[1] 2"
      ]
     },
     "metadata": {},
     "output_type": "display_data"
    }
   ],
   "source": [
    "net_cv <- cv.glmnet(x = x_train, y = y_train, alpha=.5, lambda = lambda_seq, standardize=TRUE)\n",
    "net_cv$lambda.min\n",
    "net_cv$lambda.1se"
   ]
  },
  {
   "cell_type": "code",
   "execution_count": 89,
   "metadata": {
    "vscode": {
     "languageId": "r"
    }
   },
   "outputs": [
    {
     "name": "stderr",
     "output_type": "stream",
     "text": [
      "Warning message:\n",
      "\"Ignoring unknown parameters: text\"\n",
      "Warning message:\n",
      "\"Ignoring unknown parameters: text\"\n"
     ]
    }
   ],
   "source": [
    "plt.net = plt.net + \n",
    "  geom_vline(xintercept = net_cv$lambda.min, color = \"black\", size=.8) +\n",
    "  geom_text(aes(x=net_cv$lambda.min, label=\"\\nlambda.min\", y=20), colour=\"black\", angle=90, text=element_text(size=11)) +\n",
    "  geom_vline(xintercept = net_cv$lambda.1se, color = \"red\", size=.8) +\n",
    "  geom_text(aes(x=net_cv$lambda.1se, label=\"\\nlambda.1se\", y=20), colour=\"red\", angle=90, text=element_text(size=11)) +\n",
    "  xlim(c(0,net_cv$lambda.1se + 0.2))\n",
    "# ggplotly(plt.net)"
   ]
  },
  {
   "cell_type": "markdown",
   "metadata": {},
   "source": [
    "#### Get the best Elastic-Net model from cross-validation"
   ]
  },
  {
   "cell_type": "code",
   "execution_count": 90,
   "metadata": {
    "vscode": {
     "languageId": "r"
    }
   },
   "outputs": [],
   "source": [
    "net.lamb.min = net_cv$lambda.min\n",
    "net.lamb.1se = net_cv$lambda.1se\n",
    "\n",
    "best.elas.net = glmnet(x = x_train, y = y_train, alpha = 0.5, standardize = TRUE)\n",
    "\n",
    "coef.net.min <- coef(best.elas.net, s = net.lamb.min, exact = TRUE, x = x_train, y = y_train)\n",
    "coef.net.1se <- coef(best.elas.net, s = net.lamb.1se, exact = TRUE, x = x_train, y = y_train)\n"
   ]
  },
  {
   "cell_type": "code",
   "execution_count": 91,
   "metadata": {
    "vscode": {
     "languageId": "r"
    }
   },
   "outputs": [
    {
     "data": {
      "image/png": "[encoded data removed]",
      "text/plain": [
       "plot without title"
      ]
     },
     "metadata": {
      "image/png": {
       "height": 600,
       "width": 1200
      }
     },
     "output_type": "display_data"
    }
   ],
   "source": [
    "param_plot(coef.net.min)"
   ]
  },
  {
   "cell_type": "code",
   "execution_count": 92,
   "metadata": {
    "vscode": {
     "languageId": "r"
    }
   },
   "outputs": [
    {
     "data": {
      "image/png": "[encoded data removed]",
      "text/plain": [
       "plot without title"
      ]
     },
     "metadata": {
      "image/png": {
       "height": 600,
       "width": 1200
      }
     },
     "output_type": "display_data"
    }
   ],
   "source": [
    "param_plot(coef.net.1se)"
   ]
  },
  {
   "cell_type": "markdown",
   "metadata": {},
   "source": [
    "#### Performance of Elastic-Net Regression"
   ]
  },
  {
   "cell_type": "code",
   "execution_count": 93,
   "metadata": {
    "vscode": {
     "languageId": "r"
    }
   },
   "outputs": [],
   "source": [
    "y_predict_train_min = predict(best.elas.net, newx = x_train, type = 'response' , s = net.lamb.min)\n",
    "y_predict_test_min = predict(best.elas.net, newx = x_test, type = 'response' , s = net.lamb.min)\n",
    "\n",
    "y_predict_train_1se = predict(best.elas.net, newx = x_train, type = 'response' , s = net.lamb.1se)\n",
    "y_predict_test_1se = predict(best.elas.net, newx = x_test, type = 'response' , s = net.lamb.1se)"
   ]
  },
  {
   "cell_type": "code",
   "execution_count": 94,
   "metadata": {
    "vscode": {
     "languageId": "r"
    }
   },
   "outputs": [
    {
     "name": "stdout",
     "output_type": "stream",
     "text": [
      "[1] \"Confusion matrix\"\n",
      "           true_class\n",
      "pred_class  high_rain low_rain no_rain\n",
      "  high_rain       130      106      49\n",
      "  low_rain         25      104      98\n",
      "  no_rain           0       24      14\n",
      "[1] \"Prediction accuracy :  0.450909090909091\"\n",
      "[1] \"Confusion matrix\"\n",
      "           true_class\n",
      "pred_class  high_rain low_rain no_rain\n",
      "  high_rain       148      156      97\n",
      "  low_rain          7       78      64\n",
      "[1] \"Prediction accuracy :  0.410909090909091\"\n",
      "[1] \"Confusion matrix\"\n",
      "           true_class\n",
      "pred_class  high_rain low_rain no_rain\n",
      "  high_rain        29       27      19\n",
      "  low_rain          3       31      25\n",
      "  no_rain           1        0       3\n",
      "[1] \"Prediction accuracy :  0.456521739130435\"\n",
      "[1] \"Confusion matrix\"\n",
      "           true_class\n",
      "pred_class  high_rain low_rain no_rain\n",
      "  high_rain        32       38      31\n",
      "  low_rain          1       20      16\n",
      "[1] \"Prediction accuracy :  0.376811594202899\"\n"
     ]
    }
   ],
   "source": [
    "pred_class = to_class(y_predict_train_min, eps = 0.01)\n",
    "confusion_matrix(pred_class, y_train_class)\n",
    "\n",
    "pred_class = to_class(y_predict_train_1se, eps = 0.01)\n",
    "confusion_matrix(pred_class, y_train_class)\n",
    "\n",
    "pred_class = to_class(y_predict_test_min, eps = 0.01)\n",
    "confusion_matrix(pred_class, y_test_class)\n",
    "\n",
    "pred_class = to_class(y_predict_test_1se, eps = 0.01)\n",
    "confusion_matrix(pred_class, y_test_class)"
   ]
  },
  {
   "cell_type": "code",
   "execution_count": 95,
   "metadata": {
    "vscode": {
     "languageId": "r"
    }
   },
   "outputs": [
    {
     "name": "stdout",
     "output_type": "stream",
     "text": [
      "[1] \"TRAINING ERROR MIN\"\n",
      "[1] \"Mean Square Error :  15.0752598956148\"\n",
      "[1] \"MAPE :  Inf\"\n"
     ]
    }
   ],
   "source": [
    "print('TRAINING ERROR MIN')\n",
    "print(paste('Mean Square Error : ', MSE(y_predict_train_min, y_train)))\n",
    "print(paste('MAPE : ', MAPE(y_predict_train_min, y_train)))"
   ]
  },
  {
   "cell_type": "code",
   "execution_count": 96,
   "metadata": {
    "vscode": {
     "languageId": "r"
    }
   },
   "outputs": [
    {
     "name": "stdout",
     "output_type": "stream",
     "text": [
      "[1] \"TRAINING ERROR 1SE\"\n",
      "[1] \"Mean Square Error :  17.83154001858\"\n",
      "[1] \"MAPE :  Inf\"\n"
     ]
    }
   ],
   "source": [
    "print('TRAINING ERROR 1SE')\n",
    "print(paste('Mean Square Error : ', MSE(y_predict_train_1se, y_train)))\n",
    "print(paste('MAPE : ', MAPE(y_predict_train_1se, y_train)))"
   ]
  },
  {
   "cell_type": "code",
   "execution_count": 97,
   "metadata": {
    "vscode": {
     "languageId": "r"
    }
   },
   "outputs": [
    {
     "name": "stdout",
     "output_type": "stream",
     "text": [
      "[1] \"TEST ERROR MIN\"\n",
      "[1] \"Mean Square Error :  20.180947630593\"\n",
      "[1] \"MAPE :  Inf\"\n"
     ]
    }
   ],
   "source": [
    "print('TEST ERROR MIN')\n",
    "print(paste('Mean Square Error : ', MSE(y_predict_test_min, y_test)))\n",
    "print(paste('MAPE : ', MAPE(y_predict_test_min, y_test)))"
   ]
  },
  {
   "cell_type": "code",
   "execution_count": 98,
   "metadata": {
    "vscode": {
     "languageId": "r"
    }
   },
   "outputs": [
    {
     "name": "stdout",
     "output_type": "stream",
     "text": [
      "[1] \"TEST ERROR 1SE\"\n",
      "[1] \"Mean Square Error :  23.129828074357\"\n",
      "[1] \"MAPE :  Inf\"\n"
     ]
    }
   ],
   "source": [
    "print('TEST ERROR 1SE')\n",
    "print(paste('Mean Square Error : ', MSE(y_predict_test_1se, y_test)))\n",
    "print(paste('MAPE : ', MAPE(y_predict_test_1se, y_test)))"
   ]
  },
  {
   "cell_type": "markdown",
   "metadata": {},
   "source": [
    "    Even the training MSE using 1se coef is greater, but the MAPE is smaller in both train set and test set"
   ]
  },
  {
   "cell_type": "markdown",
   "metadata": {},
   "source": [
    "### Comparison of Rigde, Lasso and Elastic Net"
   ]
  },
  {
   "cell_type": "code",
   "execution_count": 99,
   "metadata": {
    "vscode": {
     "languageId": "r"
    }
   },
   "outputs": [
    {
     "data": {
      "image/png": "[encoded data removed]",
      "text/plain": [
       "plot without title"
      ]
     },
     "metadata": {
      "image/png": {
       "height": 600,
       "width": 1200
      }
     },
     "output_type": "display_data"
    }
   ],
   "source": [
    "nc = ncol(x_train)\n",
    "df = data.frame(\n",
    "  x = rep(exp_var,3),\n",
    "  coef.min = c(as.vector(coef(ridge_cv, s = ridge_cv$lambda.min)[-1]),\n",
    "         as.vector(coef(lasso_cv, s = lasso_cv$lambda.min)[-1]),\n",
    "         as.vector(coef(net_cv, s = net_cv$lambda.min)[-1])),\n",
    "  reg = c(rep(\"reg.ridge\", nc),\n",
    "        rep(\"reg.lasso\", nc),\n",
    "        rep(\"reg.ElasticNet\", nc))\n",
    "  )\n",
    "\n",
    "ggplot(df)+\n",
    "  geom_point(aes(x = x, y = coef.min, col = reg, shape = reg))+\n",
    "  theme_minimal()"
   ]
  },
  {
   "cell_type": "markdown",
   "metadata": {},
   "source": [
    "## 3. Poisson Regression"
   ]
  },
  {
   "cell_type": "markdown",
   "metadata": {},
   "source": [
    "Since the distribution of the `rain` reponse is very similar to a Poisson distribution, so we'll try to fit it with a poisson regression in this section "
   ]
  },
  {
   "cell_type": "markdown",
   "metadata": {},
   "source": [
    "### 3.1. Simple Poisson regression"
   ]
  },
  {
   "cell_type": "code",
   "execution_count": 100,
   "metadata": {
    "vscode": {
     "languageId": "r"
    }
   },
   "outputs": [],
   "source": [
    "options(warn=-1)"
   ]
  },
  {
   "cell_type": "code",
   "execution_count": 101,
   "metadata": {
    "vscode": {
     "languageId": "r"
    }
   },
   "outputs": [],
   "source": [
    "exp_var = setdiff(names(train_set), c('rain', 'rain_log', 'rain_class'))"
   ]
  },
  {
   "cell_type": "code",
   "execution_count": 102,
   "metadata": {
    "vscode": {
     "languageId": "r"
    }
   },
   "outputs": [
    {
     "data": {
      "text/plain": [
       "\n",
       "Call:\n",
       "glm(formula = rain ~ ., family = \"poisson\", data = train_set[, \n",
       "    c(exp_var, \"rain\")])\n",
       "\n",
       "Deviance Residuals: \n",
       "    Min       1Q   Median       3Q      Max  \n",
       "-5.0061  -1.4994  -0.8723   0.1147   8.1080  \n",
       "\n",
       "Coefficients:\n",
       "             Estimate Std. Error z value Pr(>|z|)    \n",
       "(Intercept)   0.77965    0.11567   6.740 1.58e-11 ***\n",
       "ff            0.31883    0.11613   2.745 0.006043 ** \n",
       "t            -6.26862    1.44319  -4.344 1.40e-05 ***\n",
       "td            4.47207    1.38604   3.227 0.001253 ** \n",
       "hu           -1.67794    0.48062  -3.491 0.000481 ***\n",
       "dd           -0.56597    0.14659  -3.861 0.000113 ***\n",
       "precip_log    0.20108    0.05288   3.803 0.000143 ***\n",
       "ws_arome     -0.69972    0.12970  -5.395 6.86e-08 ***\n",
       "p3031_arome   0.72289    0.15082   4.793 1.64e-06 ***\n",
       "u10_arome     0.39071    0.06438   6.068 1.29e-09 ***\n",
       "v10_arome     0.59110    0.04485  13.181  < 2e-16 ***\n",
       "t2m_arome     7.48030    1.34330   5.569 2.57e-08 ***\n",
       "d2m_arome    -5.68139    1.25195  -4.538 5.68e-06 ***\n",
       "r_arome       1.89207    0.42866   4.414 1.02e-05 ***\n",
       "tp_arome_log -0.09872    0.05875  -1.680 0.092904 .  \n",
       "msl_arome    -0.33696    0.03779  -8.916  < 2e-16 ***\n",
       "month2        0.01334    0.10682   0.125 0.900635    \n",
       "month3       -0.06244    0.11592  -0.539 0.590167    \n",
       "month4       -1.02633    0.18506  -5.546 2.92e-08 ***\n",
       "month5       -0.63311    0.18556  -3.412 0.000645 ***\n",
       "month6       -0.35501    0.18788  -1.890 0.058812 .  \n",
       "month7       -0.75995    0.21692  -3.503 0.000459 ***\n",
       "month8       -0.51604    0.22681  -2.275 0.022893 *  \n",
       "month9       -0.62293    0.18953  -3.287 0.001014 ** \n",
       "month10      -0.38390    0.17719  -2.167 0.030265 *  \n",
       "month11       0.06953    0.12481   0.557 0.577495    \n",
       "month12       0.13165    0.12218   1.077 0.281271    \n",
       "---\n",
       "Signif. codes:  0 '***' 0.001 '**' 0.01 '*' 0.05 '.' 0.1 ' ' 1\n",
       "\n",
       "(Dispersion parameter for poisson family taken to be 1)\n",
       "\n",
       "    Null deviance: 2987.1  on 549  degrees of freedom\n",
       "Residual deviance: 1874.6  on 523  degrees of freedom\n",
       "AIC: Inf\n",
       "\n",
       "Number of Fisher Scoring iterations: 7\n"
      ]
     },
     "metadata": {},
     "output_type": "display_data"
    }
   ],
   "source": [
    "poisson.reg = glm(rain ~ . , family = \"poisson\", data = train_set[, c(exp_var, \"rain\")])\n",
    "summary(poisson.reg)"
   ]
  },
  {
   "cell_type": "markdown",
   "metadata": {},
   "source": [
    "#### Trainint error and Test error"
   ]
  },
  {
   "cell_type": "code",
   "execution_count": 103,
   "metadata": {
    "vscode": {
     "languageId": "r"
    }
   },
   "outputs": [
    {
     "name": "stdout",
     "output_type": "stream",
     "text": [
      "[1] \"TRAING ERROR\"\n",
      "[1] \"Mean Square Error :  13.9332687615474\"\n",
      "[1] \"MAPE :  Inf\"\n"
     ]
    }
   ],
   "source": [
    "print('TRAING ERROR')\n",
    "print(paste('Mean Square Error : ', MSE(poisson.reg$fitted.values, y_train)))\n",
    "print(paste('MAPE : ', MAPE(poisson.reg$fitted.values, y_train)))"
   ]
  },
  {
   "cell_type": "code",
   "execution_count": 104,
   "metadata": {
    "vscode": {
     "languageId": "r"
    }
   },
   "outputs": [
    {
     "name": "stdout",
     "output_type": "stream",
     "text": [
      "[1] \"TEST ERROR\"\n",
      "[1] \"Mean Square Error :  26.5721594583517\"\n",
      "[1] \"MAPE :  Inf\"\n",
      "[1] \"Confusion matrix\"\n",
      "           true_class\n",
      "pred_class  high_rain low_rain no_rain\n",
      "  high_rain         9        3       0\n",
      "  low_rain         22       38      25\n",
      "  no_rain           2       17      22\n",
      "[1] \"Prediction accuracy :  0.5\"\n"
     ]
    }
   ],
   "source": [
    "y_predict = predict(poisson.reg, newdata = test_set)\n",
    "\n",
    "print('TEST ERROR')\n",
    "print(paste('Mean Square Error : ', MSE(y_predict, y_test)))\n",
    "print(paste('MAPE : ', MAPE(y_predict, y_test)))\n",
    "\n",
    "pred_class = to_class(y_predict, eps = 0.01)\n",
    "confusion_matrix(pred_class, y_test_class)"
   ]
  },
  {
   "cell_type": "markdown",
   "metadata": {},
   "source": [
    "### 3.2. Poisson regression with $l_1$ regularisation"
   ]
  },
  {
   "cell_type": "code",
   "execution_count": 105,
   "metadata": {
    "vscode": {
     "languageId": "r"
    }
   },
   "outputs": [],
   "source": [
    "lambda_seq = seq(0, 3, by = 0.001)\n",
    "poisson.reg.l1 = cv.glmnet(x = x_train, y = y_train, family = 'poisson', alpha = 1, lambda = lambda_seq, type.measure = 'mse')"
   ]
  },
  {
   "cell_type": "code",
   "execution_count": 106,
   "metadata": {
    "vscode": {
     "languageId": "r"
    }
   },
   "outputs": [
    {
     "data": {
      "image/png": "[encoded data removed]",
      "text/plain": [
       "plot without title"
      ]
     },
     "metadata": {
      "image/png": {
       "height": 600,
       "width": 1200
      }
     },
     "output_type": "display_data"
    }
   ],
   "source": [
    "plot(poisson.reg.l1)"
   ]
  },
  {
   "cell_type": "code",
   "execution_count": 107,
   "metadata": {
    "vscode": {
     "languageId": "r"
    }
   },
   "outputs": [
    {
     "data": {
      "text/html": [
       "0.266"
      ],
      "text/latex": [
       "0.266"
      ],
      "text/markdown": [
       "0.266"
      ],
      "text/plain": [
       "[1] 0.266"
      ]
     },
     "metadata": {},
     "output_type": "display_data"
    },
    {
     "data": {
      "text/html": [
       "1.179"
      ],
      "text/latex": [
       "1.179"
      ],
      "text/markdown": [
       "1.179"
      ],
      "text/plain": [
       "[1] 1.179"
      ]
     },
     "metadata": {},
     "output_type": "display_data"
    }
   ],
   "source": [
    "poisson.reg.l1$lambda.min\n",
    "poisson.reg.l1$lambda.1se"
   ]
  },
  {
   "cell_type": "code",
   "execution_count": 108,
   "metadata": {
    "vscode": {
     "languageId": "r"
    }
   },
   "outputs": [],
   "source": [
    "best.poisson.l1 = cv.glmnet(x = x_train, y = y_train, family = 'poisson', alpha = 1, type.measure = 'mse')\n",
    "\n",
    "poisson.l1.lamb.min = poisson.reg.l1$lambda.min\n",
    "poisson.l1.lamb.1se = poisson.reg.l1$lambda.1se\n",
    "\n",
    "coef.poisson.l1.min = coef(best.poisson.l1, s = poisson.l1.lamb.min, exact = TRUE, x = x_train, y = y_train)\n",
    "coef.poisson.l1.1se = coef(best.poisson.l1, s = poisson.l1.lamb.1se, exact = TRUE, x = x_train, y = y_train)\n"
   ]
  },
  {
   "cell_type": "code",
   "execution_count": 109,
   "metadata": {
    "vscode": {
     "languageId": "r"
    }
   },
   "outputs": [
    {
     "data": {
      "image/png": "[encoded data removed]",
      "text/plain": [
       "plot without title"
      ]
     },
     "metadata": {
      "image/png": {
       "height": 600,
       "width": 1200
      }
     },
     "output_type": "display_data"
    }
   ],
   "source": [
    "param_plot(coef.poisson.l1.min)"
   ]
  },
  {
   "cell_type": "code",
   "execution_count": 110,
   "metadata": {
    "vscode": {
     "languageId": "r"
    }
   },
   "outputs": [
    {
     "data": {
      "image/png": "[encoded data removed]",
      "text/plain": [
       "plot without title"
      ]
     },
     "metadata": {
      "image/png": {
       "height": 600,
       "width": 1200
      }
     },
     "output_type": "display_data"
    }
   ],
   "source": [
    "param_plot(coef.poisson.l1.1se)"
   ]
  },
  {
   "cell_type": "code",
   "execution_count": 111,
   "metadata": {
    "vscode": {
     "languageId": "r"
    }
   },
   "outputs": [],
   "source": [
    "y_predict_train_min = predict(best.poisson.l1, newx = x_train, type = 'response' , s = poisson.l1.lamb.min)\n",
    "y_predict_test_min = predict(best.poisson.l1, newx = x_test, type = 'response' , s = poisson.l1.lamb.min)\n",
    "\n",
    "y_predict_train_1se = predict(best.poisson.l1, newx = x_train, type = 'response' , s = poisson.l1.lamb.1se)\n",
    "y_predict_test_1se = predict(best.poisson.l1, newx = x_test, type = 'response' , s = poisson.l1.lamb.1se)"
   ]
  },
  {
   "cell_type": "code",
   "execution_count": 112,
   "metadata": {
    "vscode": {
     "languageId": "r"
    }
   },
   "outputs": [
    {
     "name": "stdout",
     "output_type": "stream",
     "text": [
      "[1] \"TRAINING ERROR MIN\"\n",
      "[1] \"Mean Square Error :  15.269931986998\"\n",
      "[1] \"MAPE :  Inf\"\n",
      "[1] \"TRAINING ERROR \"\n",
      "[1] \"Mean Square Error :  18.3271621229484\"\n",
      "[1] \"MAPE :  Inf\"\n",
      "[1] \"TEST ERROR MIN\"\n",
      "[1] \"Mean Square Error :  17.8994842849189\"\n",
      "[1] \"MAPE :  Inf\"\n",
      "[1] \"TEST ERROR 1SE\"\n",
      "[1] \"Mean Square Error :  23.4191415653626\"\n",
      "[1] \"MAPE :  Inf\"\n"
     ]
    }
   ],
   "source": [
    "print('TRAINING ERROR MIN')\n",
    "print(paste('Mean Square Error : ', MSE(y_predict_train_min, y_train)))\n",
    "print(paste('MAPE : ', MAPE(y_predict_train_min, y_train)))\n",
    "\n",
    "print('TRAINING ERROR ')\n",
    "print(paste('Mean Square Error : ', MSE(y_predict_train_1se, y_train)))\n",
    "print(paste('MAPE : ', MAPE(y_predict_train_1se, y_train)))\n",
    "\n",
    "\n",
    "print('TEST ERROR MIN')\n",
    "print(paste('Mean Square Error : ', MSE(y_predict_test_min, y_test)))\n",
    "print(paste('MAPE : ', MAPE(y_predict_test_min, y_test)))\n",
    "\n",
    "print('TEST ERROR 1SE')\n",
    "print(paste('Mean Square Error : ', MSE(y_predict_test_1se, y_test)))\n",
    "print(paste('MAPE : ', MAPE(y_predict_test_1se, y_test)))"
   ]
  },
  {
   "cell_type": "code",
   "execution_count": 113,
   "metadata": {
    "vscode": {
     "languageId": "r"
    }
   },
   "outputs": [
    {
     "name": "stdout",
     "output_type": "stream",
     "text": [
      "[1] \"Confusion matrix\"\n",
      "           true_class\n",
      "pred_class  high_rain low_rain no_rain\n",
      "  high_rain       117       82      39\n",
      "  low_rain         38      152     122\n",
      "[1] \"Prediction accuracy :  0.489090909090909\"\n",
      "[1] \"Confusion matrix\"\n",
      "           true_class\n",
      "pred_class  high_rain low_rain no_rain\n",
      "  high_rain       150      196     125\n",
      "  low_rain          5       38      36\n",
      "[1] \"Prediction accuracy :  0.341818181818182\"\n",
      "[1] \"Confusion matrix\"\n",
      "           true_class\n",
      "pred_class  high_rain low_rain no_rain\n",
      "  high_rain        27       25      15\n",
      "  low_rain          6       33      32\n",
      "[1] \"Prediction accuracy :  0.434782608695652\"\n",
      "[1] \"Confusion matrix\"\n",
      "           true_class\n",
      "pred_class  high_rain low_rain no_rain\n",
      "  high_rain        32       50      39\n",
      "  low_rain          1        8       8\n",
      "[1] \"Prediction accuracy :  0.289855072463768\"\n"
     ]
    }
   ],
   "source": [
    "pred_class = to_class(y_predict_train_min, eps = 0.01)\n",
    "confusion_matrix(pred_class, y_train_class)\n",
    "\n",
    "pred_class = to_class(y_predict_train_1se, eps = 0.01)\n",
    "confusion_matrix(pred_class, y_train_class)\n",
    "\n",
    "pred_class = to_class(y_predict_test_min, eps = 0.01)\n",
    "confusion_matrix(pred_class, y_test_class)\n",
    "\n",
    "pred_class = to_class(y_predict_test_1se, eps = 0.01)\n",
    "confusion_matrix(pred_class, y_test_class)"
   ]
  },
  {
   "cell_type": "markdown",
   "metadata": {},
   "source": [
    "### 3.3. Poisson regression with $l_2$ regularisation"
   ]
  },
  {
   "cell_type": "code",
   "execution_count": 114,
   "metadata": {
    "vscode": {
     "languageId": "r"
    }
   },
   "outputs": [],
   "source": [
    "lambda_seq = seq(0, 3, by = 0.001)\n",
    "poisson.reg.l2 = cv.glmnet(x = x_train, y = y_train, family = 'poisson', alpha = 0, lambda = lambda_seq, type.measure = 'mae')"
   ]
  },
  {
   "cell_type": "code",
   "execution_count": 115,
   "metadata": {
    "vscode": {
     "languageId": "r"
    }
   },
   "outputs": [
    {
     "data": {
      "image/png": "[encoded data removed]",
      "text/plain": [
       "plot without title"
      ]
     },
     "metadata": {
      "image/png": {
       "height": 600,
       "width": 1200
      }
     },
     "output_type": "display_data"
    }
   ],
   "source": [
    "plot(poisson.reg.l2)"
   ]
  },
  {
   "cell_type": "code",
   "execution_count": 116,
   "metadata": {
    "vscode": {
     "languageId": "r"
    }
   },
   "outputs": [
    {
     "data": {
      "text/html": [
       "0.203"
      ],
      "text/latex": [
       "0.203"
      ],
      "text/markdown": [
       "0.203"
      ],
      "text/plain": [
       "[1] 0.203"
      ]
     },
     "metadata": {},
     "output_type": "display_data"
    },
    {
     "data": {
      "text/html": [
       "3"
      ],
      "text/latex": [
       "3"
      ],
      "text/markdown": [
       "3"
      ],
      "text/plain": [
       "[1] 3"
      ]
     },
     "metadata": {},
     "output_type": "display_data"
    }
   ],
   "source": [
    "poisson.reg.l2$lambda.min\n",
    "poisson.reg.l2$lambda.1se"
   ]
  },
  {
   "cell_type": "code",
   "execution_count": 117,
   "metadata": {
    "vscode": {
     "languageId": "r"
    }
   },
   "outputs": [],
   "source": [
    "best.poisson.l2 = cv.glmnet(x = x_train, y = y_train, family = 'poisson', alpha = 2, type.measure = 'mae')\n",
    "\n",
    "poisson.l2.lamb.min = poisson.reg.l2$lambda.min\n",
    "poisson.l2.lamb.1se = poisson.reg.l2$lambda.1se\n",
    "\n",
    "coef.poisson.l2.min = coef(best.poisson.l2, s = poisson.l2.lamb.min, exact = TRUE, x = x_train, y = y_train)\n",
    "coef.poisson.l2.1se = coef(best.poisson.l2, s = poisson.l2.lamb.1se, exact = TRUE, x = x_train, y = y_train)\n"
   ]
  },
  {
   "cell_type": "code",
   "execution_count": 118,
   "metadata": {
    "vscode": {
     "languageId": "r"
    }
   },
   "outputs": [
    {
     "data": {
      "image/png": "[encoded data removed]",
      "text/plain": [
       "plot without title"
      ]
     },
     "metadata": {
      "image/png": {
       "height": 600,
       "width": 1200
      }
     },
     "output_type": "display_data"
    }
   ],
   "source": [
    "param_plot(coef.poisson.l2.min)"
   ]
  },
  {
   "cell_type": "code",
   "execution_count": 119,
   "metadata": {
    "vscode": {
     "languageId": "r"
    }
   },
   "outputs": [
    {
     "data": {
      "image/png": "[encoded data removed]",
      "text/plain": [
       "plot without title"
      ]
     },
     "metadata": {
      "image/png": {
       "height": 600,
       "width": 1200
      }
     },
     "output_type": "display_data"
    }
   ],
   "source": [
    "param_plot(coef.poisson.l2.1se)"
   ]
  },
  {
   "cell_type": "code",
   "execution_count": 120,
   "metadata": {
    "vscode": {
     "languageId": "r"
    }
   },
   "outputs": [],
   "source": [
    "y_predict_train_min = predict(best.poisson.l1, newx = x_train, type = 'response' , s = poisson.l1.lamb.min)\n",
    "y_predict_test_min = predict(best.poisson.l1, newx = x_test, type = 'response' , s = poisson.l1.lamb.min)\n",
    "\n",
    "y_predict_train_1se = predict(best.poisson.l1, newx = x_train, type = 'response' , s = poisson.l1.lamb.1se)\n",
    "y_predict_test_1se = predict(best.poisson.l1, newx = x_test, type = 'response' , s = poisson.l1.lamb.1se)"
   ]
  },
  {
   "cell_type": "code",
   "execution_count": 121,
   "metadata": {
    "vscode": {
     "languageId": "r"
    }
   },
   "outputs": [
    {
     "name": "stdout",
     "output_type": "stream",
     "text": [
      "[1] \"TRAINING ERROR MIN\"\n",
      "[1] \"Mean Square Error :  15.269931986998\"\n",
      "[1] \"MAPE :  Inf\"\n",
      "[1] \"TRAINING ERROR \"\n",
      "[1] \"Mean Square Error :  18.3271621229484\"\n",
      "[1] \"MAPE :  Inf\"\n",
      "[1] \"TEST ERROR MIN\"\n",
      "[1] \"Mean Square Error :  17.8994842849189\"\n",
      "[1] \"MAPE :  Inf\"\n",
      "[1] \"TEST ERROR 1SE\"\n",
      "[1] \"Mean Square Error :  23.4191415653626\"\n",
      "[1] \"MAPE :  Inf\"\n"
     ]
    }
   ],
   "source": [
    "print('TRAINING ERROR MIN')\n",
    "print(paste('Mean Square Error : ', MSE(y_predict_train_min, y_train)))\n",
    "print(paste('MAPE : ', MAPE(y_predict_train_min, y_train)))\n",
    "\n",
    "print('TRAINING ERROR ')\n",
    "print(paste('Mean Square Error : ', MSE(y_predict_train_1se, y_train)))\n",
    "print(paste('MAPE : ', MAPE(y_predict_train_1se, y_train)))\n",
    "\n",
    "\n",
    "print('TEST ERROR MIN')\n",
    "print(paste('Mean Square Error : ', MSE(y_predict_test_min, y_test)))\n",
    "print(paste('MAPE : ', MAPE(y_predict_test_min, y_test)))\n",
    "\n",
    "print('TEST ERROR 1SE')\n",
    "print(paste('Mean Square Error : ', MSE(y_predict_test_1se, y_test)))\n",
    "print(paste('MAPE : ', MAPE(y_predict_test_1se, y_test)))"
   ]
  },
  {
   "cell_type": "code",
   "execution_count": 122,
   "metadata": {
    "vscode": {
     "languageId": "r"
    }
   },
   "outputs": [
    {
     "name": "stdout",
     "output_type": "stream",
     "text": [
      "[1] \"Confusion matrix\"\n",
      "           true_class\n",
      "pred_class  high_rain low_rain no_rain\n",
      "  high_rain       117       82      39\n",
      "  low_rain         38      152     122\n",
      "[1] \"Prediction accuracy :  0.489090909090909\"\n",
      "[1] \"Confusion matrix\"\n",
      "           true_class\n",
      "pred_class  high_rain low_rain no_rain\n",
      "  high_rain       150      196     125\n",
      "  low_rain          5       38      36\n",
      "[1] \"Prediction accuracy :  0.341818181818182\"\n",
      "[1] \"Confusion matrix\"\n",
      "           true_class\n",
      "pred_class  high_rain low_rain no_rain\n",
      "  high_rain        27       25      15\n",
      "  low_rain          6       33      32\n",
      "[1] \"Prediction accuracy :  0.434782608695652\"\n",
      "[1] \"Confusion matrix\"\n",
      "           true_class\n",
      "pred_class  high_rain low_rain no_rain\n",
      "  high_rain        32       50      39\n",
      "  low_rain          1        8       8\n",
      "[1] \"Prediction accuracy :  0.289855072463768\"\n"
     ]
    }
   ],
   "source": [
    "pred_class = to_class(y_predict_train_min, eps = 0.01)\n",
    "confusion_matrix(pred_class, y_train_class)\n",
    "\n",
    "pred_class = to_class(y_predict_train_1se, eps = 0.01)\n",
    "confusion_matrix(pred_class, y_train_class)\n",
    "\n",
    "pred_class = to_class(y_predict_test_min, eps = 0.01)\n",
    "confusion_matrix(pred_class, y_test_class)\n",
    "\n",
    "pred_class = to_class(y_predict_test_1se, eps = 0.01)\n",
    "confusion_matrix(pred_class, y_test_class)"
   ]
  },
  {
   "cell_type": "markdown",
   "metadata": {},
   "source": [
    "### 3.4. Poisson regression with $l_1$ and $l_2$ regularisation"
   ]
  },
  {
   "cell_type": "code",
   "execution_count": 123,
   "metadata": {
    "vscode": {
     "languageId": "r"
    }
   },
   "outputs": [],
   "source": [
    "lambda_seq = seq(0, 3, by = 0.001)\n",
    "poisson.reg.net = cv.glmnet(x = x_train, y = y_train, family = 'poisson', alpha = 0.5, lambda = lambda_seq, type.measure = 'mse')"
   ]
  },
  {
   "cell_type": "code",
   "execution_count": 124,
   "metadata": {
    "vscode": {
     "languageId": "r"
    }
   },
   "outputs": [
    {
     "data": {
      "image/png": "[encoded data removed]",
      "text/plain": [
       "plot without title"
      ]
     },
     "metadata": {
      "image/png": {
       "height": 600,
       "width": 1200
      }
     },
     "output_type": "display_data"
    }
   ],
   "source": [
    "plot(poisson.reg.net)"
   ]
  },
  {
   "cell_type": "code",
   "execution_count": 125,
   "metadata": {
    "vscode": {
     "languageId": "r"
    }
   },
   "outputs": [
    {
     "data": {
      "text/html": [
       "0.474"
      ],
      "text/latex": [
       "0.474"
      ],
      "text/markdown": [
       "0.474"
      ],
      "text/plain": [
       "[1] 0.474"
      ]
     },
     "metadata": {},
     "output_type": "display_data"
    },
    {
     "data": {
      "text/html": [
       "1.586"
      ],
      "text/latex": [
       "1.586"
      ],
      "text/markdown": [
       "1.586"
      ],
      "text/plain": [
       "[1] 1.586"
      ]
     },
     "metadata": {},
     "output_type": "display_data"
    }
   ],
   "source": [
    "poisson.reg.net$lambda.min\n",
    "poisson.reg.net$lambda.1se"
   ]
  },
  {
   "cell_type": "code",
   "execution_count": 126,
   "metadata": {
    "vscode": {
     "languageId": "r"
    }
   },
   "outputs": [],
   "source": [
    "best.poisson.net = cv.glmnet(x = x_train, y = y_train, family = 'poisson', alpha = 0.5, type.measure = 'mse')\n",
    "\n",
    "poisson.net.lamb.min = poisson.reg.net$lambda.min\n",
    "poisson.net.lamb.1se = poisson.reg.net$lambda.1se\n",
    "\n",
    "coef.poisson.net.min = coef(best.poisson.net, s = poisson.net.lamb.min, exact = TRUE, x = x_train, y = y_train)\n",
    "coef.poisson.net.1se = coef(best.poisson.net, s = poisson.net.lamb.1se, exact = TRUE, x = x_train, y = y_train)\n"
   ]
  },
  {
   "cell_type": "code",
   "execution_count": 127,
   "metadata": {
    "vscode": {
     "languageId": "r"
    }
   },
   "outputs": [
    {
     "data": {
      "image/png": "[encoded data removed]",
      "text/plain": [
       "plot without title"
      ]
     },
     "metadata": {
      "image/png": {
       "height": 600,
       "width": 1200
      }
     },
     "output_type": "display_data"
    }
   ],
   "source": [
    "param_plot(coef.poisson.net.min)"
   ]
  },
  {
   "cell_type": "code",
   "execution_count": 128,
   "metadata": {
    "vscode": {
     "languageId": "r"
    }
   },
   "outputs": [
    {
     "data": {
      "image/png": "[encoded data removed]",
      "text/plain": [
       "plot without title"
      ]
     },
     "metadata": {
      "image/png": {
       "height": 600,
       "width": 1200
      }
     },
     "output_type": "display_data"
    }
   ],
   "source": [
    "param_plot(coef.poisson.net.1se)"
   ]
  },
  {
   "cell_type": "code",
   "execution_count": 129,
   "metadata": {
    "vscode": {
     "languageId": "r"
    }
   },
   "outputs": [],
   "source": [
    "y_predict_train_min = predict(best.poisson.net, newx = x_train, type = 'response' , s = poisson.net.lamb.min)\n",
    "y_predict_test_min = predict(best.poisson.net, newx = x_test, type = 'response' , s = poisson.net.lamb.min)\n",
    "\n",
    "y_predict_train_1se = predict(best.poisson.net, newx = x_train, type = 'response' , s = poisson.net.lamb.1se)\n",
    "y_predict_test_1se = predict(best.poisson.net, newx = x_test, type = 'response' , s = poisson.net.lamb.1se)"
   ]
  },
  {
   "cell_type": "code",
   "execution_count": 130,
   "metadata": {
    "vscode": {
     "languageId": "r"
    }
   },
   "outputs": [
    {
     "name": "stdout",
     "output_type": "stream",
     "text": [
      "[1] \"TRAINING ERROR MIN\"\n",
      "[1] \"Mean Square Error :  15.2662098908266\"\n",
      "[1] \"MAPE :  Inf\"\n",
      "[1] \"TRAINING ERROR \"\n",
      "[1] \"Mean Square Error :  17.1258910511417\"\n",
      "[1] \"MAPE :  Inf\"\n",
      "[1] \"TEST ERROR MIN\"\n",
      "[1] \"Mean Square Error :  18.0446484755733\"\n",
      "[1] \"MAPE :  Inf\"\n",
      "[1] \"TEST ERROR 1SE\"\n",
      "[1] \"Mean Square Error :  21.6322881381276\"\n",
      "[1] \"MAPE :  Inf\"\n"
     ]
    }
   ],
   "source": [
    "print('TRAINING ERROR MIN')\n",
    "print(paste('Mean Square Error : ', MSE(y_predict_train_min, y_train)))\n",
    "print(paste('MAPE : ', MAPE(y_predict_train_min, y_train)))\n",
    "\n",
    "print('TRAINING ERROR ')\n",
    "print(paste('Mean Square Error : ', MSE(y_predict_train_1se, y_train)))\n",
    "print(paste('MAPE : ', MAPE(y_predict_train_1se, y_train)))\n",
    "\n",
    "\n",
    "print('TEST ERROR MIN')\n",
    "print(paste('Mean Square Error : ', MSE(y_predict_test_min, y_test)))\n",
    "print(paste('MAPE : ', MAPE(y_predict_test_min, y_test)))\n",
    "\n",
    "print('TEST ERROR 1SE')\n",
    "print(paste('Mean Square Error : ', MSE(y_predict_test_1se, y_test)))\n",
    "print(paste('MAPE : ', MAPE(y_predict_test_1se, y_test)))"
   ]
  },
  {
   "cell_type": "code",
   "execution_count": 131,
   "metadata": {
    "vscode": {
     "languageId": "r"
    }
   },
   "outputs": [
    {
     "name": "stdout",
     "output_type": "stream",
     "text": [
      "[1] \"Confusion matrix\"\n",
      "           true_class\n",
      "pred_class  high_rain low_rain no_rain\n",
      "  high_rain       118       84      40\n",
      "  low_rain         37      150     121\n",
      "[1] \"Prediction accuracy :  0.487272727272727\"\n",
      "[1] \"Confusion matrix\"\n",
      "           true_class\n",
      "pred_class  high_rain low_rain no_rain\n",
      "  high_rain       137      131      64\n",
      "  low_rain         18      103      97\n",
      "[1] \"Prediction accuracy :  0.436363636363636\"\n",
      "[1] \"Confusion matrix\"\n",
      "           true_class\n",
      "pred_class  high_rain low_rain no_rain\n",
      "  high_rain        27       25      15\n",
      "  low_rain          6       33      32\n",
      "[1] \"Prediction accuracy :  0.434782608695652\"\n",
      "[1] \"Confusion matrix\"\n",
      "           true_class\n",
      "pred_class  high_rain low_rain no_rain\n",
      "  high_rain        31       32      21\n",
      "  low_rain          2       26      26\n",
      "[1] \"Prediction accuracy :  0.41304347826087\"\n"
     ]
    }
   ],
   "source": [
    "pred_class = to_class(y_predict_train_min, eps = 0.01)\n",
    "confusion_matrix(pred_class, y_train_class)\n",
    "\n",
    "pred_class = to_class(y_predict_train_1se, eps = 0.01)\n",
    "confusion_matrix(pred_class, y_train_class)\n",
    "\n",
    "pred_class = to_class(y_predict_test_min, eps = 0.01)\n",
    "confusion_matrix(pred_class, y_test_class)\n",
    "\n",
    "pred_class = to_class(y_predict_test_1se, eps = 0.01)\n",
    "confusion_matrix(pred_class, y_test_class)"
   ]
  }
 ],
 "metadata": {
  "kernelspec": {
   "display_name": "R",
   "language": "R",
   "name": "ir"
  },
  "language_info": {
   "codemirror_mode": "r",
   "file_extension": ".r",
   "mimetype": "text/x-r-source",
   "name": "R",
   "pygments_lexer": "r",
   "version": "4.2.0"
  }
 },
 "nbformat": 4,
 "nbformat_minor": 2
}
