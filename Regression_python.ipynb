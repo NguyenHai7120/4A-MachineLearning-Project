{
 "cells": [
  {
   "cell_type": "code",
   "execution_count": 1,
   "metadata": {},
   "outputs": [],
   "source": [
    "import pandas as pd\n",
    "import numpy as np\n",
    "import itertools\n",
    "import matplotlib.pyplot as plt\n",
    "%matplotlib inline\n",
    "import seaborn as sns\n",
    "import time\n",
    "\n",
    "import random\n",
    "import os\n",
    "\n",
    "from sklearn.metrics import accuracy_score, confusion_matrix, f1_score, recall_score, precision_score\n",
    "from sklearn.metrics import mean_absolute_percentage_error as MAPE\n",
    "from sklearn.metrics import mean_squared_error as MSE\n",
    "from sklearn.metrics import r2_score"
   ]
  },
  {
   "cell_type": "markdown",
   "metadata": {},
   "source": [
    "## 1. Extraction of training and test samples"
   ]
  },
  {
   "cell_type": "markdown",
   "metadata": {},
   "source": [
    "For the comparaison then, we take the same split as in R. Let's import the test and train samples"
   ]
  },
  {
   "cell_type": "code",
   "execution_count": 2,
   "metadata": {},
   "outputs": [],
   "source": [
    "train_set = pd.read_csv(\"data/train_set.txt\",sep = ' ')\n",
    "test_set = pd.read_csv(\"data/test_set.txt\",sep = ' ')"
   ]
  },
  {
   "cell_type": "code",
   "execution_count": 3,
   "metadata": {},
   "outputs": [],
   "source": [
    "X_train = pd.DataFrame(train_set)\n",
    "del X_train['rain']\n",
    "del X_train['rain_class']\n",
    "del X_train['rain_log']\n",
    "\n",
    "X_test = pd.DataFrame(test_set)\n",
    "del X_test['rain']\n",
    "del X_test['rain_class']\n",
    "del X_test['rain_log']"
   ]
  },
  {
   "cell_type": "code",
   "execution_count": 4,
   "metadata": {},
   "outputs": [],
   "source": [
    "Yr_train = train_set['rain']\n",
    "Yr_test = test_set['rain']"
   ]
  },
  {
   "cell_type": "code",
   "execution_count": 5,
   "metadata": {},
   "outputs": [],
   "source": [
    "Yr_log_train = train_set['rain_log']\n",
    "Yr_log_test = test_set['rain_log']"
   ]
  },
  {
   "cell_type": "code",
   "execution_count": 6,
   "metadata": {},
   "outputs": [],
   "source": [
    "Yb_train = train_set['rain_class']\n",
    "Yb_test = test_set['rain_class']"
   ]
  },
  {
   "cell_type": "markdown",
   "metadata": {},
   "source": [
    "Function transforms `rain` to `rain_class`"
   ]
  },
  {
   "cell_type": "code",
   "execution_count": 7,
   "metadata": {},
   "outputs": [],
   "source": [
    "def to_class(rain, eps = 1e-2 ):\n",
    "    myrain = (rain <= eps)*0 + (rain > eps)*(rain <= 2 )*1 + (rain > 2)*2\n",
    "    myrain2 = myrain.astype('<U9')\n",
    "\n",
    "    myrain2[myrain == 0] = 'no_rain'\n",
    "    myrain2[myrain == 1] = 'low_rain'\n",
    "    myrain2[myrain == 2] = 'high_rain'\n",
    "    return myrain2"
   ]
  },
  {
   "cell_type": "markdown",
   "metadata": {},
   "source": [
    "## 2.Linear regression without penalisation and without variable selection"
   ]
  },
  {
   "cell_type": "markdown",
   "metadata": {},
   "source": [
    "### 2.1. With `rain`"
   ]
  },
  {
   "cell_type": "code",
   "execution_count": 8,
   "metadata": {},
   "outputs": [
    {
     "name": "stdout",
     "output_type": "stream",
     "text": [
      "Score= 0.17941034878048068\n"
     ]
    }
   ],
   "source": [
    "from sklearn.linear_model import LinearRegression\n",
    "regLin = LinearRegression().fit(X_train, Yr_train)\n",
    "prev = regLin.predict(X_test)\n",
    "print(\"Score=\",regLin.score(X_test,Yr_test))"
   ]
  },
  {
   "cell_type": "code",
   "execution_count": 9,
   "metadata": {},
   "outputs": [
    {
     "name": "stdout",
     "output_type": "stream",
     "text": [
      "MSE= 21.31252514066041\n"
     ]
    }
   ],
   "source": [
    "# Mean Square Error\n",
    "from sklearn.metrics import mean_squared_error\n",
    "print(\"MSE=\",mean_squared_error(prev,Yr_test))"
   ]
  },
  {
   "cell_type": "code",
   "execution_count": 10,
   "metadata": {},
   "outputs": [
    {
     "name": "stdout",
     "output_type": "stream",
     "text": [
      "MAPE = 1.2192400252674\n"
     ]
    }
   ],
   "source": [
    "from sklearn.metrics import mean_absolute_percentage_error\n",
    "print(\"MAPE =\", mean_absolute_percentage_error(prev, Yr_test))"
   ]
  },
  {
   "cell_type": "markdown",
   "metadata": {},
   "source": [
    "We can evaluate the accuracy by comparing the results into class with `rain_class`"
   ]
  },
  {
   "cell_type": "code",
   "execution_count": 11,
   "metadata": {},
   "outputs": [
    {
     "name": "stdout",
     "output_type": "stream",
     "text": [
      "Accuracy score = 0.4420289855072464\n"
     ]
    }
   ],
   "source": [
    "from sklearn.metrics import accuracy_score\n",
    "prev_class = to_class(prev)\n",
    "print(\"Accuracy score =\", accuracy_score(Yb_test.to_list(), prev_class))"
   ]
  },
  {
   "cell_type": "markdown",
   "metadata": {},
   "source": [
    "### 2.2. With `rain_log`"
   ]
  },
  {
   "cell_type": "code",
   "execution_count": 12,
   "metadata": {},
   "outputs": [
    {
     "name": "stdout",
     "output_type": "stream",
     "text": [
      "Score= 0.24564049093258022\n",
      "MSE= 18.363136477556324\n",
      "MAPE= 1494003623307454.5\n",
      "Accuracy score = 0.5072463768115942\n"
     ]
    }
   ],
   "source": [
    "from sklearn.linear_model import LinearRegression\n",
    "regLinLog = LinearRegression().fit(X_train, Yr_log_train)\n",
    "prevLog = regLinLog.predict(X_test)\n",
    "prev = np.exp(prevLog) - 1\n",
    "print(\"Score=\",regLinLog.score(X_test, Yr_log_test))prev = model_lasso.predict(X_test)\n",
    "print(\"MSE=\",mean_squared_error(prev,Yr_test))\n",
    "print(\"R2=\",r2_score(Yr_test,prev))\n",
    "print(\"MAPE =\",mean_absolute_percentage_error(Yr_test,prev))\n",
    "\n",
    "prev_class = to_class(prev)\n",
    "print(\"Accuracy score =\", accuracy_score(Yb_test.to_list(), prev_class))\n",
    "\n",
    "print(\"MSE=\",mean_squared_error(prev,Yr_test))\n",
    "print(\"MAPE=\",mean_absolute_percentage_error(Yr_test, prev))\n",
    "\n",
    "prev_class = to_class(prev)\n",
    "print(\"Accuracy score =\", accuracy_score(Yb_test.to_list(), prev_class))"
   ]
  },
  {
   "cell_type": "markdown",
   "metadata": {},
   "source": [
    "By using `rain_log`, the value of MSE is reduced"
   ]
  },
  {
   "cell_type": "markdown",
   "metadata": {},
   "source": [
    "## 3. Penalized regression "
   ]
  },
  {
   "cell_type": "markdown",
   "metadata": {},
   "source": [
    "### 3.1. Penalisation Lasso"
   ]
  },
  {
   "cell_type": "markdown",
   "metadata": {},
   "source": [
    "#### 3.1.1. With `rain`"
   ]
  },
  {
   "cell_type": "markdown",
   "metadata": {},
   "source": [
    "We implement the Lasso regression with the default values"
   ]
  },
  {
   "cell_type": "code",
   "execution_count": 13,
   "metadata": {},
   "outputs": [
    {
     "name": "stdout",
     "output_type": "stream",
     "text": [
      "MSE= 22.873572096345697\n",
      "R2= 0.11930583425445629\n"
     ]
    }
   ],
   "source": [
    "from sklearn import linear_model\n",
    "regLasso = linear_model.Lasso()\n",
    "regLasso.fit(X_train,Yr_train)\n",
    "prev=regLasso.predict(X_test)\n",
    "print(\"MSE=\",mean_squared_error(Yr_test,prev))\n",
    "print(\"R2=\",r2_score(Yr_test,prev))"
   ]
  },
  {
   "cell_type": "markdown",
   "metadata": {},
   "source": [
    "The penalisation parameter is optimized by the cross validation"
   ]
  },
  {
   "cell_type": "code",
   "execution_count": 14,
   "metadata": {},
   "outputs": [
    {
     "name": "stdout",
     "output_type": "stream",
     "text": [
      "Best R2 = 0.200521, Best parameter = {'alpha': 0.1306532663316583}\n"
     ]
    }
   ],
   "source": [
    "from sklearn.model_selection import GridSearchCV\n",
    "param=[{\"alpha\":np.linspace(0,2,200)}]\n",
    "regLasso = GridSearchCV(linear_model.Lasso(), param,cv=5,n_jobs=-1)\n",
    "regLassOpt=regLasso.fit(X_train, Yr_train)\n",
    "# Optimal parameter\n",
    "regLassOpt.best_params_[\"alpha\"]\n",
    "print(\"Best R2 = %f, Best parameter = %s\" % (regLassOpt.best_score_,regLassOpt.best_params_))"
   ]
  },
  {
   "cell_type": "markdown",
   "metadata": {},
   "source": [
    "Let's do some previsions with the optimized value of `lambda`"
   ]
  },
  {
   "cell_type": "code",
   "execution_count": 15,
   "metadata": {},
   "outputs": [
    {
     "name": "stdout",
     "output_type": "stream",
     "text": [
      "MSE= 20.127669408762078\n",
      "R2= 0.22503048742510168\n",
      "MAPE = 2685508596512427.5\n",
      "Accuracy score = 0.4492753623188406\n"
     ]
    }
   ],
   "source": [
    "prev=regLassOpt.predict(X_test)\n",
    "print(\"MSE=\",mean_squared_error(prev,Yr_test))\n",
    "print(\"R2=\",r2_score(Yr_test,prev))\n",
    "print(\"MAPE =\",mean_absolute_percentage_error(Yr_test,prev))\n",
    "\n",
    "prev_class = to_class(prev)\n",
    "print(\"Accuracy score =\", accuracy_score(Yb_test.to_list(), prev_class))"
   ]
  },
  {
   "cell_type": "code",
   "execution_count": 16,
   "metadata": {},
   "outputs": [
    {
     "data": {
      "image/png": "[encoded data removed]",
      "text/plain": [
       "<Figure size 432x288 with 1 Axes>"
      ]
     },
     "metadata": {
      "needs_background": "light"
     },
     "output_type": "display_data"
    }
   ],
   "source": [
    "plt.plot(prev,Yr_test,\"o\")\n",
    "plt.xlabel(u\"Rain Predicted\")\n",
    "plt.ylabel(\"Rain observed\")\n",
    "plt.show()"
   ]
  },
  {
   "cell_type": "code",
   "execution_count": 17,
   "metadata": {},
   "outputs": [
    {
     "data": {
      "image/png": "[encoded data removed]",
      "text/plain": [
       "<Figure size 432x288 with 1 Axes>"
      ]
     },
     "metadata": {
      "needs_background": "light"
     },
     "output_type": "display_data"
    }
   ],
   "source": [
    "plt.plot(prev,Yr_test-prev,\"o\")\n",
    "plt.xlabel(u\"Predicted\")\n",
    "plt.ylabel(u\"Residus\")\n",
    "plt.hlines(0,-1,9)\n",
    "plt.show()"
   ]
  },
  {
   "cell_type": "code",
   "execution_count": 18,
   "metadata": {},
   "outputs": [
    {
     "data": {
      "text/plain": [
       "array([ 0.        , -0.37687198, -0.        ,  0.        , -0.        ,\n",
       "        0.38776323,  0.        ,  0.        ,  0.54709915,  0.78792087,\n",
       "       -0.        , -0.22947443, -0.        , -0.        , -0.90195728,\n",
       "        0.        ,  0.        , -0.        , -0.        ,  0.        ,\n",
       "       -0.        ,  0.        , -0.        , -0.        ,  0.        ,\n",
       "        0.        ])"
      ]
     },
     "execution_count": 18,
     "metadata": {},
     "output_type": "execute_result"
    }
   ],
   "source": [
    "# Coefficients\n",
    "regLasso=linear_model.Lasso(alpha=regLassOpt.best_params_['alpha'])\n",
    "model_lasso=regLasso.fit(X_train,Yr_train)\n",
    "model_lasso.coef_"
   ]
  },
  {
   "cell_type": "code",
   "execution_count": 19,
   "metadata": {},
   "outputs": [
    {
     "name": "stdout",
     "output_type": "stream",
     "text": [
      "Lasso retain 6 variables and delete 20\n"
     ]
    }
   ],
   "source": [
    "coef = pd.Series(model_lasso.coef_, index = X_train.columns)\n",
    "print(\"Lasso retain \" + str(sum(coef != 0)) + \n",
    "      \" variables and delete \" +  str(sum(coef == 0)))"
   ]
  },
  {
   "cell_type": "code",
   "execution_count": 20,
   "metadata": {},
   "outputs": [
    {
     "name": "stdout",
     "output_type": "stream",
     "text": [
      "MSE= 20.127669408762078\n",
      "R2= 0.22503048742510168\n",
      "MAPE = 2685508596512427.5\n",
      "Accuracy score = 0.4492753623188406\n"
     ]
    }
   ],
   "source": [
    "prev = model_lasso.predict(X_test)\n",
    "print(\"MSE=\",mean_squared_error(prev,Yr_test))\n",
    "print(\"R2=\",r2_score(Yr_test,prev))\n",
    "print(\"MAPE =\",mean_absolute_percentage_error(Yr_test,prev))\n",
    "\n",
    "prev_class = to_class(prev)\n",
    "print(\"Accuracy score =\", accuracy_score(Yb_test.to_list(), prev_class))"
   ]
  },
  {
   "cell_type": "code",
   "execution_count": 21,
   "metadata": {},
   "outputs": [
    {
     "data": {
      "text/plain": [
       "Text(0.5, 1.0, 'Lasso model coefficients')"
      ]
     },
     "execution_count": 21,
     "metadata": {},
     "output_type": "execute_result"
    },
    {
     "data": {
      "image/png": "[encoded data removed]",
      "text/plain": [
       "<Figure size 576x720 with 1 Axes>"
      ]
     },
     "metadata": {
      "needs_background": "light"
     },
     "output_type": "display_data"
    }
   ],
   "source": [
    "imp_coef = coef.sort_values()\n",
    "plt.rcParams['figure.figsize'] = (8.0, 10.0)\n",
    "imp_coef.plot(kind = \"barh\")\n",
    "plt.title(u\"Lasso model coefficients\")"
   ]
  },
  {
   "cell_type": "code",
   "execution_count": 22,
   "metadata": {},
   "outputs": [
    {
     "data": {
      "image/png": "[encoded data removed]",
      "text/plain": [
       "<Figure size 576x720 with 1 Axes>"
      ]
     },
     "metadata": {
      "needs_background": "light"
     },
     "output_type": "display_data"
    }
   ],
   "source": [
    "plt.plot(prev,Yr_test,\"o\")\n",
    "plt.xlabel(u\"Predicted value\")\n",
    "plt.ylabel(u\"Observed Rain\")\n",
    "plt.hlines(4,-1,9)\n",
    "plt.vlines(4,-1,35)\n",
    "plt.show()"
   ]
  },
  {
   "cell_type": "markdown",
   "metadata": {},
   "source": [
    "Confusion matrix"
   ]
  },
  {
   "cell_type": "code",
   "execution_count": 23,
   "metadata": {},
   "outputs": [
    {
     "name": "stdout",
     "output_type": "stream",
     "text": [
      "rain   False  True\n",
      "row_0             \n",
      "False     96     8\n",
      "True      20    14\n"
     ]
    }
   ],
   "source": [
    "table=pd.crosstab(prev>4,Yr_test>4)\n",
    "print(table)"
   ]
  },
  {
   "cell_type": "code",
   "execution_count": 24,
   "metadata": {},
   "outputs": [
    {
     "data": {
      "image/png": "[encoded data removed]",
      "text/plain": [
       "<Figure size 576x720 with 1 Axes>"
      ]
     },
     "metadata": {
      "needs_background": "light"
     },
     "output_type": "display_data"
    }
   ],
   "source": [
    "from sklearn.linear_model import LassoCV\n",
    "model = LassoCV(cv=5, alphas=np.array(range(1,50,1))/20.,n_jobs=-1,random_state=13).fit(X_train,Yr_train)\n",
    "m_log_alphas = -np.log10(model.alphas_)\n",
    "\n",
    "plt.figure()\n",
    "# ymin, ymax = 2300, 3800\n",
    "plt.plot(m_log_alphas, model.mse_path_, ':')\n",
    "plt.plot(m_log_alphas, model.mse_path_.mean(axis=-1), 'k',\n",
    "         label='Mean of MSE', linewidth=2)\n",
    "plt.axvline(-np.log10(model.alpha_), linestyle='--', color='k',\n",
    "            label='alpha: optimised by VC')\n",
    "\n",
    "plt.legend()\n",
    "\n",
    "plt.xlabel('-log(alpha)')\n",
    "plt.ylabel('MSE')\n",
    "plt.title('MSE of each validation: coordinate descent ')\n",
    "plt.show()"
   ]
  },
  {
   "cell_type": "code",
   "execution_count": 25,
   "metadata": {},
   "outputs": [
    {
     "data": {
      "image/png": "[encoded data removed]",
      "text/plain": [
       "<Figure size 576x720 with 1 Axes>"
      ]
     },
     "metadata": {
      "needs_background": "light"
     },
     "output_type": "display_data"
    }
   ],
   "source": [
    "from itertools import cycle\n",
    "\n",
    "from sklearn.linear_model import lasso_path\n",
    "alphas_lasso, coefs_lasso, _ = lasso_path(X_train,Yr_train, alphas=np.array(range(1,50,1))/20.,)\n",
    "\n",
    "\n",
    "plt.figure()\n",
    "ax = plt.gca()\n",
    "\n",
    "styles = cycle(['-', '--', '-.', ':'])\n",
    "\n",
    "neg_log_alphas_lasso = -np.log10(alphas_lasso)\n",
    "for coef_l, s in zip(coefs_lasso, styles):\n",
    "    l1 = plt.plot(neg_log_alphas_lasso, coef_l, linestyle=s,c='b')\n",
    "plt.xlabel('-Log(alpha)')\n",
    "plt.ylabel('Coefficients')\n",
    "plt.show()"
   ]
  },
  {
   "cell_type": "markdown",
   "metadata": {},
   "source": [
    "#### 3.1.2. With `rain_log`"
   ]
  },
  {
   "cell_type": "code",
   "execution_count": 45,
   "metadata": {},
   "outputs": [
    {
     "name": "stdout",
     "output_type": "stream",
     "text": [
      "Best R2 = 0.295246, Best parameter = {'alpha': 0.03015075376884422}\n"
     ]
    }
   ],
   "source": [
    "from sklearn.model_selection import GridSearchCV\n",
    "param=[{\"alpha\":np.linspace(0,2,200)}]\n",
    "regLasso = GridSearchCV(linear_model.Lasso(), param,cv=5,n_jobs=-1)\n",
    "regLassOpt=regLasso.fit(X_train, Yr_log_train)\n",
    "# optimal parameter \n",
    "regLassOpt.best_params_[\"alpha\"]\n",
    "print(\"Best R2 = %f, Best parameter = %s\" % (regLassOpt.best_score_,regLassOpt.best_params_))"
   ]
  },
  {
   "cell_type": "code",
   "execution_count": 46,
   "metadata": {},
   "outputs": [
    {
     "name": "stdout",
     "output_type": "stream",
     "text": [
      "MSE= 19.96473201713183\n",
      "R2= 0.23130401608892948\n",
      "Accuracy score = 0.5\n"
     ]
    }
   ],
   "source": [
    "prevLog=regLassOpt.predict(X_test)\n",
    "prev = np.exp(prevLog) -1\n",
    "print(\"MSE=\",mean_squared_error(prev,Yr_test))\n",
    "print(\"R2=\",r2_score(Yr_test,prev))\n",
    "\n",
    "prev_class = to_class(prev)\n",
    "print(\"Accuracy score =\", accuracy_score(Yb_test.to_list(), prev_class))"
   ]
  },
  {
   "cell_type": "code",
   "execution_count": 47,
   "metadata": {},
   "outputs": [
    {
     "data": {
      "text/plain": [
       "array([-0.        , -0.20375486, -0.        ,  0.08559954, -0.16989959,\n",
       "        0.61232737, -0.16450113,  0.        ,  0.85758931,  0.83716378,\n",
       "       -0.        , -0.5743623 , -0.        , -0.3750943 , -1.10017857,\n",
       "        0.        ,  0.        , -0.830107  , -0.24909363,  0.        ,\n",
       "       -0.        ,  0.        , -0.28084807, -0.        ,  0.10972767,\n",
       "        0.        ])"
      ]
     },
     "execution_count": 47,
     "metadata": {},
     "output_type": "execute_result"
    }
   ],
   "source": [
    "# Coefficients\n",
    "regLasso=linear_model.Lasso(alpha=regLassOpt.best_params_['alpha'])\n",
    "model_lasso=regLasso.fit(X_train,Yr_train)\n",
    "model_lasso.coef_"
   ]
  },
  {
   "cell_type": "code",
   "execution_count": 48,
   "metadata": {},
   "outputs": [
    {
     "name": "stdout",
     "output_type": "stream",
     "text": [
      "Lasso retain 14 variables and delete 12\n"
     ]
    }
   ],
   "source": [
    "coef = pd.Series(model_lasso.coef_, index = X_train.columns)\n",
    "print(\"Lasso retain \" + str(sum(coef != 0)) + \n",
    "      \" variables and delete \" +  str(sum(coef == 0)))"
   ]
  },
  {
   "cell_type": "markdown",
   "metadata": {},
   "source": [
    "### 3.2. Penalisation Ridge"
   ]
  },
  {
   "cell_type": "markdown",
   "metadata": {},
   "source": [
    "We implement the Ridge regression with the default values"
   ]
  },
  {
   "cell_type": "code",
   "execution_count": 28,
   "metadata": {},
   "outputs": [
    {
     "name": "stdout",
     "output_type": "stream",
     "text": [
      "MSE= 21.088212065303658\n",
      "R2= 0.18804700666386798\n"
     ]
    }
   ],
   "source": [
    "from sklearn.linear_model import Ridge\n",
    "regRidge = Ridge()\n",
    "regRidge.fit(X_train,Yr_train)\n",
    "prev = regRidge.predict(X_test)\n",
    "print(\"MSE=\" , mean_squared_error(Yr_test, prev))\n",
    "print(\"R2=\",r2_score(Yr_test,prev))"
   ]
  },
  {
   "cell_type": "markdown",
   "metadata": {},
   "source": [
    "The penalisation parameter is optimized by the cross validation"
   ]
  },
  {
   "cell_type": "code",
   "execution_count": 49,
   "metadata": {},
   "outputs": [
    {
     "name": "stdout",
     "output_type": "stream",
     "text": [
      "Best R2 = 0.197437, Best parameter = {'alpha': 72.8643216080402}\n"
     ]
    }
   ],
   "source": [
    "from sklearn.model_selection import GridSearchCV\n",
    "param=[{\"alpha\":np.linspace(0,100,200)}]\n",
    "regRidge = GridSearchCV(Ridge(), param,cv=5,n_jobs=-1)\n",
    "regRidOpt=regRidge.fit(X_train, Yr_train)\n",
    "# optimal parameter\n",
    "regRidOpt.best_params_[\"alpha\"]\n",
    "print(\"Best R2 = %f, Best parameter = %s\" % (regRidOpt.best_score_,regRidOpt.best_params_))"
   ]
  },
  {
   "cell_type": "markdown",
   "metadata": {},
   "source": [
    "Let's do some previsions with the optimized value of `lambda`"
   ]
  },
  {
   "cell_type": "code",
   "execution_count": 50,
   "metadata": {},
   "outputs": [
    {
     "name": "stdout",
     "output_type": "stream",
     "text": [
      "MSE= 20.265155636838212\n",
      "R2= 0.2197368971442747\n",
      "Accuracy score = 0.4492753623188406\n"
     ]
    }
   ],
   "source": [
    "prev=regRidOpt.predict(X_test)\n",
    "print(\"MSE=\",mean_squared_error(prev,Yr_test))\n",
    "print(\"R2=\",r2_score(Yr_test,prev))\n",
    "\n",
    "prev_class = to_class(prev)\n",
    "print(\"Accuracy score =\", accuracy_score(Yb_test.to_list(), prev_class))"
   ]
  },
  {
   "cell_type": "code",
   "execution_count": 51,
   "metadata": {},
   "outputs": [
    {
     "data": {
      "text/plain": [
       "array([-0.00609478, -0.21003643, -0.17658329,  0.22412766, -0.17680545,\n",
       "        0.54767152, -0.08143842,  0.11997553,  0.67344925,  0.80855976,\n",
       "       -0.07066287, -0.22937378, -0.185714  , -0.21812498, -0.93519253,\n",
       "        0.21397538,  0.20276565, -0.42627867, -0.20873469,  0.08785838,\n",
       "       -0.08625215,  0.02304334, -0.23611554, -0.11163307,  0.22927751,\n",
       "        0.16829209])"
      ]
     },
     "execution_count": 51,
     "metadata": {},
     "output_type": "execute_result"
    }
   ],
   "source": [
    "# Coefficients\n",
    "regRidge=linear_model.Ridge(alpha=regRidOpt.best_params_['alpha'])\n",
    "model_ridge=regRidge.fit(X_train,Yr_train)\n",
    "model_ridge.coef_"
   ]
  },
  {
   "cell_type": "code",
   "execution_count": 32,
   "metadata": {},
   "outputs": [
    {
     "name": "stdout",
     "output_type": "stream",
     "text": [
      "Ridge retains 26 variables and deletes 0\n"
     ]
    }
   ],
   "source": [
    "coef = pd.Series(model_ridge.coef_, index = X_train.columns)\n",
    "print(\"Ridge retains \" + str(sum(coef != 0)) + \n",
    "      \" variables and deletes \" +  str(sum(coef == 0)))"
   ]
  },
  {
   "cell_type": "code",
   "execution_count": 33,
   "metadata": {},
   "outputs": [
    {
     "data": {
      "text/plain": [
       "Text(0.5, 1.0, 'Ridge model coefficients')"
      ]
     },
     "execution_count": 33,
     "metadata": {},
     "output_type": "execute_result"
    },
    {
     "data": {
      "image/png": "[encoded data removed]",
      "text/plain": [
       "<Figure size 576x720 with 1 Axes>"
      ]
     },
     "metadata": {
      "needs_background": "light"
     },
     "output_type": "display_data"
    }
   ],
   "source": [
    "imp_coef = coef.sort_values()\n",
    "plt.rcParams['figure.figsize'] = (8.0, 10.0)\n",
    "imp_coef.plot(kind = \"barh\")\n",
    "plt.title(u\"Ridge model coefficients\")"
   ]
  },
  {
   "cell_type": "code",
   "execution_count": 34,
   "metadata": {},
   "outputs": [
    {
     "name": "stdout",
     "output_type": "stream",
     "text": [
      "MSE= 20.265155636838212\n",
      "R2= 0.2197368971442747\n",
      "MAPE = 2750459238891696.0\n",
      "Accuracy score = 0.4492753623188406\n"
     ]
    }
   ],
   "source": [
    "prev = model_ridge.predict(X_test)\n",
    "print(\"MSE=\",mean_squared_error(prev,Yr_test))\n",
    "print(\"R2=\",r2_score(Yr_test,prev))\n",
    "print(\"MAPE =\",mean_absolute_percentage_error(Yr_test,prev))\n",
    "\n",
    "prev_class = to_class(prev)\n",
    "print(\"Accuracy score =\", accuracy_score(Yb_test.to_list(), prev_class))"
   ]
  },
  {
   "cell_type": "markdown",
   "metadata": {},
   "source": [
    "With `rain_log`"
   ]
  },
  {
   "cell_type": "code",
   "execution_count": 52,
   "metadata": {},
   "outputs": [
    {
     "name": "stdout",
     "output_type": "stream",
     "text": [
      "Best R2 = 0.295142, Best parameter = {'alpha': 44.723618090452256}\n"
     ]
    }
   ],
   "source": [
    "from sklearn.model_selection import GridSearchCV\n",
    "param=[{\"alpha\":np.linspace(0,100,200)}]\n",
    "regRidge = GridSearchCV(Ridge(), param,cv=5,n_jobs=-1)\n",
    "regRidOpt=regRidge.fit(X_train, Yr_log_train)\n",
    "# optimal parameter\n",
    "regRidOpt.best_params_[\"alpha\"]\n",
    "print(\"Best R2 = %f, Best parameter = %s\" % (regRidOpt.best_score_,regRidOpt.best_params_))"
   ]
  },
  {
   "cell_type": "code",
   "execution_count": 53,
   "metadata": {},
   "outputs": [
    {
     "name": "stdout",
     "output_type": "stream",
     "text": [
      "MSE= 19.315240248667436\n",
      "R2= 0.2563111994347145\n",
      "Accuracy score = 0.5217391304347826\n"
     ]
    }
   ],
   "source": [
    "prevLog=regRidOpt.predict(X_test)\n",
    "prev = np.exp(prevLog) -1\n",
    "print(\"MSE=\",mean_squared_error(prev,Yr_test))\n",
    "print(\"R2=\",r2_score(Yr_test,prev))\n",
    "\n",
    "prev_class = to_class(prev)\n",
    "print(\"Accuracy score =\", accuracy_score(Yb_test.to_list(), prev_class))"
   ]
  },
  {
   "cell_type": "code",
   "execution_count": 54,
   "metadata": {},
   "outputs": [
    {
     "data": {
      "text/plain": [
       "array([ 0.02315269, -0.23376105, -0.2002722 ,  0.27413585, -0.25206068,\n",
       "        0.58578056, -0.18194893,  0.15368724,  0.7514615 ,  0.84502073,\n",
       "       -0.0181764 , -0.24505583, -0.24013888, -0.29433867, -1.00821262,\n",
       "        0.27516914,  0.27063989, -0.5503875 , -0.29489482,  0.09214583,\n",
       "       -0.12567836,  0.01896032, -0.32318273, -0.15177467,  0.30884364,\n",
       "        0.23448788])"
      ]
     },
     "execution_count": 54,
     "metadata": {},
     "output_type": "execute_result"
    }
   ],
   "source": [
    "# Coefficients\n",
    "regRidge=linear_model.Ridge(alpha=regRidOpt.best_params_['alpha'])\n",
    "model_ridge=regRidge.fit(X_train,Yr_train)\n",
    "model_ridge.coef_"
   ]
  },
  {
   "cell_type": "markdown",
   "metadata": {},
   "source": [
    "### 3.2. Penalisation Elastic"
   ]
  },
  {
   "cell_type": "code",
   "execution_count": 35,
   "metadata": {},
   "outputs": [
    {
     "name": "stdout",
     "output_type": "stream",
     "text": [
      "MSE= 21.596675401226417\n",
      "R2= 0.16846979801641615\n"
     ]
    }
   ],
   "source": [
    "from sklearn.linear_model import ElasticNet\n",
    "regElastic = ElasticNet()\n",
    "regElastic.fit(X_train,Yr_train)\n",
    "prev = regElastic.predict(X_test)\n",
    "print(\"MSE=\" , mean_squared_error(Yr_test, prev))\n",
    "print(\"R2=\",r2_score(Yr_test,prev))"
   ]
  },
  {
   "cell_type": "code",
   "execution_count": 57,
   "metadata": {},
   "outputs": [
    {
     "name": "stdout",
     "output_type": "stream",
     "text": [
      "Best R2 = 0.200532, Best parameter = {'alpha': 0.12244897959183673, 'l1_ratio': 0.9583333333333333}\n"
     ]
    }
   ],
   "source": [
    "from sklearn.model_selection import GridSearchCV\n",
    "param=[{\"alpha\":np.linspace(0,2,50),\"l1_ratio\": np.linspace(0,1,25)}]\n",
    "regElastic = GridSearchCV(ElasticNet(), param,cv=5,n_jobs=-1)\n",
    "regElasOpt=regElastic.fit(X_train, Yr_train)\n",
    "# optimal parameter\n",
    "regElasOpt.best_params_[\"alpha\"]\n",
    "print(\"Best R2 = %f, Best parameter = %s\" % (regElasOpt.best_score_,regElasOpt.best_params_))"
   ]
  },
  {
   "cell_type": "markdown",
   "metadata": {},
   "source": [
    "Let's do some previsions with the optimized value of `lambda`"
   ]
  },
  {
   "cell_type": "code",
   "execution_count": 58,
   "metadata": {},
   "outputs": [
    {
     "name": "stdout",
     "output_type": "stream",
     "text": [
      "MSE= 20.12817853316162\n",
      "R2= 0.22501088476372355\n",
      "MAPE= 2686673707197718.5\n",
      "Accuracy score = 0.4492753623188406\n"
     ]
    }
   ],
   "source": [
    "prev=regElasOpt.predict(X_test)\n",
    "print(\"MSE=\",mean_squared_error(prev,Yr_test))\n",
    "print(\"R2=\",r2_score(Yr_test,prev))\n",
    "print(\"MAPE=\",mean_absolute_percentage_error(Yr_test,prev))\n",
    "prev_class = to_class(prev)\n",
    "print(\"Accuracy score =\", accuracy_score(Yb_test.to_list(), prev_class))"
   ]
  },
  {
   "cell_type": "code",
   "execution_count": 59,
   "metadata": {},
   "outputs": [
    {
     "data": {
      "text/plain": [
       "array([-0.        , -0.28674809, -0.06736763,  0.03560469, -0.        ,\n",
       "        0.46764149, -0.        , -0.        ,  0.59033191,  0.79704141,\n",
       "       -0.        , -0.31923804, -0.        , -0.09143693, -0.90526434,\n",
       "        0.        ,  0.        , -0.24297972, -0.        ,  0.        ,\n",
       "       -0.        ,  0.        , -0.        , -0.        ,  0.        ,\n",
       "        0.        ])"
      ]
     },
     "execution_count": 59,
     "metadata": {},
     "output_type": "execute_result"
    }
   ],
   "source": [
    "# Coefficients\n",
    "regElastic=linear_model.ElasticNet(alpha=regElasOpt.best_params_['alpha'])\n",
    "model_elastic=regElastic.fit(X_train,Yr_train)\n",
    "model_elastic.coef_"
   ]
  },
  {
   "cell_type": "code",
   "execution_count": 60,
   "metadata": {},
   "outputs": [
    {
     "name": "stdout",
     "output_type": "stream",
     "text": [
      "Elastic retains 10 variables and deletes 16\n"
     ]
    }
   ],
   "source": [
    "coef = pd.Series(model_elastic.coef_, index = X_train.columns)\n",
    "print(\"Elastic retains \" + str(sum(coef != 0)) + \n",
    "      \" variables and deletes \" +  str(sum(coef == 0)))"
   ]
  },
  {
   "cell_type": "code",
   "execution_count": 61,
   "metadata": {},
   "outputs": [
    {
     "data": {
      "text/plain": [
       "Text(0.5, 1.0, 'Elastic model coefficients')"
      ]
     },
     "execution_count": 61,
     "metadata": {},
     "output_type": "execute_result"
    },
    {
     "data": {
      "image/png": "[encoded data removed]",
      "text/plain": [
       "<Figure size 576x720 with 1 Axes>"
      ]
     },
     "metadata": {
      "needs_background": "light"
     },
     "output_type": "display_data"
    }
   ],
   "source": [
    "imp_coef = coef.sort_values()\n",
    "plt.rcParams['figure.figsize'] = (8.0, 10.0)\n",
    "imp_coef.plot(kind = \"barh\")\n",
    "plt.title(u\"Elastic model coefficients\")"
   ]
  },
  {
   "cell_type": "markdown",
   "metadata": {},
   "source": [
    "With `rain_log`"
   ]
  },
  {
   "cell_type": "code",
   "execution_count": 63,
   "metadata": {},
   "outputs": [
    {
     "name": "stdout",
     "output_type": "stream",
     "text": [
      "Best R2 = 0.295159, Best parameter = {'alpha': 0.04081632653061224, 'l1_ratio': 0.6666666666666666}\n"
     ]
    }
   ],
   "source": [
    "from sklearn.model_selection import GridSearchCV\n",
    "param=[{\"alpha\":np.linspace(0,2,50),\"l1_ratio\": np.linspace(0,1,25)}]\n",
    "regElastic = GridSearchCV(ElasticNet(), param,cv=5,n_jobs=-1)\n",
    "regElasOpt=regElastic.fit(X_train, Yr_log_train)\n",
    "# optimal parameter\n",
    "regElasOpt.best_params_[\"alpha\"]\n",
    "print(\"Best R2 = %f, Best parameter = %s\" % (regElasOpt.best_score_,regElasOpt.best_params_))"
   ]
  },
  {
   "cell_type": "markdown",
   "metadata": {},
   "source": [
    "## 4. Poisson Regression"
   ]
  },
  {
   "cell_type": "code",
   "execution_count": 42,
   "metadata": {},
   "outputs": [
    {
     "name": "stdout",
     "output_type": "stream",
     "text": [
      "MSE= 18.2459145461268\n",
      "R2= 0.2974831206170533\n"
     ]
    }
   ],
   "source": [
    "from sklearn.linear_model import PoissonRegressor\n",
    "regPoisson = PoissonRegressor()\n",
    "regPoisson.fit(X_train,Yr_train)\n",
    "prev = regPoisson.predict(X_test)\n",
    "print(\"MSE=\",mean_squared_error(Yr_test,prev))\n",
    "print(\"R2=\",r2_score(Yr_test,prev))"
   ]
  },
  {
   "cell_type": "code",
   "execution_count": 43,
   "metadata": {},
   "outputs": [
    {
     "name": "stdout",
     "output_type": "stream",
     "text": [
      "Best R2 = 0.261308, Best parameter = {'alpha': 0.5025125628140703}\n"
     ]
    }
   ],
   "source": [
    "from sklearn.model_selection import GridSearchCV\n",
    "param=[{\"alpha\":np.linspace(0,100,200)}]\n",
    "regPoisson = GridSearchCV(PoissonRegressor(), param,cv=5,n_jobs=-1)\n",
    "regPoiOpt=regPoisson.fit(X_train, Yr_train)\n",
    "# optimal parameter\n",
    "regPoiOpt.best_params_[\"alpha\"]\n",
    "print(\"Best R2 = %f, Best parameter = %s\" % (regPoiOpt.best_score_,regPoiOpt.best_params_))"
   ]
  },
  {
   "cell_type": "code",
   "execution_count": 44,
   "metadata": {},
   "outputs": [
    {
     "name": "stdout",
     "output_type": "stream",
     "text": [
      "MSE= 18.09334055209049\n",
      "R2= 0.30335763054607934\n",
      "MAPE 2568736417138601.5\n",
      "Accuracy score = 0.4420289855072464\n"
     ]
    }
   ],
   "source": [
    "prev=regPoiOpt.predict(X_test)\n",
    "print(\"MSE=\",mean_squared_error(prev,Yr_test))\n",
    "print(\"R2=\",r2_score(Yr_test,prev))\n",
    "print(\"MAPE\",mean_absolute_percentage_error(Yr_test,prev))\n",
    "prev_class = to_class(prev)\n",
    "print(\"Accuracy score =\", accuracy_score(Yb_test.to_list(), prev_class))"
   ]
  }
 ],
 "metadata": {
  "interpreter": {
   "hash": "0650c59a78a128c748f8aadfab5692cc08be5aacb695e9a8f2efcdc6dbedda40"
  },
  "kernelspec": {
   "display_name": "Python 3.8.10 ('base')",
   "language": "python",
   "name": "python3"
  },
  "language_info": {
   "codemirror_mode": {
    "name": "ipython",
    "version": 3
   },
   "file_extension": ".py",
   "mimetype": "text/x-python",
   "name": "python",
   "nbconvert_exporter": "python",
   "pygments_lexer": "ipython3",
   "version": "3.8.10"
  },
  "orig_nbformat": 4
 },
 "nbformat": 4,
 "nbformat_minor": 2
}
