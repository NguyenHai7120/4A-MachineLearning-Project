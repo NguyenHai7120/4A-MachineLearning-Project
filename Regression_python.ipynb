{
 "cells": [
  {
   "cell_type": "code",
   "execution_count": 17,
   "metadata": {},
   "outputs": [],
   "source": [
    "import pandas as pd\n",
    "import numpy as np\n",
    "import itertools\n",
    "import matplotlib.pyplot as plt\n",
    "%matplotlib inline\n",
    "import seaborn as sns\n",
    "import time\n"
   ]
  },
  {
   "cell_type": "markdown",
   "metadata": {},
   "source": [
    "## 1. Extraction des échantillons apprentissage et test"
   ]
  },
  {
   "cell_type": "markdown",
   "metadata": {},
   "source": [
    "For the comparaison then, we take the same split as in R. Let's import the test and train samples"
   ]
  },
  {
   "cell_type": "code",
   "execution_count": 5,
   "metadata": {},
   "outputs": [],
   "source": [
    "import pandas as pd\n",
    "train_set = pd.read_csv(\"data/train_set.txt\",sep = ' ')\n",
    "test_set = pd.read_csv(\"data/test_set.txt\",sep = ' ')"
   ]
  },
  {
   "cell_type": "code",
   "execution_count": 12,
   "metadata": {},
   "outputs": [],
   "source": [
    "X_train = pd.DataFrame(train_set)\n",
    "del X_train['rain']\n",
    "del X_train['rain_class']\n",
    "del X_train['rain_log']\n",
    "\n",
    "X_test = pd.DataFrame(test_set)\n",
    "del X_test['rain']\n",
    "del X_test['rain_class']\n",
    "del X_test['rain_log']"
   ]
  },
  {
   "cell_type": "code",
   "execution_count": 13,
   "metadata": {},
   "outputs": [],
   "source": [
    "Yr_train = train_set['rain']\n",
    "Yr_test = test_set['rain']"
   ]
  },
  {
   "cell_type": "code",
   "execution_count": 15,
   "metadata": {},
   "outputs": [],
   "source": [
    "Yr_log_train = train_set['rain_log']\n",
    "Yr_log_test = test_set['rain_log']"
   ]
  },
  {
   "cell_type": "code",
   "execution_count": 14,
   "metadata": {},
   "outputs": [],
   "source": [
    "Yb_train = train_set['rain_class']\n",
    "Yb_test = test_set['rain_class']"
   ]
  },
  {
   "cell_type": "markdown",
   "metadata": {},
   "source": [
    "To compare easily, we write a new function calculating MAPE (Mean Absolute Percentage Error) as following"
   ]
  },
  {
   "cell_type": "code",
   "execution_count": 32,
   "metadata": {},
   "outputs": [],
   "source": [
    "\n",
    "def mean_absolute_percentage_error(y_pred, y_true): \n",
    "    return np.mean(np.abs((y_true - y_pred) / y_true)) * 100\n"
   ]
  },
  {
   "cell_type": "markdown",
   "metadata": {},
   "source": [
    "## 2.Linear regression without penalisation and without variable selection"
   ]
  },
  {
   "cell_type": "markdown",
   "metadata": {},
   "source": [
    "### 2.1. With `rain`"
   ]
  },
  {
   "cell_type": "code",
   "execution_count": 34,
   "metadata": {},
   "outputs": [
    {
     "name": "stdout",
     "output_type": "stream",
     "text": [
      "Score= 0.21247896871818328\n"
     ]
    }
   ],
   "source": [
    "from sklearn.linear_model import LinearRegression\n",
    "regLin = LinearRegression().fit(X_train, Yr_train)\n",
    "prev=regLin.predict(X_test)\n",
    "print(\"Score=\",regLin.score(X_test,Yr_test))"
   ]
  },
  {
   "cell_type": "code",
   "execution_count": 35,
   "metadata": {},
   "outputs": [
    {
     "name": "stdout",
     "output_type": "stream",
     "text": [
      "MSE= 20.453660063892954\n"
     ]
    }
   ],
   "source": [
    "# Erreur quadratique moyenne\n",
    "from sklearn.metrics import mean_squared_error\n",
    "print(\"MSE=\",mean_squared_error(prev,Yr_test))"
   ]
  },
  {
   "cell_type": "code",
   "execution_count": 36,
   "metadata": {},
   "outputs": [
    {
     "name": "stdout",
     "output_type": "stream",
     "text": [
      "MAPE= inf\n"
     ]
    }
   ],
   "source": [
    "print(\"MAPE=\",mean_absolute_percentage_error(prev,Yr_test))"
   ]
  },
  {
   "cell_type": "markdown",
   "metadata": {},
   "source": [
    "### 2.2. With `rain_log`"
   ]
  },
  {
   "cell_type": "code",
   "execution_count": 37,
   "metadata": {},
   "outputs": [
    {
     "name": "stdout",
     "output_type": "stream",
     "text": [
      "Score= 0.2949642815030614\n"
     ]
    }
   ],
   "source": [
    "from sklearn.linear_model import LinearRegression\n",
    "regLinLog = LinearRegression().fit(X_train, Yr_log_train)\n",
    "prevLog=regLinLog.predict(X_test)\n",
    "prev = np.exp(prevLog) -1\n",
    "print(\"Score=\",regLinLog.score(X_test,Yr_log_test))"
   ]
  },
  {
   "cell_type": "code",
   "execution_count": 38,
   "metadata": {},
   "outputs": [
    {
     "name": "stdout",
     "output_type": "stream",
     "text": [
      "MSE= 18.389337631437524\n"
     ]
    }
   ],
   "source": [
    "# Erreur quadratique moyenne\n",
    "from sklearn.metrics import mean_squared_error\n",
    "print(\"MSE=\",mean_squared_error(prev,Yr_test))"
   ]
  },
  {
   "cell_type": "code",
   "execution_count": 39,
   "metadata": {},
   "outputs": [
    {
     "name": "stdout",
     "output_type": "stream",
     "text": [
      "MAPE= inf\n"
     ]
    }
   ],
   "source": [
    "print(\"MAPE=\",mean_absolute_percentage_error(prev,Yr_test))"
   ]
  },
  {
   "cell_type": "markdown",
   "metadata": {},
   "source": [
    "## 3. Linear regression with variable selection: BIC, AIC et R2"
   ]
  }
 ],
 "metadata": {
  "interpreter": {
   "hash": "0650c59a78a128c748f8aadfab5692cc08be5aacb695e9a8f2efcdc6dbedda40"
  },
  "kernelspec": {
   "display_name": "Python 3.8.10 ('base')",
   "language": "python",
   "name": "python3"
  },
  "language_info": {
   "codemirror_mode": {
    "name": "ipython",
    "version": 3
   },
   "file_extension": ".py",
   "mimetype": "text/x-python",
   "name": "python",
   "nbconvert_exporter": "python",
   "pygments_lexer": "ipython3",
   "version": "3.8.10"
  },
  "orig_nbformat": 4
 },
 "nbformat": 4,
 "nbformat_minor": 2
}
