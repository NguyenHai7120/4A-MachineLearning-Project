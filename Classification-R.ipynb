{
 "cells": [
  {
   "cell_type": "code",
   "execution_count": 1,
   "metadata": {
    "vscode": {
     "languageId": "r"
    }
   },
   "outputs": [],
   "source": [
    "set.seed(42)\n",
    "train_set = read.delim(\"data/train_set.txt\", sep = \" \")\n",
    "test_set = read.delim(\"data/test_set.txt\", sep = \" \")\n",
    "\n",
    "train_set[\"rain\"] = NULL\n",
    "train_set[\"rain_log\"] = NULL\n",
    "\n",
    "test_set[\"rain\"] = NULL\n",
    "test_set[\"rain_log\"] = NULL\n",
    "\n",
    "train_set[,\"rain_class\"] = as.factor(train_set[,\"rain_class\"])\n",
    "test_set[,\"rain_class\"] = as.factor(test_set[,\"rain_class\"])"
   ]
  },
  {
   "cell_type": "code",
   "execution_count": 2,
   "metadata": {
    "vscode": {
     "languageId": "r"
    }
   },
   "outputs": [
    {
     "data": {
      "text/html": [
       "<style>\n",
       ".list-inline {list-style: none; margin:0; padding: 0}\n",
       ".list-inline>li {display: inline-block}\n",
       ".list-inline>li:not(:last-child)::after {content: \"\\00b7\"; padding: 0 .5ex}\n",
       "</style>\n",
       "<ol class=list-inline><li>'ff'</li><li>'t'</li><li>'td'</li><li>'hu'</li><li>'dd'</li><li>'precip_log'</li><li>'ws_arome'</li><li>'p3031_arome'</li><li>'u10_arome'</li><li>'v10_arome'</li><li>'t2m_arome'</li><li>'d2m_arome'</li><li>'r_arome'</li><li>'tp_arome_log'</li><li>'msl_arome'</li><li>'rain_class'</li><li>'month2'</li><li>'month3'</li><li>'month4'</li><li>'month5'</li><li>'month6'</li><li>'month7'</li><li>'month8'</li><li>'month9'</li><li>'month10'</li><li>'month11'</li><li>'month12'</li></ol>\n"
      ],
      "text/latex": [
       "\\begin{enumerate*}\n",
       "\\item 'ff'\n",
       "\\item 't'\n",
       "\\item 'td'\n",
       "\\item 'hu'\n",
       "\\item 'dd'\n",
       "\\item 'precip\\_log'\n",
       "\\item 'ws\\_arome'\n",
       "\\item 'p3031\\_arome'\n",
       "\\item 'u10\\_arome'\n",
       "\\item 'v10\\_arome'\n",
       "\\item 't2m\\_arome'\n",
       "\\item 'd2m\\_arome'\n",
       "\\item 'r\\_arome'\n",
       "\\item 'tp\\_arome\\_log'\n",
       "\\item 'msl\\_arome'\n",
       "\\item 'rain\\_class'\n",
       "\\item 'month2'\n",
       "\\item 'month3'\n",
       "\\item 'month4'\n",
       "\\item 'month5'\n",
       "\\item 'month6'\n",
       "\\item 'month7'\n",
       "\\item 'month8'\n",
       "\\item 'month9'\n",
       "\\item 'month10'\n",
       "\\item 'month11'\n",
       "\\item 'month12'\n",
       "\\end{enumerate*}\n"
      ],
      "text/markdown": [
       "1. 'ff'\n",
       "2. 't'\n",
       "3. 'td'\n",
       "4. 'hu'\n",
       "5. 'dd'\n",
       "6. 'precip_log'\n",
       "7. 'ws_arome'\n",
       "8. 'p3031_arome'\n",
       "9. 'u10_arome'\n",
       "10. 'v10_arome'\n",
       "11. 't2m_arome'\n",
       "12. 'd2m_arome'\n",
       "13. 'r_arome'\n",
       "14. 'tp_arome_log'\n",
       "15. 'msl_arome'\n",
       "16. 'rain_class'\n",
       "17. 'month2'\n",
       "18. 'month3'\n",
       "19. 'month4'\n",
       "20. 'month5'\n",
       "21. 'month6'\n",
       "22. 'month7'\n",
       "23. 'month8'\n",
       "24. 'month9'\n",
       "25. 'month10'\n",
       "26. 'month11'\n",
       "27. 'month12'\n",
       "\n",
       "\n"
      ],
      "text/plain": [
       " [1] \"ff\"           \"t\"            \"td\"           \"hu\"           \"dd\"          \n",
       " [6] \"precip_log\"   \"ws_arome\"     \"p3031_arome\"  \"u10_arome\"    \"v10_arome\"   \n",
       "[11] \"t2m_arome\"    \"d2m_arome\"    \"r_arome\"      \"tp_arome_log\" \"msl_arome\"   \n",
       "[16] \"rain_class\"   \"month2\"       \"month3\"       \"month4\"       \"month5\"      \n",
       "[21] \"month6\"       \"month7\"       \"month8\"       \"month9\"       \"month10\"     \n",
       "[26] \"month11\"      \"month12\"     "
      ]
     },
     "metadata": {},
     "output_type": "display_data"
    }
   ],
   "source": [
    "exp_var = setdiff(names(train_set), c(\"rain\"))\n",
    "exp_var"
   ]
  },
  {
   "cell_type": "code",
   "execution_count": 3,
   "metadata": {
    "vscode": {
     "languageId": "r"
    }
   },
   "outputs": [],
   "source": [
    "MAPE = function(y, y_hat){\n",
    "    # y = as.numeric(y)\n",
    "    # y_hat = as.numeric(y_hat)\n",
    "    mape = 100*mean(abs((y - y_hat)/y))\n",
    "    return(mape)\n",
    "}\n",
    "\n",
    "MSE = function(y, y_hat){\n",
    "    mse = mean((y - y_hat)**2)\n",
    "    return(mse)\n",
    "}\n",
    "\n",
    "confusion_matrix = function(pred_class, true_class){\n",
    "    tab = table(pred_class, true_class)\n",
    "    print(\"Confusion matrix\")\n",
    "    print(tab)\n",
    "    acc = sum(diag(tab)) / sum(tab)\n",
    "    print(paste(\"Prediction accuracy : \", acc))\n",
    "}"
   ]
  },
  {
   "cell_type": "code",
   "execution_count": 4,
   "metadata": {
    "vscode": {
     "languageId": "r"
    }
   },
   "outputs": [
    {
     "name": "stderr",
     "output_type": "stream",
     "text": [
      "Loading required package: Matrix\n",
      "\n",
      "Loaded glmnet 4.1-4\n",
      "\n",
      "\n",
      "Attaching package: 'ellipse'\n",
      "\n",
      "\n",
      "The following object is masked from 'package:graphics':\n",
      "\n",
      "    pairs\n",
      "\n",
      "\n",
      "Loading required package: ggplot2\n",
      "\n",
      "\n",
      "Attaching package: 'plotly'\n",
      "\n",
      "\n",
      "The following object is masked from 'package:ggplot2':\n",
      "\n",
      "    last_plot\n",
      "\n",
      "\n",
      "The following object is masked from 'package:MASS':\n",
      "\n",
      "    select\n",
      "\n",
      "\n",
      "The following object is masked from 'package:stats':\n",
      "\n",
      "    filter\n",
      "\n",
      "\n",
      "The following object is masked from 'package:graphics':\n",
      "\n",
      "    layout\n",
      "\n",
      "\n",
      "\n",
      "Attaching package: 'dplyr'\n",
      "\n",
      "\n",
      "The following object is masked from 'package:gridExtra':\n",
      "\n",
      "    combine\n",
      "\n",
      "\n",
      "The following object is masked from 'package:MASS':\n",
      "\n",
      "    select\n",
      "\n",
      "\n",
      "The following objects are masked from 'package:stats':\n",
      "\n",
      "    filter, lag\n",
      "\n",
      "\n",
      "The following objects are masked from 'package:base':\n",
      "\n",
      "    intersect, setdiff, setequal, union\n",
      "\n",
      "\n"
     ]
    }
   ],
   "source": [
    "library(glmnet)\n",
    "library(Rcpp)\n",
    "library(ellipse)\n",
    "library(leaps)\n",
    "library(MASS)\n",
    "\n",
    "library(plotly)\n",
    "library(ggplot2)     \n",
    "library(gridExtra)   \n",
    "library(ggfortify)   \n",
    "library(ggcorrplot) \n",
    "\n",
    "library(dplyr)"
   ]
  },
  {
   "cell_type": "markdown",
   "metadata": {},
   "source": [
    "## 4. Support Vector Machine"
   ]
  },
  {
   "cell_type": "code",
   "execution_count": 5,
   "metadata": {
    "vscode": {
     "languageId": "r"
    }
   },
   "outputs": [],
   "source": [
    "x_train = as.matrix(train_set[, exp_var])\n",
    "x_test = as.matrix(test_set[, exp_var])\n",
    "\n",
    "y_train = as.factor(train_set[,\"rain_class\"])\n",
    "y_test = as.factor(test_set[,\"rain_class\"])"
   ]
  },
  {
   "cell_type": "code",
   "execution_count": 6,
   "metadata": {
    "vscode": {
     "languageId": "r"
    }
   },
   "outputs": [],
   "source": [
    "library(e1071)\n",
    "library(rpart)"
   ]
  },
  {
   "cell_type": "markdown",
   "metadata": {},
   "source": [
    "### 4.1. Linear Support Vector Machine Classification"
   ]
  },
  {
   "cell_type": "markdown",
   "metadata": {},
   "source": [
    "Firstly we will fit a basic SVM model without tuning hyperparameters"
   ]
  },
  {
   "cell_type": "code",
   "execution_count": 7,
   "metadata": {
    "vscode": {
     "languageId": "r"
    }
   },
   "outputs": [
    {
     "data": {
      "text/plain": [
       "\n",
       "Call:\n",
       "svm(formula = rain_class ~ ., data = train_set, type = \"C\", kernel = \"linear\")\n",
       "\n",
       "\n",
       "Parameters:\n",
       "   SVM-Type:  C-classification \n",
       " SVM-Kernel:  linear \n",
       "       cost:  1 \n",
       "\n",
       "Number of Support Vectors:  471\n",
       "\n",
       " ( 203 115 153 )\n",
       "\n",
       "\n",
       "Number of Classes:  3 \n",
       "\n",
       "Levels: \n",
       " high_rain low_rain no_rain\n",
       "\n",
       "\n"
      ]
     },
     "metadata": {},
     "output_type": "display_data"
    }
   ],
   "source": [
    "linear.svm = svm(rain_class ~ ., data = train_set, type = \"C\", kernel = 'linear')\n",
    "summary(linear.svm)"
   ]
  },
  {
   "cell_type": "markdown",
   "metadata": {},
   "source": [
    "    There are too much support vectors in this linear case, it probably means that the data set is not linearly seperable."
   ]
  },
  {
   "cell_type": "code",
   "execution_count": 8,
   "metadata": {
    "vscode": {
     "languageId": "r"
    }
   },
   "outputs": [
    {
     "data": {
      "image/png": "[encoded data removed]",
      "text/plain": [
       "Plot with title \"SVM classification plot\""
      ]
     },
     "metadata": {
      "image/png": {
       "height": 420,
       "width": 420
      }
     },
     "output_type": "display_data"
    }
   ],
   "source": [
    "plot(linear.svm, data = train_set, t ~ msl_arome)"
   ]
  },
  {
   "cell_type": "code",
   "execution_count": 9,
   "metadata": {
    "vscode": {
     "languageId": "r"
    }
   },
   "outputs": [
    {
     "name": "stdout",
     "output_type": "stream",
     "text": [
      "[1] \"Confusion matrix\"\n",
      "           true_class\n",
      "pred_class  high_rain low_rain no_rain\n",
      "  high_rain        83       21       7\n",
      "  low_rain         64      190      95\n",
      "  no_rain           8       23      59\n",
      "[1] \"Prediction accuracy :  0.603636363636364\"\n"
     ]
    }
   ],
   "source": [
    "confusion_matrix(predict(linear.svm, newdata = train_set), y_train)"
   ]
  },
  {
   "cell_type": "code",
   "execution_count": 10,
   "metadata": {
    "vscode": {
     "languageId": "r"
    }
   },
   "outputs": [
    {
     "name": "stdout",
     "output_type": "stream",
     "text": [
      "[1] \"Confusion matrix\"\n",
      "           true_class\n",
      "pred_class  high_rain low_rain no_rain\n",
      "  high_rain        21        9       7\n",
      "  low_rain         11       41      26\n",
      "  no_rain           1        8      14\n",
      "[1] \"Prediction accuracy :  0.550724637681159\"\n"
     ]
    }
   ],
   "source": [
    "confusion_matrix(predict(linear.svm, newdata = test_set), y_test)"
   ]
  },
  {
   "cell_type": "markdown",
   "metadata": {},
   "source": [
    "### Hyperparameter tuning"
   ]
  },
  {
   "cell_type": "code",
   "execution_count": 11,
   "metadata": {
    "vscode": {
     "languageId": "r"
    }
   },
   "outputs": [],
   "source": [
    "linear.svm.tune = tune.svm(rain_class ~ ., data = train_set, type = \"C\", kernel = 'linear', cost = seq(1, 100, by = 1))\n"
   ]
  },
  {
   "cell_type": "code",
   "execution_count": 12,
   "metadata": {
    "vscode": {
     "languageId": "r"
    }
   },
   "outputs": [
    {
     "data": {
      "text/plain": [
       "\n",
       "Parameter tuning of 'svm':\n",
       "\n",
       "- sampling method: 10-fold cross validation \n",
       "\n",
       "- best parameters:\n",
       " cost\n",
       "   21\n",
       "\n",
       "- best performance: 0.4490909 \n",
       "\n",
       "- Detailed performance results:\n",
       "    cost     error dispersion\n",
       "1      1 0.4545455 0.03206971\n",
       "2      2 0.4509091 0.03908973\n",
       "3      3 0.4527273 0.03969581\n",
       "4      4 0.4563636 0.03143346\n",
       "5      5 0.4600000 0.02717153\n",
       "6      6 0.4563636 0.03024236\n",
       "7      7 0.4545455 0.03319531\n",
       "8      8 0.4509091 0.03406902\n",
       "9      9 0.4545455 0.03319531\n",
       "10    10 0.4563636 0.03368956\n",
       "11    11 0.4527273 0.03681538\n",
       "12    12 0.4527273 0.03779992\n",
       "13    13 0.4545455 0.03319531\n",
       "14    14 0.4527273 0.02900239\n",
       "15    15 0.4563636 0.03143346\n",
       "16    16 0.4545455 0.03428397\n",
       "17    17 0.4545455 0.03090315\n",
       "18    18 0.4509091 0.03183982\n",
       "19    19 0.4527273 0.03258104\n",
       "20    20 0.4509091 0.03183982\n",
       "21    21 0.4490909 0.03096252\n",
       "22    22 0.4509091 0.03183982\n",
       "23    23 0.4509091 0.03183982\n",
       "24    24 0.4527273 0.03476274\n",
       "25    25 0.4527273 0.03476274\n",
       "26    26 0.4527273 0.03476274\n",
       "27    27 0.4527273 0.03476274\n",
       "28    28 0.4527273 0.03476274\n",
       "29    29 0.4527273 0.03476274\n",
       "30    30 0.4527273 0.03476274\n",
       "31    31 0.4545455 0.03206971\n",
       "32    32 0.4545455 0.03206971\n",
       "33    33 0.4545455 0.03206971\n",
       "34    34 0.4545455 0.03206971\n",
       "35    35 0.4545455 0.03206971\n",
       "36    36 0.4527273 0.03476274\n",
       "37    37 0.4527273 0.03476274\n",
       "38    38 0.4527273 0.03476274\n",
       "39    39 0.4527273 0.03476274\n",
       "40    40 0.4527273 0.03476274\n",
       "41    41 0.4545455 0.03206971\n",
       "42    42 0.4527273 0.03476274\n",
       "43    43 0.4527273 0.03476274\n",
       "44    44 0.4527273 0.03476274\n",
       "45    45 0.4527273 0.03476274\n",
       "46    46 0.4527273 0.03476274\n",
       "47    47 0.4527273 0.03476274\n",
       "48    48 0.4527273 0.03476274\n",
       "49    49 0.4527273 0.03476274\n",
       "50    50 0.4527273 0.03476274\n",
       "51    51 0.4527273 0.03476274\n",
       "52    52 0.4527273 0.03476274\n",
       "53    53 0.4527273 0.03476274\n",
       "54    54 0.4527273 0.03476274\n",
       "55    55 0.4563636 0.03875946\n",
       "56    56 0.4563636 0.03875946\n",
       "57    57 0.4563636 0.03875946\n",
       "58    58 0.4563636 0.03875946\n",
       "59    59 0.4581818 0.03716293\n",
       "60    60 0.4581818 0.03716293\n",
       "61    61 0.4600000 0.03837852\n",
       "62    62 0.4600000 0.03837852\n",
       "63    63 0.4581818 0.04001836\n",
       "64    64 0.4581818 0.04001836\n",
       "65    65 0.4581818 0.04001836\n",
       "66    66 0.4581818 0.04001836\n",
       "67    67 0.4581818 0.04001836\n",
       "68    68 0.4581818 0.04001836\n",
       "69    69 0.4563636 0.03969581\n",
       "70    70 0.4563636 0.03969581\n",
       "71    71 0.4563636 0.03969581\n",
       "72    72 0.4545455 0.04285496\n",
       "73    73 0.4545455 0.04285496\n",
       "74    74 0.4545455 0.04285496\n",
       "75    75 0.4545455 0.04285496\n",
       "76    76 0.4545455 0.04285496\n",
       "77    77 0.4545455 0.04285496\n",
       "78    78 0.4545455 0.04285496\n",
       "79    79 0.4545455 0.04285496\n",
       "80    80 0.4545455 0.04285496\n",
       "81    81 0.4545455 0.04285496\n",
       "82    82 0.4545455 0.04285496\n",
       "83    83 0.4545455 0.04285496\n",
       "84    84 0.4545455 0.04285496\n",
       "85    85 0.4545455 0.04285496\n",
       "86    86 0.4545455 0.04285496\n",
       "87    87 0.4545455 0.04285496\n",
       "88    88 0.4545455 0.04285496\n",
       "89    89 0.4545455 0.04285496\n",
       "90    90 0.4545455 0.04285496\n",
       "91    91 0.4545455 0.04285496\n",
       "92    92 0.4563636 0.04150520\n",
       "93    93 0.4563636 0.04150520\n",
       "94    94 0.4545455 0.04285496\n",
       "95    95 0.4545455 0.04285496\n",
       "96    96 0.4545455 0.04285496\n",
       "97    97 0.4563636 0.04150520\n",
       "98    98 0.4563636 0.04150520\n",
       "99    99 0.4563636 0.04150520\n",
       "100  100 0.4563636 0.04150520\n"
      ]
     },
     "metadata": {},
     "output_type": "display_data"
    }
   ],
   "source": [
    "summary(linear.svm.tune)"
   ]
  },
  {
   "cell_type": "code",
   "execution_count": 13,
   "metadata": {
    "vscode": {
     "languageId": "r"
    }
   },
   "outputs": [
    {
     "data": {
      "image/png": "[encoded data removed]",
      "text/plain": [
       "Plot with title \"Performance of `svm'\""
      ]
     },
     "metadata": {
      "image/png": {
       "height": 420,
       "width": 420
      }
     },
     "output_type": "display_data"
    }
   ],
   "source": [
    "plot(linear.svm.tune)"
   ]
  },
  {
   "cell_type": "code",
   "execution_count": 14,
   "metadata": {
    "vscode": {
     "languageId": "r"
    }
   },
   "outputs": [
    {
     "data": {
      "text/html": [
       "21"
      ],
      "text/latex": [
       "21"
      ],
      "text/markdown": [
       "21"
      ],
      "text/plain": [
       "[1] 21"
      ]
     },
     "metadata": {},
     "output_type": "display_data"
    }
   ],
   "source": [
    "linear.best.c = linear.svm.tune$best.parameters$cost\n",
    "linear.best.c"
   ]
  },
  {
   "cell_type": "code",
   "execution_count": 15,
   "metadata": {
    "vscode": {
     "languageId": "r"
    }
   },
   "outputs": [
    {
     "name": "stdout",
     "output_type": "stream",
     "text": [
      "[1] \"Confusion matrix\"\n",
      "           true_class\n",
      "pred_class  high_rain low_rain no_rain\n",
      "  high_rain        83       23       7\n",
      "  low_rain         64      186      89\n",
      "  no_rain           8       25      65\n",
      "[1] \"Prediction accuracy :  0.607272727272727\"\n"
     ]
    }
   ],
   "source": [
    "linear.best.svm = svm(rain_class ~ ., data = train_set, type = \"C\", kernel = 'linear', cost = linear.best.c)\n",
    "confusion_matrix(predict(linear.best.svm, newdata = train_set), y_train)\n"
   ]
  },
  {
   "cell_type": "code",
   "execution_count": 16,
   "metadata": {
    "vscode": {
     "languageId": "r"
    }
   },
   "outputs": [
    {
     "name": "stdout",
     "output_type": "stream",
     "text": [
      "[1] \"Confusion matrix\"\n",
      "           true_class\n",
      "pred_class  high_rain low_rain no_rain\n",
      "  high_rain        21       11       6\n",
      "  low_rain         11       41      26\n",
      "  no_rain           1        6      15\n",
      "[1] \"Prediction accuracy :  0.557971014492754\"\n"
     ]
    }
   ],
   "source": [
    "confusion_matrix(predict(linear.best.svm, newdata = test_set), y_test)\n"
   ]
  },
  {
   "cell_type": "markdown",
   "metadata": {},
   "source": [
    "Not really good, we just get one more good prediction!"
   ]
  },
  {
   "cell_type": "markdown",
   "metadata": {},
   "source": [
    "### 4.2. SVM with polynomial kernels"
   ]
  },
  {
   "cell_type": "code",
   "execution_count": 17,
   "metadata": {
    "vscode": {
     "languageId": "r"
    }
   },
   "outputs": [
    {
     "data": {
      "text/plain": [
       "\n",
       "Call:\n",
       "svm(formula = rain_class ~ ., data = train_set, type = \"C\", kernel = \"poly\", \n",
       "    gamma = 1, coef0 = 1, degree = 2, cost = 10)\n",
       "\n",
       "\n",
       "Parameters:\n",
       "   SVM-Type:  C-classification \n",
       " SVM-Kernel:  polynomial \n",
       "       cost:  10 \n",
       "     degree:  2 \n",
       "     coef.0:  1 \n",
       "\n",
       "Number of Support Vectors:  373\n",
       "\n",
       " ( 158 97 118 )\n",
       "\n",
       "\n",
       "Number of Classes:  3 \n",
       "\n",
       "Levels: \n",
       " high_rain low_rain no_rain\n",
       "\n",
       "\n"
      ]
     },
     "metadata": {},
     "output_type": "display_data"
    }
   ],
   "source": [
    "poly2.svm = svm(rain_class ~ ., data = train_set, type = \"C\", kernel = 'poly', gamma = 1., coef0 = 1., degree = 2, cost = 10)\n",
    "summary(poly2.svm)"
   ]
  },
  {
   "cell_type": "markdown",
   "metadata": {},
   "source": [
    "    There are less of support vectors than linear case"
   ]
  },
  {
   "cell_type": "code",
   "execution_count": 18,
   "metadata": {
    "vscode": {
     "languageId": "r"
    }
   },
   "outputs": [
    {
     "name": "stdout",
     "output_type": "stream",
     "text": [
      "[1] \"Confusion matrix\"\n",
      "           true_class\n",
      "pred_class  high_rain low_rain no_rain\n",
      "  high_rain       155        0       0\n",
      "  low_rain          0      233       1\n",
      "  no_rain           0        1     160\n",
      "[1] \"Prediction accuracy :  0.996363636363636\"\n"
     ]
    }
   ],
   "source": [
    "confusion_matrix(predict(poly2.svm, newdata = train_set), y_train)"
   ]
  },
  {
   "cell_type": "code",
   "execution_count": 19,
   "metadata": {
    "vscode": {
     "languageId": "r"
    }
   },
   "outputs": [
    {
     "name": "stdout",
     "output_type": "stream",
     "text": [
      "[1] \"Confusion matrix\"\n",
      "           true_class\n",
      "pred_class  high_rain low_rain no_rain\n",
      "  high_rain        19       15       6\n",
      "  low_rain         10       24      26\n",
      "  no_rain           4       19      15\n",
      "[1] \"Prediction accuracy :  0.420289855072464\"\n"
     ]
    }
   ],
   "source": [
    "confusion_matrix(predict(poly2.svm, newdata = test_set), y_test)"
   ]
  },
  {
   "cell_type": "markdown",
   "metadata": {},
   "source": [
    "    It seems that the model is overfit in the training set because the training accuracy is more than 99 percents meanwhile the test accuracy is just over 42 percents.\n",
    "\n",
    "    We will use cross validation to determine the best hyperparameters"
   ]
  },
  {
   "cell_type": "code",
   "execution_count": 20,
   "metadata": {
    "vscode": {
     "languageId": "r"
    }
   },
   "outputs": [
    {
     "data": {
      "text/plain": [
       "\n",
       "Parameter tuning of 'svm':\n",
       "\n",
       "- sampling method: 10-fold cross validation \n",
       "\n",
       "- best parameters:\n",
       " degree gamma coef0 cost\n",
       "      2   0.1     1  0.7\n",
       "\n",
       "- best performance: 0.4563636 \n",
       "\n",
       "- Detailed performance results:\n",
       "    degree gamma coef0 cost     error dispersion\n",
       "1        2  0.01     1  0.1 0.5109091 0.04806638\n",
       "2        2  0.02     1  0.1 0.4963636 0.02975258\n",
       "3        2  0.03     1  0.1 0.4836364 0.02993719\n",
       "4        2  0.04     1  0.1 0.4727273 0.03090315\n",
       "5        2  0.05     1  0.1 0.4690909 0.03066451\n",
       "6        2  0.06     1  0.1 0.4600000 0.04024717\n",
       "7        2  0.07     1  0.1 0.4672727 0.04203283\n",
       "8        2  0.08     1  0.1 0.4690909 0.05056158\n",
       "9        2  0.09     1  0.1 0.4745455 0.05174636\n",
       "10       2  0.10     1  0.1 0.4800000 0.06251538\n",
       "11       2  0.01     1  0.2 0.4963636 0.03837852\n",
       "12       2  0.02     1  0.2 0.4872727 0.03183982\n",
       "13       2  0.03     1  0.2 0.4672727 0.03212693\n",
       "14       2  0.04     1  0.2 0.4600000 0.04024717\n",
       "15       2  0.05     1  0.2 0.4709091 0.05103160\n",
       "16       2  0.06     1  0.2 0.4763636 0.04519116\n",
       "17       2  0.07     1  0.2 0.4781818 0.06473794\n",
       "18       2  0.08     1  0.2 0.4581818 0.07057419\n",
       "19       2  0.09     1  0.2 0.4709091 0.06382368\n",
       "20       2  0.10     1  0.2 0.4709091 0.07194019\n",
       "21       2  0.01     1  0.3 0.4927273 0.03969581\n",
       "22       2  0.02     1  0.3 0.4727273 0.03636364\n",
       "23       2  0.03     1  0.3 0.4600000 0.04024717\n",
       "24       2  0.04     1  0.3 0.4745455 0.05383374\n",
       "25       2  0.05     1  0.3 0.4818182 0.04791330\n",
       "26       2  0.06     1  0.3 0.4745455 0.06324555\n",
       "27       2  0.07     1  0.3 0.4654545 0.07078207\n",
       "28       2  0.08     1  0.3 0.4709091 0.06773253\n",
       "29       2  0.09     1  0.3 0.4763636 0.08031161\n",
       "30       2  0.10     1  0.3 0.4745455 0.08843087\n",
       "31       2  0.01     1  0.4 0.4890909 0.03779992\n",
       "32       2  0.02     1  0.4 0.4654545 0.03449757\n",
       "33       2  0.03     1  0.4 0.4636364 0.04635472\n",
       "34       2  0.04     1  0.4 0.4781818 0.05356012\n",
       "35       2  0.05     1  0.4 0.4763636 0.06344850\n",
       "36       2  0.06     1  0.4 0.4636364 0.07080801\n",
       "37       2  0.07     1  0.4 0.4727273 0.06748805\n",
       "38       2  0.08     1  0.4 0.4690909 0.08476186\n",
       "39       2  0.09     1  0.4 0.4672727 0.08991374\n",
       "40       2  0.10     1  0.4 0.4618182 0.07770822\n",
       "41       2  0.01     1  0.5 0.4890909 0.03875946\n",
       "42       2  0.02     1  0.5 0.4690909 0.03297326\n",
       "43       2  0.03     1  0.5 0.4763636 0.05672416\n",
       "44       2  0.04     1  0.5 0.4854545 0.05688582\n",
       "45       2  0.05     1  0.5 0.4618182 0.07129911\n",
       "46       2  0.06     1  0.5 0.4709091 0.06027181\n",
       "47       2  0.07     1  0.5 0.4690909 0.08076767\n",
       "48       2  0.08     1  0.5 0.4636364 0.09280844\n",
       "49       2  0.09     1  0.5 0.4618182 0.07770822\n",
       "50       2  0.10     1  0.5 0.4618182 0.07957647\n",
       "51       2  0.01     1  0.6 0.4909091 0.04198911\n",
       "52       2  0.02     1  0.6 0.4654545 0.03852181\n",
       "53       2  0.03     1  0.6 0.4800000 0.06072715\n",
       "54       2  0.04     1  0.6 0.4781818 0.06242718\n",
       "55       2  0.05     1  0.6 0.4654545 0.06705123\n",
       "56       2  0.06     1  0.6 0.4727273 0.06470957\n",
       "57       2  0.07     1  0.6 0.4709091 0.08966830\n",
       "58       2  0.08     1  0.6 0.4581818 0.07939163\n",
       "59       2  0.09     1  0.6 0.4672727 0.08088128\n",
       "60       2  0.10     1  0.6 0.4581818 0.08476186\n",
       "61       2  0.01     1  0.7 0.4836364 0.04302603\n",
       "62       2  0.02     1  0.7 0.4654545 0.04787495\n",
       "63       2  0.03     1  0.7 0.4763636 0.06516209\n",
       "64       2  0.04     1  0.7 0.4745455 0.07194019\n",
       "65       2  0.05     1  0.7 0.4690909 0.05987437\n",
       "66       2  0.06     1  0.7 0.4654545 0.08185184\n",
       "67       2  0.07     1  0.7 0.4654545 0.08536638\n",
       "68       2  0.08     1  0.7 0.4654545 0.07911355\n",
       "69       2  0.09     1  0.7 0.4636364 0.08187428\n",
       "70       2  0.10     1  0.7 0.4563636 0.08843087\n",
       "71       2  0.01     1  0.8 0.4800000 0.04302603\n",
       "72       2  0.02     1  0.8 0.4654545 0.05085134\n",
       "73       2  0.03     1  0.8 0.4836364 0.06367964\n",
       "74       2  0.04     1  0.8 0.4690909 0.07313020\n",
       "75       2  0.05     1  0.8 0.4709091 0.06087818\n",
       "76       2  0.06     1  0.8 0.4654545 0.08915479\n",
       "77       2  0.07     1  0.8 0.4654545 0.07530776\n",
       "78       2  0.08     1  0.8 0.4709091 0.07922953\n",
       "79       2  0.09     1  0.8 0.4600000 0.08400009\n",
       "80       2  0.10     1  0.8 0.4600000 0.08909297\n",
       "81       2  0.01     1  0.9 0.4781818 0.04024717\n",
       "82       2  0.02     1  0.9 0.4727273 0.05813129\n",
       "83       2  0.03     1  0.9 0.4872727 0.06168732\n",
       "84       2  0.04     1  0.9 0.4618182 0.06813803\n",
       "85       2  0.05     1  0.9 0.4654545 0.07232210\n",
       "86       2  0.06     1  0.9 0.4618182 0.08832697\n",
       "87       2  0.07     1  0.9 0.4654545 0.07817947\n",
       "88       2  0.08     1  0.9 0.4618182 0.08274448\n",
       "89       2  0.09     1  0.9 0.4618182 0.08956583\n",
       "90       2  0.10     1  0.9 0.4690909 0.08212065\n",
       "91       2  0.01     1  1.0 0.4763636 0.03908973\n",
       "92       2  0.02     1  1.0 0.4800000 0.05888464\n",
       "93       2  0.03     1  1.0 0.4800000 0.06973648\n",
       "94       2  0.04     1  1.0 0.4654545 0.06650117\n",
       "95       2  0.05     1  1.0 0.4672727 0.07904387\n",
       "96       2  0.06     1  1.0 0.4672727 0.07668523\n",
       "97       2  0.07     1  1.0 0.4690909 0.07704363\n",
       "98       2  0.08     1  1.0 0.4600000 0.08573134\n",
       "99       2  0.09     1  1.0 0.4618182 0.08406565\n",
       "100      2  0.10     1  1.0 0.4709091 0.08675351\n"
      ]
     },
     "metadata": {},
     "output_type": "display_data"
    }
   ],
   "source": [
    "poly2.svm.tune = tune.svm(rain_class ~ ., data = train_set, type = \"C\", kernel = 'poly',\n",
    "         gamma = seq(0.01, 0.1, by = 0.01), coef0 = 1., degree = 2, cost = seq(0.1, 1, by = 0.1))\n",
    "summary(poly2.svm.tune)"
   ]
  },
  {
   "cell_type": "code",
   "execution_count": 21,
   "metadata": {
    "vscode": {
     "languageId": "r"
    }
   },
   "outputs": [
    {
     "data": {
      "text/html": [
       "<table class=\"dataframe\">\n",
       "<caption>A data.frame: 1 × 4</caption>\n",
       "<thead>\n",
       "\t<tr><th></th><th scope=col>degree</th><th scope=col>gamma</th><th scope=col>coef0</th><th scope=col>cost</th></tr>\n",
       "\t<tr><th></th><th scope=col>&lt;dbl&gt;</th><th scope=col>&lt;dbl&gt;</th><th scope=col>&lt;dbl&gt;</th><th scope=col>&lt;dbl&gt;</th></tr>\n",
       "</thead>\n",
       "<tbody>\n",
       "\t<tr><th scope=row>70</th><td>2</td><td>0.1</td><td>1</td><td>0.7</td></tr>\n",
       "</tbody>\n",
       "</table>\n"
      ],
      "text/latex": [
       "A data.frame: 1 × 4\n",
       "\\begin{tabular}{r|llll}\n",
       "  & degree & gamma & coef0 & cost\\\\\n",
       "  & <dbl> & <dbl> & <dbl> & <dbl>\\\\\n",
       "\\hline\n",
       "\t70 & 2 & 0.1 & 1 & 0.7\\\\\n",
       "\\end{tabular}\n"
      ],
      "text/markdown": [
       "\n",
       "A data.frame: 1 × 4\n",
       "\n",
       "| <!--/--> | degree &lt;dbl&gt; | gamma &lt;dbl&gt; | coef0 &lt;dbl&gt; | cost &lt;dbl&gt; |\n",
       "|---|---|---|---|---|\n",
       "| 70 | 2 | 0.1 | 1 | 0.7 |\n",
       "\n"
      ],
      "text/plain": [
       "   degree gamma coef0 cost\n",
       "70 2      0.1   1     0.7 "
      ]
     },
     "metadata": {},
     "output_type": "display_data"
    }
   ],
   "source": [
    "poly2.svm.tune$best.parameters"
   ]
  },
  {
   "cell_type": "code",
   "execution_count": 22,
   "metadata": {
    "vscode": {
     "languageId": "r"
    }
   },
   "outputs": [],
   "source": [
    "poly2.best.c = poly2.svm.tune$best.parameters$cost\n",
    "poly2.best.gamma = poly2.svm.tune$best.parameters$gamma\n",
    "poly2.best.coef0 = poly2.svm.tune$best.parameters$coef0"
   ]
  },
  {
   "cell_type": "code",
   "execution_count": 23,
   "metadata": {
    "vscode": {
     "languageId": "r"
    }
   },
   "outputs": [
    {
     "data": {
      "text/plain": [
       "\n",
       "Call:\n",
       "svm(formula = rain_class ~ ., data = train_set, type = \"C\", kernel = \"poly\", \n",
       "    gamma = poly2.best.gamma, coef0 = poly2.best.coef0, degree = 2, \n",
       "    cost = poly2.best.c)\n",
       "\n",
       "\n",
       "Parameters:\n",
       "   SVM-Type:  C-classification \n",
       " SVM-Kernel:  polynomial \n",
       "       cost:  0.7 \n",
       "     degree:  2 \n",
       "     coef.0:  1 \n",
       "\n",
       "Number of Support Vectors:  460\n",
       "\n",
       " ( 199 121 140 )\n",
       "\n",
       "\n",
       "Number of Classes:  3 \n",
       "\n",
       "Levels: \n",
       " high_rain low_rain no_rain\n",
       "\n",
       "\n"
      ]
     },
     "metadata": {},
     "output_type": "display_data"
    }
   ],
   "source": [
    "poly2.best.svm = svm(rain_class ~ ., data = train_set, type = \"C\", kernel = 'poly', gamma = poly2.best.gamma,\n",
    "                 coef0 = poly2.best.coef0, degree = 2, cost = poly2.best.c)\n",
    "\n",
    "summary(poly2.best.svm)"
   ]
  },
  {
   "cell_type": "code",
   "execution_count": 24,
   "metadata": {
    "vscode": {
     "languageId": "r"
    }
   },
   "outputs": [
    {
     "name": "stdout",
     "output_type": "stream",
     "text": [
      "[1] \"Confusion matrix\"\n",
      "           true_class\n",
      "pred_class  high_rain low_rain no_rain\n",
      "  high_rain       111       22       4\n",
      "  low_rain         36      192      64\n",
      "  no_rain           8       20      93\n",
      "[1] \"Prediction accuracy :  0.72\"\n",
      "[1] \"Confusion matrix\"\n",
      "           true_class\n",
      "pred_class  high_rain low_rain no_rain\n",
      "  high_rain        20       15       8\n",
      "  low_rain          8       32      24\n",
      "  no_rain           5       11      15\n",
      "[1] \"Prediction accuracy :  0.485507246376812\"\n"
     ]
    }
   ],
   "source": [
    "confusion_matrix(predict(poly2.best.svm, newdata = train_set), y_train)\n",
    "confusion_matrix(predict(poly2.best.svm, newdata = test_set), y_test)\n"
   ]
  },
  {
   "cell_type": "markdown",
   "metadata": {},
   "source": [
    "#### SVM with polynomial kernels of degree 3"
   ]
  },
  {
   "cell_type": "code",
   "execution_count": 25,
   "metadata": {
    "vscode": {
     "languageId": "r"
    }
   },
   "outputs": [
    {
     "data": {
      "text/plain": [
       "\n",
       "Call:\n",
       "svm(formula = rain_class ~ ., data = train_set, type = \"C\", kernel = \"poly\", \n",
       "    gamma = 0.5, coef0 = 0.5, degree = 3, cost = 0.5)\n",
       "\n",
       "\n",
       "Parameters:\n",
       "   SVM-Type:  C-classification \n",
       " SVM-Kernel:  polynomial \n",
       "       cost:  0.5 \n",
       "     degree:  3 \n",
       "     coef.0:  0.5 \n",
       "\n",
       "Number of Support Vectors:  420\n",
       "\n",
       " ( 181 109 130 )\n",
       "\n",
       "\n",
       "Number of Classes:  3 \n",
       "\n",
       "Levels: \n",
       " high_rain low_rain no_rain\n",
       "\n",
       "\n"
      ]
     },
     "metadata": {},
     "output_type": "display_data"
    }
   ],
   "source": [
    "poly3.svm = svm(rain_class ~ ., data = train_set, type = \"C\", kernel = 'poly', gamma = 0.5, coef0 = 0.5, degree = 3, cost = 0.5)\n",
    "summary(poly3.svm)"
   ]
  },
  {
   "cell_type": "markdown",
   "metadata": {},
   "source": [
    "    There are less of support vectors than linear case"
   ]
  },
  {
   "cell_type": "code",
   "execution_count": 26,
   "metadata": {
    "vscode": {
     "languageId": "r"
    }
   },
   "outputs": [
    {
     "name": "stdout",
     "output_type": "stream",
     "text": [
      "[1] \"Confusion matrix\"\n",
      "           true_class\n",
      "pred_class  high_rain low_rain no_rain\n",
      "  high_rain       155        0       0\n",
      "  low_rain          0      234       0\n",
      "  no_rain           0        0     161\n",
      "[1] \"Prediction accuracy :  1\"\n"
     ]
    }
   ],
   "source": [
    "confusion_matrix(predict(poly3.svm, newdata = train_set), y_train)"
   ]
  },
  {
   "cell_type": "code",
   "execution_count": 27,
   "metadata": {
    "vscode": {
     "languageId": "r"
    }
   },
   "outputs": [
    {
     "name": "stdout",
     "output_type": "stream",
     "text": [
      "[1] \"Confusion matrix\"\n",
      "           true_class\n",
      "pred_class  high_rain low_rain no_rain\n",
      "  high_rain        20       17      10\n",
      "  low_rain          8       24      26\n",
      "  no_rain           5       17      11\n",
      "[1] \"Prediction accuracy :  0.398550724637681\"\n"
     ]
    }
   ],
   "source": [
    "confusion_matrix(predict(poly3.svm, newdata = test_set), y_test)"
   ]
  },
  {
   "cell_type": "markdown",
   "metadata": {},
   "source": [
    "\n",
    "\n",
    "    We will use cross validation to determine the best hyperparameters"
   ]
  },
  {
   "cell_type": "code",
   "execution_count": 28,
   "metadata": {
    "vscode": {
     "languageId": "r"
    }
   },
   "outputs": [
    {
     "data": {
      "text/plain": [
       "\n",
       "Parameter tuning of 'svm':\n",
       "\n",
       "- sampling method: 10-fold cross validation \n",
       "\n",
       "- best parameters:\n",
       " degree gamma coef0 cost\n",
       "      3  0.01   0.9  0.7\n",
       "\n",
       "- best performance: 0.4636364 \n",
       "\n",
       "- Detailed performance results:\n",
       "    degree gamma coef0 cost     error dispersion\n",
       "1        3  0.01   0.5  0.1 0.5418182 0.08732322\n",
       "2        3  0.02   0.5  0.1 0.5000000 0.07820296\n",
       "3        3  0.03   0.5  0.1 0.4890909 0.04957116\n",
       "4        3  0.04   0.5  0.1 0.4818182 0.05437684\n",
       "5        3  0.05   0.5  0.1 0.4818182 0.05160420\n",
       "6        3  0.06   0.5  0.1 0.4800000 0.04787495\n",
       "7        3  0.07   0.5  0.1 0.4800000 0.05762358\n",
       "8        3  0.08   0.5  0.1 0.4709091 0.05174636\n",
       "9        3  0.09   0.5  0.1 0.4763636 0.04519116\n",
       "10       3  0.10   0.5  0.1 0.4927273 0.03969581\n",
       "11       3  0.01   0.7  0.1 0.5290909 0.07295419\n",
       "12       3  0.02   0.7  0.1 0.4854545 0.05074287\n",
       "13       3  0.03   0.7  0.1 0.4800000 0.04787495\n",
       "14       3  0.04   0.7  0.1 0.4800000 0.04938557\n",
       "15       3  0.05   0.7  0.1 0.4818182 0.04474189\n",
       "16       3  0.06   0.7  0.1 0.4763636 0.06344850\n",
       "17       3  0.07   0.7  0.1 0.4709091 0.06266209\n",
       "18       3  0.08   0.7  0.1 0.4763636 0.05338840\n",
       "19       3  0.09   0.7  0.1 0.4836364 0.04387142\n",
       "20       3  0.10   0.7  0.1 0.4981818 0.04128336\n",
       "21       3  0.01   0.9  0.1 0.5127273 0.06846071\n",
       "22       3  0.02   0.9  0.1 0.4854545 0.04203283\n",
       "23       3  0.03   0.9  0.1 0.4709091 0.05030668\n",
       "24       3  0.04   0.9  0.1 0.4763636 0.04268319\n",
       "25       3  0.05   0.9  0.1 0.4781818 0.04374565\n",
       "26       3  0.06   0.9  0.1 0.4800000 0.05698259\n",
       "27       3  0.07   0.9  0.1 0.4818182 0.05437684\n",
       "28       3  0.08   0.9  0.1 0.4872727 0.06048473\n",
       "29       3  0.09   0.9  0.1 0.4872727 0.04519116\n",
       "30       3  0.10   0.9  0.1 0.4963636 0.04114969\n",
       "31       3  0.01   1.1  0.1 0.4963636 0.05623642\n",
       "32       3  0.02   1.1  0.1 0.4745455 0.04651293\n",
       "33       3  0.03   1.1  0.1 0.4763636 0.04599677\n",
       "34       3  0.04   1.1  0.1 0.4763636 0.04181379\n",
       "35       3  0.05   1.1  0.1 0.4818182 0.05369711\n",
       "36       3  0.06   1.1  0.1 0.4872727 0.06227992\n",
       "37       3  0.07   1.1  0.1 0.4818182 0.05504819\n",
       "38       3  0.08   1.1  0.1 0.4872727 0.05474710\n",
       "39       3  0.09   1.1  0.1 0.4854545 0.03932395\n",
       "40       3  0.10   1.1  0.1 0.4963636 0.04619597\n",
       "41       3  0.01   1.3  0.1 0.4890909 0.05518148\n",
       "42       3  0.02   1.3  0.1 0.4709091 0.04408023\n",
       "43       3  0.03   1.3  0.1 0.4781818 0.04114969\n",
       "44       3  0.04   1.3  0.1 0.4818182 0.04391326\n",
       "45       3  0.05   1.3  0.1 0.4909091 0.05420771\n",
       "46       3  0.06   1.3  0.1 0.4872727 0.05269592\n",
       "47       3  0.07   1.3  0.1 0.4854545 0.05688582\n",
       "48       3  0.08   1.3  0.1 0.4800000 0.05297400\n",
       "49       3  0.09   1.3  0.1 0.4890909 0.04651293\n",
       "50       3  0.10   1.3  0.1 0.5000000 0.04942275\n",
       "51       3  0.01   1.5  0.1 0.4890909 0.04729603\n",
       "52       3  0.02   1.5  0.1 0.4654545 0.04216370\n",
       "53       3  0.03   1.5  0.1 0.4781818 0.03740921\n",
       "54       3  0.04   1.5  0.1 0.4890909 0.04882457\n",
       "55       3  0.05   1.5  0.1 0.4836364 0.05698259\n",
       "56       3  0.06   1.5  0.1 0.4818182 0.05504819\n",
       "57       3  0.07   1.5  0.1 0.4854545 0.05816288\n",
       "58       3  0.08   1.5  0.1 0.4800000 0.05762358\n",
       "59       3  0.09   1.5  0.1 0.5000000 0.04867387\n",
       "60       3  0.10   1.5  0.1 0.5036364 0.05217052\n",
       "61       3  0.01   0.5  0.3 0.5018182 0.07026122\n",
       "62       3  0.02   0.5  0.3 0.4781818 0.04457740\n",
       "63       3  0.03   0.5  0.3 0.4781818 0.05001377\n",
       "64       3  0.04   0.5  0.3 0.4763636 0.05925773\n",
       "65       3  0.05   0.5  0.3 0.4781818 0.05557943\n",
       "66       3  0.06   0.5  0.3 0.4836364 0.05012381\n",
       "67       3  0.07   0.5  0.3 0.4981818 0.04128336\n",
       "68       3  0.08   0.5  0.3 0.4963636 0.04775973\n",
       "69       3  0.09   0.5  0.3 0.5072727 0.05030668\n",
       "70       3  0.10   0.5  0.3 0.5000000 0.04942275\n",
       "71       3  0.01   0.7  0.3 0.4854545 0.04374565\n",
       "72       3  0.02   0.7  0.3 0.4709091 0.05174636\n",
       "73       3  0.03   0.7  0.3 0.4781818 0.04203283\n",
       "74       3  0.04   0.7  0.3 0.4836364 0.05227602\n",
       "75       3  0.05   0.7  0.3 0.4800000 0.05567847\n",
       "76       3  0.06   0.7  0.3 0.4836364 0.05085134\n",
       "77       3  0.07   0.7  0.3 0.4963636 0.04024717\n",
       "78       3  0.08   0.7  0.3 0.5054545 0.04908717\n",
       "79       3  0.09   0.7  0.3 0.5054545 0.05056158\n",
       "80       3  0.10   0.7  0.3 0.5127273 0.05672416\n",
       "81       3  0.01   0.9  0.3 0.4781818 0.04619597\n",
       "82       3  0.02   0.9  0.3 0.4800000 0.04387142\n",
       "83       3  0.03   0.9  0.3 0.4854545 0.04457740\n",
       "84       3  0.04   0.9  0.3 0.4872727 0.05925773\n",
       "85       3  0.05   0.9  0.3 0.4872727 0.05672416\n",
       "86       3  0.06   0.9  0.3 0.4836364 0.04216370\n",
       "87       3  0.07   0.9  0.3 0.5018182 0.05567847\n",
       "88       3  0.08   0.9  0.3 0.5054545 0.05128290\n",
       "89       3  0.09   0.9  0.3 0.5090909 0.05420771\n",
       "90       3  0.10   0.9  0.3 0.5145455 0.05424158\n",
       "91       3  0.01   1.1  0.3 0.4818182 0.04867387\n",
       "92       3  0.02   1.1  0.3 0.4781818 0.03740921\n",
       "93       3  0.03   1.1  0.3 0.4909091 0.04923660\n",
       "94       3  0.04   1.1  0.3 0.4800000 0.05501482\n",
       "95       3  0.05   1.1  0.3 0.4836364 0.05762358\n",
       "96       3  0.06   1.1  0.3 0.4927273 0.05174636\n",
       "97       3  0.07   1.1  0.3 0.5109091 0.05245139\n",
       "98       3  0.08   1.1  0.3 0.5109091 0.04490578\n",
       "99       3  0.09   1.1  0.3 0.5072727 0.05245139\n",
       "100      3  0.10   1.1  0.3 0.5109091 0.05904038\n",
       "101      3  0.01   1.3  0.3 0.4745455 0.04651293\n",
       "102      3  0.02   1.3  0.3 0.4818182 0.04555544\n",
       "103      3  0.03   1.3  0.3 0.4872727 0.05269592\n",
       "104      3  0.04   1.3  0.3 0.4781818 0.06123912\n",
       "105      3  0.05   1.3  0.3 0.4836364 0.06310019\n",
       "106      3  0.06   1.3  0.3 0.5018182 0.05567847\n",
       "107      3  0.07   1.3  0.3 0.5109091 0.05649707\n",
       "108      3  0.08   1.3  0.3 0.5072727 0.05174636\n",
       "109      3  0.09   1.3  0.3 0.5090909 0.05283514\n",
       "110      3  0.10   1.3  0.3 0.5163636 0.05950515\n",
       "111      3  0.01   1.5  0.3 0.4672727 0.04619597\n",
       "112      3  0.02   1.5  0.3 0.4890909 0.03779992\n",
       "113      3  0.03   1.5  0.3 0.4872727 0.05541396\n",
       "114      3  0.04   1.5  0.3 0.4781818 0.05356012\n",
       "115      3  0.05   1.5  0.3 0.4890909 0.05518148\n",
       "116      3  0.06   1.5  0.3 0.4963636 0.05688582\n",
       "117      3  0.07   1.5  0.3 0.5127273 0.05607289\n",
       "118      3  0.08   1.5  0.3 0.5072727 0.05649707\n",
       "119      3  0.09   1.5  0.3 0.5127273 0.05199421\n",
       "120      3  0.10   1.5  0.3 0.5109091 0.05778272\n",
       "121      3  0.01   0.5  0.5 0.4890909 0.05103160\n",
       "122      3  0.02   0.5  0.5 0.4745455 0.04729603\n",
       "123      3  0.03   0.5  0.5 0.4800000 0.04787495\n",
       "124      3  0.04   0.5  0.5 0.4745455 0.05714351\n",
       "125      3  0.05   0.5  0.5 0.4890909 0.05451177\n",
       "126      3  0.06   0.5  0.5 0.4963636 0.03932395\n",
       "127      3  0.07   0.5  0.5 0.5018182 0.04551511\n",
       "128      3  0.08   0.5  0.5 0.5072727 0.04957116\n",
       "129      3  0.09   0.5  0.5 0.5163636 0.05297400\n",
       "130      3  0.10   0.5  0.5 0.5254545 0.05451177\n",
       "131      3  0.01   0.7  0.5 0.4800000 0.05156860\n",
       "132      3  0.02   0.7  0.5 0.4745455 0.03580377\n",
       "133      3  0.03   0.7  0.5 0.4890909 0.05383374\n",
       "134      3  0.04   0.7  0.5 0.4836364 0.05501482\n",
       "135      3  0.05   0.7  0.5 0.4818182 0.05160420\n",
       "136      3  0.06   0.7  0.5 0.4963636 0.05356012\n",
       "137      3  0.07   0.7  0.5 0.5054545 0.05128290\n",
       "138      3  0.08   0.7  0.5 0.5090909 0.05420771\n",
       "139      3  0.09   0.7  0.5 0.5218182 0.05491458\n",
       "140      3  0.10   0.7  0.5 0.5218182 0.05941249\n",
       "141      3  0.01   0.9  0.5 0.4727273 0.04535342\n",
       "142      3  0.02   0.9  0.5 0.4836364 0.03852181\n",
       "143      3  0.03   0.9  0.5 0.4836364 0.06132902\n",
       "144      3  0.04   0.9  0.5 0.4890909 0.05584315\n",
       "145      3  0.05   0.9  0.5 0.4927273 0.05314706\n",
       "146      3  0.06   0.9  0.5 0.5163636 0.04863613\n",
       "147      3  0.07   0.9  0.5 0.5072727 0.04651293\n",
       "148      3  0.08   0.9  0.5 0.5109091 0.05649707\n",
       "149      3  0.09   0.9  0.5 0.5200000 0.05762358\n",
       "150      3  0.10   0.9  0.5 0.5290909 0.05584315\n",
       "151      3  0.01   1.1  0.5 0.4654545 0.04470082\n",
       "152      3  0.02   1.1  0.5 0.4890909 0.05030668\n",
       "153      3  0.03   1.1  0.5 0.4818182 0.05701481\n",
       "154      3  0.04   1.1  0.5 0.4872727 0.05736805\n",
       "155      3  0.05   1.1  0.5 0.5000000 0.05891582\n",
       "156      3  0.06   1.1  0.5 0.5127273 0.05800478\n",
       "157      3  0.07   1.1  0.5 0.5018182 0.05156860\n",
       "158      3  0.08   1.1  0.5 0.5090909 0.05620375\n",
       "159      3  0.09   1.1  0.5 0.5181818 0.06014980\n",
       "160      3  0.10   1.1  0.5 0.5272727 0.05554637\n",
       "161      3  0.01   1.3  0.5 0.4654545 0.04038383\n",
       "162      3  0.02   1.3  0.5 0.4890909 0.04323893\n",
       "163      3  0.03   1.3  0.5 0.4763636 0.05672416\n",
       "164      3  0.04   1.3  0.5 0.4818182 0.05765545\n",
       "165      3  0.05   1.3  0.5 0.5018182 0.04631509\n",
       "166      3  0.06   1.3  0.5 0.5145455 0.04927388\n",
       "167      3  0.07   1.3  0.5 0.5090909 0.05554637\n",
       "168      3  0.08   1.3  0.5 0.5072727 0.05649707\n",
       "169      3  0.09   1.3  0.5 0.5200000 0.06367964\n",
       "170      3  0.10   1.3  0.5 0.5236364 0.05925773\n",
       "171      3  0.01   1.5  0.5 0.4690909 0.04756707\n",
       "172      3  0.02   1.5  0.5 0.4927273 0.04408023\n",
       "173      3  0.03   1.5  0.5 0.4781818 0.05816288\n",
       "174      3  0.04   1.5  0.5 0.4872727 0.05407202\n",
       "175      3  0.05   1.5  0.5 0.5054545 0.04833310\n",
       "176      3  0.06   1.5  0.5 0.5163636 0.05085134\n",
       "177      3  0.07   1.5  0.5 0.5054545 0.04756707\n",
       "178      3  0.08   1.5  0.5 0.5127273 0.04756707\n",
       "179      3  0.09   1.5  0.5 0.5181818 0.06597437\n",
       "180      3  0.10   1.5  0.5 0.5218182 0.06473794\n",
       "181      3  0.01   0.5  0.7 0.4854545 0.04203283\n",
       "182      3  0.02   0.5  0.7 0.4763636 0.04268319\n",
       "183      3  0.03   0.5  0.7 0.4781818 0.05816288\n",
       "184      3  0.04   0.5  0.7 0.4890909 0.06027181\n",
       "185      3  0.05   0.5  0.7 0.4927273 0.04323893\n",
       "186      3  0.06   0.5  0.7 0.5000000 0.04635472\n",
       "187      3  0.07   0.5  0.7 0.5072727 0.04806638\n",
       "188      3  0.08   0.5  0.7 0.5200000 0.05227602\n",
       "189      3  0.09   0.5  0.7 0.5290909 0.05904038\n",
       "190      3  0.10   0.5  0.7 0.5163636 0.05888464\n",
       "191      3  0.01   0.7  0.7 0.4709091 0.04150520\n",
       "192      3  0.02   0.7  0.7 0.4781818 0.03837852\n",
       "193      3  0.03   0.7  0.7 0.4872727 0.05736805\n",
       "194      3  0.04   0.7  0.7 0.4836364 0.05698259\n",
       "195      3  0.05   0.7  0.7 0.4981818 0.04302603\n",
       "196      3  0.06   0.7  0.7 0.5072727 0.04729603\n",
       "197      3  0.07   0.7  0.7 0.5109091 0.05451177\n",
       "198      3  0.08   0.7  0.7 0.5200000 0.05698259\n",
       "199      3  0.09   0.7  0.7 0.5236364 0.05800478\n",
       "200      3  0.10   0.7  0.7 0.5218182 0.06183600\n",
       "201      3  0.01   0.9  0.7 0.4636364 0.04306870\n",
       "202      3  0.02   0.9  0.7 0.4945455 0.04756707\n",
       "203      3  0.03   0.9  0.7 0.4800000 0.06192504\n",
       "204      3  0.04   0.9  0.7 0.4836364 0.06425386\n",
       "205      3  0.05   0.9  0.7 0.5000000 0.06075739\n",
       "206      3  0.06   0.9  0.7 0.5109091 0.04806638\n",
       "207      3  0.07   0.9  0.7 0.5127273 0.05800478\n",
       "208      3  0.08   0.9  0.7 0.5181818 0.06597437\n",
       "209      3  0.09   0.9  0.7 0.5309091 0.05338840\n",
       "210      3  0.10   0.9  0.7 0.5163636 0.06425386\n",
       "211      3  0.01   1.1  0.7 0.4654545 0.04710148\n",
       "212      3  0.02   1.1  0.7 0.4890909 0.04957116\n",
       "213      3  0.03   1.1  0.7 0.4800000 0.05698259\n",
       "214      3  0.04   1.1  0.7 0.4909091 0.05620375\n",
       "215      3  0.05   1.1  0.7 0.5054545 0.05607289\n",
       "216      3  0.06   1.1  0.7 0.5090909 0.05070667\n",
       "217      3  0.07   1.1  0.7 0.5127273 0.05800478\n",
       "218      3  0.08   1.1  0.7 0.5163636 0.06425386\n",
       "219      3  0.09   1.1  0.7 0.5254545 0.05649707\n",
       "220      3  0.10   1.1  0.7 0.5054545 0.07005180\n",
       "221      3  0.01   1.3  0.7 0.4709091 0.04408023\n",
       "222      3  0.02   1.3  0.7 0.4836364 0.04710148\n",
       "223      3  0.03   1.3  0.7 0.4800000 0.05567847\n",
       "224      3  0.04   1.3  0.7 0.4981818 0.05366289\n",
       "225      3  0.05   1.3  0.7 0.5127273 0.05541396\n",
       "226      3  0.06   1.3  0.7 0.5072727 0.05451177\n",
       "227      3  0.07   1.3  0.7 0.5145455 0.05217052\n",
       "228      3  0.08   1.3  0.7 0.5218182 0.06301282\n",
       "229      3  0.09   1.3  0.7 0.5254545 0.06496450\n",
       "230      3  0.10   1.3  0.7 0.5072727 0.07244896\n",
       "231      3  0.01   1.5  0.7 0.4763636 0.04678851\n",
       "232      3  0.02   1.5  0.7 0.4800000 0.05012381\n",
       "233      3  0.03   1.5  0.7 0.4690909 0.06402479\n",
       "234      3  0.04   1.5  0.7 0.5000000 0.05160420\n",
       "235      3  0.05   1.5  0.7 0.5163636 0.05501482\n",
       "236      3  0.06   1.5  0.7 0.5090909 0.04997704\n",
       "237      3  0.07   1.5  0.7 0.5145455 0.04698436\n",
       "238      3  0.08   1.5  0.7 0.5163636 0.06072715\n",
       "239      3  0.09   1.5  0.7 0.5163636 0.06813803\n",
       "240      3  0.10   1.5  0.7 0.5054545 0.07462179\n",
       "241      3  0.01   0.5  0.9 0.4745455 0.04651293\n",
       "242      3  0.02   0.5  0.9 0.4745455 0.04571642\n",
       "243      3  0.03   0.5  0.9 0.4854545 0.06473794\n",
       "244      3  0.04   0.5  0.9 0.4854545 0.05424158\n",
       "245      3  0.05   0.5  0.9 0.5000000 0.04391326\n",
       "246      3  0.06   0.5  0.9 0.5018182 0.04551511\n",
       "247      3  0.07   0.5  0.9 0.5145455 0.05688582\n",
       "248      3  0.08   0.5  0.9 0.5236364 0.05541396\n",
       "249      3  0.09   0.5  0.9 0.5200000 0.05888464\n",
       "250      3  0.10   0.5  0.9 0.5236364 0.06627987\n",
       "251      3  0.01   0.7  0.9 0.4672727 0.04203283\n",
       "252      3  0.02   0.7  0.9 0.4909091 0.04772126\n",
       "253      3  0.03   0.7  0.9 0.4836364 0.05501482\n",
       "254      3  0.04   0.7  0.9 0.4854545 0.05557943\n",
       "255      3  0.05   0.7  0.9 0.5127273 0.05128290\n",
       "256      3  0.06   0.7  0.9 0.5054545 0.04678851\n",
       "257      3  0.07   0.7  0.9 0.5109091 0.06382368\n",
       "258      3  0.08   0.7  0.9 0.5218182 0.06123912\n",
       "259      3  0.09   0.7  0.9 0.5218182 0.06183600\n",
       "260      3  0.10   0.7  0.9 0.5200000 0.06867498\n",
       "261      3  0.01   0.9  0.9 0.4672727 0.04927388\n",
       "262      3  0.02   0.9  0.9 0.4927273 0.05103160\n",
       "263      3  0.03   0.9  0.9 0.4818182 0.05231114\n",
       "264      3  0.04   0.9  0.9 0.4963636 0.05688582\n",
       "265      3  0.05   0.9  0.9 0.5127273 0.05474710\n",
       "266      3  0.06   0.9  0.9 0.5054545 0.05269592\n",
       "267      3  0.07   0.9  0.9 0.5145455 0.06063636\n",
       "268      3  0.08   0.9  0.9 0.5272727 0.05938157\n",
       "269      3  0.09   0.9  0.9 0.5200000 0.06650117\n",
       "270      3  0.10   0.9  0.9 0.5145455 0.06641827\n",
       "271      3  0.01   1.1  0.9 0.4709091 0.04061058\n",
       "272      3  0.02   1.1  0.9 0.4872727 0.05541396\n",
       "273      3  0.03   1.1  0.9 0.4800000 0.05501482\n",
       "274      3  0.04   1.1  0.9 0.5000000 0.04942275\n",
       "275      3  0.05   1.1  0.9 0.5145455 0.04927388\n",
       "276      3  0.06   1.1  0.9 0.5090909 0.04997704\n",
       "277      3  0.07   1.1  0.9 0.5163636 0.05825753\n",
       "278      3  0.08   1.1  0.9 0.5272727 0.06239776\n",
       "279      3  0.09   1.1  0.9 0.5109091 0.06718804\n",
       "280      3  0.10   1.1  0.9 0.5109091 0.06266209\n",
       "281      3  0.01   1.3  0.9 0.4727273 0.04535342\n",
       "282      3  0.02   1.3  0.9 0.4763636 0.05056158\n",
       "283      3  0.03   1.3  0.9 0.4818182 0.05765545\n",
       "284      3  0.04   1.3  0.9 0.5036364 0.04698436\n",
       "285      3  0.05   1.3  0.9 0.5127273 0.04833310\n",
       "286      3  0.06   1.3  0.9 0.5090909 0.05283514\n",
       "287      3  0.07   1.3  0.9 0.5181818 0.06135896\n",
       "288      3  0.08   1.3  0.9 0.5200000 0.06594652\n",
       "289      3  0.09   1.3  0.9 0.5090909 0.07222046\n",
       "290      3  0.10   1.3  0.9 0.5145455 0.05879100\n",
       "291      3  0.01   1.5  0.9 0.4781818 0.04024717\n",
       "292      3  0.02   1.5  0.9 0.4672727 0.05557943\n",
       "293      3  0.03   1.5  0.9 0.4872727 0.05863460\n",
       "294      3  0.04   1.5  0.9 0.5090909 0.05488112\n",
       "295      3  0.05   1.5  0.9 0.5090909 0.05620375\n",
       "296      3  0.06   1.5  0.9 0.5145455 0.04698436\n",
       "297      3  0.07   1.5  0.9 0.5218182 0.05941249\n",
       "298      3  0.08   1.5  0.9 0.5200000 0.06367964\n",
       "299      3  0.09   1.5  0.9 0.5054545 0.07211867\n",
       "300      3  0.10   1.5  0.9 0.5090909 0.05554637\n",
       "301      3  0.01   0.5  1.1 0.4745455 0.03875946\n",
       "302      3  0.02   0.5  1.1 0.4800000 0.04128336\n",
       "303      3  0.03   0.5  1.1 0.4836364 0.05698259\n",
       "304      3  0.04   0.5  1.1 0.4872727 0.04092592\n",
       "305      3  0.05   0.5  1.1 0.5072727 0.04571642\n",
       "306      3  0.06   0.5  1.1 0.5090909 0.05685352\n",
       "307      3  0.07   0.5  1.1 0.5218182 0.05491458\n",
       "308      3  0.08   0.5  1.1 0.5200000 0.06192504\n",
       "309      3  0.09   0.5  1.1 0.5254545 0.06266209\n",
       "310      3  0.10   0.5  1.1 0.5236364 0.07109274\n",
       "311      3  0.01   0.7  1.1 0.4636364 0.05016044\n",
       "312      3  0.02   0.7  1.1 0.4909091 0.05142595\n",
       "313      3  0.03   0.7  1.1 0.4872727 0.05269592\n",
       "314      3  0.04   0.7  1.1 0.5018182 0.05012381\n",
       "315      3  0.05   0.7  1.1 0.5127273 0.05338840\n",
       "316      3  0.06   0.7  1.1 0.5090909 0.05875976\n",
       "317      3  0.07   0.7  1.1 0.5236364 0.05541396\n",
       "318      3  0.08   0.7  1.1 0.5218182 0.05752789\n",
       "319      3  0.09   0.7  1.1 0.5181818 0.06254475\n",
       "320      3  0.10   0.7  1.1 0.5181818 0.07484296\n",
       "321      3  0.01   0.9  1.1 0.4727273 0.03927722\n",
       "322      3  0.02   0.9  1.1 0.4872727 0.05863460\n",
       "323      3  0.03   0.9  1.1 0.4836364 0.05698259\n",
       "324      3  0.04   0.9  1.1 0.5000000 0.05369711\n",
       "325      3  0.05   0.9  1.1 0.5109091 0.04882457\n",
       "326      3  0.06   0.9  1.1 0.5163636 0.05888464\n",
       "327      3  0.07   0.9  1.1 0.5163636 0.06425386\n",
       "328      3  0.08   0.9  1.1 0.5254545 0.06147857\n",
       "329      3  0.09   0.9  1.1 0.5109091 0.06986804\n",
       "330      3  0.10   0.9  1.1 0.5145455 0.06359306\n",
       "331      3  0.01   1.1  1.1 0.4727273 0.04370365\n",
       "332      3  0.02   1.1  1.1 0.4763636 0.05269592\n",
       "333      3  0.03   1.1  1.1 0.4818182 0.05765545\n",
       "334      3  0.04   1.1  1.1 0.5054545 0.05607289\n",
       "335      3  0.05   1.1  1.1 0.5109091 0.05103160\n",
       "336      3  0.06   1.1  1.1 0.5127273 0.05056158\n",
       "337      3  0.07   1.1  1.1 0.5200000 0.06367964\n",
       "338      3  0.08   1.1  1.1 0.5236364 0.06683175\n",
       "339      3  0.09   1.1  1.1 0.5090909 0.07422696\n",
       "340      3  0.10   1.1  1.1 0.5127273 0.05672416\n",
       "341      3  0.01   1.3  1.1 0.4854545 0.03740921\n",
       "342      3  0.02   1.3  1.1 0.4672727 0.05879100\n",
       "343      3  0.03   1.3  1.1 0.4963636 0.05557943\n",
       "344      3  0.04   1.3  1.1 0.5163636 0.05156860\n",
       "345      3  0.05   1.3  1.1 0.5072727 0.05714351\n",
       "346      3  0.06   1.3  1.1 0.5145455 0.04698436\n",
       "347      3  0.07   1.3  1.1 0.5200000 0.06251538\n",
       "348      3  0.08   1.3  1.1 0.5127273 0.07109274\n",
       "349      3  0.09   1.3  1.1 0.5072727 0.07444931\n",
       "350      3  0.10   1.3  1.1 0.5090909 0.05213530\n",
       "351      3  0.01   1.5  1.1 0.4890909 0.03779992\n",
       "352      3  0.02   1.5  1.1 0.4672727 0.06063636\n",
       "353      3  0.03   1.5  1.1 0.5018182 0.05366289\n",
       "354      3  0.04   1.5  1.1 0.5181818 0.05231114\n",
       "355      3  0.05   1.5  1.1 0.5072727 0.05451177\n",
       "356      3  0.06   1.5  1.1 0.5127273 0.05800478\n",
       "357      3  0.07   1.5  1.1 0.5181818 0.05636689\n",
       "358      3  0.08   1.5  1.1 0.5072727 0.07345595\n",
       "359      3  0.09   1.5  1.1 0.5090909 0.06239776\n",
       "360      3  0.10   1.5  1.1 0.5072727 0.05584315\n",
       "361      3  0.01   0.5  1.3 0.4709091 0.04408023\n",
       "362      3  0.02   0.5  1.3 0.4872727 0.05128290\n",
       "363      3  0.03   0.5  1.3 0.4854545 0.05688582\n",
       "364      3  0.04   0.5  1.3 0.4945455 0.04353524\n",
       "365      3  0.05   0.5  1.3 0.5054545 0.05128290\n",
       "366      3  0.06   0.5  1.3 0.5090909 0.05685352\n",
       "367      3  0.07   0.5  1.3 0.5254545 0.05584315\n",
       "368      3  0.08   0.5  1.3 0.5218182 0.05752789\n",
       "369      3  0.09   0.5  1.3 0.5254545 0.06718804\n",
       "370      3  0.10   0.5  1.3 0.5236364 0.06846071\n",
       "371      3  0.01   0.7  1.3 0.4727273 0.04370365\n",
       "372      3  0.02   0.7  1.3 0.4836364 0.05698259\n",
       "373      3  0.03   0.7  1.3 0.4836364 0.05762358\n",
       "374      3  0.04   0.7  1.3 0.5000000 0.05701481\n",
       "375      3  0.05   0.7  1.3 0.5090909 0.05213530\n",
       "376      3  0.06   0.7  1.3 0.5127273 0.05925773\n",
       "377      3  0.07   0.7  1.3 0.5218182 0.06183600\n",
       "378      3  0.08   0.7  1.3 0.5218182 0.06183600\n",
       "379      3  0.09   0.7  1.3 0.5109091 0.06608562\n",
       "380      3  0.10   0.7  1.3 0.5181818 0.06597437\n",
       "381      3  0.01   0.9  1.3 0.4654545 0.03946381\n",
       "382      3  0.02   0.9  1.3 0.4781818 0.05286989\n",
       "383      3  0.03   0.9  1.3 0.4818182 0.06135896\n",
       "384      3  0.04   0.9  1.3 0.5018182 0.06251538\n",
       "385      3  0.05   0.9  1.3 0.5090909 0.05620375\n",
       "386      3  0.06   0.9  1.3 0.5090909 0.05420771\n",
       "387      3  0.07   0.9  1.3 0.5272727 0.05938157\n",
       "388      3  0.08   0.9  1.3 0.5145455 0.06123912\n",
       "389      3  0.09   0.9  1.3 0.5127273 0.06108899\n",
       "390      3  0.10   0.9  1.3 0.5145455 0.06530285\n",
       "391      3  0.01   1.1  1.3 0.4763636 0.03513061\n",
       "392      3  0.02   1.1  1.3 0.4727273 0.05488112\n",
       "393      3  0.03   1.1  1.3 0.4945455 0.05056158\n",
       "394      3  0.04   1.1  1.3 0.5109091 0.05841494\n",
       "395      3  0.05   1.1  1.3 0.5090909 0.05420771\n",
       "396      3  0.06   1.1  1.3 0.5109091 0.05714351\n",
       "397      3  0.07   1.1  1.3 0.5181818 0.05953601\n",
       "398      3  0.08   1.1  1.3 0.5072727 0.07244896\n",
       "399      3  0.09   1.1  1.3 0.5145455 0.05879100\n",
       "400      3  0.10   1.1  1.3 0.5127273 0.05800478\n",
       "401      3  0.01   1.3  1.3 0.4890909 0.03779992\n",
       "402      3  0.02   1.3  1.3 0.4709091 0.06207315\n",
       "403      3  0.03   1.3  1.3 0.5018182 0.05227602\n",
       "404      3  0.04   1.3  1.3 0.5181818 0.05231114\n",
       "405      3  0.05   1.3  1.3 0.5036364 0.04698436\n",
       "406      3  0.06   1.3  1.3 0.5181818 0.05953601\n",
       "407      3  0.07   1.3  1.3 0.5200000 0.06367964\n",
       "408      3  0.08   1.3  1.3 0.5072727 0.07494105\n",
       "409      3  0.09   1.3  1.3 0.5090909 0.06239776\n",
       "410      3  0.10   1.3  1.3 0.5109091 0.05383374\n",
       "411      3  0.01   1.5  1.3 0.4854545 0.04114969\n",
       "412      3  0.02   1.5  1.3 0.4727273 0.05749596\n",
       "413      3  0.03   1.5  1.3 0.4945455 0.05269592\n",
       "414      3  0.04   1.5  1.3 0.5127273 0.05607289\n",
       "415      3  0.05   1.5  1.3 0.5090909 0.04535342\n",
       "416      3  0.06   1.5  1.3 0.5163636 0.06132902\n",
       "417      3  0.07   1.5  1.3 0.5109091 0.06439661\n",
       "418      3  0.08   1.5  1.3 0.5036364 0.07474474\n",
       "419      3  0.09   1.5  1.3 0.5072727 0.05451177\n",
       "420      3  0.10   1.5  1.3 0.5163636 0.05012381\n",
       "421      3  0.01   0.5  1.5 0.4690909 0.04092592\n",
       "422      3  0.02   0.5  1.5 0.4872727 0.05407202\n",
       "423      3  0.03   0.5  1.5 0.4909091 0.05938157\n",
       "424      3  0.04   0.5  1.5 0.4963636 0.05074287\n",
       "425      3  0.05   0.5  1.5 0.5054545 0.04353524\n",
       "426      3  0.06   0.5  1.5 0.5181818 0.05231114\n",
       "427      3  0.07   0.5  1.5 0.5236364 0.05800478\n",
       "428      3  0.08   0.5  1.5 0.5254545 0.05965927\n",
       "429      3  0.09   0.5  1.5 0.5254545 0.07142778\n",
       "430      3  0.10   0.5  1.5 0.5218182 0.06696901\n",
       "431      3  0.01   0.7  1.5 0.4727273 0.04020151\n",
       "432      3  0.02   0.7  1.5 0.4836364 0.05698259\n",
       "433      3  0.03   0.7  1.5 0.4836364 0.06132902\n",
       "434      3  0.04   0.7  1.5 0.5072727 0.05314706\n",
       "435      3  0.05   0.7  1.5 0.5018182 0.05156860\n",
       "436      3  0.06   0.7  1.5 0.5181818 0.06075739\n",
       "437      3  0.07   0.7  1.5 0.5290909 0.05383374\n",
       "438      3  0.08   0.7  1.5 0.5163636 0.06482299\n",
       "439      3  0.09   0.7  1.5 0.5145455 0.07122179\n",
       "440      3  0.10   0.7  1.5 0.5127273 0.07057419\n",
       "441      3  0.01   0.9  1.5 0.4709091 0.04571642\n",
       "442      3  0.02   0.9  1.5 0.4763636 0.05269592\n",
       "443      3  0.03   0.9  1.5 0.4909091 0.05283514\n",
       "444      3  0.04   0.9  1.5 0.5109091 0.05174636\n",
       "445      3  0.05   0.9  1.5 0.5072727 0.04806638\n",
       "446      3  0.06   0.9  1.5 0.5181818 0.05891582\n",
       "447      3  0.07   0.9  1.5 0.5200000 0.06251538\n",
       "448      3  0.08   0.9  1.5 0.5072727 0.06934033\n",
       "449      3  0.09   0.9  1.5 0.5145455 0.06586292\n",
       "450      3  0.10   0.9  1.5 0.5145455 0.06063636\n",
       "451      3  0.01   1.1  1.5 0.4872727 0.03813850\n",
       "452      3  0.02   1.1  1.5 0.4763636 0.05987437\n",
       "453      3  0.03   1.1  1.5 0.5000000 0.05437684\n",
       "454      3  0.04   1.1  1.5 0.5145455 0.05491458\n",
       "455      3  0.05   1.1  1.5 0.5054545 0.04908717\n",
       "456      3  0.06   1.1  1.5 0.5200000 0.06482299\n",
       "457      3  0.07   1.1  1.5 0.5200000 0.06251538\n",
       "458      3  0.08   1.1  1.5 0.5036364 0.07904387\n",
       "459      3  0.09   1.1  1.5 0.5109091 0.05245139\n",
       "460      3  0.10   1.1  1.5 0.5109091 0.05245139\n",
       "461      3  0.01   1.3  1.5 0.4836364 0.04387142\n",
       "462      3  0.02   1.3  1.5 0.4727273 0.05999694\n",
       "463      3  0.03   1.3  1.5 0.4981818 0.05297400\n",
       "464      3  0.04   1.3  1.5 0.5163636 0.05227602\n",
       "465      3  0.05   1.3  1.5 0.5127273 0.04678851\n",
       "466      3  0.06   1.3  1.5 0.5218182 0.05688582\n",
       "467      3  0.07   1.3  1.5 0.5090909 0.06963106\n",
       "468      3  0.08   1.3  1.5 0.5054545 0.07262619\n",
       "469      3  0.09   1.3  1.5 0.5090909 0.05213530\n",
       "470      3  0.10   1.3  1.5 0.5163636 0.05156860\n",
       "471      3  0.01   1.5  1.5 0.4763636 0.04181379\n",
       "472      3  0.02   1.5  1.5 0.4690909 0.05128290\n",
       "473      3  0.03   1.5  1.5 0.4981818 0.05762358\n",
       "474      3  0.04   1.5  1.5 0.5036364 0.05491458\n",
       "475      3  0.05   1.5  1.5 0.5109091 0.04150520\n",
       "476      3  0.06   1.5  1.5 0.5236364 0.05987437\n",
       "477      3  0.07   1.5  1.5 0.5072727 0.06827267\n",
       "478      3  0.08   1.5  1.5 0.5090909 0.06060606\n",
       "479      3  0.09   1.5  1.5 0.5127273 0.05474710\n",
       "480      3  0.10   1.5  1.5 0.5254545 0.04651293\n",
       "481      3  0.01   0.5  1.7 0.4727273 0.04110503\n",
       "482      3  0.02   0.5  1.7 0.4890909 0.05451177\n",
       "483      3  0.03   0.5  1.7 0.4854545 0.05688582\n",
       "484      3  0.04   0.5  1.7 0.5018182 0.05633430\n",
       "485      3  0.05   0.5  1.7 0.5109091 0.05518148\n",
       "486      3  0.06   0.5  1.7 0.5163636 0.06192504\n",
       "487      3  0.07   0.5  1.7 0.5218182 0.05941249\n",
       "488      3  0.08   0.5  1.7 0.5254545 0.06382368\n",
       "489      3  0.09   0.5  1.7 0.5200000 0.07333083\n",
       "490      3  0.10   0.5  1.7 0.5181818 0.07533214\n",
       "491      3  0.01   0.7  1.7 0.4745455 0.03969581\n",
       "492      3  0.02   0.7  1.7 0.4818182 0.05828904\n",
       "493      3  0.03   0.7  1.7 0.4854545 0.05557943\n",
       "494      3  0.04   0.7  1.7 0.5127273 0.05474710\n",
       "495      3  0.05   0.7  1.7 0.5054545 0.05607289\n",
       "496      3  0.06   0.7  1.7 0.5200000 0.06310019\n",
       "497      3  0.07   0.7  1.7 0.5236364 0.06344850\n",
       "498      3  0.08   0.7  1.7 0.5072727 0.07345595\n",
       "499      3  0.09   0.7  1.7 0.5090909 0.06639061\n",
       "500      3  0.10   0.7  1.7 0.5127273 0.06344850\n",
       "501      3  0.01   0.9  1.7 0.4836364 0.04128336\n",
       "502      3  0.02   0.9  1.7 0.4763636 0.05672416\n",
       "503      3  0.03   0.9  1.7 0.5000000 0.05437684\n",
       "504      3  0.04   0.9  1.7 0.5145455 0.04927388\n",
       "505      3  0.05   0.9  1.7 0.5127273 0.05338840\n",
       "506      3  0.06   0.9  1.7 0.5200000 0.06367964\n",
       "507      3  0.07   0.9  1.7 0.5236364 0.06683175\n",
       "508      3  0.08   0.9  1.7 0.5145455 0.06416805\n",
       "509      3  0.09   0.9  1.7 0.5109091 0.06266209\n",
       "510      3  0.10   0.9  1.7 0.5181818 0.05369711\n",
       "511      3  0.01   1.1  1.7 0.4909091 0.04370365\n",
       "512      3  0.02   1.1  1.7 0.4763636 0.05863460\n",
       "513      3  0.03   1.1  1.7 0.5018182 0.05297400\n",
       "514      3  0.04   1.1  1.7 0.5163636 0.05156860\n",
       "515      3  0.05   1.1  1.7 0.5109091 0.05245139\n",
       "516      3  0.06   1.1  1.7 0.5145455 0.06123912\n",
       "517      3  0.07   1.1  1.7 0.5109091 0.07395430\n",
       "518      3  0.08   1.1  1.7 0.5145455 0.06242718\n",
       "519      3  0.09   1.1  1.7 0.5109091 0.05518148\n",
       "520      3  0.10   1.1  1.7 0.5145455 0.04927388\n",
       "521      3  0.01   1.3  1.7 0.4872727 0.04001836\n",
       "522      3  0.02   1.3  1.7 0.4690909 0.05607289\n",
       "523      3  0.03   1.3  1.7 0.4963636 0.05557943\n",
       "524      3  0.04   1.3  1.7 0.5090909 0.05620375\n",
       "525      3  0.05   1.3  1.7 0.5109091 0.04957116\n",
       "526      3  0.06   1.3  1.7 0.5181818 0.05636689\n",
       "527      3  0.07   1.3  1.7 0.5090909 0.07171006\n",
       "528      3  0.08   1.3  1.7 0.5090909 0.05685352\n",
       "529      3  0.09   1.3  1.7 0.5109091 0.05383374\n",
       "530      3  0.10   1.3  1.7 0.5272727 0.04535342\n",
       "531      3  0.01   1.5  1.7 0.4781818 0.04539390\n",
       "532      3  0.02   1.5  1.7 0.4672727 0.04852271\n",
       "533      3  0.03   1.5  1.7 0.5000000 0.05636689\n",
       "534      3  0.04   1.5  1.7 0.5072727 0.05778272\n",
       "535      3  0.05   1.5  1.7 0.5090909 0.05283514\n",
       "536      3  0.06   1.5  1.7 0.5090909 0.06239776\n",
       "537      3  0.07   1.5  1.7 0.5072727 0.06986804\n",
       "538      3  0.08   1.5  1.7 0.5054545 0.04908717\n",
       "539      3  0.09   1.5  1.7 0.5163636 0.05012381\n",
       "540      3  0.10   1.5  1.7 0.5345455 0.04302603\n",
       "541      3  0.01   0.5  1.9 0.4745455 0.03969581\n",
       "542      3  0.02   0.5  1.9 0.4836364 0.06251538\n",
       "543      3  0.03   0.5  1.9 0.4800000 0.05227602\n",
       "544      3  0.04   0.5  1.9 0.5127273 0.05128290\n",
       "545      3  0.05   0.5  1.9 0.5109091 0.05451177\n",
       "546      3  0.06   0.5  1.9 0.5218182 0.05356012\n",
       "547      3  0.07   0.5  1.9 0.5218182 0.05752789\n",
       "548      3  0.08   0.5  1.9 0.5200000 0.06973648\n",
       "549      3  0.09   0.5  1.9 0.5236364 0.06737911\n",
       "550      3  0.10   0.5  1.9 0.5109091 0.07142778\n",
       "551      3  0.01   0.7  1.9 0.4727273 0.04453618\n",
       "552      3  0.02   0.7  1.9 0.4781818 0.05623642\n",
       "553      3  0.03   0.7  1.9 0.4909091 0.05420771\n",
       "554      3  0.04   0.7  1.9 0.5181818 0.05369711\n",
       "555      3  0.05   0.7  1.9 0.5127273 0.05800478\n",
       "556      3  0.06   0.7  1.9 0.5200000 0.05567847\n",
       "557      3  0.07   0.7  1.9 0.5218182 0.06416805\n",
       "558      3  0.08   0.7  1.9 0.5127273 0.06227992\n",
       "559      3  0.09   0.7  1.9 0.5145455 0.07018276\n",
       "560      3  0.10   0.7  1.9 0.5163636 0.06011926\n",
       "561      3  0.01   0.9  1.9 0.4854545 0.03325059\n",
       "562      3  0.02   0.9  1.9 0.4745455 0.05841494\n",
       "563      3  0.03   0.9  1.9 0.5000000 0.05160420\n",
       "564      3  0.04   0.9  1.9 0.5145455 0.04927388\n",
       "565      3  0.05   0.9  1.9 0.5127273 0.05056158\n",
       "566      3  0.06   0.9  1.9 0.5200000 0.06072715\n",
       "567      3  0.07   0.9  1.9 0.5072727 0.06880857\n",
       "568      3  0.08   0.9  1.9 0.5163636 0.06192504\n",
       "569      3  0.09   0.9  1.9 0.5145455 0.05816288\n",
       "570      3  0.10   0.9  1.9 0.5254545 0.05314706\n",
       "571      3  0.01   1.1  1.9 0.4909091 0.03736008\n",
       "572      3  0.02   1.1  1.9 0.4709091 0.06087818\n",
       "573      3  0.03   1.1  1.9 0.4981818 0.05156860\n",
       "574      3  0.04   1.1  1.9 0.5090909 0.05554637\n",
       "575      3  0.05   1.1  1.9 0.5145455 0.04698436\n",
       "576      3  0.06   1.1  1.9 0.5218182 0.05816288\n",
       "577      3  0.07   1.1  1.9 0.5072727 0.07494105\n",
       "578      3  0.08   1.1  1.9 0.5145455 0.06123912\n",
       "579      3  0.09   1.1  1.9 0.5145455 0.05491458\n",
       "580      3  0.10   1.1  1.9 0.5290909 0.04571642\n",
       "581      3  0.01   1.3  1.9 0.4836364 0.04551511\n",
       "582      3  0.02   1.3  1.9 0.4672727 0.05491458\n",
       "583      3  0.03   1.3  1.9 0.5054545 0.05474710\n",
       "584      3  0.04   1.3  1.9 0.5127273 0.06048473\n",
       "585      3  0.05   1.3  1.9 0.5145455 0.05816288\n",
       "586      3  0.06   1.3  1.9 0.5200000 0.06132902\n",
       "587      3  0.07   1.3  1.9 0.5036364 0.07474474\n",
       "588      3  0.08   1.3  1.9 0.5036364 0.04852271\n",
       "589      3  0.09   1.3  1.9 0.5181818 0.05088744\n",
       "590      3  0.10   1.3  1.9 0.5309091 0.04092592\n",
       "591      3  0.01   1.5  1.9 0.4818182 0.04474189\n",
       "592      3  0.02   1.5  1.9 0.4690909 0.05199421\n",
       "593      3  0.03   1.5  1.9 0.5072727 0.05245139\n",
       "594      3  0.04   1.5  1.9 0.5072727 0.05518148\n",
       "595      3  0.05   1.5  1.9 0.5072727 0.05904038\n",
       "596      3  0.06   1.5  1.9 0.5127273 0.06627987\n",
       "597      3  0.07   1.5  1.9 0.5072727 0.06773253\n",
       "598      3  0.08   1.5  1.9 0.5090909 0.04997704\n",
       "599      3  0.09   1.5  1.9 0.5236364 0.04982983\n",
       "600      3  0.10   1.5  1.9 0.5381818 0.03755620\n"
      ]
     },
     "metadata": {},
     "output_type": "display_data"
    }
   ],
   "source": [
    "poly3.svm.tune = tune.svm(rain_class ~ ., data = train_set, type = \"C\", kernel = 'poly', gamma = seq(0.01, 0.1, by = 0.01), coef0 = seq(0.5, 1.5, by = 0.2), degree = 3, cost = seq(0.1, 2, by = 0.2))\n",
    "summary(poly3.svm.tune)"
   ]
  },
  {
   "cell_type": "code",
   "execution_count": 29,
   "metadata": {
    "vscode": {
     "languageId": "r"
    }
   },
   "outputs": [
    {
     "data": {
      "text/html": [
       "<table class=\"dataframe\">\n",
       "<caption>A data.frame: 1 × 4</caption>\n",
       "<thead>\n",
       "\t<tr><th></th><th scope=col>degree</th><th scope=col>gamma</th><th scope=col>coef0</th><th scope=col>cost</th></tr>\n",
       "\t<tr><th></th><th scope=col>&lt;dbl&gt;</th><th scope=col>&lt;dbl&gt;</th><th scope=col>&lt;dbl&gt;</th><th scope=col>&lt;dbl&gt;</th></tr>\n",
       "</thead>\n",
       "<tbody>\n",
       "\t<tr><th scope=row>201</th><td>3</td><td>0.01</td><td>0.9</td><td>0.7</td></tr>\n",
       "</tbody>\n",
       "</table>\n"
      ],
      "text/latex": [
       "A data.frame: 1 × 4\n",
       "\\begin{tabular}{r|llll}\n",
       "  & degree & gamma & coef0 & cost\\\\\n",
       "  & <dbl> & <dbl> & <dbl> & <dbl>\\\\\n",
       "\\hline\n",
       "\t201 & 3 & 0.01 & 0.9 & 0.7\\\\\n",
       "\\end{tabular}\n"
      ],
      "text/markdown": [
       "\n",
       "A data.frame: 1 × 4\n",
       "\n",
       "| <!--/--> | degree &lt;dbl&gt; | gamma &lt;dbl&gt; | coef0 &lt;dbl&gt; | cost &lt;dbl&gt; |\n",
       "|---|---|---|---|---|\n",
       "| 201 | 3 | 0.01 | 0.9 | 0.7 |\n",
       "\n"
      ],
      "text/plain": [
       "    degree gamma coef0 cost\n",
       "201 3      0.01  0.9   0.7 "
      ]
     },
     "metadata": {},
     "output_type": "display_data"
    }
   ],
   "source": [
    "poly3.svm.tune$best.parameters"
   ]
  },
  {
   "cell_type": "code",
   "execution_count": 30,
   "metadata": {
    "vscode": {
     "languageId": "r"
    }
   },
   "outputs": [],
   "source": [
    "poly3.best.c = poly3.svm.tune$best.parameters$cost\n",
    "poly3.best.gamma = poly3.svm.tune$best.parameters$gamma\n",
    "poly3.best.coef0 = poly3.svm.tune$best.parameters$coef0"
   ]
  },
  {
   "cell_type": "code",
   "execution_count": 31,
   "metadata": {
    "vscode": {
     "languageId": "r"
    }
   },
   "outputs": [],
   "source": [
    "poly3.best.svm = svm(rain_class ~ ., data = train_set, type = \"C\", kernel = 'poly', gamma = poly3.best.gamma,\n",
    "                 coef0 = poly3.best.coef0, degree = 3, cost = poly3.best.c)"
   ]
  },
  {
   "cell_type": "code",
   "execution_count": 32,
   "metadata": {
    "vscode": {
     "languageId": "r"
    }
   },
   "outputs": [
    {
     "name": "stdout",
     "output_type": "stream",
     "text": [
      "[1] \"Confusion matrix\"\n",
      "           true_class\n",
      "pred_class  high_rain low_rain no_rain\n",
      "  high_rain        76       17       8\n",
      "  low_rain         76      210     125\n",
      "  no_rain           3        7      28\n",
      "[1] \"Prediction accuracy :  0.570909090909091\"\n",
      "[1] \"Confusion matrix\"\n",
      "           true_class\n",
      "pred_class  high_rain low_rain no_rain\n",
      "  high_rain        17        9       7\n",
      "  low_rain         16       48      35\n",
      "  no_rain           0        1       5\n",
      "[1] \"Prediction accuracy :  0.507246376811594\"\n"
     ]
    }
   ],
   "source": [
    "confusion_matrix(predict(poly3.best.svm, newdata = train_set), y_train)\n",
    "confusion_matrix(predict(poly3.best.svm, newdata = test_set), y_test)"
   ]
  },
  {
   "cell_type": "markdown",
   "metadata": {},
   "source": [
    "### 4.3. SVM with radial kernel"
   ]
  },
  {
   "cell_type": "code",
   "execution_count": 33,
   "metadata": {
    "vscode": {
     "languageId": "r"
    }
   },
   "outputs": [
    {
     "data": {
      "text/plain": [
       "\n",
       "Call:\n",
       "svm(formula = rain_class ~ ., data = train_set, type = \"C\", kernel = \"radial\", \n",
       "    gamma = 0.5, cost = 0.5)\n",
       "\n",
       "\n",
       "Parameters:\n",
       "   SVM-Type:  C-classification \n",
       " SVM-Kernel:  radial \n",
       "       cost:  0.5 \n",
       "\n",
       "Number of Support Vectors:  549\n",
       "\n",
       " ( 233 155 161 )\n",
       "\n",
       "\n",
       "Number of Classes:  3 \n",
       "\n",
       "Levels: \n",
       " high_rain low_rain no_rain\n",
       "\n",
       "\n"
      ]
     },
     "metadata": {},
     "output_type": "display_data"
    }
   ],
   "source": [
    "radial.svm = svm(rain_class ~ ., data = train_set, type = \"C\", kernel = 'radial', gamma = 0.5, cost = 0.5)\n",
    "summary(radial.svm)"
   ]
  },
  {
   "cell_type": "markdown",
   "metadata": {},
   "source": [
    "    There are less of support vectors than linear case"
   ]
  },
  {
   "cell_type": "code",
   "execution_count": 34,
   "metadata": {
    "vscode": {
     "languageId": "r"
    }
   },
   "outputs": [
    {
     "name": "stdout",
     "output_type": "stream",
     "text": [
      "[1] \"Confusion matrix\"\n",
      "           true_class\n",
      "pred_class  high_rain low_rain no_rain\n",
      "  high_rain        38        0       0\n",
      "  low_rain        116      234     135\n",
      "  no_rain           1        0      26\n",
      "[1] \"Prediction accuracy :  0.541818181818182\"\n"
     ]
    }
   ],
   "source": [
    "confusion_matrix(predict(radial.svm, newdata = train_set), y_train)"
   ]
  },
  {
   "cell_type": "code",
   "execution_count": 35,
   "metadata": {
    "vscode": {
     "languageId": "r"
    }
   },
   "outputs": [
    {
     "name": "stdout",
     "output_type": "stream",
     "text": [
      "[1] \"Confusion matrix\"\n",
      "           true_class\n",
      "pred_class  high_rain low_rain no_rain\n",
      "  high_rain         0        0       0\n",
      "  low_rain         33       57      47\n",
      "  no_rain           0        1       0\n",
      "[1] \"Prediction accuracy :  0.41304347826087\"\n"
     ]
    }
   ],
   "source": [
    "confusion_matrix(predict(radial.svm, newdata = test_set), y_test)"
   ]
  },
  {
   "cell_type": "code",
   "execution_count": 36,
   "metadata": {
    "vscode": {
     "languageId": "r"
    }
   },
   "outputs": [
    {
     "data": {
      "text/plain": [
       "\n",
       "Parameter tuning of 'svm':\n",
       "\n",
       "- sampling method: 10-fold cross validation \n",
       "\n",
       "- best parameters:\n",
       " gamma cost\n",
       "  0.07  0.7\n",
       "\n",
       "- best performance: 0.4454545 \n",
       "\n",
       "- Detailed performance results:\n",
       "    gamma cost     error dispersion\n",
       "1    0.01  0.1 0.5327273 0.04289779\n",
       "2    0.02  0.1 0.5127273 0.04908717\n",
       "3    0.03  0.1 0.5072727 0.05103160\n",
       "4    0.04  0.1 0.5127273 0.04678851\n",
       "5    0.05  0.1 0.5254545 0.04150520\n",
       "6    0.06  0.1 0.5600000 0.05056158\n",
       "7    0.07  0.1 0.5745455 0.04551511\n",
       "8    0.08  0.1 0.5763636 0.04539390\n",
       "9    0.09  0.1 0.5745455 0.04551511\n",
       "10   0.10  0.1 0.5745455 0.04551511\n",
       "11   0.01  0.2 0.5090909 0.05283514\n",
       "12   0.02  0.2 0.5036364 0.05557943\n",
       "13   0.03  0.2 0.4927273 0.06439661\n",
       "14   0.04  0.2 0.4963636 0.06301282\n",
       "15   0.05  0.2 0.4981818 0.06759682\n",
       "16   0.06  0.2 0.5054545 0.06459594\n",
       "17   0.07  0.2 0.5072727 0.06608562\n",
       "18   0.08  0.2 0.5072727 0.05778272\n",
       "19   0.09  0.2 0.5236364 0.05541396\n",
       "20   0.10  0.2 0.5363636 0.05369711\n",
       "21   0.01  0.3 0.4981818 0.06132902\n",
       "22   0.02  0.3 0.4909091 0.05813129\n",
       "23   0.03  0.3 0.4909091 0.07272727\n",
       "24   0.04  0.3 0.4963636 0.07375536\n",
       "25   0.05  0.3 0.4963636 0.06586292\n",
       "26   0.06  0.3 0.4945455 0.06952548\n",
       "27   0.07  0.3 0.4981818 0.06482299\n",
       "28   0.08  0.3 0.4963636 0.06183600\n",
       "29   0.09  0.3 0.5000000 0.06312929\n",
       "30   0.10  0.3 0.5054545 0.06899515\n",
       "31   0.01  0.4 0.4945455 0.05736805\n",
       "32   0.02  0.4 0.4872727 0.06402479\n",
       "33   0.03  0.4 0.4872727 0.06792206\n",
       "34   0.04  0.4 0.4890909 0.07494105\n",
       "35   0.05  0.4 0.4872727 0.07262619\n",
       "36   0.06  0.4 0.4872727 0.07462179\n",
       "37   0.07  0.4 0.4872727 0.06899515\n",
       "38   0.08  0.4 0.4909091 0.06694158\n",
       "39   0.09  0.4 0.4945455 0.07160754\n",
       "40   0.10  0.4 0.4963636 0.07122179\n",
       "41   0.01  0.5 0.4890909 0.05714351\n",
       "42   0.02  0.5 0.4800000 0.06759682\n",
       "43   0.03  0.5 0.4709091 0.08590254\n",
       "44   0.04  0.5 0.4709091 0.07829684\n",
       "45   0.05  0.5 0.4672727 0.08573134\n",
       "46   0.06  0.5 0.4690909 0.08389070\n",
       "47   0.07  0.5 0.4690909 0.07985294\n",
       "48   0.08  0.5 0.4800000 0.06973648\n",
       "49   0.09  0.5 0.4800000 0.06759682\n",
       "50   0.10  0.5 0.4872727 0.06227992\n",
       "51   0.01  0.6 0.4909091 0.06298367\n",
       "52   0.02  0.6 0.4800000 0.07627701\n",
       "53   0.03  0.6 0.4727273 0.07902064\n",
       "54   0.04  0.6 0.4618182 0.08997500\n",
       "55   0.05  0.6 0.4563636 0.09129212\n",
       "56   0.06  0.6 0.4618182 0.08493502\n",
       "57   0.07  0.6 0.4636364 0.08232168\n",
       "58   0.08  0.6 0.4690909 0.06737911\n",
       "59   0.09  0.6 0.4709091 0.06827267\n",
       "60   0.10  0.6 0.4745455 0.06608562\n",
       "61   0.01  0.7 0.4836364 0.06867498\n",
       "62   0.02  0.7 0.4727273 0.07808545\n",
       "63   0.03  0.7 0.4600000 0.08615871\n",
       "64   0.04  0.7 0.4581818 0.08605207\n",
       "65   0.05  0.7 0.4527273 0.08547389\n",
       "66   0.06  0.7 0.4490909 0.07620474\n",
       "67   0.07  0.7 0.4454545 0.07820296\n",
       "68   0.08  0.7 0.4581818 0.06683175\n",
       "69   0.09  0.7 0.4618182 0.07627701\n",
       "70   0.10  0.7 0.4618182 0.07579393\n",
       "71   0.01  0.8 0.4800000 0.07078207\n",
       "72   0.02  0.8 0.4745455 0.08060834\n",
       "73   0.03  0.8 0.4618182 0.08749131\n",
       "74   0.04  0.8 0.4545455 0.08176205\n",
       "75   0.05  0.8 0.4545455 0.08528029\n",
       "76   0.06  0.8 0.4509091 0.08389070\n",
       "77   0.07  0.8 0.4527273 0.07395430\n",
       "78   0.08  0.8 0.4545455 0.06803013\n",
       "79   0.09  0.8 0.4690909 0.06846071\n",
       "80   0.10  0.8 0.4672727 0.06696901\n",
       "81   0.01  0.9 0.4781818 0.06641827\n",
       "82   0.02  0.9 0.4709091 0.07829684\n",
       "83   0.03  0.9 0.4581818 0.08212065\n",
       "84   0.04  0.9 0.4581818 0.08301039\n",
       "85   0.05  0.9 0.4600000 0.08784743\n",
       "86   0.06  0.9 0.4545455 0.07808545\n",
       "87   0.07  0.9 0.4527273 0.07295419\n",
       "88   0.08  0.9 0.4563636 0.07194019\n",
       "89   0.09  0.9 0.4581818 0.07363075\n",
       "90   0.10  0.9 0.4636364 0.06923430\n",
       "91   0.01  1.0 0.4781818 0.07325566\n",
       "92   0.02  1.0 0.4672727 0.08443623\n",
       "93   0.03  1.0 0.4563636 0.08106273\n",
       "94   0.04  1.0 0.4563636 0.08675351\n",
       "95   0.05  1.0 0.4545455 0.08309884\n",
       "96   0.06  1.0 0.4563636 0.07969178\n",
       "97   0.07  1.0 0.4527273 0.08015137\n",
       "98   0.08  1.0 0.4581818 0.07704363\n",
       "99   0.09  1.0 0.4490909 0.06965743\n",
       "100  0.10  1.0 0.4600000 0.06965743\n",
       "101  0.01  1.1 0.4781818 0.07325566\n",
       "102  0.02  1.1 0.4672727 0.09072709\n",
       "103  0.03  1.1 0.4563636 0.08151459\n",
       "104  0.04  1.1 0.4527273 0.08966830\n",
       "105  0.05  1.1 0.4618182 0.08450145\n",
       "106  0.06  1.1 0.4527273 0.08884526\n",
       "107  0.07  1.1 0.4545455 0.08221006\n",
       "108  0.08  1.1 0.4563636 0.07244896\n",
       "109  0.09  1.1 0.4527273 0.06986804\n",
       "110  0.10  1.1 0.4563636 0.06552746\n",
       "111  0.01  1.2 0.4781818 0.07523456\n",
       "112  0.02  1.2 0.4618182 0.08707047\n",
       "113  0.03  1.2 0.4545455 0.07855443\n",
       "114  0.04  1.2 0.4618182 0.08579558\n",
       "115  0.05  1.2 0.4600000 0.08909297\n",
       "116  0.06  1.2 0.4563636 0.08547389\n",
       "117  0.07  1.2 0.4527273 0.08060834\n",
       "118  0.08  1.2 0.4527273 0.06718804\n",
       "119  0.09  1.2 0.4509091 0.07109274\n",
       "120  0.10  1.2 0.4581818 0.06459594\n",
       "121  0.01  1.3 0.4763636 0.07412793\n",
       "122  0.02  1.3 0.4636364 0.08408750\n",
       "123  0.03  1.3 0.4581818 0.08345171\n",
       "124  0.04  1.3 0.4600000 0.09391006\n",
       "125  0.05  1.3 0.4654545 0.09199353\n",
       "126  0.06  1.3 0.4581818 0.08031161\n",
       "127  0.07  1.3 0.4563636 0.06773253\n",
       "128  0.08  1.3 0.4527273 0.06663911\n",
       "129  0.09  1.3 0.4600000 0.06751526\n",
       "130  0.10  1.3 0.4600000 0.05941249\n",
       "131  0.01  1.4 0.4763636 0.07462179\n",
       "132  0.02  1.4 0.4636364 0.08187428\n",
       "133  0.03  1.4 0.4545455 0.08613740\n",
       "134  0.04  1.4 0.4690909 0.08898984\n",
       "135  0.05  1.4 0.4672727 0.08530182\n",
       "136  0.06  1.4 0.4600000 0.07224588\n",
       "137  0.07  1.4 0.4636364 0.06485132\n",
       "138  0.08  1.4 0.4618182 0.07129911\n",
       "139  0.09  1.4 0.4636364 0.05636689\n",
       "140  0.10  1.4 0.4654545 0.05567847\n",
       "141  0.01  1.5 0.4727273 0.07272727\n",
       "142  0.02  1.5 0.4618182 0.08049434\n",
       "143  0.03  1.5 0.4581818 0.08031161\n",
       "144  0.04  1.5 0.4709091 0.09406639\n",
       "145  0.05  1.5 0.4618182 0.09078780\n",
       "146  0.06  1.5 0.4636364 0.07285343\n",
       "147  0.07  1.5 0.4672727 0.06530285\n",
       "148  0.08  1.5 0.4672727 0.06416805\n",
       "149  0.09  1.5 0.4654545 0.05567847\n",
       "150  0.10  1.5 0.4672727 0.05941249\n",
       "151  0.01  1.6 0.4690909 0.07511240\n",
       "152  0.02  1.6 0.4600000 0.07950721\n",
       "153  0.03  1.6 0.4545455 0.08865902\n",
       "154  0.04  1.6 0.4745455 0.09288756\n",
       "155  0.05  1.6 0.4600000 0.08312094\n",
       "156  0.06  1.6 0.4672727 0.07070418\n",
       "157  0.07  1.6 0.4709091 0.06880857\n",
       "158  0.08  1.6 0.4709091 0.06027181\n",
       "159  0.09  1.6 0.4727273 0.05999694\n",
       "160  0.10  1.6 0.4745455 0.05451177\n",
       "161  0.01  1.7 0.4690909 0.07511240\n",
       "162  0.02  1.7 0.4545455 0.08309884\n",
       "163  0.03  1.7 0.4581818 0.08898984\n",
       "164  0.04  1.7 0.4727273 0.09428090\n",
       "165  0.05  1.7 0.4618182 0.07770822\n",
       "166  0.06  1.7 0.4654545 0.07181243\n",
       "167  0.07  1.7 0.4727273 0.07015659\n",
       "168  0.08  1.7 0.4727273 0.06239776\n",
       "169  0.09  1.7 0.4727273 0.06180630\n",
       "170  0.10  1.7 0.4818182 0.06014980\n",
       "171  0.01  1.8 0.4690909 0.07751892\n",
       "172  0.02  1.8 0.4545455 0.08085857\n",
       "173  0.03  1.8 0.4672727 0.08950430\n",
       "174  0.04  1.8 0.4654545 0.08874184\n",
       "175  0.05  1.8 0.4654545 0.07579393\n",
       "176  0.06  1.8 0.4672727 0.07275252\n",
       "177  0.07  1.8 0.4745455 0.06880857\n",
       "178  0.08  1.8 0.4727273 0.06239776\n",
       "179  0.09  1.8 0.4763636 0.06516209\n",
       "180  0.10  1.8 0.4890909 0.06439661\n",
       "181  0.01  1.9 0.4690909 0.08076767\n",
       "182  0.02  1.9 0.4581818 0.07846086\n",
       "183  0.03  1.9 0.4709091 0.09406639\n",
       "184  0.04  1.9 0.4636364 0.08097206\n",
       "185  0.05  1.9 0.4636364 0.07234749\n",
       "186  0.06  1.9 0.4672727 0.07425170\n",
       "187  0.07  1.9 0.4745455 0.06439661\n",
       "188  0.08  1.9 0.4745455 0.06324555\n",
       "189  0.09  1.9 0.4836364 0.06813803\n",
       "190  0.10  1.9 0.4854545 0.06063636\n",
       "191  0.01  2.0 0.4690909 0.07363075\n",
       "192  0.02  2.0 0.4600000 0.08042586\n",
       "193  0.03  2.0 0.4709091 0.09007700\n",
       "194  0.04  2.0 0.4636364 0.07913676\n",
       "195  0.05  2.0 0.4654545 0.07232210\n",
       "196  0.06  2.0 0.4709091 0.06986804\n",
       "197  0.07  2.0 0.4763636 0.06344850\n",
       "198  0.08  2.0 0.4818182 0.06254475\n",
       "199  0.09  2.0 0.4909091 0.06803013\n",
       "200  0.10  2.0 0.4854545 0.06586292\n"
      ]
     },
     "metadata": {},
     "output_type": "display_data"
    }
   ],
   "source": [
    "radial.svm.tune = tune.svm(rain_class ~ ., data = train_set, type = \"C\", kernel = 'radial', gamma = seq(0.01, 0.1, by = 0.01), cost = seq(0.1, 2, by = 0.1))\n",
    "summary(radial.svm.tune)"
   ]
  },
  {
   "cell_type": "code",
   "execution_count": 37,
   "metadata": {
    "vscode": {
     "languageId": "r"
    }
   },
   "outputs": [
    {
     "data": {
      "text/html": [
       "<table class=\"dataframe\">\n",
       "<caption>A data.frame: 1 × 2</caption>\n",
       "<thead>\n",
       "\t<tr><th></th><th scope=col>gamma</th><th scope=col>cost</th></tr>\n",
       "\t<tr><th></th><th scope=col>&lt;dbl&gt;</th><th scope=col>&lt;dbl&gt;</th></tr>\n",
       "</thead>\n",
       "<tbody>\n",
       "\t<tr><th scope=row>67</th><td>0.07</td><td>0.7</td></tr>\n",
       "</tbody>\n",
       "</table>\n"
      ],
      "text/latex": [
       "A data.frame: 1 × 2\n",
       "\\begin{tabular}{r|ll}\n",
       "  & gamma & cost\\\\\n",
       "  & <dbl> & <dbl>\\\\\n",
       "\\hline\n",
       "\t67 & 0.07 & 0.7\\\\\n",
       "\\end{tabular}\n"
      ],
      "text/markdown": [
       "\n",
       "A data.frame: 1 × 2\n",
       "\n",
       "| <!--/--> | gamma &lt;dbl&gt; | cost &lt;dbl&gt; |\n",
       "|---|---|---|\n",
       "| 67 | 0.07 | 0.7 |\n",
       "\n"
      ],
      "text/plain": [
       "   gamma cost\n",
       "67 0.07  0.7 "
      ]
     },
     "metadata": {},
     "output_type": "display_data"
    }
   ],
   "source": [
    "radial.svm.tune$best.parameters"
   ]
  },
  {
   "cell_type": "code",
   "execution_count": 38,
   "metadata": {
    "vscode": {
     "languageId": "r"
    }
   },
   "outputs": [],
   "source": [
    "radial.best.c = radial.svm.tune$best.parameters$cost\n",
    "radial.best.gamma = radial.svm.tune$best.parameters$gamma\n",
    "radial.best.coef0 = radial.svm.tune$best.parameters$coef0"
   ]
  },
  {
   "cell_type": "code",
   "execution_count": 39,
   "metadata": {
    "vscode": {
     "languageId": "r"
    }
   },
   "outputs": [],
   "source": [
    "radial.best.svm = svm(rain_class ~ ., data = train_set, type = \"C\", kernel = 'radial', gamma = radial.best.gamma, cost = radial.best.c)"
   ]
  },
  {
   "cell_type": "code",
   "execution_count": 40,
   "metadata": {
    "vscode": {
     "languageId": "r"
    }
   },
   "outputs": [
    {
     "name": "stdout",
     "output_type": "stream",
     "text": [
      "[1] \"Confusion matrix\"\n",
      "           true_class\n",
      "pred_class  high_rain low_rain no_rain\n",
      "  high_rain        92       16       8\n",
      "  low_rain         56      206      80\n",
      "  no_rain           7       12      73\n",
      "[1] \"Prediction accuracy :  0.674545454545455\"\n",
      "[1] \"Confusion matrix\"\n",
      "           true_class\n",
      "pred_class  high_rain low_rain no_rain\n",
      "  high_rain        19       11       9\n",
      "  low_rain         13       42      26\n",
      "  no_rain           1        5      12\n",
      "[1] \"Prediction accuracy :  0.528985507246377\"\n"
     ]
    }
   ],
   "source": [
    "confusion_matrix(predict(radial.best.svm, newdata = train_set), y_train)\n",
    "confusion_matrix(predict(radial.best.svm, newdata = test_set), y_test)"
   ]
  },
  {
   "cell_type": "markdown",
   "metadata": {},
   "source": [
    "### 4.3. SVM with sigmoid kernel"
   ]
  },
  {
   "cell_type": "code",
   "execution_count": 41,
   "metadata": {
    "vscode": {
     "languageId": "r"
    }
   },
   "outputs": [
    {
     "data": {
      "text/plain": [
       "\n",
       "Call:\n",
       "svm(formula = rain_class ~ ., data = train_set, type = \"C\", kernel = \"sigmoid\", \n",
       "    gamma = 1, coef0 = 1, cost = 10)\n",
       "\n",
       "\n",
       "Parameters:\n",
       "   SVM-Type:  C-classification \n",
       " SVM-Kernel:  sigmoid \n",
       "       cost:  10 \n",
       "     coef.0:  1 \n",
       "\n",
       "Number of Support Vectors:  364\n",
       "\n",
       " ( 129 131 104 )\n",
       "\n",
       "\n",
       "Number of Classes:  3 \n",
       "\n",
       "Levels: \n",
       " high_rain low_rain no_rain\n",
       "\n",
       "\n"
      ]
     },
     "metadata": {},
     "output_type": "display_data"
    }
   ],
   "source": [
    "sigmoid.svm = svm(rain_class ~ ., data = train_set, type = \"C\", kernel = 'sigmoid', gamma = 1., coef0 = 1, cost = 10)\n",
    "summary(sigmoid.svm)"
   ]
  },
  {
   "cell_type": "markdown",
   "metadata": {},
   "source": []
  },
  {
   "cell_type": "markdown",
   "metadata": {},
   "source": [
    "    There are less of support vectors than linear case"
   ]
  },
  {
   "cell_type": "code",
   "execution_count": 42,
   "metadata": {
    "vscode": {
     "languageId": "r"
    }
   },
   "outputs": [
    {
     "name": "stdout",
     "output_type": "stream",
     "text": [
      "[1] \"Confusion matrix\"\n",
      "           true_class\n",
      "pred_class  high_rain low_rain no_rain\n",
      "  high_rain        26       21      12\n",
      "  low_rain         75      123      92\n",
      "  no_rain          54       90      57\n",
      "[1] \"Prediction accuracy :  0.374545454545455\"\n"
     ]
    }
   ],
   "source": [
    "confusion_matrix(predict(sigmoid.svm, newdata = train_set), y_train)"
   ]
  },
  {
   "cell_type": "code",
   "execution_count": 43,
   "metadata": {
    "vscode": {
     "languageId": "r"
    }
   },
   "outputs": [
    {
     "name": "stdout",
     "output_type": "stream",
     "text": [
      "[1] \"Confusion matrix\"\n",
      "           true_class\n",
      "pred_class  high_rain low_rain no_rain\n",
      "  high_rain         8        5       3\n",
      "  low_rain         18       33      26\n",
      "  no_rain           7       20      18\n",
      "[1] \"Prediction accuracy :  0.427536231884058\"\n"
     ]
    }
   ],
   "source": [
    "confusion_matrix(predict(sigmoid.svm, newdata = test_set), y_test)"
   ]
  },
  {
   "cell_type": "code",
   "execution_count": 44,
   "metadata": {
    "vscode": {
     "languageId": "r"
    }
   },
   "outputs": [
    {
     "data": {
      "text/plain": [
       "\n",
       "Parameter tuning of 'svm':\n",
       "\n",
       "- sampling method: 10-fold cross validation \n",
       "\n",
       "- best parameters:\n",
       " gamma coef0 cost\n",
       "   2.5     1   10\n",
       "\n",
       "- best performance: 0.5545455 \n",
       "\n",
       "- Detailed performance results:\n",
       "    gamma coef0 cost     error dispersion\n",
       "1     0.5   0.5    5 0.5909091 0.06312929\n",
       "2     1.0   0.5    5 0.5872727 0.07474474\n",
       "3     1.5   0.5    5 0.5709091 0.05762358\n",
       "4     2.0   0.5    5 0.5672727 0.08167215\n",
       "5     2.5   0.5    5 0.5927273 0.07675704\n",
       "6     3.0   0.5    5 0.5836364 0.07687658\n",
       "7     0.5   1.0    5 0.6236364 0.07173566\n",
       "8     1.0   1.0    5 0.5909091 0.04555544\n",
       "9     1.5   1.0    5 0.5890909 0.04387142\n",
       "10    2.0   1.0    5 0.5872727 0.06416805\n",
       "11    2.5   1.0    5 0.5618182 0.06207315\n",
       "12    3.0   1.0    5 0.5818182 0.07222046\n",
       "13    0.5   1.5    5 0.6363636 0.05620375\n",
       "14    1.0   1.5    5 0.5963636 0.02064168\n",
       "15    1.5   1.5    5 0.5945455 0.04457740\n",
       "16    2.0   1.5    5 0.5890909 0.05825753\n",
       "17    2.5   1.5    5 0.5709091 0.06132902\n",
       "18    3.0   1.5    5 0.5854545 0.07939163\n",
       "19    0.5   2.0    5 0.6181818 0.04923660\n",
       "20    1.0   2.0    5 0.5909091 0.03856946\n",
       "21    1.5   2.0    5 0.6181818 0.05352582\n",
       "22    2.0   2.0    5 0.5890909 0.08094937\n",
       "23    2.5   2.0    5 0.5818182 0.04772126\n",
       "24    3.0   2.0    5 0.6018182 0.06827267\n",
       "25    0.5   0.5   10 0.6036364 0.06048473\n",
       "26    1.0   0.5   10 0.5927273 0.07530776\n",
       "27    1.5   0.5   10 0.5636364 0.04923660\n",
       "28    2.0   0.5   10 0.5745455 0.08185184\n",
       "29    2.5   0.5   10 0.5981818 0.07039179\n",
       "30    3.0   0.5   10 0.5890909 0.07181243\n",
       "31    0.5   1.0   10 0.6181818 0.07948410\n",
       "32    1.0   1.0   10 0.5945455 0.05816288\n",
       "33    1.5   1.0   10 0.5854545 0.04437092\n",
       "34    2.0   1.0   10 0.5836364 0.06439661\n",
       "35    2.5   1.0   10 0.5545455 0.06485132\n",
       "36    3.0   1.0   10 0.5836364 0.07345595\n",
       "37    0.5   1.5   10 0.6309091 0.05146165\n",
       "38    1.0   1.5   10 0.5890909 0.02737355\n",
       "39    1.5   1.5   10 0.5890909 0.04863613\n",
       "40    2.0   1.5   10 0.5981818 0.04806638\n",
       "41    2.5   1.5   10 0.5600000 0.06516209\n",
       "42    3.0   1.5   10 0.5854545 0.07262619\n",
       "43    0.5   2.0   10 0.6218182 0.04678851\n",
       "44    1.0   2.0   10 0.6018182 0.04490578\n",
       "45    1.5   2.0   10 0.6200000 0.06827267\n",
       "46    2.0   2.0   10 0.5945455 0.08178450\n",
       "47    2.5   2.0   10 0.5872727 0.04203283\n",
       "48    3.0   2.0   10 0.6072727 0.06482299\n",
       "49    0.5   0.5   15 0.5963636 0.07462179\n",
       "50    1.0   0.5   15 0.5872727 0.06912811\n",
       "51    1.5   0.5   15 0.5690909 0.05001377\n",
       "52    2.0   0.5   15 0.5727273 0.07773185\n",
       "53    2.5   0.5   15 0.6000000 0.07119600\n",
       "54    3.0   0.5   15 0.5872727 0.07425170\n",
       "55    0.5   1.0   15 0.6236364 0.08356167\n",
       "56    1.0   1.0   15 0.6018182 0.05174636\n",
       "57    1.5   1.0   15 0.5854545 0.04353524\n",
       "58    2.0   1.0   15 0.5854545 0.06344850\n",
       "59    2.5   1.0   15 0.5636364 0.07222046\n",
       "60    3.0   1.0   15 0.5781818 0.07656539\n",
       "61    0.5   1.5   15 0.6254545 0.05297400\n",
       "62    1.0   1.5   15 0.5945455 0.03641411\n",
       "63    1.5   1.5   15 0.5927273 0.03852181\n",
       "64    2.0   1.5   15 0.5909091 0.04555544\n",
       "65    2.5   1.5   15 0.5709091 0.05888464\n",
       "66    3.0   1.5   15 0.5854545 0.07412793\n",
       "67    0.5   2.0   15 0.6181818 0.04694525\n",
       "68    1.0   2.0   15 0.6054545 0.03433749\n",
       "69    1.5   2.0   15 0.6218182 0.06627987\n",
       "70    2.0   2.0   15 0.5909091 0.08624394\n",
       "71    2.5   2.0   15 0.5909091 0.04867387\n",
       "72    3.0   2.0   15 0.6018182 0.06663911\n",
       "73    0.5   0.5   20 0.6054545 0.06641827\n",
       "74    1.0   0.5   20 0.5800000 0.06773253\n",
       "75    1.5   0.5   20 0.5672727 0.05056158\n",
       "76    2.0   0.5   20 0.5763636 0.07375536\n",
       "77    2.5   0.5   20 0.5963636 0.06683175\n",
       "78    3.0   0.5   20 0.5836364 0.07039179\n",
       "79    0.5   1.0   20 0.6236364 0.07950721\n",
       "80    1.0   1.0   20 0.6181818 0.04997704\n",
       "81    1.5   1.0   20 0.5800000 0.05778272\n",
       "82    2.0   1.0   20 0.5836364 0.06608562\n",
       "83    2.5   1.0   20 0.5563636 0.07333083\n",
       "84    3.0   1.0   20 0.5781818 0.07656539\n",
       "85    0.5   1.5   20 0.6290909 0.05085134\n",
       "86    1.0   1.5   20 0.5927273 0.03341588\n",
       "87    1.5   1.5   20 0.5963636 0.03908973\n",
       "88    2.0   1.5   20 0.5872727 0.05146165\n",
       "89    2.5   1.5   20 0.5690909 0.06301282\n",
       "90    3.0   1.5   20 0.5800000 0.06880857\n",
       "91    0.5   2.0   20 0.6236364 0.05146165\n",
       "92    1.0   2.0   20 0.6036364 0.03297326\n",
       "93    1.5   2.0   20 0.6145455 0.05987437\n",
       "94    2.0   2.0   20 0.5890909 0.08791013\n",
       "95    2.5   2.0   20 0.5763636 0.04698436\n",
       "96    3.0   2.0   20 0.6036364 0.06792206\n",
       "97    0.5   0.5   25 0.6000000 0.06470957\n",
       "98    1.0   0.5   25 0.5836364 0.06608562\n",
       "99    1.5   0.5   25 0.5636364 0.05488112\n",
       "100   2.0   0.5   25 0.5763636 0.07375536\n",
       "101   2.5   0.5   25 0.5927273 0.06650117\n",
       "102   3.0   0.5   25 0.5836364 0.07039179\n",
       "103   0.5   1.0   25 0.6272727 0.08364954\n",
       "104   1.0   1.0   25 0.6145455 0.05128290\n",
       "105   1.5   1.0   25 0.5854545 0.05128290\n",
       "106   2.0   1.0   25 0.5854545 0.06227992\n",
       "107   2.5   1.0   25 0.5563636 0.07333083\n",
       "108   3.0   1.0   25 0.5763636 0.07572120\n",
       "109   0.5   1.5   25 0.6309091 0.04927388\n",
       "110   1.0   1.5   25 0.5927273 0.03341588\n",
       "111   1.5   1.5   25 0.5872727 0.03433749\n",
       "112   2.0   1.5   25 0.5872727 0.04619597\n",
       "113   2.5   1.5   25 0.5618182 0.05965927\n",
       "114   3.0   1.5   25 0.5800000 0.06880857\n",
       "115   0.5   2.0   25 0.6236364 0.05146165\n",
       "116   1.0   2.0   25 0.6072727 0.03229797\n",
       "117   1.5   2.0   25 0.6072727 0.05698259\n",
       "118   2.0   2.0   25 0.5890909 0.08791013\n",
       "119   2.5   2.0   25 0.5800000 0.04061058\n",
       "120   3.0   2.0   25 0.6036364 0.06792206\n",
       "121   0.5   0.5   30 0.6036364 0.06344850\n",
       "122   1.0   0.5   30 0.5800000 0.06266209\n",
       "123   1.5   0.5   30 0.5636364 0.05488112\n",
       "124   2.0   0.5   30 0.5781818 0.07462179\n",
       "125   2.5   0.5   30 0.5963636 0.07005180\n",
       "126   3.0   0.5   30 0.5818182 0.07067820\n",
       "127   0.5   1.0   30 0.6290909 0.08318720\n",
       "128   1.0   1.0   30 0.6072727 0.05825753\n",
       "129   1.5   1.0   30 0.5872727 0.04927388\n",
       "130   2.0   1.0   30 0.5854545 0.06227992\n",
       "131   2.5   1.0   30 0.5545455 0.06870172\n",
       "132   3.0   1.0   30 0.5745455 0.07530776\n",
       "133   0.5   1.5   30 0.6309091 0.04927388\n",
       "134   1.0   1.5   30 0.5963636 0.03183982\n",
       "135   1.5   1.5   30 0.5927273 0.03656510\n",
       "136   2.0   1.5   30 0.5872727 0.04619597\n",
       "137   2.5   1.5   30 0.5636364 0.05938157\n",
       "138   3.0   1.5   30 0.5781818 0.07109274\n",
       "139   0.5   2.0   30 0.6200000 0.04882457\n",
       "140   1.0   2.0   30 0.6054545 0.03740921\n",
       "141   1.5   2.0   30 0.6072727 0.05698259\n",
       "142   2.0   2.0   30 0.5890909 0.08791013\n",
       "143   2.5   2.0   30 0.5763636 0.04698436\n",
       "144   3.0   2.0   30 0.6036364 0.06792206\n",
       "145   0.5   0.5   35 0.6036364 0.06344850\n",
       "146   1.0   0.5   35 0.5781818 0.05925773\n",
       "147   1.5   0.5   35 0.5618182 0.05383374\n",
       "148   2.0   0.5   35 0.5763636 0.07668523\n",
       "149   2.5   0.5   35 0.5963636 0.07005180\n",
       "150   3.0   0.5   35 0.5818182 0.07067820\n",
       "151   0.5   1.0   35 0.6290909 0.08318720\n",
       "152   1.0   1.0   35 0.6090909 0.05701481\n",
       "153   1.5   1.0   35 0.5854545 0.05128290\n",
       "154   2.0   1.0   35 0.5854545 0.06227992\n",
       "155   2.5   1.0   35 0.5600000 0.06846071\n",
       "156   3.0   1.0   35 0.5781818 0.07462179\n",
       "157   0.5   1.5   35 0.6236364 0.04775973\n",
       "158   1.0   1.5   35 0.5963636 0.05199421\n",
       "159   1.5   1.5   35 0.5909091 0.03661529\n",
       "160   2.0   1.5   35 0.5872727 0.04619597\n",
       "161   2.5   1.5   35 0.5618182 0.06087818\n",
       "162   3.0   1.5   35 0.5781818 0.07109274\n",
       "163   0.5   2.0   35 0.6163636 0.04729603\n",
       "164   1.0   2.0   35 0.6072727 0.04038383\n",
       "165   1.5   2.0   35 0.6072727 0.05698259\n",
       "166   2.0   2.0   35 0.5890909 0.08791013\n",
       "167   2.5   2.0   35 0.5818182 0.03833064\n",
       "168   3.0   2.0   35 0.6018182 0.06552746\n"
      ]
     },
     "metadata": {},
     "output_type": "display_data"
    }
   ],
   "source": [
    "sigmoid.svm.tune = tune.svm(rain_class ~ ., data = train_set, type = \"C\", kernel = 'sigmoid', gamma = seq(0.5, 3, by = 0.5), cost = seq(5, 35, by = 5), coef0 = seq(0.5, 2, by = 0.5))\n",
    "summary(sigmoid.svm.tune)"
   ]
  },
  {
   "cell_type": "code",
   "execution_count": 45,
   "metadata": {
    "vscode": {
     "languageId": "r"
    }
   },
   "outputs": [
    {
     "data": {
      "text/html": [
       "<table class=\"dataframe\">\n",
       "<caption>A data.frame: 1 × 3</caption>\n",
       "<thead>\n",
       "\t<tr><th></th><th scope=col>gamma</th><th scope=col>coef0</th><th scope=col>cost</th></tr>\n",
       "\t<tr><th></th><th scope=col>&lt;dbl&gt;</th><th scope=col>&lt;dbl&gt;</th><th scope=col>&lt;dbl&gt;</th></tr>\n",
       "</thead>\n",
       "<tbody>\n",
       "\t<tr><th scope=row>35</th><td>2.5</td><td>1</td><td>10</td></tr>\n",
       "</tbody>\n",
       "</table>\n"
      ],
      "text/latex": [
       "A data.frame: 1 × 3\n",
       "\\begin{tabular}{r|lll}\n",
       "  & gamma & coef0 & cost\\\\\n",
       "  & <dbl> & <dbl> & <dbl>\\\\\n",
       "\\hline\n",
       "\t35 & 2.5 & 1 & 10\\\\\n",
       "\\end{tabular}\n"
      ],
      "text/markdown": [
       "\n",
       "A data.frame: 1 × 3\n",
       "\n",
       "| <!--/--> | gamma &lt;dbl&gt; | coef0 &lt;dbl&gt; | cost &lt;dbl&gt; |\n",
       "|---|---|---|---|\n",
       "| 35 | 2.5 | 1 | 10 |\n",
       "\n"
      ],
      "text/plain": [
       "   gamma coef0 cost\n",
       "35 2.5   1     10  "
      ]
     },
     "metadata": {},
     "output_type": "display_data"
    }
   ],
   "source": [
    "sigmoid.svm.tune$best.parameters"
   ]
  },
  {
   "cell_type": "code",
   "execution_count": 46,
   "metadata": {
    "vscode": {
     "languageId": "r"
    }
   },
   "outputs": [],
   "source": [
    "sigmoid.best.c = sigmoid.svm.tune$best.parameters$cost\n",
    "sigmoid.best.gamma = sigmoid.svm.tune$best.parameters$gamma\n",
    "sigmoid.best.coef0 = sigmoid.svm.tune$best.parameters$coef0"
   ]
  },
  {
   "cell_type": "code",
   "execution_count": 47,
   "metadata": {
    "vscode": {
     "languageId": "r"
    }
   },
   "outputs": [],
   "source": [
    "sigmoid.best.svm = svm(rain_class ~ ., data = train_set, type = \"C\", kernel = 'sigmoid', gamma = sigmoid.best.gamma, cost = sigmoid.best.c)"
   ]
  },
  {
   "cell_type": "code",
   "execution_count": 48,
   "metadata": {
    "vscode": {
     "languageId": "r"
    }
   },
   "outputs": [
    {
     "name": "stdout",
     "output_type": "stream",
     "text": [
      "[1] \"Confusion matrix\"\n",
      "           true_class\n",
      "pred_class  high_rain low_rain no_rain\n",
      "  high_rain        47       44      26\n",
      "  low_rain         88      139     102\n",
      "  no_rain          20       51      33\n",
      "[1] \"Prediction accuracy :  0.398181818181818\"\n",
      "[1] \"Confusion matrix\"\n",
      "           true_class\n",
      "pred_class  high_rain low_rain no_rain\n",
      "  high_rain         9        5       8\n",
      "  low_rain         21       37      29\n",
      "  no_rain           3       16      10\n",
      "[1] \"Prediction accuracy :  0.405797101449275\"\n"
     ]
    }
   ],
   "source": [
    "confusion_matrix(predict(sigmoid.best.svm, newdata = train_set), y_train)\n",
    "confusion_matrix(predict(sigmoid.best.svm, newdata = test_set), y_test)"
   ]
  }
 ],
 "metadata": {
  "kernelspec": {
   "display_name": "R",
   "language": "R",
   "name": "ir"
  },
  "language_info": {
   "codemirror_mode": "r",
   "file_extension": ".r",
   "mimetype": "text/x-r-source",
   "name": "R",
   "pygments_lexer": "r",
   "version": "4.2.0"
  },
  "orig_nbformat": 4
 },
 "nbformat": 4,
 "nbformat_minor": 2
}
